{
 "cells": [
  {
   "cell_type": "markdown",
   "id": "329145e4",
   "metadata": {
    "papermill": {
     "duration": 0.00386,
     "end_time": "2025-01-30T02:26:48.677687",
     "exception": false,
     "start_time": "2025-01-30T02:26:48.673827",
     "status": "completed"
    },
    "tags": []
   },
   "source": [
    "# Scikit-learn\n"
   ]
  },
  {
   "cell_type": "code",
   "execution_count": 1,
   "id": "e45fa5d3",
   "metadata": {
    "execution": {
     "iopub.execute_input": "2025-01-30T02:26:48.685214Z",
     "iopub.status.busy": "2025-01-30T02:26:48.684840Z",
     "iopub.status.idle": "2025-01-30T02:26:50.317897Z",
     "shell.execute_reply": "2025-01-30T02:26:50.317245Z"
    },
    "papermill": {
     "duration": 1.638952,
     "end_time": "2025-01-30T02:26:50.319770",
     "exception": false,
     "start_time": "2025-01-30T02:26:48.680818",
     "status": "completed"
    },
    "tags": []
   },
   "outputs": [],
   "source": [
    "from sklearn.datasets import load_iris\n",
    "from sklearn.model_selection import train_test_split\n",
    "from sklearn.linear_model import LinearRegression\n",
    "from sklearn.preprocessing import StandardScaler\n",
    "from sklearn.metrics import accuracy_score"
   ]
  },
  {
   "cell_type": "code",
   "execution_count": 2,
   "id": "0eb6642c",
   "metadata": {
    "execution": {
     "iopub.execute_input": "2025-01-30T02:26:50.327117Z",
     "iopub.status.busy": "2025-01-30T02:26:50.326295Z",
     "iopub.status.idle": "2025-01-30T02:26:50.341842Z",
     "shell.execute_reply": "2025-01-30T02:26:50.340808Z"
    },
    "papermill": {
     "duration": 0.02134,
     "end_time": "2025-01-30T02:26:50.344078",
     "exception": false,
     "start_time": "2025-01-30T02:26:50.322738",
     "status": "completed"
    },
    "tags": []
   },
   "outputs": [],
   "source": [
    "data = load_iris()\n",
    "\n",
    "x, y = data.data, data.target\n",
    "\n",
    "x_train, x_test, y_train, y_test = train_test_split(x, y, test_size = 0.2, random_state = 42) "
   ]
  },
  {
   "cell_type": "code",
   "execution_count": 3,
   "id": "26e2efa6",
   "metadata": {
    "execution": {
     "iopub.execute_input": "2025-01-30T02:26:50.353452Z",
     "iopub.status.busy": "2025-01-30T02:26:50.353211Z",
     "iopub.status.idle": "2025-01-30T02:26:50.363148Z",
     "shell.execute_reply": "2025-01-30T02:26:50.362074Z"
    },
    "papermill": {
     "duration": 0.018424,
     "end_time": "2025-01-30T02:26:50.365807",
     "exception": false,
     "start_time": "2025-01-30T02:26:50.347383",
     "status": "completed"
    },
    "tags": []
   },
   "outputs": [],
   "source": [
    "scale = StandardScaler()\n",
    "\n",
    "x_train_scale = scale.fit_transform(x_train)\n",
    "\n",
    "x_test_scale = scale.transform(x_test)"
   ]
  },
  {
   "cell_type": "markdown",
   "id": "ef13ff1b",
   "metadata": {
    "papermill": {
     "duration": 0.00386,
     "end_time": "2025-01-30T02:26:50.376985",
     "exception": false,
     "start_time": "2025-01-30T02:26:50.373125",
     "status": "completed"
    },
    "tags": []
   },
   "source": [
    "# Pipeline"
   ]
  },
  {
   "cell_type": "code",
   "execution_count": 4,
   "id": "26ab8a76",
   "metadata": {
    "execution": {
     "iopub.execute_input": "2025-01-30T02:26:50.384688Z",
     "iopub.status.busy": "2025-01-30T02:26:50.384462Z",
     "iopub.status.idle": "2025-01-30T02:26:50.391478Z",
     "shell.execute_reply": "2025-01-30T02:26:50.390341Z"
    },
    "papermill": {
     "duration": 0.013382,
     "end_time": "2025-01-30T02:26:50.394141",
     "exception": false,
     "start_time": "2025-01-30T02:26:50.380759",
     "status": "completed"
    },
    "tags": []
   },
   "outputs": [],
   "source": [
    "from sklearn.pipeline import Pipeline\n",
    "from sklearn.linear_model import LogisticRegression"
   ]
  },
  {
   "cell_type": "code",
   "execution_count": 5,
   "id": "caf1d09a",
   "metadata": {
    "execution": {
     "iopub.execute_input": "2025-01-30T02:26:50.406503Z",
     "iopub.status.busy": "2025-01-30T02:26:50.406098Z",
     "iopub.status.idle": "2025-01-30T02:26:50.447599Z",
     "shell.execute_reply": "2025-01-30T02:26:50.446381Z"
    },
    "papermill": {
     "duration": 0.049518,
     "end_time": "2025-01-30T02:26:50.449663",
     "exception": false,
     "start_time": "2025-01-30T02:26:50.400145",
     "status": "completed"
    },
    "tags": []
   },
   "outputs": [
    {
     "name": "stdout",
     "output_type": "stream",
     "text": [
      "Accuarcy:1.00\n"
     ]
    }
   ],
   "source": [
    "pipeline = Pipeline([\n",
    "        ('scaler', StandardScaler()),\n",
    "        ('classifier', LogisticRegression())\n",
    "])\n",
    "\n",
    "#train model\n",
    "pipeline.fit(x_train, y_train)\n",
    "\n",
    "#make predictions\n",
    "y_pred = pipeline.predict(x_test)\n",
    "\n",
    "#evaluate\n",
    "print(f\"Accuarcy:{pipeline.score(x_test, y_test):.2f}\")\n"
   ]
  },
  {
   "cell_type": "markdown",
   "id": "910bc8e9",
   "metadata": {
    "papermill": {
     "duration": 0.003815,
     "end_time": "2025-01-30T02:26:50.457755",
     "exception": false,
     "start_time": "2025-01-30T02:26:50.453940",
     "status": "completed"
    },
    "tags": []
   },
   "source": [
    "# Keras"
   ]
  },
  {
   "cell_type": "code",
   "execution_count": 6,
   "id": "9f921426",
   "metadata": {
    "execution": {
     "iopub.execute_input": "2025-01-30T02:26:50.467726Z",
     "iopub.status.busy": "2025-01-30T02:26:50.467467Z",
     "iopub.status.idle": "2025-01-30T02:27:05.191782Z",
     "shell.execute_reply": "2025-01-30T02:27:05.191129Z"
    },
    "papermill": {
     "duration": 14.730994,
     "end_time": "2025-01-30T02:27:05.193850",
     "exception": false,
     "start_time": "2025-01-30T02:26:50.462856",
     "status": "completed"
    },
    "tags": []
   },
   "outputs": [],
   "source": [
    "import tensorflow as tf\n",
    "from tensorflow.keras import Sequential\n",
    "from tensorflow.keras.layers import Dense, Flatten\n",
    "from tensorflow.keras.datasets import mnist"
   ]
  },
  {
   "cell_type": "code",
   "execution_count": 7,
   "id": "b4bb4e7d",
   "metadata": {
    "execution": {
     "iopub.execute_input": "2025-01-30T02:27:05.202020Z",
     "iopub.status.busy": "2025-01-30T02:27:05.201044Z",
     "iopub.status.idle": "2025-01-30T02:27:05.708645Z",
     "shell.execute_reply": "2025-01-30T02:27:05.707927Z"
    },
    "papermill": {
     "duration": 0.513494,
     "end_time": "2025-01-30T02:27:05.710672",
     "exception": false,
     "start_time": "2025-01-30T02:27:05.197178",
     "status": "completed"
    },
    "tags": []
   },
   "outputs": [
    {
     "name": "stdout",
     "output_type": "stream",
     "text": [
      "Downloading data from https://storage.googleapis.com/tensorflow/tf-keras-datasets/mnist.npz\n",
      "\u001b[1m11490434/11490434\u001b[0m \u001b[32m━━━━━━━━━━━━━━━━━━━━\u001b[0m\u001b[37m\u001b[0m \u001b[1m0s\u001b[0m 0us/step\n"
     ]
    }
   ],
   "source": [
    "#load data \n",
    "(x_train, y_train),(x_test, y_test) = mnist.load_data()\n",
    "\n",
    "#normalize\n",
    "(x_train, x_test) = x_train/255.0, x_test/255.0"
   ]
  },
  {
   "cell_type": "code",
   "execution_count": 8,
   "id": "b57efcf7",
   "metadata": {
    "execution": {
     "iopub.execute_input": "2025-01-30T02:27:05.718551Z",
     "iopub.status.busy": "2025-01-30T02:27:05.718256Z",
     "iopub.status.idle": "2025-01-30T02:27:22.236929Z",
     "shell.execute_reply": "2025-01-30T02:27:22.236081Z"
    },
    "papermill": {
     "duration": 16.524583,
     "end_time": "2025-01-30T02:27:22.238721",
     "exception": false,
     "start_time": "2025-01-30T02:27:05.714138",
     "status": "completed"
    },
    "tags": []
   },
   "outputs": [
    {
     "name": "stderr",
     "output_type": "stream",
     "text": [
      "/opt/conda/lib/python3.10/site-packages/keras/src/layers/reshaping/flatten.py:37: UserWarning: Do not pass an `input_shape`/`input_dim` argument to a layer. When using Sequential models, prefer using an `Input(shape)` object as the first layer in the model instead.\n",
      "  super().__init__(**kwargs)\n"
     ]
    },
    {
     "name": "stdout",
     "output_type": "stream",
     "text": [
      "Epoch 1/5\n"
     ]
    },
    {
     "name": "stderr",
     "output_type": "stream",
     "text": [
      "WARNING: All log messages before absl::InitializeLog() is called are written to STDERR\n",
      "I0000 00:00:1738204028.099154      68 service.cc:145] XLA service 0x7b6b78005f60 initialized for platform CUDA (this does not guarantee that XLA will be used). Devices:\n",
      "I0000 00:00:1738204028.099222      68 service.cc:153]   StreamExecutor device (0): Tesla T4, Compute Capability 7.5\n",
      "I0000 00:00:1738204028.099227      68 service.cc:153]   StreamExecutor device (1): Tesla T4, Compute Capability 7.5\n"
     ]
    },
    {
     "name": "stdout",
     "output_type": "stream",
     "text": [
      "\u001b[1m 120/1875\u001b[0m \u001b[32m━\u001b[0m\u001b[37m━━━━━━━━━━━━━━━━━━━\u001b[0m \u001b[1m2s\u001b[0m 1ms/step - accuracy: 0.6334 - loss: 1.2451"
     ]
    },
    {
     "name": "stderr",
     "output_type": "stream",
     "text": [
      "I0000 00:00:1738204029.477691      68 device_compiler.h:188] Compiled cluster using XLA!  This line is logged at most once for the lifetime of the process.\n"
     ]
    },
    {
     "name": "stdout",
     "output_type": "stream",
     "text": [
      "\u001b[1m1875/1875\u001b[0m \u001b[32m━━━━━━━━━━━━━━━━━━━━\u001b[0m\u001b[37m\u001b[0m \u001b[1m4s\u001b[0m 1ms/step - accuracy: 0.8801 - loss: 0.4239\n",
      "Epoch 2/5\n",
      "\u001b[1m1875/1875\u001b[0m \u001b[32m━━━━━━━━━━━━━━━━━━━━\u001b[0m\u001b[37m\u001b[0m \u001b[1m2s\u001b[0m 1ms/step - accuracy: 0.9675 - loss: 0.1121\n",
      "Epoch 3/5\n",
      "\u001b[1m1875/1875\u001b[0m \u001b[32m━━━━━━━━━━━━━━━━━━━━\u001b[0m\u001b[37m\u001b[0m \u001b[1m2s\u001b[0m 1ms/step - accuracy: 0.9776 - loss: 0.0757\n",
      "Epoch 4/5\n",
      "\u001b[1m1875/1875\u001b[0m \u001b[32m━━━━━━━━━━━━━━━━━━━━\u001b[0m\u001b[37m\u001b[0m \u001b[1m2s\u001b[0m 1ms/step - accuracy: 0.9827 - loss: 0.0571\n",
      "Epoch 5/5\n",
      "\u001b[1m1875/1875\u001b[0m \u001b[32m━━━━━━━━━━━━━━━━━━━━\u001b[0m\u001b[37m\u001b[0m \u001b[1m2s\u001b[0m 1ms/step - accuracy: 0.9862 - loss: 0.0418\n",
      "\u001b[1m313/313\u001b[0m \u001b[32m━━━━━━━━━━━━━━━━━━━━\u001b[0m\u001b[37m\u001b[0m \u001b[1m1s\u001b[0m 2ms/step - accuracy: 0.9706 - loss: 0.0943\n"
     ]
    },
    {
     "data": {
      "text/plain": [
       "[0.0823972150683403, 0.9750999808311462]"
      ]
     },
     "execution_count": 8,
     "metadata": {},
     "output_type": "execute_result"
    }
   ],
   "source": [
    "# Build the model\n",
    "model = Sequential([\n",
    "    Flatten(input_shape=(28, 28)),\n",
    "    Dense(128, activation='relu'),\n",
    "    Dense(10, activation='softmax')\n",
    "])\n",
    "\n",
    "# Compile the model\n",
    "model.compile(optimizer='adam',\n",
    "              loss ='sparse_categorical_crossentropy',\n",
    "              metrics=['accuracy'])\n",
    "\n",
    "# Train the model\n",
    "model.fit(x_train, y_train, epochs=5)\n",
    "\n",
    "# Evaluate the model\n",
    "model.evaluate(x_test, y_test)"
   ]
  },
  {
   "cell_type": "markdown",
   "id": "876557ae",
   "metadata": {
    "papermill": {
     "duration": 0.015478,
     "end_time": "2025-01-30T02:27:22.271563",
     "exception": false,
     "start_time": "2025-01-30T02:27:22.256085",
     "status": "completed"
    },
    "tags": []
   },
   "source": [
    "# Tensorflow\n"
   ]
  },
  {
   "cell_type": "code",
   "execution_count": 9,
   "id": "3e12ba34",
   "metadata": {
    "execution": {
     "iopub.execute_input": "2025-01-30T02:27:22.301005Z",
     "iopub.status.busy": "2025-01-30T02:27:22.300665Z",
     "iopub.status.idle": "2025-01-30T02:27:22.690758Z",
     "shell.execute_reply": "2025-01-30T02:27:22.690036Z"
    },
    "papermill": {
     "duration": 0.407076,
     "end_time": "2025-01-30T02:27:22.692718",
     "exception": false,
     "start_time": "2025-01-30T02:27:22.285642",
     "status": "completed"
    },
    "tags": []
   },
   "outputs": [],
   "source": [
    "import tensorflow as tf\n",
    "from tensorflow.keras.datasets import mnist\n",
    "\n",
    "(x_train,y_train),(x_test, y_test) = mnist.load_data()\n",
    "\n",
    "x_train, x_test = x_train/255.0, x_test/255.0"
   ]
  },
  {
   "cell_type": "code",
   "execution_count": 10,
   "id": "d10ed220",
   "metadata": {
    "execution": {
     "iopub.execute_input": "2025-01-30T02:27:22.723615Z",
     "iopub.status.busy": "2025-01-30T02:27:22.722831Z",
     "iopub.status.idle": "2025-01-30T02:27:22.727701Z",
     "shell.execute_reply": "2025-01-30T02:27:22.727038Z"
    },
    "papermill": {
     "duration": 0.022066,
     "end_time": "2025-01-30T02:27:22.729537",
     "exception": false,
     "start_time": "2025-01-30T02:27:22.707471",
     "status": "completed"
    },
    "tags": []
   },
   "outputs": [],
   "source": [
    "class NeuralNetwork(tf.keras.Model):\n",
    "    def __init__(self):\n",
    "        super().__init()\n",
    "        self.flatten = tf.keras.layers.flatten()\n",
    "        self.dense1 = tf.keras.layers.dense(128, activation = 'relu')\n",
    "        self.dense2 = tf.keras.layers.dense(10, activation = 'softmax')"
   ]
  },
  {
   "cell_type": "markdown",
   "id": "a7ef4720",
   "metadata": {
    "papermill": {
     "duration": 0.013896,
     "end_time": "2025-01-30T02:27:22.757641",
     "exception": false,
     "start_time": "2025-01-30T02:27:22.743745",
     "status": "completed"
    },
    "tags": []
   },
   "source": [
    "# PyTorch"
   ]
  },
  {
   "cell_type": "code",
   "execution_count": 11,
   "id": "3bec9656",
   "metadata": {
    "execution": {
     "iopub.execute_input": "2025-01-30T02:27:22.786784Z",
     "iopub.status.busy": "2025-01-30T02:27:22.786520Z",
     "iopub.status.idle": "2025-01-30T02:27:29.548084Z",
     "shell.execute_reply": "2025-01-30T02:27:29.547019Z"
    },
    "papermill": {
     "duration": 6.778673,
     "end_time": "2025-01-30T02:27:29.550340",
     "exception": false,
     "start_time": "2025-01-30T02:27:22.771667",
     "status": "completed"
    },
    "tags": []
   },
   "outputs": [
    {
     "name": "stdout",
     "output_type": "stream",
     "text": [
      "Downloading http://yann.lecun.com/exdb/mnist/train-images-idx3-ubyte.gz\n",
      "Failed to download (trying next):\n",
      "<urlopen error [Errno 111] Connection refused>\n",
      "\n",
      "Downloading https://ossci-datasets.s3.amazonaws.com/mnist/train-images-idx3-ubyte.gz\n",
      "Downloading https://ossci-datasets.s3.amazonaws.com/mnist/train-images-idx3-ubyte.gz to ./data/MNIST/raw/train-images-idx3-ubyte.gz\n"
     ]
    },
    {
     "name": "stderr",
     "output_type": "stream",
     "text": [
      "100%|██████████| 9912422/9912422 [00:00<00:00, 57796140.19it/s]\n"
     ]
    },
    {
     "name": "stdout",
     "output_type": "stream",
     "text": [
      "Extracting ./data/MNIST/raw/train-images-idx3-ubyte.gz to ./data/MNIST/raw\n",
      "\n",
      "Downloading http://yann.lecun.com/exdb/mnist/train-labels-idx1-ubyte.gz\n",
      "Failed to download (trying next):\n",
      "<urlopen error [Errno 111] Connection refused>\n",
      "\n",
      "Downloading https://ossci-datasets.s3.amazonaws.com/mnist/train-labels-idx1-ubyte.gz\n",
      "Downloading https://ossci-datasets.s3.amazonaws.com/mnist/train-labels-idx1-ubyte.gz to ./data/MNIST/raw/train-labels-idx1-ubyte.gz\n"
     ]
    },
    {
     "name": "stderr",
     "output_type": "stream",
     "text": [
      "100%|██████████| 28881/28881 [00:00<00:00, 1583411.03it/s]\n"
     ]
    },
    {
     "name": "stdout",
     "output_type": "stream",
     "text": [
      "Extracting ./data/MNIST/raw/train-labels-idx1-ubyte.gz to ./data/MNIST/raw\n",
      "\n",
      "Downloading http://yann.lecun.com/exdb/mnist/t10k-images-idx3-ubyte.gz\n",
      "Failed to download (trying next):\n",
      "<urlopen error [Errno 111] Connection refused>\n",
      "\n",
      "Downloading https://ossci-datasets.s3.amazonaws.com/mnist/t10k-images-idx3-ubyte.gz\n",
      "Downloading https://ossci-datasets.s3.amazonaws.com/mnist/t10k-images-idx3-ubyte.gz to ./data/MNIST/raw/t10k-images-idx3-ubyte.gz\n"
     ]
    },
    {
     "name": "stderr",
     "output_type": "stream",
     "text": [
      "100%|██████████| 1648877/1648877 [00:00<00:00, 14388682.36it/s]\n"
     ]
    },
    {
     "name": "stdout",
     "output_type": "stream",
     "text": [
      "Extracting ./data/MNIST/raw/t10k-images-idx3-ubyte.gz to ./data/MNIST/raw\n",
      "\n",
      "Downloading http://yann.lecun.com/exdb/mnist/t10k-labels-idx1-ubyte.gz\n",
      "Failed to download (trying next):\n",
      "<urlopen error [Errno 111] Connection refused>\n",
      "\n",
      "Downloading https://ossci-datasets.s3.amazonaws.com/mnist/t10k-labels-idx1-ubyte.gz\n",
      "Downloading https://ossci-datasets.s3.amazonaws.com/mnist/t10k-labels-idx1-ubyte.gz to ./data/MNIST/raw/t10k-labels-idx1-ubyte.gz\n"
     ]
    },
    {
     "name": "stderr",
     "output_type": "stream",
     "text": [
      "100%|██████████| 4542/4542 [00:00<00:00, 4186929.40it/s]"
     ]
    },
    {
     "name": "stdout",
     "output_type": "stream",
     "text": [
      "Extracting ./data/MNIST/raw/t10k-labels-idx1-ubyte.gz to ./data/MNIST/raw\n",
      "\n"
     ]
    },
    {
     "name": "stderr",
     "output_type": "stream",
     "text": [
      "\n"
     ]
    }
   ],
   "source": [
    "import torch\n",
    "import torch.nn as nn\n",
    "import torch.optim as optim\n",
    "from torchvision import datasets, transforms\n",
    "from torch.utils.data import DataLoader\n",
    "\n",
    "# Load and preprocess data\n",
    "transform = transforms.ToTensor()\n",
    "train_dataset = datasets.MNIST(root='./data', train=True, transform=transform, download=True)\n",
    "test_dataset = datasets.MNIST(root='./data', train=False, transform=transform)\n",
    "\n",
    "train_loader = DataLoader(train_dataset, batch_size=64, shuffle=True)\n",
    "test_loader = DataLoader(test_dataset, batch_size=64, shuffle=False)\n",
    "\n",
    "# Define the model\n",
    "class NeuralNetwork(nn.Module):\n",
    "    def __init__(self):\n",
    "        super(NeuralNetwork, self).__init__()\n",
    "        self.flatten = nn.Flatten()\n",
    "        self.fc1 = nn.Linear(28 * 28, 128)\n",
    "        self.relu = nn.ReLU()\n",
    "        self.fc2 = nn.Linear(128, 10)\n",
    "        self.softmax = nn.Softmax(dim=1)\n",
    "\n",
    "    def forward(self, x):\n",
    "        x = self.flatten(x)\n",
    "        x = self.relu(self.fc1(x))\n",
    "        x = self.softmax(self.fc2(x))\n",
    "        return x"
   ]
  },
  {
   "cell_type": "code",
   "execution_count": 12,
   "id": "fa66b105",
   "metadata": {
    "execution": {
     "iopub.execute_input": "2025-01-30T02:27:29.582846Z",
     "iopub.status.busy": "2025-01-30T02:27:29.582044Z",
     "iopub.status.idle": "2025-01-30T02:27:29.600194Z",
     "shell.execute_reply": "2025-01-30T02:27:29.599489Z"
    },
    "papermill": {
     "duration": 0.035877,
     "end_time": "2025-01-30T02:27:29.601740",
     "exception": false,
     "start_time": "2025-01-30T02:27:29.565863",
     "status": "completed"
    },
    "tags": []
   },
   "outputs": [],
   "source": [
    "model = NeuralNetwork()\n",
    "\n",
    "# Define loss and optimizer\n",
    "criterion = nn.CrossEntropyLoss()\n",
    "optimizer = optim.Adam(model.parameters(), lr=0.001)\n"
   ]
  },
  {
   "cell_type": "code",
   "execution_count": 13,
   "id": "7c287a7b",
   "metadata": {
    "execution": {
     "iopub.execute_input": "2025-01-30T02:27:29.633790Z",
     "iopub.status.busy": "2025-01-30T02:27:29.633091Z",
     "iopub.status.idle": "2025-01-30T02:28:11.862289Z",
     "shell.execute_reply": "2025-01-30T02:28:11.861373Z"
    },
    "papermill": {
     "duration": 42.262443,
     "end_time": "2025-01-30T02:28:11.879559",
     "exception": false,
     "start_time": "2025-01-30T02:27:29.617116",
     "status": "completed"
    },
    "tags": []
   },
   "outputs": [
    {
     "name": "stdout",
     "output_type": "stream",
     "text": [
      "Accuracy: 96.37%\n"
     ]
    }
   ],
   "source": [
    "# Training loop\n",
    "for epoch in range(5):\n",
    "    for images, labels in train_loader:\n",
    "        # Forward pass\n",
    "        outputs = model(images)\n",
    "        loss = criterion(outputs, labels)\n",
    "\n",
    "        # Backward pass\n",
    "        optimizer.zero_grad()\n",
    "        loss.backward()\n",
    "        optimizer.step()\n",
    "\n",
    "# Evaluate the model\n",
    "correct = 0\n",
    "total = 0\n",
    "with torch.no_grad():\n",
    "    for images, labels in test_loader:\n",
    "        outputs = model(images)\n",
    "        _, predicted = torch.max(outputs, 1)\n",
    "        total += labels.size(0)\n",
    "        correct += (predicted == labels).sum().item()\n",
    "\n",
    "print(f\"Accuracy: {100 * correct / total}%\")"
   ]
  },
  {
   "cell_type": "code",
   "execution_count": null,
   "id": "697a4a32",
   "metadata": {
    "papermill": {
     "duration": 0.015282,
     "end_time": "2025-01-30T02:28:11.910635",
     "exception": false,
     "start_time": "2025-01-30T02:28:11.895353",
     "status": "completed"
    },
    "tags": []
   },
   "outputs": [],
   "source": []
  }
 ],
 "metadata": {
  "kaggle": {
   "accelerator": "nvidiaTeslaT4",
   "dataSources": [],
   "dockerImageVersionId": 30786,
   "isGpuEnabled": true,
   "isInternetEnabled": true,
   "language": "python",
   "sourceType": "notebook"
  },
  "kernelspec": {
   "display_name": "Python 3",
   "language": "python",
   "name": "python3"
  },
  "language_info": {
   "codemirror_mode": {
    "name": "ipython",
    "version": 3
   },
   "file_extension": ".py",
   "mimetype": "text/x-python",
   "name": "python",
   "nbconvert_exporter": "python",
   "pygments_lexer": "ipython3",
   "version": "3.10.14"
  },
  "papermill": {
   "default_parameters": {},
   "duration": 89.861953,
   "end_time": "2025-01-30T02:28:15.636574",
   "environment_variables": {},
   "exception": null,
   "input_path": "__notebook__.ipynb",
   "output_path": "__notebook__.ipynb",
   "parameters": {},
   "start_time": "2025-01-30T02:26:45.774621",
   "version": "2.6.0"
  }
 },
 "nbformat": 4,
 "nbformat_minor": 5
}

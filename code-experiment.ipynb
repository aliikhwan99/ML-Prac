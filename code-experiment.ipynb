{
 "cells": [
  {
   "cell_type": "markdown",
   "id": "9d97195c",
   "metadata": {
    "papermill": {
     "duration": 0.004423,
     "end_time": "2024-12-08T03:12:26.318217",
     "exception": false,
     "start_time": "2024-12-08T03:12:26.313794",
     "status": "completed"
    },
    "tags": []
   },
   "source": [
    "# Scikit-learn\n"
   ]
  },
  {
   "cell_type": "code",
   "execution_count": 1,
   "id": "b6cb9e46",
   "metadata": {
    "execution": {
     "iopub.execute_input": "2024-12-08T03:12:26.328048Z",
     "iopub.status.busy": "2024-12-08T03:12:26.327525Z",
     "iopub.status.idle": "2024-12-08T03:12:28.132276Z",
     "shell.execute_reply": "2024-12-08T03:12:28.130831Z"
    },
    "papermill": {
     "duration": 1.812964,
     "end_time": "2024-12-08T03:12:28.135114",
     "exception": false,
     "start_time": "2024-12-08T03:12:26.322150",
     "status": "completed"
    },
    "tags": []
   },
   "outputs": [],
   "source": [
    "from sklearn.model_selection import train_test_split\n",
    "from sklearn.preprocessing import StandardScaler\n",
    "from sklearn.ensemble import RandomForestClassifier\n",
    "from sklearn.metrics import accuracy_score"
   ]
  },
  {
   "cell_type": "code",
   "execution_count": 2,
   "id": "5ba715e1",
   "metadata": {
    "execution": {
     "iopub.execute_input": "2024-12-08T03:12:28.146355Z",
     "iopub.status.busy": "2024-12-08T03:12:28.145716Z",
     "iopub.status.idle": "2024-12-08T03:12:28.272101Z",
     "shell.execute_reply": "2024-12-08T03:12:28.271008Z"
    },
    "papermill": {
     "duration": 0.135098,
     "end_time": "2024-12-08T03:12:28.274640",
     "exception": false,
     "start_time": "2024-12-08T03:12:28.139542",
     "status": "completed"
    },
    "tags": []
   },
   "outputs": [],
   "source": [
    "#import data\n",
    "from sklearn.datasets import load_iris\n",
    "data = load_iris()\n",
    "X, y = data.data, data.target\n",
    "\n",
    "x_train, x_test, y_train, y_test = train_test_split(X, y, test_size = 0.2, random_state = 42)"
   ]
  },
  {
   "cell_type": "code",
   "execution_count": 3,
   "id": "3a3a127a",
   "metadata": {
    "execution": {
     "iopub.execute_input": "2024-12-08T03:12:28.285705Z",
     "iopub.status.busy": "2024-12-08T03:12:28.284367Z",
     "iopub.status.idle": "2024-12-08T03:12:28.295482Z",
     "shell.execute_reply": "2024-12-08T03:12:28.294164Z"
    },
    "papermill": {
     "duration": 0.019882,
     "end_time": "2024-12-08T03:12:28.298625",
     "exception": false,
     "start_time": "2024-12-08T03:12:28.278743",
     "status": "completed"
    },
    "tags": []
   },
   "outputs": [],
   "source": [
    "#preprocessing \n",
    "scaler = StandardScaler()\n",
    "\n",
    "x_train_scaler = scaler.fit_transform(x_train)\n",
    "x_test_scaler = scaler.transform(x_test)"
   ]
  },
  {
   "cell_type": "markdown",
   "id": "dedcc7af",
   "metadata": {
    "papermill": {
     "duration": 0.00361,
     "end_time": "2024-12-08T03:12:28.306645",
     "exception": false,
     "start_time": "2024-12-08T03:12:28.303035",
     "status": "completed"
    },
    "tags": []
   },
   "source": [
    "# Pipeline"
   ]
  },
  {
   "cell_type": "code",
   "execution_count": 4,
   "id": "73133ef4",
   "metadata": {
    "execution": {
     "iopub.execute_input": "2024-12-08T03:12:28.316194Z",
     "iopub.status.busy": "2024-12-08T03:12:28.315811Z",
     "iopub.status.idle": "2024-12-08T03:12:28.324434Z",
     "shell.execute_reply": "2024-12-08T03:12:28.323068Z"
    },
    "papermill": {
     "duration": 0.016686,
     "end_time": "2024-12-08T03:12:28.327275",
     "exception": false,
     "start_time": "2024-12-08T03:12:28.310589",
     "status": "completed"
    },
    "tags": []
   },
   "outputs": [],
   "source": [
    "from sklearn.pipeline import Pipeline\n",
    "from sklearn.preprocessing import StandardScaler\n",
    "from sklearn.linear_model import LogisticRegression\n",
    "from sklearn.datasets import load_iris\n",
    "from sklearn.model_selection import train_test_split"
   ]
  },
  {
   "cell_type": "code",
   "execution_count": 5,
   "id": "a4c63207",
   "metadata": {
    "execution": {
     "iopub.execute_input": "2024-12-08T03:12:28.337386Z",
     "iopub.status.busy": "2024-12-08T03:12:28.336972Z",
     "iopub.status.idle": "2024-12-08T03:12:28.367284Z",
     "shell.execute_reply": "2024-12-08T03:12:28.366007Z"
    },
    "papermill": {
     "duration": 0.038755,
     "end_time": "2024-12-08T03:12:28.370399",
     "exception": false,
     "start_time": "2024-12-08T03:12:28.331644",
     "status": "completed"
    },
    "tags": []
   },
   "outputs": [
    {
     "name": "stdout",
     "output_type": "stream",
     "text": [
      "Accuracy: 1.00\n"
     ]
    }
   ],
   "source": [
    "# Load data\n",
    "data = load_iris()\n",
    "X_train, X_test, y_train, y_test = train_test_split(data.data, data.target, test_size=0.2, random_state=42)\n",
    "\n",
    "# Define pipeline\n",
    "pipeline = Pipeline([\n",
    "    ('scaler', StandardScaler()),       # Step 1: Standardize features\n",
    "    ('classifier', LogisticRegression())  # Step 2: Train logistic regression\n",
    "])\n",
    "\n",
    "# Train model\n",
    "pipeline.fit(X_train, y_train)\n",
    "\n",
    "# Make predictions\n",
    "y_pred = pipeline.predict(X_test)\n",
    "\n",
    "# Evaluate\n",
    "print(f\"Accuracy: {pipeline.score(X_test, y_test):.2f}\")\n"
   ]
  },
  {
   "cell_type": "markdown",
   "id": "72d2f559",
   "metadata": {
    "papermill": {
     "duration": 0.003776,
     "end_time": "2024-12-08T03:12:28.378472",
     "exception": false,
     "start_time": "2024-12-08T03:12:28.374696",
     "status": "completed"
    },
    "tags": []
   },
   "source": [
    "# Keras"
   ]
  },
  {
   "cell_type": "code",
   "execution_count": 6,
   "id": "cced7378",
   "metadata": {
    "execution": {
     "iopub.execute_input": "2024-12-08T03:12:28.390055Z",
     "iopub.status.busy": "2024-12-08T03:12:28.389664Z",
     "iopub.status.idle": "2024-12-08T03:12:44.136375Z",
     "shell.execute_reply": "2024-12-08T03:12:44.135305Z"
    },
    "papermill": {
     "duration": 15.755296,
     "end_time": "2024-12-08T03:12:44.139096",
     "exception": false,
     "start_time": "2024-12-08T03:12:28.383800",
     "status": "completed"
    },
    "tags": []
   },
   "outputs": [],
   "source": [
    "import tensorflow as tf\n",
    "from tensorflow.keras import Sequential\n",
    "from tensorflow.keras.layers import Dense, Flatten\n",
    "from tensorflow.keras.datasets import mnist\n"
   ]
  },
  {
   "cell_type": "code",
   "execution_count": 7,
   "id": "b84105d3",
   "metadata": {
    "execution": {
     "iopub.execute_input": "2024-12-08T03:12:44.149123Z",
     "iopub.status.busy": "2024-12-08T03:12:44.148504Z",
     "iopub.status.idle": "2024-12-08T03:12:46.302450Z",
     "shell.execute_reply": "2024-12-08T03:12:46.301102Z"
    },
    "papermill": {
     "duration": 2.16289,
     "end_time": "2024-12-08T03:12:46.306093",
     "exception": false,
     "start_time": "2024-12-08T03:12:44.143203",
     "status": "completed"
    },
    "tags": []
   },
   "outputs": [
    {
     "name": "stdout",
     "output_type": "stream",
     "text": [
      "Downloading data from https://storage.googleapis.com/tensorflow/tf-keras-datasets/mnist.npz\n",
      "\u001b[1m11490434/11490434\u001b[0m \u001b[32m━━━━━━━━━━━━━━━━━━━━\u001b[0m\u001b[37m\u001b[0m \u001b[1m1s\u001b[0m 0us/step\n"
     ]
    }
   ],
   "source": [
    "#load amd preprocess data\n",
    "(x_train,y_train),(x_test,y_test) = mnist.load_data()\n",
    "\n",
    "#normalization( divition of pixel value)\n",
    "x_train,x_test = x_train/255.0, x_test/255.0"
   ]
  },
  {
   "cell_type": "code",
   "execution_count": 8,
   "id": "17451ac5",
   "metadata": {
    "execution": {
     "iopub.execute_input": "2024-12-08T03:12:46.329336Z",
     "iopub.status.busy": "2024-12-08T03:12:46.328251Z",
     "iopub.status.idle": "2024-12-08T03:13:17.280884Z",
     "shell.execute_reply": "2024-12-08T03:13:17.279647Z"
    },
    "papermill": {
     "duration": 30.967014,
     "end_time": "2024-12-08T03:13:17.283392",
     "exception": false,
     "start_time": "2024-12-08T03:12:46.316378",
     "status": "completed"
    },
    "tags": []
   },
   "outputs": [
    {
     "name": "stderr",
     "output_type": "stream",
     "text": [
      "/opt/conda/lib/python3.10/site-packages/keras/src/layers/reshaping/flatten.py:37: UserWarning: Do not pass an `input_shape`/`input_dim` argument to a layer. When using Sequential models, prefer using an `Input(shape)` object as the first layer in the model instead.\n",
      "  super().__init__(**kwargs)\n"
     ]
    },
    {
     "name": "stdout",
     "output_type": "stream",
     "text": [
      "Epoch 1/5\n",
      "\u001b[1m1875/1875\u001b[0m \u001b[32m━━━━━━━━━━━━━━━━━━━━\u001b[0m\u001b[37m\u001b[0m \u001b[1m6s\u001b[0m 3ms/step - accuracy: 0.8794 - loss: 0.4294\n",
      "Epoch 2/5\n",
      "\u001b[1m1875/1875\u001b[0m \u001b[32m━━━━━━━━━━━━━━━━━━━━\u001b[0m\u001b[37m\u001b[0m \u001b[1m6s\u001b[0m 3ms/step - accuracy: 0.9654 - loss: 0.1166\n",
      "Epoch 3/5\n",
      "\u001b[1m1875/1875\u001b[0m \u001b[32m━━━━━━━━━━━━━━━━━━━━\u001b[0m\u001b[37m\u001b[0m \u001b[1m6s\u001b[0m 3ms/step - accuracy: 0.9773 - loss: 0.0776\n",
      "Epoch 4/5\n",
      "\u001b[1m1875/1875\u001b[0m \u001b[32m━━━━━━━━━━━━━━━━━━━━\u001b[0m\u001b[37m\u001b[0m \u001b[1m5s\u001b[0m 3ms/step - accuracy: 0.9831 - loss: 0.0561\n",
      "Epoch 5/5\n",
      "\u001b[1m1875/1875\u001b[0m \u001b[32m━━━━━━━━━━━━━━━━━━━━\u001b[0m\u001b[37m\u001b[0m \u001b[1m6s\u001b[0m 3ms/step - accuracy: 0.9882 - loss: 0.0416\n",
      "\u001b[1m313/313\u001b[0m \u001b[32m━━━━━━━━━━━━━━━━━━━━\u001b[0m\u001b[37m\u001b[0m \u001b[1m1s\u001b[0m 2ms/step - accuracy: 0.9739 - loss: 0.0821\n"
     ]
    },
    {
     "data": {
      "text/plain": [
       "[0.0711669847369194, 0.9782999753952026]"
      ]
     },
     "execution_count": 8,
     "metadata": {},
     "output_type": "execute_result"
    }
   ],
   "source": [
    "import tensorflow as tf\n",
    "from tensorflow.keras import Sequential\n",
    "from tensorflow.keras.layers import Dense, Flatten\n",
    "from tensorflow.keras.datasets import mnist\n",
    "\n",
    "# Load and preprocess data\n",
    "(x_train, y_train), (x_test, y_test) = mnist.load_data()\n",
    "x_train, x_test = x_train / 255.0, x_test / 255.0\n",
    "\n",
    "# Build the model\n",
    "model = Sequential([\n",
    "    Flatten(input_shape=(28, 28)),\n",
    "    Dense(128, activation='relu'),\n",
    "    Dense(10, activation='softmax')\n",
    "])\n",
    "\n",
    "# Compile the model\n",
    "model.compile(optimizer='adam',\n",
    "              loss ='sparse_categorical_crossentropy',\n",
    "              metrics=['accuracy'])\n",
    "\n",
    "# Train the model\n",
    "model.fit(x_train, y_train, epochs=5)\n",
    "\n",
    "# Evaluate the model\n",
    "model.evaluate(x_test, y_test)\n"
   ]
  },
  {
   "cell_type": "code",
   "execution_count": null,
   "id": "1694caa1",
   "metadata": {
    "papermill": {
     "duration": 0.037478,
     "end_time": "2024-12-08T03:13:17.358476",
     "exception": false,
     "start_time": "2024-12-08T03:13:17.320998",
     "status": "completed"
    },
    "tags": []
   },
   "outputs": [],
   "source": []
  },
  {
   "cell_type": "markdown",
   "id": "4d50c03e",
   "metadata": {
    "papermill": {
     "duration": 0.058115,
     "end_time": "2024-12-08T03:13:17.472063",
     "exception": false,
     "start_time": "2024-12-08T03:13:17.413948",
     "status": "completed"
    },
    "tags": []
   },
   "source": [
    "# PyTorch"
   ]
  },
  {
   "cell_type": "code",
   "execution_count": 9,
   "id": "417b19fd",
   "metadata": {
    "execution": {
     "iopub.execute_input": "2024-12-08T03:13:17.550364Z",
     "iopub.status.busy": "2024-12-08T03:13:17.549325Z",
     "iopub.status.idle": "2024-12-08T03:13:37.421328Z",
     "shell.execute_reply": "2024-12-08T03:13:37.419721Z"
    },
    "papermill": {
     "duration": 19.914154,
     "end_time": "2024-12-08T03:13:37.423869",
     "exception": false,
     "start_time": "2024-12-08T03:13:17.509715",
     "status": "completed"
    },
    "tags": []
   },
   "outputs": [
    {
     "name": "stdout",
     "output_type": "stream",
     "text": [
      "Downloading http://yann.lecun.com/exdb/mnist/train-images-idx3-ubyte.gz\n",
      "Failed to download (trying next):\n",
      "HTTP Error 403: Forbidden\n",
      "\n",
      "Downloading https://ossci-datasets.s3.amazonaws.com/mnist/train-images-idx3-ubyte.gz\n",
      "Downloading https://ossci-datasets.s3.amazonaws.com/mnist/train-images-idx3-ubyte.gz to ./data/MNIST/raw/train-images-idx3-ubyte.gz\n"
     ]
    },
    {
     "name": "stderr",
     "output_type": "stream",
     "text": [
      "100%|██████████| 9912422/9912422 [00:01<00:00, 5033461.35it/s]\n"
     ]
    },
    {
     "name": "stdout",
     "output_type": "stream",
     "text": [
      "Extracting ./data/MNIST/raw/train-images-idx3-ubyte.gz to ./data/MNIST/raw\n",
      "\n",
      "Downloading http://yann.lecun.com/exdb/mnist/train-labels-idx1-ubyte.gz\n",
      "Failed to download (trying next):\n",
      "HTTP Error 403: Forbidden\n",
      "\n",
      "Downloading https://ossci-datasets.s3.amazonaws.com/mnist/train-labels-idx1-ubyte.gz\n",
      "Downloading https://ossci-datasets.s3.amazonaws.com/mnist/train-labels-idx1-ubyte.gz to ./data/MNIST/raw/train-labels-idx1-ubyte.gz\n"
     ]
    },
    {
     "name": "stderr",
     "output_type": "stream",
     "text": [
      "100%|██████████| 28881/28881 [00:00<00:00, 146117.56it/s]\n"
     ]
    },
    {
     "name": "stdout",
     "output_type": "stream",
     "text": [
      "Extracting ./data/MNIST/raw/train-labels-idx1-ubyte.gz to ./data/MNIST/raw\n",
      "\n",
      "Downloading http://yann.lecun.com/exdb/mnist/t10k-images-idx3-ubyte.gz\n",
      "Failed to download (trying next):\n",
      "HTTP Error 403: Forbidden\n",
      "\n",
      "Downloading https://ossci-datasets.s3.amazonaws.com/mnist/t10k-images-idx3-ubyte.gz\n",
      "Downloading https://ossci-datasets.s3.amazonaws.com/mnist/t10k-images-idx3-ubyte.gz to ./data/MNIST/raw/t10k-images-idx3-ubyte.gz\n"
     ]
    },
    {
     "name": "stderr",
     "output_type": "stream",
     "text": [
      "100%|██████████| 1648877/1648877 [00:01<00:00, 1393741.73it/s]\n"
     ]
    },
    {
     "name": "stdout",
     "output_type": "stream",
     "text": [
      "Extracting ./data/MNIST/raw/t10k-images-idx3-ubyte.gz to ./data/MNIST/raw\n",
      "\n",
      "Downloading http://yann.lecun.com/exdb/mnist/t10k-labels-idx1-ubyte.gz\n",
      "Failed to download (trying next):\n",
      "HTTP Error 403: Forbidden\n",
      "\n",
      "Downloading https://ossci-datasets.s3.amazonaws.com/mnist/t10k-labels-idx1-ubyte.gz\n",
      "Downloading https://ossci-datasets.s3.amazonaws.com/mnist/t10k-labels-idx1-ubyte.gz to ./data/MNIST/raw/t10k-labels-idx1-ubyte.gz\n"
     ]
    },
    {
     "name": "stderr",
     "output_type": "stream",
     "text": [
      "100%|██████████| 4542/4542 [00:00<00:00, 1699877.65it/s]"
     ]
    },
    {
     "name": "stdout",
     "output_type": "stream",
     "text": [
      "Extracting ./data/MNIST/raw/t10k-labels-idx1-ubyte.gz to ./data/MNIST/raw\n",
      "\n"
     ]
    },
    {
     "name": "stderr",
     "output_type": "stream",
     "text": [
      "\n"
     ]
    }
   ],
   "source": [
    "import torch\n",
    "import torch.nn as nn\n",
    "import torch.optim as optim\n",
    "from torchvision import datasets, transforms\n",
    "from torch.utils.data import DataLoader\n",
    "\n",
    "# Load and preprocess data\n",
    "transform = transforms.ToTensor()\n",
    "train_dataset = datasets.MNIST(root='./data', train=True, transform=transform, download=True)\n",
    "test_dataset = datasets.MNIST(root='./data', train=False, transform=transform)\n",
    "\n",
    "train_loader = DataLoader(train_dataset, batch_size=64, shuffle=True)\n",
    "test_loader = DataLoader(test_dataset, batch_size=64, shuffle=False)\n",
    "\n",
    "# Define the model\n",
    "class NeuralNetwork(nn.Module):\n",
    "    def __init__(self):\n",
    "        super(NeuralNetwork, self).__init__()\n",
    "        self.flatten = nn.Flatten()\n",
    "        self.fc1 = nn.Linear(28 * 28, 128)\n",
    "        self.relu = nn.ReLU()\n",
    "        self.fc2 = nn.Linear(128, 10)\n",
    "        self.softmax = nn.Softmax(dim=1)\n",
    "\n",
    "    def forward(self, x):\n",
    "        x = self.flatten(x)\n",
    "        x = self.relu(self.fc1(x))\n",
    "        x = self.softmax(self.fc2(x))\n",
    "        return x"
   ]
  },
  {
   "cell_type": "code",
   "execution_count": 10,
   "id": "612f838d",
   "metadata": {
    "execution": {
     "iopub.execute_input": "2024-12-08T03:13:37.506455Z",
     "iopub.status.busy": "2024-12-08T03:13:37.504992Z",
     "iopub.status.idle": "2024-12-08T03:13:37.527421Z",
     "shell.execute_reply": "2024-12-08T03:13:37.526194Z"
    },
    "papermill": {
     "duration": 0.066268,
     "end_time": "2024-12-08T03:13:37.530590",
     "exception": false,
     "start_time": "2024-12-08T03:13:37.464322",
     "status": "completed"
    },
    "tags": []
   },
   "outputs": [],
   "source": [
    "model = NeuralNetwork()\n",
    "\n",
    "# Define loss and optimizer\n",
    "criterion = nn.CrossEntropyLoss()\n",
    "optimizer = optim.Adam(model.parameters(), lr=0.001)\n"
   ]
  },
  {
   "cell_type": "code",
   "execution_count": 11,
   "id": "f7368992",
   "metadata": {
    "execution": {
     "iopub.execute_input": "2024-12-08T03:13:37.609760Z",
     "iopub.status.busy": "2024-12-08T03:13:37.609314Z",
     "iopub.status.idle": "2024-12-08T03:14:28.498325Z",
     "shell.execute_reply": "2024-12-08T03:14:28.497096Z"
    },
    "papermill": {
     "duration": 50.972812,
     "end_time": "2024-12-08T03:14:28.542625",
     "exception": false,
     "start_time": "2024-12-08T03:13:37.569813",
     "status": "completed"
    },
    "tags": []
   },
   "outputs": [
    {
     "name": "stdout",
     "output_type": "stream",
     "text": [
      "Accuracy: 96.3%\n"
     ]
    }
   ],
   "source": [
    "# Training loop\n",
    "for epoch in range(5):\n",
    "    for images, labels in train_loader:\n",
    "        # Forward pass\n",
    "        outputs = model(images)\n",
    "        loss = criterion(outputs, labels)\n",
    "\n",
    "        # Backward pass\n",
    "        optimizer.zero_grad()\n",
    "        loss.backward()\n",
    "        optimizer.step()\n",
    "\n",
    "# Evaluate the model\n",
    "correct = 0\n",
    "total = 0\n",
    "with torch.no_grad():\n",
    "    for images, labels in test_loader:\n",
    "        outputs = model(images)\n",
    "        _, predicted = torch.max(outputs, 1)\n",
    "        total += labels.size(0)\n",
    "        correct += (predicted == labels).sum().item()\n",
    "\n",
    "print(f\"Accuracy: {100 * correct / total}%\")"
   ]
  },
  {
   "cell_type": "code",
   "execution_count": null,
   "id": "d39df54a",
   "metadata": {
    "papermill": {
     "duration": 0.039933,
     "end_time": "2024-12-08T03:14:28.624380",
     "exception": false,
     "start_time": "2024-12-08T03:14:28.584447",
     "status": "completed"
    },
    "tags": []
   },
   "outputs": [],
   "source": []
  }
 ],
 "metadata": {
  "kaggle": {
   "accelerator": "none",
   "dataSources": [],
   "dockerImageVersionId": 30786,
   "isGpuEnabled": false,
   "isInternetEnabled": true,
   "language": "python",
   "sourceType": "notebook"
  },
  "kernelspec": {
   "display_name": "Python 3",
   "language": "python",
   "name": "python3"
  },
  "language_info": {
   "codemirror_mode": {
    "name": "ipython",
    "version": 3
   },
   "file_extension": ".py",
   "mimetype": "text/x-python",
   "name": "python",
   "nbconvert_exporter": "python",
   "pygments_lexer": "ipython3",
   "version": "3.10.14"
  },
  "papermill": {
   "default_parameters": {},
   "duration": 127.556029,
   "end_time": "2024-12-08T03:14:30.995500",
   "environment_variables": {},
   "exception": null,
   "input_path": "__notebook__.ipynb",
   "output_path": "__notebook__.ipynb",
   "parameters": {},
   "start_time": "2024-12-08T03:12:23.439471",
   "version": "2.6.0"
  }
 },
 "nbformat": 4,
 "nbformat_minor": 5
}

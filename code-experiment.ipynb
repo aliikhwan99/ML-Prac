{
 "cells": [
  {
   "cell_type": "markdown",
   "id": "28068ee0",
   "metadata": {
    "papermill": {
     "duration": 0.004493,
     "end_time": "2024-12-19T02:44:18.851027",
     "exception": false,
     "start_time": "2024-12-19T02:44:18.846534",
     "status": "completed"
    },
    "tags": []
   },
   "source": [
    "# Scikit-learn\n"
   ]
  },
  {
   "cell_type": "code",
   "execution_count": 1,
   "id": "8125e557",
   "metadata": {
    "execution": {
     "iopub.execute_input": "2024-12-19T02:44:18.861319Z",
     "iopub.status.busy": "2024-12-19T02:44:18.860823Z",
     "iopub.status.idle": "2024-12-19T02:44:20.776125Z",
     "shell.execute_reply": "2024-12-19T02:44:20.775023Z"
    },
    "papermill": {
     "duration": 1.923246,
     "end_time": "2024-12-19T02:44:20.778790",
     "exception": false,
     "start_time": "2024-12-19T02:44:18.855544",
     "status": "completed"
    },
    "tags": []
   },
   "outputs": [],
   "source": [
    "from sklearn.datasets import load_iris\n",
    "from sklearn.preprocessing import StandardScaler\n",
    "from sklearn.model_selection import train_test_split\n",
    "from sklearn.ensemble import RandomForestClassifier\n",
    "from sklearn.linear_model import LinearRegression\n",
    "from sklearn.metrics import accuracy_score"
   ]
  },
  {
   "cell_type": "code",
   "execution_count": 2,
   "id": "fa62288b",
   "metadata": {
    "execution": {
     "iopub.execute_input": "2024-12-19T02:44:20.789121Z",
     "iopub.status.busy": "2024-12-19T02:44:20.788565Z",
     "iopub.status.idle": "2024-12-19T02:44:20.802687Z",
     "shell.execute_reply": "2024-12-19T02:44:20.801587Z"
    },
    "papermill": {
     "duration": 0.02219,
     "end_time": "2024-12-19T02:44:20.805284",
     "exception": false,
     "start_time": "2024-12-19T02:44:20.783094",
     "status": "completed"
    },
    "tags": []
   },
   "outputs": [],
   "source": [
    "data = load_iris()\n",
    "\n",
    "x, y = data.data, data.target\n",
    "\n",
    "x_train, x_test, y_train, y_test = train_test_split(x, y, test_size = 0.20, random_state = 42)"
   ]
  },
  {
   "cell_type": "code",
   "execution_count": 3,
   "id": "0e9b0084",
   "metadata": {
    "execution": {
     "iopub.execute_input": "2024-12-19T02:44:20.815235Z",
     "iopub.status.busy": "2024-12-19T02:44:20.814438Z",
     "iopub.status.idle": "2024-12-19T02:44:20.824084Z",
     "shell.execute_reply": "2024-12-19T02:44:20.822993Z"
    },
    "papermill": {
     "duration": 0.017035,
     "end_time": "2024-12-19T02:44:20.826495",
     "exception": false,
     "start_time": "2024-12-19T02:44:20.809460",
     "status": "completed"
    },
    "tags": []
   },
   "outputs": [],
   "source": [
    "scaler = StandardScaler()\n",
    "\n",
    "train_scaleX = scaler.fit_transform(x_train)\n",
    "\n",
    "test_scaleX = scaler.transform(x_test)"
   ]
  },
  {
   "cell_type": "markdown",
   "id": "cf6ca135",
   "metadata": {
    "papermill": {
     "duration": 0.003573,
     "end_time": "2024-12-19T02:44:20.834005",
     "exception": false,
     "start_time": "2024-12-19T02:44:20.830432",
     "status": "completed"
    },
    "tags": []
   },
   "source": [
    "# Pipeline"
   ]
  },
  {
   "cell_type": "code",
   "execution_count": 4,
   "id": "4bf6cd04",
   "metadata": {
    "execution": {
     "iopub.execute_input": "2024-12-19T02:44:20.843131Z",
     "iopub.status.busy": "2024-12-19T02:44:20.842741Z",
     "iopub.status.idle": "2024-12-19T02:44:20.850647Z",
     "shell.execute_reply": "2024-12-19T02:44:20.849633Z"
    },
    "papermill": {
     "duration": 0.0154,
     "end_time": "2024-12-19T02:44:20.853183",
     "exception": false,
     "start_time": "2024-12-19T02:44:20.837783",
     "status": "completed"
    },
    "tags": []
   },
   "outputs": [],
   "source": [
    "from sklearn.pipeline import Pipeline\n",
    "from sklearn.preprocessing import StandardScaler\n",
    "from sklearn.linear_model import LogisticRegression\n",
    "from sklearn.datasets import load_iris\n",
    "from sklearn.model_selection import train_test_split"
   ]
  },
  {
   "cell_type": "code",
   "execution_count": 5,
   "id": "f200bc33",
   "metadata": {
    "execution": {
     "iopub.execute_input": "2024-12-19T02:44:20.863113Z",
     "iopub.status.busy": "2024-12-19T02:44:20.862713Z",
     "iopub.status.idle": "2024-12-19T02:44:20.893496Z",
     "shell.execute_reply": "2024-12-19T02:44:20.892332Z"
    },
    "papermill": {
     "duration": 0.038618,
     "end_time": "2024-12-19T02:44:20.895983",
     "exception": false,
     "start_time": "2024-12-19T02:44:20.857365",
     "status": "completed"
    },
    "tags": []
   },
   "outputs": [
    {
     "name": "stdout",
     "output_type": "stream",
     "text": [
      "Accuracy: 1.00\n"
     ]
    }
   ],
   "source": [
    "# Load data\n",
    "data = load_iris()\n",
    "X_train, X_test, y_train, y_test = train_test_split(data.data, data.target, test_size=0.2, random_state= 42)\n",
    "\n",
    "# Define pipeline\n",
    "pipeline = Pipeline([\n",
    "    ('scaler', StandardScaler()),       # Step 1: Standardize features\n",
    "    ('classifier', LogisticRegression())  # Step 2: Train logistic regression\n",
    "])\n",
    "\n",
    "# Train model\n",
    "pipeline.fit(X_train, y_train)\n",
    "\n",
    "# Make predictions\n",
    "y_pred = pipeline.predict(X_test)\n",
    "\n",
    "# Evaluate\n",
    "print(f\"Accuracy: {pipeline.score(X_test, y_test):.2f}\")\n"
   ]
  },
  {
   "cell_type": "markdown",
   "id": "e69eb7d5",
   "metadata": {
    "papermill": {
     "duration": 0.003924,
     "end_time": "2024-12-19T02:44:20.903949",
     "exception": false,
     "start_time": "2024-12-19T02:44:20.900025",
     "status": "completed"
    },
    "tags": []
   },
   "source": [
    "# Keras"
   ]
  },
  {
   "cell_type": "code",
   "execution_count": 6,
   "id": "0c70fa72",
   "metadata": {
    "execution": {
     "iopub.execute_input": "2024-12-19T02:44:20.914448Z",
     "iopub.status.busy": "2024-12-19T02:44:20.914054Z",
     "iopub.status.idle": "2024-12-19T02:44:35.679371Z",
     "shell.execute_reply": "2024-12-19T02:44:35.678090Z"
    },
    "papermill": {
     "duration": 14.773391,
     "end_time": "2024-12-19T02:44:35.682230",
     "exception": false,
     "start_time": "2024-12-19T02:44:20.908839",
     "status": "completed"
    },
    "tags": []
   },
   "outputs": [],
   "source": [
    "import tensorflow as tf\n",
    "from tensorflow.keras import Sequential\n",
    "from tensorflow.keras.layers import Dense, Flatten\n",
    "from tensorflow.keras.datasets import mnist"
   ]
  },
  {
   "cell_type": "code",
   "execution_count": 7,
   "id": "b76f981e",
   "metadata": {
    "execution": {
     "iopub.execute_input": "2024-12-19T02:44:35.692418Z",
     "iopub.status.busy": "2024-12-19T02:44:35.691787Z",
     "iopub.status.idle": "2024-12-19T02:44:37.291536Z",
     "shell.execute_reply": "2024-12-19T02:44:37.290585Z"
    },
    "papermill": {
     "duration": 1.607788,
     "end_time": "2024-12-19T02:44:37.294182",
     "exception": false,
     "start_time": "2024-12-19T02:44:35.686394",
     "status": "completed"
    },
    "tags": []
   },
   "outputs": [
    {
     "name": "stdout",
     "output_type": "stream",
     "text": [
      "Downloading data from https://storage.googleapis.com/tensorflow/tf-keras-datasets/mnist.npz\n",
      "\u001b[1m11490434/11490434\u001b[0m \u001b[32m━━━━━━━━━━━━━━━━━━━━\u001b[0m\u001b[37m\u001b[0m \u001b[1m1s\u001b[0m 0us/step\n"
     ]
    }
   ],
   "source": [
    "#load data \n",
    "(x_train, y_train),(x_test, y_test) = mnist.load_data()\n",
    "\n",
    "#normalize\n",
    "(x_train, x_test) = x_train/255.0, x_test/255.0"
   ]
  },
  {
   "cell_type": "code",
   "execution_count": 8,
   "id": "b43abb67",
   "metadata": {
    "execution": {
     "iopub.execute_input": "2024-12-19T02:44:37.306452Z",
     "iopub.status.busy": "2024-12-19T02:44:37.306088Z",
     "iopub.status.idle": "2024-12-19T02:45:04.021952Z",
     "shell.execute_reply": "2024-12-19T02:45:04.020737Z"
    },
    "papermill": {
     "duration": 26.724774,
     "end_time": "2024-12-19T02:45:04.024592",
     "exception": false,
     "start_time": "2024-12-19T02:44:37.299818",
     "status": "completed"
    },
    "tags": []
   },
   "outputs": [
    {
     "name": "stderr",
     "output_type": "stream",
     "text": [
      "/opt/conda/lib/python3.10/site-packages/keras/src/layers/reshaping/flatten.py:37: UserWarning: Do not pass an `input_shape`/`input_dim` argument to a layer. When using Sequential models, prefer using an `Input(shape)` object as the first layer in the model instead.\n",
      "  super().__init__(**kwargs)\n"
     ]
    },
    {
     "name": "stdout",
     "output_type": "stream",
     "text": [
      "Epoch 1/5\n",
      "\u001b[1m1875/1875\u001b[0m \u001b[32m━━━━━━━━━━━━━━━━━━━━\u001b[0m\u001b[37m\u001b[0m \u001b[1m6s\u001b[0m 3ms/step - accuracy: 0.8793 - loss: 0.4265\n",
      "Epoch 2/5\n",
      "\u001b[1m1875/1875\u001b[0m \u001b[32m━━━━━━━━━━━━━━━━━━━━\u001b[0m\u001b[37m\u001b[0m \u001b[1m5s\u001b[0m 3ms/step - accuracy: 0.9650 - loss: 0.1224\n",
      "Epoch 3/5\n",
      "\u001b[1m1875/1875\u001b[0m \u001b[32m━━━━━━━━━━━━━━━━━━━━\u001b[0m\u001b[37m\u001b[0m \u001b[1m5s\u001b[0m 3ms/step - accuracy: 0.9771 - loss: 0.0805\n",
      "Epoch 4/5\n",
      "\u001b[1m1875/1875\u001b[0m \u001b[32m━━━━━━━━━━━━━━━━━━━━\u001b[0m\u001b[37m\u001b[0m \u001b[1m5s\u001b[0m 3ms/step - accuracy: 0.9822 - loss: 0.0593\n",
      "Epoch 5/5\n",
      "\u001b[1m1875/1875\u001b[0m \u001b[32m━━━━━━━━━━━━━━━━━━━━\u001b[0m\u001b[37m\u001b[0m \u001b[1m5s\u001b[0m 3ms/step - accuracy: 0.9864 - loss: 0.0454\n",
      "\u001b[1m313/313\u001b[0m \u001b[32m━━━━━━━━━━━━━━━━━━━━\u001b[0m\u001b[37m\u001b[0m \u001b[1m1s\u001b[0m 2ms/step - accuracy: 0.9718 - loss: 0.0919\n"
     ]
    },
    {
     "data": {
      "text/plain": [
       "[0.0800275206565857, 0.9750000238418579]"
      ]
     },
     "execution_count": 8,
     "metadata": {},
     "output_type": "execute_result"
    }
   ],
   "source": [
    "# Build the model\n",
    "model = Sequential([\n",
    "    Flatten(input_shape=(28, 28)),\n",
    "    Dense(128, activation='relu'),\n",
    "    Dense(10, activation='softmax')\n",
    "])\n",
    "\n",
    "# Compile the model\n",
    "model.compile(optimizer='adam',\n",
    "              loss ='sparse_categorical_crossentropy',\n",
    "              metrics=['accuracy'])\n",
    "\n",
    "# Train the model\n",
    "model.fit(x_train, y_train, epochs=5)\n",
    "\n",
    "# Evaluate the model\n",
    "model.evaluate(x_test, y_test)"
   ]
  },
  {
   "cell_type": "markdown",
   "id": "8cef39a8",
   "metadata": {
    "papermill": {
     "duration": 0.032886,
     "end_time": "2024-12-19T02:45:04.095079",
     "exception": false,
     "start_time": "2024-12-19T02:45:04.062193",
     "status": "completed"
    },
    "tags": []
   },
   "source": [
    "# Tensorflow\n"
   ]
  },
  {
   "cell_type": "code",
   "execution_count": 9,
   "id": "04e643b9",
   "metadata": {
    "execution": {
     "iopub.execute_input": "2024-12-19T02:45:04.162429Z",
     "iopub.status.busy": "2024-12-19T02:45:04.161992Z",
     "iopub.status.idle": "2024-12-19T02:45:04.497319Z",
     "shell.execute_reply": "2024-12-19T02:45:04.496131Z"
    },
    "papermill": {
     "duration": 0.373214,
     "end_time": "2024-12-19T02:45:04.500092",
     "exception": false,
     "start_time": "2024-12-19T02:45:04.126878",
     "status": "completed"
    },
    "tags": []
   },
   "outputs": [],
   "source": [
    "import tensorflow as tf\n",
    "from tensorflow.keras.datasets import mnist\n",
    "\n",
    "\n",
    "#load and preprocess data\n",
    "(x_train, y_train),(x_test, y_test) = mnist.load_data()\n",
    "\n",
    "#convert labels to one hot encoding\n",
    "y_train = tf.one_hot(y_train, depth = 10).numpy()\n",
    "y_test = tf.one_hot(y_test, depth = 10).numpy()\n",
    "\n",
    "#define model\n",
    "#define the neuralNetwork\n",
    "\n",
    "class NeuralNetwork(tf.keras.Model):\n",
    "    def __init__(self): #Declare the component to use \n",
    "        self.flatten = tf.keras.layers.Flatten()\n",
    "        self.dense1 = tf.keras.layers.Dense(128, activation = 'relu')\n",
    "        self.dense2 = tf.keras.layers.Dense(10, activation = 'softmax')\n",
    "\n",
    "    def call(self, x): #Execute the components\n",
    "        x = self.flatten(x)\n",
    "        x = self.dense1(x)\n",
    "        return self.dense2(x)\n",
    "\n",
    "model = NeuralNetwork()"
   ]
  },
  {
   "cell_type": "markdown",
   "id": "c129f8be",
   "metadata": {
    "papermill": {
     "duration": 0.031318,
     "end_time": "2024-12-19T02:45:04.563553",
     "exception": false,
     "start_time": "2024-12-19T02:45:04.532235",
     "status": "completed"
    },
    "tags": []
   },
   "source": [
    "# PyTorch"
   ]
  },
  {
   "cell_type": "code",
   "execution_count": 10,
   "id": "8b1655c0",
   "metadata": {
    "execution": {
     "iopub.execute_input": "2024-12-19T02:45:04.632709Z",
     "iopub.status.busy": "2024-12-19T02:45:04.632255Z",
     "iopub.status.idle": "2024-12-19T02:45:16.263052Z",
     "shell.execute_reply": "2024-12-19T02:45:16.261980Z"
    },
    "papermill": {
     "duration": 11.668306,
     "end_time": "2024-12-19T02:45:16.266431",
     "exception": false,
     "start_time": "2024-12-19T02:45:04.598125",
     "status": "completed"
    },
    "tags": []
   },
   "outputs": [
    {
     "name": "stdout",
     "output_type": "stream",
     "text": [
      "Downloading http://yann.lecun.com/exdb/mnist/train-images-idx3-ubyte.gz\n",
      "Failed to download (trying next):\n",
      "HTTP Error 403: Forbidden\n",
      "\n",
      "Downloading https://ossci-datasets.s3.amazonaws.com/mnist/train-images-idx3-ubyte.gz\n",
      "Downloading https://ossci-datasets.s3.amazonaws.com/mnist/train-images-idx3-ubyte.gz to ./data/MNIST/raw/train-images-idx3-ubyte.gz\n"
     ]
    },
    {
     "name": "stderr",
     "output_type": "stream",
     "text": [
      "100%|██████████| 9912422/9912422 [00:00<00:00, 11490453.14it/s]\n"
     ]
    },
    {
     "name": "stdout",
     "output_type": "stream",
     "text": [
      "Extracting ./data/MNIST/raw/train-images-idx3-ubyte.gz to ./data/MNIST/raw\n",
      "\n",
      "Downloading http://yann.lecun.com/exdb/mnist/train-labels-idx1-ubyte.gz\n",
      "Failed to download (trying next):\n",
      "HTTP Error 403: Forbidden\n",
      "\n",
      "Downloading https://ossci-datasets.s3.amazonaws.com/mnist/train-labels-idx1-ubyte.gz\n",
      "Downloading https://ossci-datasets.s3.amazonaws.com/mnist/train-labels-idx1-ubyte.gz to ./data/MNIST/raw/train-labels-idx1-ubyte.gz\n"
     ]
    },
    {
     "name": "stderr",
     "output_type": "stream",
     "text": [
      "100%|██████████| 28881/28881 [00:00<00:00, 336941.04it/s]\n"
     ]
    },
    {
     "name": "stdout",
     "output_type": "stream",
     "text": [
      "Extracting ./data/MNIST/raw/train-labels-idx1-ubyte.gz to ./data/MNIST/raw\n",
      "\n",
      "Downloading http://yann.lecun.com/exdb/mnist/t10k-images-idx3-ubyte.gz\n",
      "Failed to download (trying next):\n",
      "HTTP Error 403: Forbidden\n",
      "\n",
      "Downloading https://ossci-datasets.s3.amazonaws.com/mnist/t10k-images-idx3-ubyte.gz\n",
      "Downloading https://ossci-datasets.s3.amazonaws.com/mnist/t10k-images-idx3-ubyte.gz to ./data/MNIST/raw/t10k-images-idx3-ubyte.gz\n"
     ]
    },
    {
     "name": "stderr",
     "output_type": "stream",
     "text": [
      "100%|██████████| 1648877/1648877 [00:00<00:00, 3159785.21it/s]\n"
     ]
    },
    {
     "name": "stdout",
     "output_type": "stream",
     "text": [
      "Extracting ./data/MNIST/raw/t10k-images-idx3-ubyte.gz to ./data/MNIST/raw\n",
      "\n",
      "Downloading http://yann.lecun.com/exdb/mnist/t10k-labels-idx1-ubyte.gz\n",
      "Failed to download (trying next):\n",
      "HTTP Error 403: Forbidden\n",
      "\n",
      "Downloading https://ossci-datasets.s3.amazonaws.com/mnist/t10k-labels-idx1-ubyte.gz\n",
      "Downloading https://ossci-datasets.s3.amazonaws.com/mnist/t10k-labels-idx1-ubyte.gz to ./data/MNIST/raw/t10k-labels-idx1-ubyte.gz\n"
     ]
    },
    {
     "name": "stderr",
     "output_type": "stream",
     "text": [
      "100%|██████████| 4542/4542 [00:00<00:00, 1625194.40it/s]"
     ]
    },
    {
     "name": "stdout",
     "output_type": "stream",
     "text": [
      "Extracting ./data/MNIST/raw/t10k-labels-idx1-ubyte.gz to ./data/MNIST/raw\n",
      "\n"
     ]
    },
    {
     "name": "stderr",
     "output_type": "stream",
     "text": [
      "\n"
     ]
    }
   ],
   "source": [
    "import torch\n",
    "import torch.nn as nn\n",
    "import torch.optim as optim\n",
    "from torchvision import datasets, transforms\n",
    "from torch.utils.data import DataLoader\n",
    "\n",
    "# Load and preprocess data\n",
    "transform = transforms.ToTensor()\n",
    "train_dataset = datasets.MNIST(root='./data', train=True, transform=transform, download=True)\n",
    "test_dataset = datasets.MNIST(root='./data', train=False, transform=transform)\n",
    "\n",
    "train_loader = DataLoader(train_dataset, batch_size=64, shuffle=True)\n",
    "test_loader = DataLoader(test_dataset, batch_size=64, shuffle=False)\n",
    "\n",
    "# Define the model\n",
    "class NeuralNetwork(nn.Module):\n",
    "    def __init__(self):\n",
    "        super(NeuralNetwork, self).__init__()\n",
    "        self.flatten = nn.Flatten()\n",
    "        self.fc1 = nn.Linear(28 * 28, 128)\n",
    "        self.relu = nn.ReLU()\n",
    "        self.fc2 = nn.Linear(128, 10)\n",
    "        self.softmax = nn.Softmax(dim=1)\n",
    "\n",
    "    def forward(self, x):\n",
    "        x = self.flatten(x)\n",
    "        x = self.relu(self.fc1(x))\n",
    "        x = self.softmax(self.fc2(x))\n",
    "        return x"
   ]
  },
  {
   "cell_type": "code",
   "execution_count": 11,
   "id": "203cdd36",
   "metadata": {
    "execution": {
     "iopub.execute_input": "2024-12-19T02:45:16.340204Z",
     "iopub.status.busy": "2024-12-19T02:45:16.338389Z",
     "iopub.status.idle": "2024-12-19T02:45:16.358846Z",
     "shell.execute_reply": "2024-12-19T02:45:16.357502Z"
    },
    "papermill": {
     "duration": 0.060188,
     "end_time": "2024-12-19T02:45:16.361364",
     "exception": false,
     "start_time": "2024-12-19T02:45:16.301176",
     "status": "completed"
    },
    "tags": []
   },
   "outputs": [],
   "source": [
    "model = NeuralNetwork()\n",
    "\n",
    "# Define loss and optimizer\n",
    "criterion = nn.CrossEntropyLoss()\n",
    "optimizer = optim.Adam(model.parameters(), lr=0.001)\n"
   ]
  },
  {
   "cell_type": "code",
   "execution_count": 12,
   "id": "7880503e",
   "metadata": {
    "execution": {
     "iopub.execute_input": "2024-12-19T02:45:16.431154Z",
     "iopub.status.busy": "2024-12-19T02:45:16.430740Z",
     "iopub.status.idle": "2024-12-19T02:46:02.765606Z",
     "shell.execute_reply": "2024-12-19T02:46:02.764396Z"
    },
    "papermill": {
     "duration": 46.406036,
     "end_time": "2024-12-19T02:46:02.802335",
     "exception": false,
     "start_time": "2024-12-19T02:45:16.396299",
     "status": "completed"
    },
    "tags": []
   },
   "outputs": [
    {
     "name": "stdout",
     "output_type": "stream",
     "text": [
      "Accuracy: 96.25%\n"
     ]
    }
   ],
   "source": [
    "# Training loop\n",
    "for epoch in range(5):\n",
    "    for images, labels in train_loader:\n",
    "        # Forward pass\n",
    "        outputs = model(images)\n",
    "        loss = criterion(outputs, labels)\n",
    "\n",
    "        # Backward pass\n",
    "        optimizer.zero_grad()\n",
    "        loss.backward()\n",
    "        optimizer.step()\n",
    "\n",
    "# Evaluate the model\n",
    "correct = 0\n",
    "total = 0\n",
    "with torch.no_grad():\n",
    "    for images, labels in test_loader:\n",
    "        outputs = model(images)\n",
    "        _, predicted = torch.max(outputs, 1)\n",
    "        total += labels.size(0)\n",
    "        correct += (predicted == labels).sum().item()\n",
    "\n",
    "print(f\"Accuracy: {100 * correct / total}%\")"
   ]
  },
  {
   "cell_type": "code",
   "execution_count": null,
   "id": "7a2ebb1b",
   "metadata": {
    "papermill": {
     "duration": 0.034423,
     "end_time": "2024-12-19T02:46:02.871782",
     "exception": false,
     "start_time": "2024-12-19T02:46:02.837359",
     "status": "completed"
    },
    "tags": []
   },
   "outputs": [],
   "source": []
  }
 ],
 "metadata": {
  "kaggle": {
   "accelerator": "none",
   "dataSources": [],
   "dockerImageVersionId": 30786,
   "isGpuEnabled": false,
   "isInternetEnabled": true,
   "language": "python",
   "sourceType": "notebook"
  },
  "kernelspec": {
   "display_name": "Python 3",
   "language": "python",
   "name": "python3"
  },
  "language_info": {
   "codemirror_mode": {
    "name": "ipython",
    "version": 3
   },
   "file_extension": ".py",
   "mimetype": "text/x-python",
   "name": "python",
   "nbconvert_exporter": "python",
   "pygments_lexer": "ipython3",
   "version": "3.10.14"
  },
  "papermill": {
   "default_parameters": {},
   "duration": 110.056724,
   "end_time": "2024-12-19T02:46:05.491801",
   "environment_variables": {},
   "exception": null,
   "input_path": "__notebook__.ipynb",
   "output_path": "__notebook__.ipynb",
   "parameters": {},
   "start_time": "2024-12-19T02:44:15.435077",
   "version": "2.6.0"
  }
 },
 "nbformat": 4,
 "nbformat_minor": 5
}

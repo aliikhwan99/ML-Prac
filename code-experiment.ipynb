{
 "cells": [
  {
   "cell_type": "markdown",
   "id": "e0abb020",
   "metadata": {
    "papermill": {
     "duration": 0.004561,
     "end_time": "2024-12-15T15:48:35.224763",
     "exception": false,
     "start_time": "2024-12-15T15:48:35.220202",
     "status": "completed"
    },
    "tags": []
   },
   "source": [
    "# Scikit-learn\n"
   ]
  },
  {
   "cell_type": "code",
   "execution_count": 1,
   "id": "eecc0c16",
   "metadata": {
    "execution": {
     "iopub.execute_input": "2024-12-15T15:48:35.234471Z",
     "iopub.status.busy": "2024-12-15T15:48:35.234059Z",
     "iopub.status.idle": "2024-12-15T15:48:37.093843Z",
     "shell.execute_reply": "2024-12-15T15:48:37.092607Z"
    },
    "papermill": {
     "duration": 1.867397,
     "end_time": "2024-12-15T15:48:37.096266",
     "exception": false,
     "start_time": "2024-12-15T15:48:35.228869",
     "status": "completed"
    },
    "tags": []
   },
   "outputs": [],
   "source": [
    "from sklearn.datasets import load_iris\n",
    "from sklearn.preprocessing import StandardScaler\n",
    "from sklearn.model_selection import train_test_split\n",
    "from sklearn.ensemble import RandomForestClassifier\n",
    "from sklearn.metrics import accuracy_score"
   ]
  },
  {
   "cell_type": "code",
   "execution_count": 2,
   "id": "94c6df38",
   "metadata": {
    "execution": {
     "iopub.execute_input": "2024-12-15T15:48:37.106500Z",
     "iopub.status.busy": "2024-12-15T15:48:37.105943Z",
     "iopub.status.idle": "2024-12-15T15:48:37.120901Z",
     "shell.execute_reply": "2024-12-15T15:48:37.119281Z"
    },
    "papermill": {
     "duration": 0.022919,
     "end_time": "2024-12-15T15:48:37.123452",
     "exception": false,
     "start_time": "2024-12-15T15:48:37.100533",
     "status": "completed"
    },
    "tags": []
   },
   "outputs": [],
   "source": [
    "data = load_iris()\n",
    "\n",
    "x, y = data.data, data.target \n",
    "\n",
    "x_train, x_test, y_train, y_test = train_test_split(x,y, test_size = 0.20 ,random_state = 42 )"
   ]
  },
  {
   "cell_type": "code",
   "execution_count": 3,
   "id": "c049bdf3",
   "metadata": {
    "execution": {
     "iopub.execute_input": "2024-12-15T15:48:37.133104Z",
     "iopub.status.busy": "2024-12-15T15:48:37.132748Z",
     "iopub.status.idle": "2024-12-15T15:48:37.143535Z",
     "shell.execute_reply": "2024-12-15T15:48:37.142187Z"
    },
    "papermill": {
     "duration": 0.018063,
     "end_time": "2024-12-15T15:48:37.145591",
     "exception": false,
     "start_time": "2024-12-15T15:48:37.127528",
     "status": "completed"
    },
    "tags": []
   },
   "outputs": [],
   "source": [
    "scaler = StandardScaler()\n",
    "\n",
    "x_train_scaler = scaler.fit_transform(x_train)\n",
    "\n",
    "x_test_scaler = scaler.transform(x_test)"
   ]
  },
  {
   "cell_type": "markdown",
   "id": "95911110",
   "metadata": {
    "papermill": {
     "duration": 0.003576,
     "end_time": "2024-12-15T15:48:37.153106",
     "exception": false,
     "start_time": "2024-12-15T15:48:37.149530",
     "status": "completed"
    },
    "tags": []
   },
   "source": [
    "# Pipeline"
   ]
  },
  {
   "cell_type": "code",
   "execution_count": 4,
   "id": "a77bdc4e",
   "metadata": {
    "execution": {
     "iopub.execute_input": "2024-12-15T15:48:37.162302Z",
     "iopub.status.busy": "2024-12-15T15:48:37.161903Z",
     "iopub.status.idle": "2024-12-15T15:48:37.169868Z",
     "shell.execute_reply": "2024-12-15T15:48:37.168784Z"
    },
    "papermill": {
     "duration": 0.015327,
     "end_time": "2024-12-15T15:48:37.172252",
     "exception": false,
     "start_time": "2024-12-15T15:48:37.156925",
     "status": "completed"
    },
    "tags": []
   },
   "outputs": [],
   "source": [
    "from sklearn.pipeline import Pipeline\n",
    "from sklearn.preprocessing import StandardScaler\n",
    "from sklearn.linear_model import LogisticRegression\n",
    "from sklearn.datasets import load_iris\n",
    "from sklearn.model_selection import train_test_split"
   ]
  },
  {
   "cell_type": "code",
   "execution_count": 5,
   "id": "f2f57166",
   "metadata": {
    "execution": {
     "iopub.execute_input": "2024-12-15T15:48:37.181688Z",
     "iopub.status.busy": "2024-12-15T15:48:37.181304Z",
     "iopub.status.idle": "2024-12-15T15:48:37.214083Z",
     "shell.execute_reply": "2024-12-15T15:48:37.212768Z"
    },
    "papermill": {
     "duration": 0.041074,
     "end_time": "2024-12-15T15:48:37.217440",
     "exception": false,
     "start_time": "2024-12-15T15:48:37.176366",
     "status": "completed"
    },
    "tags": []
   },
   "outputs": [
    {
     "name": "stdout",
     "output_type": "stream",
     "text": [
      "Accuracy: 1.00\n"
     ]
    }
   ],
   "source": [
    "# Load data\n",
    "data = load_iris()\n",
    "X_train, X_test, y_train, y_test = train_test_split(data.data, data.target, test_size=0.2, random_state= 42)\n",
    "\n",
    "# Define pipeline\n",
    "pipeline = Pipeline([\n",
    "    ('scaler', StandardScaler()),       # Step 1: Standardize features\n",
    "    ('classifier', LogisticRegression())  # Step 2: Train logistic regression\n",
    "])\n",
    "\n",
    "# Train model\n",
    "pipeline.fit(X_train, y_train)\n",
    "\n",
    "# Make predictions\n",
    "y_pred = pipeline.predict(X_test)\n",
    "\n",
    "# Evaluate\n",
    "print(f\"Accuracy: {pipeline.score(X_test, y_test):.2f}\")\n"
   ]
  },
  {
   "cell_type": "markdown",
   "id": "5edc71af",
   "metadata": {
    "papermill": {
     "duration": 0.003651,
     "end_time": "2024-12-15T15:48:37.225251",
     "exception": false,
     "start_time": "2024-12-15T15:48:37.221600",
     "status": "completed"
    },
    "tags": []
   },
   "source": [
    "# Keras"
   ]
  },
  {
   "cell_type": "code",
   "execution_count": 6,
   "id": "c7f2d1ba",
   "metadata": {
    "execution": {
     "iopub.execute_input": "2024-12-15T15:48:37.235334Z",
     "iopub.status.busy": "2024-12-15T15:48:37.234977Z",
     "iopub.status.idle": "2024-12-15T15:48:51.914525Z",
     "shell.execute_reply": "2024-12-15T15:48:51.913570Z"
    },
    "papermill": {
     "duration": 14.686978,
     "end_time": "2024-12-15T15:48:51.916975",
     "exception": false,
     "start_time": "2024-12-15T15:48:37.229997",
     "status": "completed"
    },
    "tags": []
   },
   "outputs": [],
   "source": [
    "import tensorflow as tf\n",
    "from tensorflow.keras import Sequential\n",
    "from tensorflow.keras.layers import Dense, Flatten\n",
    "from tensorflow.keras.datasets import mnist"
   ]
  },
  {
   "cell_type": "code",
   "execution_count": 7,
   "id": "fd3418a6",
   "metadata": {
    "execution": {
     "iopub.execute_input": "2024-12-15T15:48:51.927249Z",
     "iopub.status.busy": "2024-12-15T15:48:51.926573Z",
     "iopub.status.idle": "2024-12-15T15:48:54.001878Z",
     "shell.execute_reply": "2024-12-15T15:48:54.000726Z"
    },
    "papermill": {
     "duration": 2.083224,
     "end_time": "2024-12-15T15:48:54.004443",
     "exception": false,
     "start_time": "2024-12-15T15:48:51.921219",
     "status": "completed"
    },
    "tags": []
   },
   "outputs": [
    {
     "name": "stdout",
     "output_type": "stream",
     "text": [
      "Downloading data from https://storage.googleapis.com/tensorflow/tf-keras-datasets/mnist.npz\n",
      "\u001b[1m11490434/11490434\u001b[0m \u001b[32m━━━━━━━━━━━━━━━━━━━━\u001b[0m\u001b[37m\u001b[0m \u001b[1m1s\u001b[0m 0us/step\n"
     ]
    }
   ],
   "source": [
    "#load data \n",
    "(x_train, y_train),(x_test, y_test) = mnist.load_data()\n",
    "\n",
    "#normalize\n",
    "(x_train, x_test) = x_train/255.0, x_test/255.0"
   ]
  },
  {
   "cell_type": "code",
   "execution_count": 8,
   "id": "f572aee3",
   "metadata": {
    "execution": {
     "iopub.execute_input": "2024-12-15T15:48:54.017303Z",
     "iopub.status.busy": "2024-12-15T15:48:54.016878Z",
     "iopub.status.idle": "2024-12-15T15:49:20.251190Z",
     "shell.execute_reply": "2024-12-15T15:49:20.250147Z"
    },
    "papermill": {
     "duration": 26.243262,
     "end_time": "2024-12-15T15:49:20.253436",
     "exception": false,
     "start_time": "2024-12-15T15:48:54.010174",
     "status": "completed"
    },
    "tags": []
   },
   "outputs": [
    {
     "name": "stderr",
     "output_type": "stream",
     "text": [
      "/opt/conda/lib/python3.10/site-packages/keras/src/layers/reshaping/flatten.py:37: UserWarning: Do not pass an `input_shape`/`input_dim` argument to a layer. When using Sequential models, prefer using an `Input(shape)` object as the first layer in the model instead.\n",
      "  super().__init__(**kwargs)\n"
     ]
    },
    {
     "name": "stdout",
     "output_type": "stream",
     "text": [
      "Epoch 1/5\n",
      "\u001b[1m1875/1875\u001b[0m \u001b[32m━━━━━━━━━━━━━━━━━━━━\u001b[0m\u001b[37m\u001b[0m \u001b[1m6s\u001b[0m 3ms/step - accuracy: 0.8786 - loss: 0.4299\n",
      "Epoch 2/5\n",
      "\u001b[1m1875/1875\u001b[0m \u001b[32m━━━━━━━━━━━━━━━━━━━━\u001b[0m\u001b[37m\u001b[0m \u001b[1m5s\u001b[0m 3ms/step - accuracy: 0.9632 - loss: 0.1244\n",
      "Epoch 3/5\n",
      "\u001b[1m1875/1875\u001b[0m \u001b[32m━━━━━━━━━━━━━━━━━━━━\u001b[0m\u001b[37m\u001b[0m \u001b[1m5s\u001b[0m 2ms/step - accuracy: 0.9756 - loss: 0.0844\n",
      "Epoch 4/5\n",
      "\u001b[1m1875/1875\u001b[0m \u001b[32m━━━━━━━━━━━━━━━━━━━━\u001b[0m\u001b[37m\u001b[0m \u001b[1m5s\u001b[0m 3ms/step - accuracy: 0.9824 - loss: 0.0583\n",
      "Epoch 5/5\n",
      "\u001b[1m1875/1875\u001b[0m \u001b[32m━━━━━━━━━━━━━━━━━━━━\u001b[0m\u001b[37m\u001b[0m \u001b[1m5s\u001b[0m 3ms/step - accuracy: 0.9862 - loss: 0.0461\n",
      "\u001b[1m313/313\u001b[0m \u001b[32m━━━━━━━━━━━━━━━━━━━━\u001b[0m\u001b[37m\u001b[0m \u001b[1m1s\u001b[0m 1ms/step - accuracy: 0.9709 - loss: 0.0969\n"
     ]
    },
    {
     "data": {
      "text/plain": [
       "[0.08166927099227905, 0.9751999974250793]"
      ]
     },
     "execution_count": 8,
     "metadata": {},
     "output_type": "execute_result"
    }
   ],
   "source": [
    "# Build the model\n",
    "model = Sequential([\n",
    "    Flatten(input_shape=(28, 28)),\n",
    "    Dense(128, activation='relu'),\n",
    "    Dense(10, activation='softmax')\n",
    "])\n",
    "\n",
    "# Compile the model\n",
    "model.compile(optimizer='adam',\n",
    "              loss ='sparse_categorical_crossentropy',\n",
    "              metrics=['accuracy'])\n",
    "\n",
    "# Train the model\n",
    "model.fit(x_train, y_train, epochs=5)\n",
    "\n",
    "# Evaluate the model\n",
    "model.evaluate(x_test, y_test)"
   ]
  },
  {
   "cell_type": "markdown",
   "id": "a61ab0d9",
   "metadata": {
    "papermill": {
     "duration": 0.031616,
     "end_time": "2024-12-15T15:49:20.318551",
     "exception": false,
     "start_time": "2024-12-15T15:49:20.286935",
     "status": "completed"
    },
    "tags": []
   },
   "source": [
    "# Tensorflow\n"
   ]
  },
  {
   "cell_type": "code",
   "execution_count": 9,
   "id": "8351392b",
   "metadata": {
    "execution": {
     "iopub.execute_input": "2024-12-15T15:49:20.385463Z",
     "iopub.status.busy": "2024-12-15T15:49:20.385051Z",
     "iopub.status.idle": "2024-12-15T15:49:20.860790Z",
     "shell.execute_reply": "2024-12-15T15:49:20.859390Z"
    },
    "papermill": {
     "duration": 0.511666,
     "end_time": "2024-12-15T15:49:20.863289",
     "exception": false,
     "start_time": "2024-12-15T15:49:20.351623",
     "status": "completed"
    },
    "tags": []
   },
   "outputs": [],
   "source": [
    "import tensorflow as tf\n",
    "from tensorflow.keras.datasets import mnist\n",
    "\n",
    "#load and preprocess data\n",
    "\n",
    "(x_train, y_train),(x_test, y_test) = mnist.load_data()\n",
    "x_train, x_test = x_train/255.0, x_test/255.0\n",
    "\n",
    "#convert the label to one hot encoding\n",
    "x_train = tf.one_hot(y_train, depth = 10).numpy()\n",
    "x_test = tf.one_hot(y_test, depth = 10).numpy()\n",
    "\n",
    "\n",
    "#define the model\n",
    "class NeuralNetwork(tf.keras.Model):\n",
    "    def __init__(self):\n",
    "        super() .__init__()\n",
    "        self.flatten = tf.keras.layers.Flatten()\n",
    "        self.dense1 = tf.keras.layers.Dense(128, activation = 'relu')\n",
    "        self.dense2 = tf.keras.layers.Dense(10, activation = 'softmax')\n",
    "\n",
    "    def call(self, x):\n",
    "        x = self.flatten(x)\n",
    "        x = self.dense1(x)\n",
    "        return self.dense2(x)\n",
    "\n",
    "Model = NeuralNetwork()\n",
    "\n",
    "#define loss and optimizer\n",
    "\n",
    "loss_fn = tf.keras.losses.CategoricalCrossentropy()\n",
    "optimizer = tf.optimizers.Adam()\n",
    "\n"
   ]
  },
  {
   "cell_type": "markdown",
   "id": "5e21bff8",
   "metadata": {
    "papermill": {
     "duration": 0.031649,
     "end_time": "2024-12-15T15:49:20.927763",
     "exception": false,
     "start_time": "2024-12-15T15:49:20.896114",
     "status": "completed"
    },
    "tags": []
   },
   "source": [
    "# PyTorch"
   ]
  },
  {
   "cell_type": "code",
   "execution_count": 10,
   "id": "d67eb41e",
   "metadata": {
    "execution": {
     "iopub.execute_input": "2024-12-15T15:49:21.011399Z",
     "iopub.status.busy": "2024-12-15T15:49:21.010631Z",
     "iopub.status.idle": "2024-12-15T15:49:39.590874Z",
     "shell.execute_reply": "2024-12-15T15:49:39.589462Z"
    },
    "papermill": {
     "duration": 18.626944,
     "end_time": "2024-12-15T15:49:39.593232",
     "exception": false,
     "start_time": "2024-12-15T15:49:20.966288",
     "status": "completed"
    },
    "tags": []
   },
   "outputs": [
    {
     "name": "stdout",
     "output_type": "stream",
     "text": [
      "Downloading http://yann.lecun.com/exdb/mnist/train-images-idx3-ubyte.gz\n",
      "Failed to download (trying next):\n",
      "HTTP Error 403: Forbidden\n",
      "\n",
      "Downloading https://ossci-datasets.s3.amazonaws.com/mnist/train-images-idx3-ubyte.gz\n",
      "Downloading https://ossci-datasets.s3.amazonaws.com/mnist/train-images-idx3-ubyte.gz to ./data/MNIST/raw/train-images-idx3-ubyte.gz\n"
     ]
    },
    {
     "name": "stderr",
     "output_type": "stream",
     "text": [
      "100%|██████████| 9912422/9912422 [00:01<00:00, 6020942.71it/s]\n"
     ]
    },
    {
     "name": "stdout",
     "output_type": "stream",
     "text": [
      "Extracting ./data/MNIST/raw/train-images-idx3-ubyte.gz to ./data/MNIST/raw\n",
      "\n",
      "Downloading http://yann.lecun.com/exdb/mnist/train-labels-idx1-ubyte.gz\n",
      "Failed to download (trying next):\n",
      "HTTP Error 403: Forbidden\n",
      "\n",
      "Downloading https://ossci-datasets.s3.amazonaws.com/mnist/train-labels-idx1-ubyte.gz\n",
      "Downloading https://ossci-datasets.s3.amazonaws.com/mnist/train-labels-idx1-ubyte.gz to ./data/MNIST/raw/train-labels-idx1-ubyte.gz\n"
     ]
    },
    {
     "name": "stderr",
     "output_type": "stream",
     "text": [
      "100%|██████████| 28881/28881 [00:00<00:00, 158271.38it/s]\n"
     ]
    },
    {
     "name": "stdout",
     "output_type": "stream",
     "text": [
      "Extracting ./data/MNIST/raw/train-labels-idx1-ubyte.gz to ./data/MNIST/raw\n",
      "\n",
      "Downloading http://yann.lecun.com/exdb/mnist/t10k-images-idx3-ubyte.gz\n",
      "Failed to download (trying next):\n",
      "HTTP Error 403: Forbidden\n",
      "\n",
      "Downloading https://ossci-datasets.s3.amazonaws.com/mnist/t10k-images-idx3-ubyte.gz\n",
      "Downloading https://ossci-datasets.s3.amazonaws.com/mnist/t10k-images-idx3-ubyte.gz to ./data/MNIST/raw/t10k-images-idx3-ubyte.gz\n"
     ]
    },
    {
     "name": "stderr",
     "output_type": "stream",
     "text": [
      "100%|██████████| 1648877/1648877 [00:01<00:00, 1508968.29it/s]\n"
     ]
    },
    {
     "name": "stdout",
     "output_type": "stream",
     "text": [
      "Extracting ./data/MNIST/raw/t10k-images-idx3-ubyte.gz to ./data/MNIST/raw\n",
      "\n",
      "Downloading http://yann.lecun.com/exdb/mnist/t10k-labels-idx1-ubyte.gz\n",
      "Failed to download (trying next):\n",
      "HTTP Error 403: Forbidden\n",
      "\n",
      "Downloading https://ossci-datasets.s3.amazonaws.com/mnist/t10k-labels-idx1-ubyte.gz\n",
      "Downloading https://ossci-datasets.s3.amazonaws.com/mnist/t10k-labels-idx1-ubyte.gz to ./data/MNIST/raw/t10k-labels-idx1-ubyte.gz\n"
     ]
    },
    {
     "name": "stderr",
     "output_type": "stream",
     "text": [
      "100%|██████████| 4542/4542 [00:00<00:00, 2222154.29it/s]"
     ]
    },
    {
     "name": "stdout",
     "output_type": "stream",
     "text": [
      "Extracting ./data/MNIST/raw/t10k-labels-idx1-ubyte.gz to ./data/MNIST/raw\n",
      "\n"
     ]
    },
    {
     "name": "stderr",
     "output_type": "stream",
     "text": [
      "\n"
     ]
    }
   ],
   "source": [
    "import torch\n",
    "import torch.nn as nn\n",
    "import torch.optim as optim\n",
    "from torchvision import datasets, transforms\n",
    "from torch.utils.data import DataLoader\n",
    "\n",
    "# Load and preprocess data\n",
    "transform = transforms.ToTensor()\n",
    "train_dataset = datasets.MNIST(root='./data', train=True, transform=transform, download=True)\n",
    "test_dataset = datasets.MNIST(root='./data', train=False, transform=transform)\n",
    "\n",
    "train_loader = DataLoader(train_dataset, batch_size=64, shuffle=True)\n",
    "test_loader = DataLoader(test_dataset, batch_size=64, shuffle=False)\n",
    "\n",
    "# Define the model\n",
    "class NeuralNetwork(nn.Module):\n",
    "    def __init__(self):\n",
    "        super(NeuralNetwork, self).__init__()\n",
    "        self.flatten = nn.Flatten()\n",
    "        self.fc1 = nn.Linear(28 * 28, 128)\n",
    "        self.relu = nn.ReLU()\n",
    "        self.fc2 = nn.Linear(128, 10)\n",
    "        self.softmax = nn.Softmax(dim=1)\n",
    "\n",
    "    def forward(self, x):\n",
    "        x = self.flatten(x)\n",
    "        x = self.relu(self.fc1(x))\n",
    "        x = self.softmax(self.fc2(x))\n",
    "        return x"
   ]
  },
  {
   "cell_type": "code",
   "execution_count": 11,
   "id": "631fc12b",
   "metadata": {
    "execution": {
     "iopub.execute_input": "2024-12-15T15:49:39.665743Z",
     "iopub.status.busy": "2024-12-15T15:49:39.664856Z",
     "iopub.status.idle": "2024-12-15T15:49:39.686190Z",
     "shell.execute_reply": "2024-12-15T15:49:39.684982Z"
    },
    "papermill": {
     "duration": 0.05921,
     "end_time": "2024-12-15T15:49:39.688659",
     "exception": false,
     "start_time": "2024-12-15T15:49:39.629449",
     "status": "completed"
    },
    "tags": []
   },
   "outputs": [],
   "source": [
    "model = NeuralNetwork()\n",
    "\n",
    "# Define loss and optimizer\n",
    "criterion = nn.CrossEntropyLoss()\n",
    "optimizer = optim.Adam(model.parameters(), lr=0.001)\n"
   ]
  },
  {
   "cell_type": "code",
   "execution_count": 12,
   "id": "0c848758",
   "metadata": {
    "execution": {
     "iopub.execute_input": "2024-12-15T15:49:39.757797Z",
     "iopub.status.busy": "2024-12-15T15:49:39.757408Z",
     "iopub.status.idle": "2024-12-15T15:50:24.323155Z",
     "shell.execute_reply": "2024-12-15T15:50:24.321865Z"
    },
    "papermill": {
     "duration": 44.63892,
     "end_time": "2024-12-15T15:50:24.361425",
     "exception": false,
     "start_time": "2024-12-15T15:49:39.722505",
     "status": "completed"
    },
    "tags": []
   },
   "outputs": [
    {
     "name": "stdout",
     "output_type": "stream",
     "text": [
      "Accuracy: 96.49%\n"
     ]
    }
   ],
   "source": [
    "# Training loop\n",
    "for epoch in range(5):\n",
    "    for images, labels in train_loader:\n",
    "        # Forward pass\n",
    "        outputs = model(images)\n",
    "        loss = criterion(outputs, labels)\n",
    "\n",
    "        # Backward pass\n",
    "        optimizer.zero_grad()\n",
    "        loss.backward()\n",
    "        optimizer.step()\n",
    "\n",
    "# Evaluate the model\n",
    "correct = 0\n",
    "total = 0\n",
    "with torch.no_grad():\n",
    "    for images, labels in test_loader:\n",
    "        outputs = model(images)\n",
    "        _, predicted = torch.max(outputs, 1)\n",
    "        total += labels.size(0)\n",
    "        correct += (predicted == labels).sum().item()\n",
    "\n",
    "print(f\"Accuracy: {100 * correct / total}%\")"
   ]
  },
  {
   "cell_type": "code",
   "execution_count": null,
   "id": "01cceb71",
   "metadata": {
    "papermill": {
     "duration": 0.034274,
     "end_time": "2024-12-15T15:50:24.429844",
     "exception": false,
     "start_time": "2024-12-15T15:50:24.395570",
     "status": "completed"
    },
    "tags": []
   },
   "outputs": [],
   "source": []
  }
 ],
 "metadata": {
  "kaggle": {
   "accelerator": "none",
   "dataSources": [],
   "dockerImageVersionId": 30786,
   "isGpuEnabled": false,
   "isInternetEnabled": true,
   "language": "python",
   "sourceType": "notebook"
  },
  "kernelspec": {
   "display_name": "Python 3",
   "language": "python",
   "name": "python3"
  },
  "language_info": {
   "codemirror_mode": {
    "name": "ipython",
    "version": 3
   },
   "file_extension": ".py",
   "mimetype": "text/x-python",
   "name": "python",
   "nbconvert_exporter": "python",
   "pygments_lexer": "ipython3",
   "version": "3.10.14"
  },
  "papermill": {
   "default_parameters": {},
   "duration": 114.540033,
   "end_time": "2024-12-15T15:50:26.927012",
   "environment_variables": {},
   "exception": null,
   "input_path": "__notebook__.ipynb",
   "output_path": "__notebook__.ipynb",
   "parameters": {},
   "start_time": "2024-12-15T15:48:32.386979",
   "version": "2.6.0"
  }
 },
 "nbformat": 4,
 "nbformat_minor": 5
}

{
 "cells": [
  {
   "cell_type": "markdown",
   "id": "5b4c4460",
   "metadata": {
    "papermill": {
     "duration": 0.004916,
     "end_time": "2024-12-16T01:53:18.438547",
     "exception": false,
     "start_time": "2024-12-16T01:53:18.433631",
     "status": "completed"
    },
    "tags": []
   },
   "source": [
    "# Scikit-learn\n"
   ]
  },
  {
   "cell_type": "code",
   "execution_count": 1,
   "id": "1ed89245",
   "metadata": {
    "execution": {
     "iopub.execute_input": "2024-12-16T01:53:18.448883Z",
     "iopub.status.busy": "2024-12-16T01:53:18.448217Z",
     "iopub.status.idle": "2024-12-16T01:53:20.309380Z",
     "shell.execute_reply": "2024-12-16T01:53:20.308180Z"
    },
    "papermill": {
     "duration": 1.869348,
     "end_time": "2024-12-16T01:53:20.312123",
     "exception": false,
     "start_time": "2024-12-16T01:53:18.442775",
     "status": "completed"
    },
    "tags": []
   },
   "outputs": [],
   "source": [
    "from sklearn.datasets import load_iris\n",
    "from sklearn.preprocessing import StandardScaler\n",
    "from sklearn.model_selection import train_test_split\n",
    "from sklearn.ensemble import RandomForestClassifier\n",
    "from sklearn.linear_model import LinearRegression\n",
    "from sklearn.metrics import accuracy_score\n"
   ]
  },
  {
   "cell_type": "code",
   "execution_count": 2,
   "id": "6abde0ee",
   "metadata": {
    "execution": {
     "iopub.execute_input": "2024-12-16T01:53:20.322179Z",
     "iopub.status.busy": "2024-12-16T01:53:20.321640Z",
     "iopub.status.idle": "2024-12-16T01:53:20.335659Z",
     "shell.execute_reply": "2024-12-16T01:53:20.334540Z"
    },
    "papermill": {
     "duration": 0.0217,
     "end_time": "2024-12-16T01:53:20.338110",
     "exception": false,
     "start_time": "2024-12-16T01:53:20.316410",
     "status": "completed"
    },
    "tags": []
   },
   "outputs": [],
   "source": [
    "data = load_iris()\n",
    "\n",
    "x, y = data.data, data.target\n",
    "\n",
    "x_train, x_test, y_train, y_test = train_test_split(x, y, test_size = 0.20, random_state = 42)"
   ]
  },
  {
   "cell_type": "code",
   "execution_count": 3,
   "id": "fd810c8c",
   "metadata": {
    "execution": {
     "iopub.execute_input": "2024-12-16T01:53:20.347823Z",
     "iopub.status.busy": "2024-12-16T01:53:20.347420Z",
     "iopub.status.idle": "2024-12-16T01:53:20.358513Z",
     "shell.execute_reply": "2024-12-16T01:53:20.357326Z"
    },
    "papermill": {
     "duration": 0.018678,
     "end_time": "2024-12-16T01:53:20.360810",
     "exception": false,
     "start_time": "2024-12-16T01:53:20.342132",
     "status": "completed"
    },
    "tags": []
   },
   "outputs": [],
   "source": [
    "scaler = StandardScaler()\n",
    "\n",
    "x_train_scaler = scaler.fit_transform(x_train)\n",
    "\n",
    "x_test_scaler = scaler.transform(x_test)"
   ]
  },
  {
   "cell_type": "markdown",
   "id": "6639d6d2",
   "metadata": {
    "papermill": {
     "duration": 0.003605,
     "end_time": "2024-12-16T01:53:20.368488",
     "exception": false,
     "start_time": "2024-12-16T01:53:20.364883",
     "status": "completed"
    },
    "tags": []
   },
   "source": [
    "# Pipeline"
   ]
  },
  {
   "cell_type": "code",
   "execution_count": 4,
   "id": "0887e198",
   "metadata": {
    "execution": {
     "iopub.execute_input": "2024-12-16T01:53:20.377820Z",
     "iopub.status.busy": "2024-12-16T01:53:20.377409Z",
     "iopub.status.idle": "2024-12-16T01:53:20.385654Z",
     "shell.execute_reply": "2024-12-16T01:53:20.383811Z"
    },
    "papermill": {
     "duration": 0.016031,
     "end_time": "2024-12-16T01:53:20.388394",
     "exception": false,
     "start_time": "2024-12-16T01:53:20.372363",
     "status": "completed"
    },
    "tags": []
   },
   "outputs": [],
   "source": [
    "from sklearn.pipeline import Pipeline\n",
    "from sklearn.preprocessing import StandardScaler\n",
    "from sklearn.linear_model import LogisticRegression\n",
    "from sklearn.datasets import load_iris\n",
    "from sklearn.model_selection import train_test_split"
   ]
  },
  {
   "cell_type": "code",
   "execution_count": 5,
   "id": "b0c69f89",
   "metadata": {
    "execution": {
     "iopub.execute_input": "2024-12-16T01:53:20.398230Z",
     "iopub.status.busy": "2024-12-16T01:53:20.397810Z",
     "iopub.status.idle": "2024-12-16T01:53:20.426622Z",
     "shell.execute_reply": "2024-12-16T01:53:20.425314Z"
    },
    "papermill": {
     "duration": 0.036527,
     "end_time": "2024-12-16T01:53:20.429106",
     "exception": false,
     "start_time": "2024-12-16T01:53:20.392579",
     "status": "completed"
    },
    "tags": []
   },
   "outputs": [
    {
     "name": "stdout",
     "output_type": "stream",
     "text": [
      "Accuracy: 1.00\n"
     ]
    }
   ],
   "source": [
    "# Load data\n",
    "data = load_iris()\n",
    "X_train, X_test, y_train, y_test = train_test_split(data.data, data.target, test_size=0.2, random_state= 42)\n",
    "\n",
    "# Define pipeline\n",
    "pipeline = Pipeline([\n",
    "    ('scaler', StandardScaler()),       # Step 1: Standardize features\n",
    "    ('classifier', LogisticRegression())  # Step 2: Train logistic regression\n",
    "])\n",
    "\n",
    "# Train model\n",
    "pipeline.fit(X_train, y_train)\n",
    "\n",
    "# Make predictions\n",
    "y_pred = pipeline.predict(X_test)\n",
    "\n",
    "# Evaluate\n",
    "print(f\"Accuracy: {pipeline.score(X_test, y_test):.2f}\")\n"
   ]
  },
  {
   "cell_type": "markdown",
   "id": "224fc1ad",
   "metadata": {
    "papermill": {
     "duration": 0.0039,
     "end_time": "2024-12-16T01:53:20.437246",
     "exception": false,
     "start_time": "2024-12-16T01:53:20.433346",
     "status": "completed"
    },
    "tags": []
   },
   "source": [
    "# Keras"
   ]
  },
  {
   "cell_type": "code",
   "execution_count": 6,
   "id": "cbb7cc40",
   "metadata": {
    "execution": {
     "iopub.execute_input": "2024-12-16T01:53:20.448471Z",
     "iopub.status.busy": "2024-12-16T01:53:20.448071Z",
     "iopub.status.idle": "2024-12-16T01:53:35.142747Z",
     "shell.execute_reply": "2024-12-16T01:53:35.141329Z"
    },
    "papermill": {
     "duration": 14.703038,
     "end_time": "2024-12-16T01:53:35.145512",
     "exception": false,
     "start_time": "2024-12-16T01:53:20.442474",
     "status": "completed"
    },
    "tags": []
   },
   "outputs": [],
   "source": [
    "import tensorflow as tf\n",
    "from tensorflow.keras import Sequential\n",
    "from tensorflow.keras.layers import Dense, Flatten\n",
    "from tensorflow.keras.datasets import mnist"
   ]
  },
  {
   "cell_type": "code",
   "execution_count": 7,
   "id": "8e0203b0",
   "metadata": {
    "execution": {
     "iopub.execute_input": "2024-12-16T01:53:35.156108Z",
     "iopub.status.busy": "2024-12-16T01:53:35.155470Z",
     "iopub.status.idle": "2024-12-16T01:53:36.750648Z",
     "shell.execute_reply": "2024-12-16T01:53:36.749454Z"
    },
    "papermill": {
     "duration": 1.603644,
     "end_time": "2024-12-16T01:53:36.753384",
     "exception": false,
     "start_time": "2024-12-16T01:53:35.149740",
     "status": "completed"
    },
    "tags": []
   },
   "outputs": [
    {
     "name": "stdout",
     "output_type": "stream",
     "text": [
      "Downloading data from https://storage.googleapis.com/tensorflow/tf-keras-datasets/mnist.npz\n",
      "\u001b[1m11490434/11490434\u001b[0m \u001b[32m━━━━━━━━━━━━━━━━━━━━\u001b[0m\u001b[37m\u001b[0m \u001b[1m1s\u001b[0m 0us/step\n"
     ]
    }
   ],
   "source": [
    "#load data \n",
    "(x_train, y_train),(x_test, y_test) = mnist.load_data()\n",
    "\n",
    "#normalize\n",
    "(x_train, x_test) = x_train/255.0, x_test/255.0"
   ]
  },
  {
   "cell_type": "code",
   "execution_count": 8,
   "id": "adf9bcae",
   "metadata": {
    "execution": {
     "iopub.execute_input": "2024-12-16T01:53:36.765830Z",
     "iopub.status.busy": "2024-12-16T01:53:36.765452Z",
     "iopub.status.idle": "2024-12-16T01:54:02.654247Z",
     "shell.execute_reply": "2024-12-16T01:54:02.653223Z"
    },
    "papermill": {
     "duration": 25.897523,
     "end_time": "2024-12-16T01:54:02.656353",
     "exception": false,
     "start_time": "2024-12-16T01:53:36.758830",
     "status": "completed"
    },
    "tags": []
   },
   "outputs": [
    {
     "name": "stderr",
     "output_type": "stream",
     "text": [
      "/opt/conda/lib/python3.10/site-packages/keras/src/layers/reshaping/flatten.py:37: UserWarning: Do not pass an `input_shape`/`input_dim` argument to a layer. When using Sequential models, prefer using an `Input(shape)` object as the first layer in the model instead.\n",
      "  super().__init__(**kwargs)\n"
     ]
    },
    {
     "name": "stdout",
     "output_type": "stream",
     "text": [
      "Epoch 1/5\n",
      "\u001b[1m1875/1875\u001b[0m \u001b[32m━━━━━━━━━━━━━━━━━━━━\u001b[0m\u001b[37m\u001b[0m \u001b[1m6s\u001b[0m 3ms/step - accuracy: 0.8791 - loss: 0.4302\n",
      "Epoch 2/5\n",
      "\u001b[1m1875/1875\u001b[0m \u001b[32m━━━━━━━━━━━━━━━━━━━━\u001b[0m\u001b[37m\u001b[0m \u001b[1m5s\u001b[0m 3ms/step - accuracy: 0.9651 - loss: 0.1212\n",
      "Epoch 3/5\n",
      "\u001b[1m1875/1875\u001b[0m \u001b[32m━━━━━━━━━━━━━━━━━━━━\u001b[0m\u001b[37m\u001b[0m \u001b[1m5s\u001b[0m 2ms/step - accuracy: 0.9751 - loss: 0.0829\n",
      "Epoch 4/5\n",
      "\u001b[1m1875/1875\u001b[0m \u001b[32m━━━━━━━━━━━━━━━━━━━━\u001b[0m\u001b[37m\u001b[0m \u001b[1m5s\u001b[0m 3ms/step - accuracy: 0.9827 - loss: 0.0566\n",
      "Epoch 5/5\n",
      "\u001b[1m1875/1875\u001b[0m \u001b[32m━━━━━━━━━━━━━━━━━━━━\u001b[0m\u001b[37m\u001b[0m \u001b[1m5s\u001b[0m 3ms/step - accuracy: 0.9870 - loss: 0.0412\n",
      "\u001b[1m313/313\u001b[0m \u001b[32m━━━━━━━━━━━━━━━━━━━━\u001b[0m\u001b[37m\u001b[0m \u001b[1m1s\u001b[0m 1ms/step - accuracy: 0.9730 - loss: 0.0843\n"
     ]
    },
    {
     "data": {
      "text/plain": [
       "[0.07147861272096634, 0.9775000214576721]"
      ]
     },
     "execution_count": 8,
     "metadata": {},
     "output_type": "execute_result"
    }
   ],
   "source": [
    "# Build the model\n",
    "model = Sequential([\n",
    "    Flatten(input_shape=(28, 28)),\n",
    "    Dense(128, activation='relu'),\n",
    "    Dense(10, activation='softmax')\n",
    "])\n",
    "\n",
    "# Compile the model\n",
    "model.compile(optimizer='adam',\n",
    "              loss ='sparse_categorical_crossentropy',\n",
    "              metrics=['accuracy'])\n",
    "\n",
    "# Train the model\n",
    "model.fit(x_train, y_train, epochs=5)\n",
    "\n",
    "# Evaluate the model\n",
    "model.evaluate(x_test, y_test)"
   ]
  },
  {
   "cell_type": "markdown",
   "id": "13deb776",
   "metadata": {
    "papermill": {
     "duration": 0.031738,
     "end_time": "2024-12-16T01:54:02.721744",
     "exception": false,
     "start_time": "2024-12-16T01:54:02.690006",
     "status": "completed"
    },
    "tags": []
   },
   "source": [
    "# Tensorflow\n"
   ]
  },
  {
   "cell_type": "code",
   "execution_count": 9,
   "id": "6c9b38a4",
   "metadata": {
    "execution": {
     "iopub.execute_input": "2024-12-16T01:54:02.786574Z",
     "iopub.status.busy": "2024-12-16T01:54:02.786158Z",
     "iopub.status.idle": "2024-12-16T01:54:03.279599Z",
     "shell.execute_reply": "2024-12-16T01:54:03.277846Z"
    },
    "papermill": {
     "duration": 0.529568,
     "end_time": "2024-12-16T01:54:03.282776",
     "exception": false,
     "start_time": "2024-12-16T01:54:02.753208",
     "status": "completed"
    },
    "tags": []
   },
   "outputs": [],
   "source": [
    "import tensorflow as tf\n",
    "from tensorflow.keras.datasets import mnist\n",
    "\n",
    "#load and preprocess data\n",
    "\n",
    "(x_train, y_train),(x_test, y_test) = mnist.load_data()\n",
    "x_train, x_test = x_train/255.0, x_test/255.0\n",
    "\n",
    "#convert the label to one hot encoding\n",
    "x_train = tf.one_hot(y_train, depth = 10).numpy()\n",
    "x_test = tf.one_hot(y_test, depth = 10).numpy()\n",
    "\n",
    "\n",
    "#define the model\n",
    "class NeuralNetwork(tf.keras.Model):\n",
    "    def __init__(self):\n",
    "        super() .__init__()\n",
    "        self.flatten = tf.keras.layers.Flatten()\n",
    "        self.dense1 = tf.keras.layers.Dense(128, activation = 'relu')\n",
    "        self.dense2 = tf.keras.layers.Dense(10, activation = 'softmax')\n",
    "\n",
    "    def call(self, x):\n",
    "        x = self.flatten(x)\n",
    "        x = self.dense1(x)\n",
    "        return self.dense2(x)\n",
    "\n",
    "Model = NeuralNetwork()\n",
    "\n",
    "#define loss and optimizer\n",
    "loss_fn = tf.keras.losses.CategoricalCrossentropy()\n",
    "optimizer = tf.optimizers.Adam()\n",
    "\n",
    "\n"
   ]
  },
  {
   "cell_type": "markdown",
   "id": "15b80f53",
   "metadata": {
    "papermill": {
     "duration": 0.036396,
     "end_time": "2024-12-16T01:54:03.352655",
     "exception": false,
     "start_time": "2024-12-16T01:54:03.316259",
     "status": "completed"
    },
    "tags": []
   },
   "source": [
    "# PyTorch"
   ]
  },
  {
   "cell_type": "code",
   "execution_count": 10,
   "id": "5d363f18",
   "metadata": {
    "execution": {
     "iopub.execute_input": "2024-12-16T01:54:03.433222Z",
     "iopub.status.busy": "2024-12-16T01:54:03.432712Z",
     "iopub.status.idle": "2024-12-16T01:54:15.350152Z",
     "shell.execute_reply": "2024-12-16T01:54:15.348961Z"
    },
    "papermill": {
     "duration": 11.963034,
     "end_time": "2024-12-16T01:54:15.352568",
     "exception": false,
     "start_time": "2024-12-16T01:54:03.389534",
     "status": "completed"
    },
    "tags": []
   },
   "outputs": [
    {
     "name": "stdout",
     "output_type": "stream",
     "text": [
      "Downloading http://yann.lecun.com/exdb/mnist/train-images-idx3-ubyte.gz\n",
      "Failed to download (trying next):\n",
      "HTTP Error 403: Forbidden\n",
      "\n",
      "Downloading https://ossci-datasets.s3.amazonaws.com/mnist/train-images-idx3-ubyte.gz\n",
      "Downloading https://ossci-datasets.s3.amazonaws.com/mnist/train-images-idx3-ubyte.gz to ./data/MNIST/raw/train-images-idx3-ubyte.gz\n"
     ]
    },
    {
     "name": "stderr",
     "output_type": "stream",
     "text": [
      "100%|██████████| 9912422/9912422 [00:00<00:00, 12777998.93it/s]\n"
     ]
    },
    {
     "name": "stdout",
     "output_type": "stream",
     "text": [
      "Extracting ./data/MNIST/raw/train-images-idx3-ubyte.gz to ./data/MNIST/raw\n",
      "\n",
      "Downloading http://yann.lecun.com/exdb/mnist/train-labels-idx1-ubyte.gz\n",
      "Failed to download (trying next):\n",
      "HTTP Error 403: Forbidden\n",
      "\n",
      "Downloading https://ossci-datasets.s3.amazonaws.com/mnist/train-labels-idx1-ubyte.gz\n",
      "Downloading https://ossci-datasets.s3.amazonaws.com/mnist/train-labels-idx1-ubyte.gz to ./data/MNIST/raw/train-labels-idx1-ubyte.gz\n"
     ]
    },
    {
     "name": "stderr",
     "output_type": "stream",
     "text": [
      "100%|██████████| 28881/28881 [00:00<00:00, 338434.98it/s]\n"
     ]
    },
    {
     "name": "stdout",
     "output_type": "stream",
     "text": [
      "Extracting ./data/MNIST/raw/train-labels-idx1-ubyte.gz to ./data/MNIST/raw\n",
      "\n",
      "Downloading http://yann.lecun.com/exdb/mnist/t10k-images-idx3-ubyte.gz\n",
      "Failed to download (trying next):\n",
      "HTTP Error 403: Forbidden\n",
      "\n",
      "Downloading https://ossci-datasets.s3.amazonaws.com/mnist/t10k-images-idx3-ubyte.gz\n",
      "Downloading https://ossci-datasets.s3.amazonaws.com/mnist/t10k-images-idx3-ubyte.gz to ./data/MNIST/raw/t10k-images-idx3-ubyte.gz\n"
     ]
    },
    {
     "name": "stderr",
     "output_type": "stream",
     "text": [
      "100%|██████████| 1648877/1648877 [00:00<00:00, 3184912.69it/s]\n"
     ]
    },
    {
     "name": "stdout",
     "output_type": "stream",
     "text": [
      "Extracting ./data/MNIST/raw/t10k-images-idx3-ubyte.gz to ./data/MNIST/raw\n",
      "\n",
      "Downloading http://yann.lecun.com/exdb/mnist/t10k-labels-idx1-ubyte.gz\n",
      "Failed to download (trying next):\n",
      "HTTP Error 403: Forbidden\n",
      "\n",
      "Downloading https://ossci-datasets.s3.amazonaws.com/mnist/t10k-labels-idx1-ubyte.gz\n",
      "Downloading https://ossci-datasets.s3.amazonaws.com/mnist/t10k-labels-idx1-ubyte.gz to ./data/MNIST/raw/t10k-labels-idx1-ubyte.gz\n"
     ]
    },
    {
     "name": "stderr",
     "output_type": "stream",
     "text": [
      "100%|██████████| 4542/4542 [00:00<00:00, 2109225.95it/s]"
     ]
    },
    {
     "name": "stdout",
     "output_type": "stream",
     "text": [
      "Extracting ./data/MNIST/raw/t10k-labels-idx1-ubyte.gz to ./data/MNIST/raw\n",
      "\n"
     ]
    },
    {
     "name": "stderr",
     "output_type": "stream",
     "text": [
      "\n"
     ]
    }
   ],
   "source": [
    "import torch\n",
    "import torch.nn as nn\n",
    "import torch.optim as optim\n",
    "from torchvision import datasets, transforms\n",
    "from torch.utils.data import DataLoader\n",
    "\n",
    "# Load and preprocess data\n",
    "transform = transforms.ToTensor()\n",
    "train_dataset = datasets.MNIST(root='./data', train=True, transform=transform, download=True)\n",
    "test_dataset = datasets.MNIST(root='./data', train=False, transform=transform)\n",
    "\n",
    "train_loader = DataLoader(train_dataset, batch_size=64, shuffle=True)\n",
    "test_loader = DataLoader(test_dataset, batch_size=64, shuffle=False)\n",
    "\n",
    "# Define the model\n",
    "class NeuralNetwork(nn.Module):\n",
    "    def __init__(self):\n",
    "        super(NeuralNetwork, self).__init__()\n",
    "        self.flatten = nn.Flatten()\n",
    "        self.fc1 = nn.Linear(28 * 28, 128)\n",
    "        self.relu = nn.ReLU()\n",
    "        self.fc2 = nn.Linear(128, 10)\n",
    "        self.softmax = nn.Softmax(dim=1)\n",
    "\n",
    "    def forward(self, x):\n",
    "        x = self.flatten(x)\n",
    "        x = self.relu(self.fc1(x))\n",
    "        x = self.softmax(self.fc2(x))\n",
    "        return x"
   ]
  },
  {
   "cell_type": "code",
   "execution_count": 11,
   "id": "fdf6b5a9",
   "metadata": {
    "execution": {
     "iopub.execute_input": "2024-12-16T01:54:15.421395Z",
     "iopub.status.busy": "2024-12-16T01:54:15.420504Z",
     "iopub.status.idle": "2024-12-16T01:54:15.440843Z",
     "shell.execute_reply": "2024-12-16T01:54:15.439719Z"
    },
    "papermill": {
     "duration": 0.057365,
     "end_time": "2024-12-16T01:54:15.443256",
     "exception": false,
     "start_time": "2024-12-16T01:54:15.385891",
     "status": "completed"
    },
    "tags": []
   },
   "outputs": [],
   "source": [
    "model = NeuralNetwork()\n",
    "\n",
    "# Define loss and optimizer\n",
    "criterion = nn.CrossEntropyLoss()\n",
    "optimizer = optim.Adam(model.parameters(), lr=0.001)\n"
   ]
  },
  {
   "cell_type": "code",
   "execution_count": 12,
   "id": "1e8dd8a5",
   "metadata": {
    "execution": {
     "iopub.execute_input": "2024-12-16T01:54:15.512804Z",
     "iopub.status.busy": "2024-12-16T01:54:15.512397Z",
     "iopub.status.idle": "2024-12-16T01:55:01.728615Z",
     "shell.execute_reply": "2024-12-16T01:55:01.727367Z"
    },
    "papermill": {
     "duration": 46.286439,
     "end_time": "2024-12-16T01:55:01.764041",
     "exception": false,
     "start_time": "2024-12-16T01:54:15.477602",
     "status": "completed"
    },
    "tags": []
   },
   "outputs": [
    {
     "name": "stdout",
     "output_type": "stream",
     "text": [
      "Accuracy: 96.64%\n"
     ]
    }
   ],
   "source": [
    "# Training loop\n",
    "for epoch in range(5):\n",
    "    for images, labels in train_loader:\n",
    "        # Forward pass\n",
    "        outputs = model(images)\n",
    "        loss = criterion(outputs, labels)\n",
    "\n",
    "        # Backward pass\n",
    "        optimizer.zero_grad()\n",
    "        loss.backward()\n",
    "        optimizer.step()\n",
    "\n",
    "# Evaluate the model\n",
    "correct = 0\n",
    "total = 0\n",
    "with torch.no_grad():\n",
    "    for images, labels in test_loader:\n",
    "        outputs = model(images)\n",
    "        _, predicted = torch.max(outputs, 1)\n",
    "        total += labels.size(0)\n",
    "        correct += (predicted == labels).sum().item()\n",
    "\n",
    "print(f\"Accuracy: {100 * correct / total}%\")"
   ]
  },
  {
   "cell_type": "code",
   "execution_count": null,
   "id": "7b10aa97",
   "metadata": {
    "papermill": {
     "duration": 0.032993,
     "end_time": "2024-12-16T01:55:01.830716",
     "exception": false,
     "start_time": "2024-12-16T01:55:01.797723",
     "status": "completed"
    },
    "tags": []
   },
   "outputs": [],
   "source": []
  }
 ],
 "metadata": {
  "kaggle": {
   "accelerator": "none",
   "dataSources": [],
   "dockerImageVersionId": 30786,
   "isGpuEnabled": false,
   "isInternetEnabled": true,
   "language": "python",
   "sourceType": "notebook"
  },
  "kernelspec": {
   "display_name": "Python 3",
   "language": "python",
   "name": "python3"
  },
  "language_info": {
   "codemirror_mode": {
    "name": "ipython",
    "version": 3
   },
   "file_extension": ".py",
   "mimetype": "text/x-python",
   "name": "python",
   "nbconvert_exporter": "python",
   "pygments_lexer": "ipython3",
   "version": "3.10.14"
  },
  "papermill": {
   "default_parameters": {},
   "duration": 108.563702,
   "end_time": "2024-12-16T01:55:04.191791",
   "environment_variables": {},
   "exception": null,
   "input_path": "__notebook__.ipynb",
   "output_path": "__notebook__.ipynb",
   "parameters": {},
   "start_time": "2024-12-16T01:53:15.628089",
   "version": "2.6.0"
  }
 },
 "nbformat": 4,
 "nbformat_minor": 5
}

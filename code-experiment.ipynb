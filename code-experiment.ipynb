{
 "cells": [
  {
   "cell_type": "markdown",
   "id": "9c9ea5ca",
   "metadata": {
    "papermill": {
     "duration": 0.004327,
     "end_time": "2024-12-13T09:41:04.304526",
     "exception": false,
     "start_time": "2024-12-13T09:41:04.300199",
     "status": "completed"
    },
    "tags": []
   },
   "source": [
    "# Scikit-learn\n"
   ]
  },
  {
   "cell_type": "code",
   "execution_count": 1,
   "id": "94f31cd8",
   "metadata": {
    "execution": {
     "iopub.execute_input": "2024-12-13T09:41:04.313417Z",
     "iopub.status.busy": "2024-12-13T09:41:04.313039Z",
     "iopub.status.idle": "2024-12-13T09:41:05.850010Z",
     "shell.execute_reply": "2024-12-13T09:41:05.849169Z"
    },
    "papermill": {
     "duration": 1.543996,
     "end_time": "2024-12-13T09:41:05.852271",
     "exception": false,
     "start_time": "2024-12-13T09:41:04.308275",
     "status": "completed"
    },
    "tags": []
   },
   "outputs": [],
   "source": [
    "from sklearn.model_selection import train_test_split\n",
    "from sklearn.preprocessing import StandardScaler\n",
    "from sklearn.ensemble import RandomForestClassifier\n",
    "from sklearn.metrics import accuracy_score"
   ]
  },
  {
   "cell_type": "code",
   "execution_count": 2,
   "id": "234e702a",
   "metadata": {
    "execution": {
     "iopub.execute_input": "2024-12-13T09:41:05.861166Z",
     "iopub.status.busy": "2024-12-13T09:41:05.860694Z",
     "iopub.status.idle": "2024-12-13T09:41:05.965805Z",
     "shell.execute_reply": "2024-12-13T09:41:05.964985Z"
    },
    "papermill": {
     "duration": 0.111973,
     "end_time": "2024-12-13T09:41:05.968041",
     "exception": false,
     "start_time": "2024-12-13T09:41:05.856068",
     "status": "completed"
    },
    "tags": []
   },
   "outputs": [],
   "source": [
    "from sklearn.datasets import load_iris\n",
    "\n",
    "data = load_iris()\n",
    "x, y = data.data, data.target\n",
    "\n",
    "x_train, x_test, y_train, y_tes = train_test_split(x,y, test_size = 0.20, random_state = 54)"
   ]
  },
  {
   "cell_type": "code",
   "execution_count": 3,
   "id": "21c6005d",
   "metadata": {
    "execution": {
     "iopub.execute_input": "2024-12-13T09:41:05.976400Z",
     "iopub.status.busy": "2024-12-13T09:41:05.976071Z",
     "iopub.status.idle": "2024-12-13T09:41:05.985271Z",
     "shell.execute_reply": "2024-12-13T09:41:05.984218Z"
    },
    "papermill": {
     "duration": 0.015628,
     "end_time": "2024-12-13T09:41:05.987238",
     "exception": false,
     "start_time": "2024-12-13T09:41:05.971610",
     "status": "completed"
    },
    "tags": []
   },
   "outputs": [],
   "source": [
    "scaler = StandardScaler()\n",
    "\n",
    "x_train_scaled = scaler.fit_transform(x_train)\n",
    "x_test_scaled = scaler.transform(x_test)"
   ]
  },
  {
   "cell_type": "markdown",
   "id": "79e7e0b4",
   "metadata": {
    "papermill": {
     "duration": 0.003409,
     "end_time": "2024-12-13T09:41:05.994401",
     "exception": false,
     "start_time": "2024-12-13T09:41:05.990992",
     "status": "completed"
    },
    "tags": []
   },
   "source": [
    "# Pipeline"
   ]
  },
  {
   "cell_type": "code",
   "execution_count": 4,
   "id": "5e7732d3",
   "metadata": {
    "execution": {
     "iopub.execute_input": "2024-12-13T09:41:06.003283Z",
     "iopub.status.busy": "2024-12-13T09:41:06.002495Z",
     "iopub.status.idle": "2024-12-13T09:41:06.009995Z",
     "shell.execute_reply": "2024-12-13T09:41:06.009033Z"
    },
    "papermill": {
     "duration": 0.014023,
     "end_time": "2024-12-13T09:41:06.011945",
     "exception": false,
     "start_time": "2024-12-13T09:41:05.997922",
     "status": "completed"
    },
    "tags": []
   },
   "outputs": [],
   "source": [
    "from sklearn.pipeline import Pipeline\n",
    "from sklearn.preprocessing import StandardScaler\n",
    "from sklearn.linear_model import LogisticRegression\n",
    "from sklearn.datasets import load_iris\n",
    "from sklearn.model_selection import train_test_split"
   ]
  },
  {
   "cell_type": "code",
   "execution_count": 5,
   "id": "af5314b8",
   "metadata": {
    "execution": {
     "iopub.execute_input": "2024-12-13T09:41:06.020643Z",
     "iopub.status.busy": "2024-12-13T09:41:06.020299Z",
     "iopub.status.idle": "2024-12-13T09:41:06.049329Z",
     "shell.execute_reply": "2024-12-13T09:41:06.048178Z"
    },
    "papermill": {
     "duration": 0.035768,
     "end_time": "2024-12-13T09:41:06.051503",
     "exception": false,
     "start_time": "2024-12-13T09:41:06.015735",
     "status": "completed"
    },
    "tags": []
   },
   "outputs": [
    {
     "name": "stdout",
     "output_type": "stream",
     "text": [
      "Accuracy: 1.00\n"
     ]
    }
   ],
   "source": [
    "# Load data\n",
    "data = load_iris()\n",
    "X_train, X_test, y_train, y_test = train_test_split(data.data, data.target, test_size=0.2, random_state= 42)\n",
    "\n",
    "# Define pipeline\n",
    "pipeline = Pipeline([\n",
    "    ('scaler', StandardScaler()),       # Step 1: Standardize features\n",
    "    ('classifier', LogisticRegression())  # Step 2: Train logistic regression\n",
    "])\n",
    "\n",
    "# Train model\n",
    "pipeline.fit(X_train, y_train)\n",
    "\n",
    "# Make predictions\n",
    "y_pred = pipeline.predict(X_test)\n",
    "\n",
    "# Evaluate\n",
    "print(f\"Accuracy: {pipeline.score(X_test, y_test):.2f}\")\n"
   ]
  },
  {
   "cell_type": "markdown",
   "id": "eef34ea5",
   "metadata": {
    "papermill": {
     "duration": 0.003419,
     "end_time": "2024-12-13T09:41:06.058735",
     "exception": false,
     "start_time": "2024-12-13T09:41:06.055316",
     "status": "completed"
    },
    "tags": []
   },
   "source": [
    "# Keras"
   ]
  },
  {
   "cell_type": "code",
   "execution_count": 6,
   "id": "4bc71635",
   "metadata": {
    "execution": {
     "iopub.execute_input": "2024-12-13T09:41:06.069245Z",
     "iopub.status.busy": "2024-12-13T09:41:06.068881Z",
     "iopub.status.idle": "2024-12-13T09:41:18.969390Z",
     "shell.execute_reply": "2024-12-13T09:41:18.968560Z"
    },
    "papermill": {
     "duration": 12.908271,
     "end_time": "2024-12-13T09:41:18.971727",
     "exception": false,
     "start_time": "2024-12-13T09:41:06.063456",
     "status": "completed"
    },
    "tags": []
   },
   "outputs": [],
   "source": [
    "import tensorflow as tf\n",
    "from tensorflow.keras import Sequential\n",
    "from tensorflow.keras.layers import Dense, Flatten\n",
    "from tensorflow.keras.datasets import mnist"
   ]
  },
  {
   "cell_type": "code",
   "execution_count": 7,
   "id": "309f4565",
   "metadata": {
    "execution": {
     "iopub.execute_input": "2024-12-13T09:41:18.980922Z",
     "iopub.status.busy": "2024-12-13T09:41:18.980285Z",
     "iopub.status.idle": "2024-12-13T09:41:20.902048Z",
     "shell.execute_reply": "2024-12-13T09:41:20.900875Z"
    },
    "papermill": {
     "duration": 1.929012,
     "end_time": "2024-12-13T09:41:20.904564",
     "exception": false,
     "start_time": "2024-12-13T09:41:18.975552",
     "status": "completed"
    },
    "tags": []
   },
   "outputs": [
    {
     "name": "stdout",
     "output_type": "stream",
     "text": [
      "Downloading data from https://storage.googleapis.com/tensorflow/tf-keras-datasets/mnist.npz\n",
      "\u001b[1m11490434/11490434\u001b[0m \u001b[32m━━━━━━━━━━━━━━━━━━━━\u001b[0m\u001b[37m\u001b[0m \u001b[1m1s\u001b[0m 0us/step\n"
     ]
    }
   ],
   "source": [
    "#load data \n",
    "(x_train, y_train),(x_test, y_test) = mnist.load_data()\n",
    "\n",
    "#normalize\n",
    "(x_train, x_test) = x_train/255.0, x_test/255.0"
   ]
  },
  {
   "cell_type": "code",
   "execution_count": 8,
   "id": "c2394733",
   "metadata": {
    "execution": {
     "iopub.execute_input": "2024-12-13T09:41:20.916130Z",
     "iopub.status.busy": "2024-12-13T09:41:20.915776Z",
     "iopub.status.idle": "2024-12-13T09:41:40.239866Z",
     "shell.execute_reply": "2024-12-13T09:41:40.238900Z"
    },
    "papermill": {
     "duration": 19.332252,
     "end_time": "2024-12-13T09:41:40.242106",
     "exception": false,
     "start_time": "2024-12-13T09:41:20.909854",
     "status": "completed"
    },
    "tags": []
   },
   "outputs": [
    {
     "name": "stderr",
     "output_type": "stream",
     "text": [
      "/opt/conda/lib/python3.10/site-packages/keras/src/layers/reshaping/flatten.py:37: UserWarning: Do not pass an `input_shape`/`input_dim` argument to a layer. When using Sequential models, prefer using an `Input(shape)` object as the first layer in the model instead.\n",
      "  super().__init__(**kwargs)\n"
     ]
    },
    {
     "name": "stdout",
     "output_type": "stream",
     "text": [
      "Epoch 1/5\n",
      "\u001b[1m1875/1875\u001b[0m \u001b[32m━━━━━━━━━━━━━━━━━━━━\u001b[0m\u001b[37m\u001b[0m \u001b[1m4s\u001b[0m 2ms/step - accuracy: 0.8781 - loss: 0.4263\n",
      "Epoch 2/5\n",
      "\u001b[1m1875/1875\u001b[0m \u001b[32m━━━━━━━━━━━━━━━━━━━━\u001b[0m\u001b[37m\u001b[0m \u001b[1m3s\u001b[0m 2ms/step - accuracy: 0.9640 - loss: 0.1175\n",
      "Epoch 3/5\n",
      "\u001b[1m1875/1875\u001b[0m \u001b[32m━━━━━━━━━━━━━━━━━━━━\u001b[0m\u001b[37m\u001b[0m \u001b[1m3s\u001b[0m 2ms/step - accuracy: 0.9749 - loss: 0.0807\n",
      "Epoch 4/5\n",
      "\u001b[1m1875/1875\u001b[0m \u001b[32m━━━━━━━━━━━━━━━━━━━━\u001b[0m\u001b[37m\u001b[0m \u001b[1m4s\u001b[0m 2ms/step - accuracy: 0.9835 - loss: 0.0540\n",
      "Epoch 5/5\n",
      "\u001b[1m1875/1875\u001b[0m \u001b[32m━━━━━━━━━━━━━━━━━━━━\u001b[0m\u001b[37m\u001b[0m \u001b[1m3s\u001b[0m 2ms/step - accuracy: 0.9875 - loss: 0.0418\n",
      "\u001b[1m313/313\u001b[0m \u001b[32m━━━━━━━━━━━━━━━━━━━━\u001b[0m\u001b[37m\u001b[0m \u001b[1m0s\u001b[0m 1ms/step - accuracy: 0.9736 - loss: 0.0817\n"
     ]
    },
    {
     "data": {
      "text/plain": [
       "[0.0706992968916893, 0.9768000245094299]"
      ]
     },
     "execution_count": 8,
     "metadata": {},
     "output_type": "execute_result"
    }
   ],
   "source": [
    "# Build the model\n",
    "model = Sequential([\n",
    "    Flatten(input_shape=(28, 28)),\n",
    "    Dense(128, activation='relu'),\n",
    "    Dense(10, activation='softmax')\n",
    "])\n",
    "\n",
    "# Compile the model\n",
    "model.compile(optimizer='adam',\n",
    "              loss ='sparse_categorical_crossentropy',\n",
    "              metrics=['accuracy'])\n",
    "\n",
    "# Train the model\n",
    "model.fit(x_train, y_train, epochs=5)\n",
    "\n",
    "# Evaluate the model\n",
    "model.evaluate(x_test, y_test)"
   ]
  },
  {
   "cell_type": "markdown",
   "id": "7d81697e",
   "metadata": {
    "papermill": {
     "duration": 0.024319,
     "end_time": "2024-12-13T09:41:40.292156",
     "exception": false,
     "start_time": "2024-12-13T09:41:40.267837",
     "status": "completed"
    },
    "tags": []
   },
   "source": [
    "# Tensorflow\n"
   ]
  },
  {
   "cell_type": "code",
   "execution_count": 9,
   "id": "adf59411",
   "metadata": {
    "execution": {
     "iopub.execute_input": "2024-12-13T09:41:40.342785Z",
     "iopub.status.busy": "2024-12-13T09:41:40.341790Z",
     "iopub.status.idle": "2024-12-13T09:41:40.785511Z",
     "shell.execute_reply": "2024-12-13T09:41:40.784676Z"
    },
    "papermill": {
     "duration": 0.471374,
     "end_time": "2024-12-13T09:41:40.787781",
     "exception": false,
     "start_time": "2024-12-13T09:41:40.316407",
     "status": "completed"
    },
    "tags": []
   },
   "outputs": [],
   "source": [
    "import tensorflow as tf\n",
    "from tensorflow.keras.datasets import mnist\n",
    "\n",
    "#load and preprocess data\n",
    "\n",
    "(x_train, y_train),(test, y_test) = mnist.load_data()\n",
    "x_train, x_test = x_train / 255.0, x_test /255.0\n",
    "\n",
    "\n",
    "#convert labels to one-hot encoding \n",
    "\n",
    "y_train = tf.one_hot(y_train,depth =10).numpy()\n",
    "y_test = tf.one_hot(y_test, depth = 10).numpy()"
   ]
  },
  {
   "cell_type": "markdown",
   "id": "f9aee1f4",
   "metadata": {
    "papermill": {
     "duration": 0.022963,
     "end_time": "2024-12-13T09:41:40.834155",
     "exception": false,
     "start_time": "2024-12-13T09:41:40.811192",
     "status": "completed"
    },
    "tags": []
   },
   "source": [
    "# PyTorch"
   ]
  },
  {
   "cell_type": "code",
   "execution_count": 10,
   "id": "7018f1ea",
   "metadata": {
    "execution": {
     "iopub.execute_input": "2024-12-13T09:41:40.882236Z",
     "iopub.status.busy": "2024-12-13T09:41:40.881430Z",
     "iopub.status.idle": "2024-12-13T09:41:58.001660Z",
     "shell.execute_reply": "2024-12-13T09:41:58.000403Z"
    },
    "papermill": {
     "duration": 17.147026,
     "end_time": "2024-12-13T09:41:58.004144",
     "exception": false,
     "start_time": "2024-12-13T09:41:40.857118",
     "status": "completed"
    },
    "tags": []
   },
   "outputs": [
    {
     "name": "stdout",
     "output_type": "stream",
     "text": [
      "Downloading http://yann.lecun.com/exdb/mnist/train-images-idx3-ubyte.gz\n",
      "Failed to download (trying next):\n",
      "HTTP Error 403: Forbidden\n",
      "\n",
      "Downloading https://ossci-datasets.s3.amazonaws.com/mnist/train-images-idx3-ubyte.gz\n",
      "Downloading https://ossci-datasets.s3.amazonaws.com/mnist/train-images-idx3-ubyte.gz to ./data/MNIST/raw/train-images-idx3-ubyte.gz\n"
     ]
    },
    {
     "name": "stderr",
     "output_type": "stream",
     "text": [
      "100%|██████████| 9912422/9912422 [00:01<00:00, 6065799.45it/s] \n"
     ]
    },
    {
     "name": "stdout",
     "output_type": "stream",
     "text": [
      "Extracting ./data/MNIST/raw/train-images-idx3-ubyte.gz to ./data/MNIST/raw\n",
      "\n",
      "Downloading http://yann.lecun.com/exdb/mnist/train-labels-idx1-ubyte.gz\n",
      "Failed to download (trying next):\n",
      "HTTP Error 403: Forbidden\n",
      "\n",
      "Downloading https://ossci-datasets.s3.amazonaws.com/mnist/train-labels-idx1-ubyte.gz\n",
      "Downloading https://ossci-datasets.s3.amazonaws.com/mnist/train-labels-idx1-ubyte.gz to ./data/MNIST/raw/train-labels-idx1-ubyte.gz\n"
     ]
    },
    {
     "name": "stderr",
     "output_type": "stream",
     "text": [
      "100%|██████████| 28881/28881 [00:00<00:00, 159155.78it/s]\n"
     ]
    },
    {
     "name": "stdout",
     "output_type": "stream",
     "text": [
      "Extracting ./data/MNIST/raw/train-labels-idx1-ubyte.gz to ./data/MNIST/raw\n",
      "\n",
      "Downloading http://yann.lecun.com/exdb/mnist/t10k-images-idx3-ubyte.gz\n",
      "Failed to download (trying next):\n",
      "HTTP Error 403: Forbidden\n",
      "\n",
      "Downloading https://ossci-datasets.s3.amazonaws.com/mnist/t10k-images-idx3-ubyte.gz\n",
      "Downloading https://ossci-datasets.s3.amazonaws.com/mnist/t10k-images-idx3-ubyte.gz to ./data/MNIST/raw/t10k-images-idx3-ubyte.gz\n"
     ]
    },
    {
     "name": "stderr",
     "output_type": "stream",
     "text": [
      "100%|██████████| 1648877/1648877 [00:01<00:00, 1513823.35it/s]\n"
     ]
    },
    {
     "name": "stdout",
     "output_type": "stream",
     "text": [
      "Extracting ./data/MNIST/raw/t10k-images-idx3-ubyte.gz to ./data/MNIST/raw\n",
      "\n",
      "Downloading http://yann.lecun.com/exdb/mnist/t10k-labels-idx1-ubyte.gz\n",
      "Failed to download (trying next):\n",
      "HTTP Error 403: Forbidden\n",
      "\n",
      "Downloading https://ossci-datasets.s3.amazonaws.com/mnist/t10k-labels-idx1-ubyte.gz\n",
      "Downloading https://ossci-datasets.s3.amazonaws.com/mnist/t10k-labels-idx1-ubyte.gz to ./data/MNIST/raw/t10k-labels-idx1-ubyte.gz\n"
     ]
    },
    {
     "name": "stderr",
     "output_type": "stream",
     "text": [
      "100%|██████████| 4542/4542 [00:00<00:00, 2654755.96it/s]"
     ]
    },
    {
     "name": "stdout",
     "output_type": "stream",
     "text": [
      "Extracting ./data/MNIST/raw/t10k-labels-idx1-ubyte.gz to ./data/MNIST/raw\n",
      "\n"
     ]
    },
    {
     "name": "stderr",
     "output_type": "stream",
     "text": [
      "\n"
     ]
    }
   ],
   "source": [
    "import torch\n",
    "import torch.nn as nn\n",
    "import torch.optim as optim\n",
    "from torchvision import datasets, transforms\n",
    "from torch.utils.data import DataLoader\n",
    "\n",
    "# Load and preprocess data\n",
    "transform = transforms.ToTensor()\n",
    "train_dataset = datasets.MNIST(root='./data', train=True, transform=transform, download=True)\n",
    "test_dataset = datasets.MNIST(root='./data', train=False, transform=transform)\n",
    "\n",
    "train_loader = DataLoader(train_dataset, batch_size=64, shuffle=True)\n",
    "test_loader = DataLoader(test_dataset, batch_size=64, shuffle=False)\n",
    "\n",
    "# Define the model\n",
    "class NeuralNetwork(nn.Module):\n",
    "    def __init__(self):\n",
    "        super(NeuralNetwork, self).__init__()\n",
    "        self.flatten = nn.Flatten()\n",
    "        self.fc1 = nn.Linear(28 * 28, 128)\n",
    "        self.relu = nn.ReLU()\n",
    "        self.fc2 = nn.Linear(128, 10)\n",
    "        self.softmax = nn.Softmax(dim=1)\n",
    "\n",
    "    def forward(self, x):\n",
    "        x = self.flatten(x)\n",
    "        x = self.relu(self.fc1(x))\n",
    "        x = self.softmax(self.fc2(x))\n",
    "        return x"
   ]
  },
  {
   "cell_type": "code",
   "execution_count": 11,
   "id": "ab9ba972",
   "metadata": {
    "execution": {
     "iopub.execute_input": "2024-12-13T09:41:58.060217Z",
     "iopub.status.busy": "2024-12-13T09:41:58.058773Z",
     "iopub.status.idle": "2024-12-13T09:41:58.076577Z",
     "shell.execute_reply": "2024-12-13T09:41:58.075545Z"
    },
    "papermill": {
     "duration": 0.049135,
     "end_time": "2024-12-13T09:41:58.078832",
     "exception": false,
     "start_time": "2024-12-13T09:41:58.029697",
     "status": "completed"
    },
    "tags": []
   },
   "outputs": [],
   "source": [
    "model = NeuralNetwork()\n",
    "\n",
    "# Define loss and optimizer\n",
    "criterion = nn.CrossEntropyLoss()\n",
    "optimizer = optim.Adam(model.parameters(), lr=0.001)\n"
   ]
  },
  {
   "cell_type": "code",
   "execution_count": 12,
   "id": "959ae6d1",
   "metadata": {
    "execution": {
     "iopub.execute_input": "2024-12-13T09:41:58.131697Z",
     "iopub.status.busy": "2024-12-13T09:41:58.131310Z",
     "iopub.status.idle": "2024-12-13T09:42:38.655924Z",
     "shell.execute_reply": "2024-12-13T09:42:38.654919Z"
    },
    "papermill": {
     "duration": 40.578875,
     "end_time": "2024-12-13T09:42:38.683602",
     "exception": false,
     "start_time": "2024-12-13T09:41:58.104727",
     "status": "completed"
    },
    "tags": []
   },
   "outputs": [
    {
     "name": "stdout",
     "output_type": "stream",
     "text": [
      "Accuracy: 96.13%\n"
     ]
    }
   ],
   "source": [
    "# Training loop\n",
    "for epoch in range(5):\n",
    "    for images, labels in train_loader:\n",
    "        # Forward pass\n",
    "        outputs = model(images)\n",
    "        loss = criterion(outputs, labels)\n",
    "\n",
    "        # Backward pass\n",
    "        optimizer.zero_grad()\n",
    "        loss.backward()\n",
    "        optimizer.step()\n",
    "\n",
    "# Evaluate the model\n",
    "correct = 0\n",
    "total = 0\n",
    "with torch.no_grad():\n",
    "    for images, labels in test_loader:\n",
    "        outputs = model(images)\n",
    "        _, predicted = torch.max(outputs, 1)\n",
    "        total += labels.size(0)\n",
    "        correct += (predicted == labels).sum().item()\n",
    "\n",
    "print(f\"Accuracy: {100 * correct / total}%\")"
   ]
  },
  {
   "cell_type": "code",
   "execution_count": null,
   "id": "29cd35a4",
   "metadata": {
    "papermill": {
     "duration": 0.025039,
     "end_time": "2024-12-13T09:42:38.733936",
     "exception": false,
     "start_time": "2024-12-13T09:42:38.708897",
     "status": "completed"
    },
    "tags": []
   },
   "outputs": [],
   "source": []
  }
 ],
 "metadata": {
  "kaggle": {
   "accelerator": "none",
   "dataSources": [],
   "dockerImageVersionId": 30786,
   "isGpuEnabled": false,
   "isInternetEnabled": true,
   "language": "python",
   "sourceType": "notebook"
  },
  "kernelspec": {
   "display_name": "Python 3",
   "language": "python",
   "name": "python3"
  },
  "language_info": {
   "codemirror_mode": {
    "name": "ipython",
    "version": 3
   },
   "file_extension": ".py",
   "mimetype": "text/x-python",
   "name": "python",
   "nbconvert_exporter": "python",
   "pygments_lexer": "ipython3",
   "version": "3.10.14"
  },
  "papermill": {
   "default_parameters": {},
   "duration": 99.474795,
   "end_time": "2024-12-13T09:42:41.292084",
   "environment_variables": {},
   "exception": null,
   "input_path": "__notebook__.ipynb",
   "output_path": "__notebook__.ipynb",
   "parameters": {},
   "start_time": "2024-12-13T09:41:01.817289",
   "version": "2.6.0"
  }
 },
 "nbformat": 4,
 "nbformat_minor": 5
}

{
 "cells": [
  {
   "cell_type": "markdown",
   "id": "2c8a6189",
   "metadata": {
    "papermill": {
     "duration": 0.004959,
     "end_time": "2024-12-23T16:38:25.991275",
     "exception": false,
     "start_time": "2024-12-23T16:38:25.986316",
     "status": "completed"
    },
    "tags": []
   },
   "source": [
    "# Scikit-learn\n"
   ]
  },
  {
   "cell_type": "code",
   "execution_count": 1,
   "id": "acea6337",
   "metadata": {
    "execution": {
     "iopub.execute_input": "2024-12-23T16:38:26.002153Z",
     "iopub.status.busy": "2024-12-23T16:38:26.001119Z",
     "iopub.status.idle": "2024-12-23T16:38:28.062738Z",
     "shell.execute_reply": "2024-12-23T16:38:28.061342Z"
    },
    "papermill": {
     "duration": 2.07,
     "end_time": "2024-12-23T16:38:28.065456",
     "exception": false,
     "start_time": "2024-12-23T16:38:25.995456",
     "status": "completed"
    },
    "tags": []
   },
   "outputs": [],
   "source": [
    "from sklearn.model_selection import train_test_split\n",
    "from sklearn.datasets import load_iris\n",
    "from sklearn.preprocessing import StandardScaler\n",
    "from sklearn.ensemble import RandomForestClassifier\n",
    "from sklearn.metrics import accuracy_score"
   ]
  },
  {
   "cell_type": "code",
   "execution_count": 2,
   "id": "56b373ba",
   "metadata": {
    "execution": {
     "iopub.execute_input": "2024-12-23T16:38:28.075996Z",
     "iopub.status.busy": "2024-12-23T16:38:28.075287Z",
     "iopub.status.idle": "2024-12-23T16:38:28.092745Z",
     "shell.execute_reply": "2024-12-23T16:38:28.091487Z"
    },
    "papermill": {
     "duration": 0.026124,
     "end_time": "2024-12-23T16:38:28.095767",
     "exception": false,
     "start_time": "2024-12-23T16:38:28.069643",
     "status": "completed"
    },
    "tags": []
   },
   "outputs": [],
   "source": [
    "data = load_iris()\n",
    "\n",
    "x, y = data.data, data.target\n",
    "\n",
    "x_train, x_test , y_train, y_test = train_test_split(x, y, test_size = 0.2, random_state = 42)"
   ]
  },
  {
   "cell_type": "code",
   "execution_count": 3,
   "id": "5eb19217",
   "metadata": {
    "execution": {
     "iopub.execute_input": "2024-12-23T16:38:28.106161Z",
     "iopub.status.busy": "2024-12-23T16:38:28.105704Z",
     "iopub.status.idle": "2024-12-23T16:38:28.117210Z",
     "shell.execute_reply": "2024-12-23T16:38:28.115719Z"
    },
    "papermill": {
     "duration": 0.019519,
     "end_time": "2024-12-23T16:38:28.119590",
     "exception": false,
     "start_time": "2024-12-23T16:38:28.100071",
     "status": "completed"
    },
    "tags": []
   },
   "outputs": [],
   "source": [
    "scaler = StandardScaler()\n",
    "\n",
    "x_train_scale = scaler.fit_transform(x_train)\n",
    "\n",
    "x_test_scale = scaler.transform(x_test)"
   ]
  },
  {
   "cell_type": "markdown",
   "id": "1cbdb3a0",
   "metadata": {
    "papermill": {
     "duration": 0.00396,
     "end_time": "2024-12-23T16:38:28.127921",
     "exception": false,
     "start_time": "2024-12-23T16:38:28.123961",
     "status": "completed"
    },
    "tags": []
   },
   "source": [
    "# Pipeline"
   ]
  },
  {
   "cell_type": "code",
   "execution_count": 4,
   "id": "7e6b1cf7",
   "metadata": {
    "execution": {
     "iopub.execute_input": "2024-12-23T16:38:28.138670Z",
     "iopub.status.busy": "2024-12-23T16:38:28.137310Z",
     "iopub.status.idle": "2024-12-23T16:38:28.145924Z",
     "shell.execute_reply": "2024-12-23T16:38:28.144752Z"
    },
    "papermill": {
     "duration": 0.016455,
     "end_time": "2024-12-23T16:38:28.148462",
     "exception": false,
     "start_time": "2024-12-23T16:38:28.132007",
     "status": "completed"
    },
    "tags": []
   },
   "outputs": [],
   "source": [
    "from sklearn.pipeline import Pipeline\n",
    "from sklearn.preprocessing import StandardScaler\n",
    "from sklearn.linear_model import LogisticRegression\n",
    "from sklearn.datasets import load_iris\n",
    "from sklearn.model_selection import train_test_split"
   ]
  },
  {
   "cell_type": "code",
   "execution_count": 5,
   "id": "87fa3c90",
   "metadata": {
    "execution": {
     "iopub.execute_input": "2024-12-23T16:38:28.158622Z",
     "iopub.status.busy": "2024-12-23T16:38:28.158165Z",
     "iopub.status.idle": "2024-12-23T16:38:28.191316Z",
     "shell.execute_reply": "2024-12-23T16:38:28.189784Z"
    },
    "papermill": {
     "duration": 0.041662,
     "end_time": "2024-12-23T16:38:28.194426",
     "exception": false,
     "start_time": "2024-12-23T16:38:28.152764",
     "status": "completed"
    },
    "tags": []
   },
   "outputs": [
    {
     "name": "stdout",
     "output_type": "stream",
     "text": [
      "Accuracy: 1.00\n"
     ]
    }
   ],
   "source": [
    "# Load data\n",
    "data = load_iris()\n",
    "X_train, X_test, y_train, y_test = train_test_split(data.data, data.target, test_size=0.2, random_state= 42)\n",
    "\n",
    "# Define pipeline\n",
    "pipeline = Pipeline([\n",
    "    ('scaler', StandardScaler()),       # Step 1: Standardize features\n",
    "    ('classifier', LogisticRegression())  # Step 2: Train logistic regression\n",
    "])\n",
    "\n",
    "# Train model\n",
    "pipeline.fit(X_train, y_train)\n",
    "\n",
    "# Make predictions\n",
    "y_pred = pipeline.predict(X_test)\n",
    "\n",
    "# Evaluate\n",
    "print(f\"Accuracy: {pipeline.score(X_test, y_test):.2f}\")\n"
   ]
  },
  {
   "cell_type": "markdown",
   "id": "d245622e",
   "metadata": {
    "papermill": {
     "duration": 0.003698,
     "end_time": "2024-12-23T16:38:28.202415",
     "exception": false,
     "start_time": "2024-12-23T16:38:28.198717",
     "status": "completed"
    },
    "tags": []
   },
   "source": [
    "# Keras"
   ]
  },
  {
   "cell_type": "code",
   "execution_count": 6,
   "id": "e4c7fddb",
   "metadata": {
    "execution": {
     "iopub.execute_input": "2024-12-23T16:38:28.213425Z",
     "iopub.status.busy": "2024-12-23T16:38:28.212957Z",
     "iopub.status.idle": "2024-12-23T16:38:44.367631Z",
     "shell.execute_reply": "2024-12-23T16:38:44.366398Z"
    },
    "papermill": {
     "duration": 16.162721,
     "end_time": "2024-12-23T16:38:44.370129",
     "exception": false,
     "start_time": "2024-12-23T16:38:28.207408",
     "status": "completed"
    },
    "tags": []
   },
   "outputs": [],
   "source": [
    "import tensorflow as tf\n",
    "from tensorflow.keras import Sequential\n",
    "from tensorflow.keras.layers import Dense, Flatten\n",
    "from tensorflow.keras.datasets import mnist"
   ]
  },
  {
   "cell_type": "code",
   "execution_count": 7,
   "id": "d963883f",
   "metadata": {
    "execution": {
     "iopub.execute_input": "2024-12-23T16:38:44.380490Z",
     "iopub.status.busy": "2024-12-23T16:38:44.379431Z",
     "iopub.status.idle": "2024-12-23T16:38:45.188805Z",
     "shell.execute_reply": "2024-12-23T16:38:45.187507Z"
    },
    "papermill": {
     "duration": 0.817496,
     "end_time": "2024-12-23T16:38:45.191589",
     "exception": false,
     "start_time": "2024-12-23T16:38:44.374093",
     "status": "completed"
    },
    "tags": []
   },
   "outputs": [
    {
     "name": "stdout",
     "output_type": "stream",
     "text": [
      "Downloading data from https://storage.googleapis.com/tensorflow/tf-keras-datasets/mnist.npz\n",
      "\u001b[1m11490434/11490434\u001b[0m \u001b[32m━━━━━━━━━━━━━━━━━━━━\u001b[0m\u001b[37m\u001b[0m \u001b[1m0s\u001b[0m 0us/step\n"
     ]
    }
   ],
   "source": [
    "#load data \n",
    "(x_train, y_train),(x_test, y_test) = mnist.load_data()\n",
    "\n",
    "#normalize\n",
    "(x_train, x_test) = x_train/255.0, x_test/255.0"
   ]
  },
  {
   "cell_type": "code",
   "execution_count": 8,
   "id": "7e97ced7",
   "metadata": {
    "execution": {
     "iopub.execute_input": "2024-12-23T16:38:45.203004Z",
     "iopub.status.busy": "2024-12-23T16:38:45.202523Z",
     "iopub.status.idle": "2024-12-23T16:39:17.720440Z",
     "shell.execute_reply": "2024-12-23T16:39:17.719269Z"
    },
    "papermill": {
     "duration": 32.526532,
     "end_time": "2024-12-23T16:39:17.723080",
     "exception": false,
     "start_time": "2024-12-23T16:38:45.196548",
     "status": "completed"
    },
    "tags": []
   },
   "outputs": [
    {
     "name": "stderr",
     "output_type": "stream",
     "text": [
      "/opt/conda/lib/python3.10/site-packages/keras/src/layers/reshaping/flatten.py:37: UserWarning: Do not pass an `input_shape`/`input_dim` argument to a layer. When using Sequential models, prefer using an `Input(shape)` object as the first layer in the model instead.\n",
      "  super().__init__(**kwargs)\n"
     ]
    },
    {
     "name": "stdout",
     "output_type": "stream",
     "text": [
      "Epoch 1/5\n",
      "\u001b[1m1875/1875\u001b[0m \u001b[32m━━━━━━━━━━━━━━━━━━━━\u001b[0m\u001b[37m\u001b[0m \u001b[1m7s\u001b[0m 3ms/step - accuracy: 0.8757 - loss: 0.4412\n",
      "Epoch 2/5\n",
      "\u001b[1m1875/1875\u001b[0m \u001b[32m━━━━━━━━━━━━━━━━━━━━\u001b[0m\u001b[37m\u001b[0m \u001b[1m6s\u001b[0m 3ms/step - accuracy: 0.9646 - loss: 0.1226\n",
      "Epoch 3/5\n",
      "\u001b[1m1875/1875\u001b[0m \u001b[32m━━━━━━━━━━━━━━━━━━━━\u001b[0m\u001b[37m\u001b[0m \u001b[1m6s\u001b[0m 3ms/step - accuracy: 0.9763 - loss: 0.0800\n",
      "Epoch 4/5\n",
      "\u001b[1m1875/1875\u001b[0m \u001b[32m━━━━━━━━━━━━━━━━━━━━\u001b[0m\u001b[37m\u001b[0m \u001b[1m6s\u001b[0m 3ms/step - accuracy: 0.9824 - loss: 0.0574\n",
      "Epoch 5/5\n",
      "\u001b[1m1875/1875\u001b[0m \u001b[32m━━━━━━━━━━━━━━━━━━━━\u001b[0m\u001b[37m\u001b[0m \u001b[1m6s\u001b[0m 3ms/step - accuracy: 0.9874 - loss: 0.0425\n",
      "\u001b[1m313/313\u001b[0m \u001b[32m━━━━━━━━━━━━━━━━━━━━\u001b[0m\u001b[37m\u001b[0m \u001b[1m1s\u001b[0m 2ms/step - accuracy: 0.9719 - loss: 0.0862\n"
     ]
    },
    {
     "data": {
      "text/plain": [
       "[0.07519122213125229, 0.9760000109672546]"
      ]
     },
     "execution_count": 8,
     "metadata": {},
     "output_type": "execute_result"
    }
   ],
   "source": [
    "# Build the model\n",
    "model = Sequential([\n",
    "    Flatten(input_shape=(28, 28)),\n",
    "    Dense(128, activation='relu'),\n",
    "    Dense(10, activation='softmax')\n",
    "])\n",
    "\n",
    "# Compile the model\n",
    "model.compile(optimizer='adam',\n",
    "              loss ='sparse_categorical_crossentropy',\n",
    "              metrics=['accuracy'])\n",
    "\n",
    "# Train the model\n",
    "model.fit(x_train, y_train, epochs=5)\n",
    "\n",
    "# Evaluate the model\n",
    "model.evaluate(x_test, y_test)"
   ]
  },
  {
   "cell_type": "markdown",
   "id": "35eb7da7",
   "metadata": {
    "papermill": {
     "duration": 0.0386,
     "end_time": "2024-12-23T16:39:17.801370",
     "exception": false,
     "start_time": "2024-12-23T16:39:17.762770",
     "status": "completed"
    },
    "tags": []
   },
   "source": [
    "# Tensorflow\n"
   ]
  },
  {
   "cell_type": "code",
   "execution_count": 9,
   "id": "cb8f62af",
   "metadata": {
    "execution": {
     "iopub.execute_input": "2024-12-23T16:39:17.881842Z",
     "iopub.status.busy": "2024-12-23T16:39:17.881439Z",
     "iopub.status.idle": "2024-12-23T16:39:18.448168Z",
     "shell.execute_reply": "2024-12-23T16:39:18.446891Z"
    },
    "papermill": {
     "duration": 0.611923,
     "end_time": "2024-12-23T16:39:18.452714",
     "exception": false,
     "start_time": "2024-12-23T16:39:17.840791",
     "status": "completed"
    },
    "tags": []
   },
   "outputs": [],
   "source": [
    "import tensorflow as tf\n",
    "from tensorflow.keras.datasets import mnist\n",
    "\n",
    "#load data\n",
    "(x_train, y_train),(x_test, y_test) = mnist.load_data()\n",
    "x_train, x_test = x_train/255.0, x_test/255.0\n",
    "\n",
    "y_train = tf.one_hot(y_train, depth =10).numpy()\n",
    "y_test = tf.one_hot(y_test, depth =10).numpy()\n",
    "\n",
    "class NeuralNetwork(tf.keras.Model):\n",
    "    def __init__(self):\n",
    "        super().__init__()\n",
    "        self.flatten = tf.keras.layers.Flatten()\n",
    "        self.dense1 = tf.keras.layers.Dense(128, activation = 'relu')\n",
    "        self.dense2 = tf.keras.layers.Dense(10, activation = 'softmax')\n",
    "\n",
    "    def call(self, x):\n",
    "        x = self.flatten(x)\n",
    "        x = self.dense(x)\n",
    "        return self.dense2(x)\n",
    "\n",
    "model = NeuralNetwork()\n",
    "\n",
    "\n",
    "#define loss and optimizer\n",
    "loss_fn = tf.keras.losses.CategoricalCrossentropy()\n",
    "optimizer = tf.optimizers.Adam()\n",
    "\n"
   ]
  },
  {
   "cell_type": "markdown",
   "id": "dab9adf8",
   "metadata": {
    "papermill": {
     "duration": 0.049099,
     "end_time": "2024-12-23T16:39:18.557036",
     "exception": false,
     "start_time": "2024-12-23T16:39:18.507937",
     "status": "completed"
    },
    "tags": []
   },
   "source": [
    "# PyTorch"
   ]
  },
  {
   "cell_type": "code",
   "execution_count": 10,
   "id": "ebf0bcae",
   "metadata": {
    "execution": {
     "iopub.execute_input": "2024-12-23T16:39:18.637060Z",
     "iopub.status.busy": "2024-12-23T16:39:18.636548Z",
     "iopub.status.idle": "2024-12-23T16:39:29.206331Z",
     "shell.execute_reply": "2024-12-23T16:39:29.205238Z"
    },
    "papermill": {
     "duration": 10.613017,
     "end_time": "2024-12-23T16:39:29.208534",
     "exception": false,
     "start_time": "2024-12-23T16:39:18.595517",
     "status": "completed"
    },
    "tags": []
   },
   "outputs": [
    {
     "name": "stdout",
     "output_type": "stream",
     "text": [
      "Downloading http://yann.lecun.com/exdb/mnist/train-images-idx3-ubyte.gz\n",
      "Failed to download (trying next):\n",
      "HTTP Error 403: Forbidden\n",
      "\n",
      "Downloading https://ossci-datasets.s3.amazonaws.com/mnist/train-images-idx3-ubyte.gz\n",
      "Downloading https://ossci-datasets.s3.amazonaws.com/mnist/train-images-idx3-ubyte.gz to ./data/MNIST/raw/train-images-idx3-ubyte.gz\n"
     ]
    },
    {
     "name": "stderr",
     "output_type": "stream",
     "text": [
      "100%|██████████| 9912422/9912422 [00:00<00:00, 17730875.40it/s]\n"
     ]
    },
    {
     "name": "stdout",
     "output_type": "stream",
     "text": [
      "Extracting ./data/MNIST/raw/train-images-idx3-ubyte.gz to ./data/MNIST/raw\n",
      "\n",
      "Downloading http://yann.lecun.com/exdb/mnist/train-labels-idx1-ubyte.gz\n",
      "Failed to download (trying next):\n",
      "HTTP Error 403: Forbidden\n",
      "\n",
      "Downloading https://ossci-datasets.s3.amazonaws.com/mnist/train-labels-idx1-ubyte.gz\n",
      "Downloading https://ossci-datasets.s3.amazonaws.com/mnist/train-labels-idx1-ubyte.gz to ./data/MNIST/raw/train-labels-idx1-ubyte.gz\n"
     ]
    },
    {
     "name": "stderr",
     "output_type": "stream",
     "text": [
      "100%|██████████| 28881/28881 [00:00<00:00, 467173.27it/s]\n"
     ]
    },
    {
     "name": "stdout",
     "output_type": "stream",
     "text": [
      "Extracting ./data/MNIST/raw/train-labels-idx1-ubyte.gz to ./data/MNIST/raw\n",
      "\n",
      "Downloading http://yann.lecun.com/exdb/mnist/t10k-images-idx3-ubyte.gz\n",
      "Failed to download (trying next):\n",
      "HTTP Error 403: Forbidden\n",
      "\n",
      "Downloading https://ossci-datasets.s3.amazonaws.com/mnist/t10k-images-idx3-ubyte.gz\n",
      "Downloading https://ossci-datasets.s3.amazonaws.com/mnist/t10k-images-idx3-ubyte.gz to ./data/MNIST/raw/t10k-images-idx3-ubyte.gz\n"
     ]
    },
    {
     "name": "stderr",
     "output_type": "stream",
     "text": [
      "100%|██████████| 1648877/1648877 [00:00<00:00, 4423772.46it/s]\n"
     ]
    },
    {
     "name": "stdout",
     "output_type": "stream",
     "text": [
      "Extracting ./data/MNIST/raw/t10k-images-idx3-ubyte.gz to ./data/MNIST/raw\n",
      "\n",
      "Downloading http://yann.lecun.com/exdb/mnist/t10k-labels-idx1-ubyte.gz\n",
      "Failed to download (trying next):\n",
      "HTTP Error 403: Forbidden\n",
      "\n",
      "Downloading https://ossci-datasets.s3.amazonaws.com/mnist/t10k-labels-idx1-ubyte.gz\n",
      "Downloading https://ossci-datasets.s3.amazonaws.com/mnist/t10k-labels-idx1-ubyte.gz to ./data/MNIST/raw/t10k-labels-idx1-ubyte.gz\n"
     ]
    },
    {
     "name": "stderr",
     "output_type": "stream",
     "text": [
      "100%|██████████| 4542/4542 [00:00<00:00, 1819360.97it/s]"
     ]
    },
    {
     "name": "stdout",
     "output_type": "stream",
     "text": [
      "Extracting ./data/MNIST/raw/t10k-labels-idx1-ubyte.gz to ./data/MNIST/raw\n",
      "\n"
     ]
    },
    {
     "name": "stderr",
     "output_type": "stream",
     "text": [
      "\n"
     ]
    }
   ],
   "source": [
    "import torch\n",
    "import torch.nn as nn\n",
    "import torch.optim as optim\n",
    "from torchvision import datasets, transforms\n",
    "from torch.utils.data import DataLoader\n",
    "\n",
    "# Load and preprocess data\n",
    "transform = transforms.ToTensor()\n",
    "train_dataset = datasets.MNIST(root='./data', train=True, transform=transform, download=True)\n",
    "test_dataset = datasets.MNIST(root='./data', train=False, transform=transform)\n",
    "\n",
    "train_loader = DataLoader(train_dataset, batch_size=64, shuffle=True)\n",
    "test_loader = DataLoader(test_dataset, batch_size=64, shuffle=False)\n",
    "\n",
    "# Define the model\n",
    "class NeuralNetwork(nn.Module):\n",
    "    def __init__(self):\n",
    "        super(NeuralNetwork, self).__init__()\n",
    "        self.flatten = nn.Flatten()\n",
    "        self.fc1 = nn.Linear(28 * 28, 128)\n",
    "        self.relu = nn.ReLU()\n",
    "        self.fc2 = nn.Linear(128, 10)\n",
    "        self.softmax = nn.Softmax(dim=1)\n",
    "\n",
    "    def forward(self, x):\n",
    "        x = self.flatten(x)\n",
    "        x = self.relu(self.fc1(x))\n",
    "        x = self.softmax(self.fc2(x))\n",
    "        return x"
   ]
  },
  {
   "cell_type": "code",
   "execution_count": 11,
   "id": "76d1fa44",
   "metadata": {
    "execution": {
     "iopub.execute_input": "2024-12-23T16:39:29.289542Z",
     "iopub.status.busy": "2024-12-23T16:39:29.288450Z",
     "iopub.status.idle": "2024-12-23T16:39:29.309769Z",
     "shell.execute_reply": "2024-12-23T16:39:29.308594Z"
    },
    "papermill": {
     "duration": 0.063506,
     "end_time": "2024-12-23T16:39:29.312249",
     "exception": false,
     "start_time": "2024-12-23T16:39:29.248743",
     "status": "completed"
    },
    "tags": []
   },
   "outputs": [],
   "source": [
    "model = NeuralNetwork()\n",
    "\n",
    "# Define loss and optimizer\n",
    "criterion = nn.CrossEntropyLoss()\n",
    "optimizer = optim.Adam(model.parameters(), lr=0.001)\n"
   ]
  },
  {
   "cell_type": "code",
   "execution_count": 12,
   "id": "b4a1f7ba",
   "metadata": {
    "execution": {
     "iopub.execute_input": "2024-12-23T16:39:29.391161Z",
     "iopub.status.busy": "2024-12-23T16:39:29.390681Z",
     "iopub.status.idle": "2024-12-23T16:40:16.870498Z",
     "shell.execute_reply": "2024-12-23T16:40:16.869130Z"
    },
    "papermill": {
     "duration": 47.560919,
     "end_time": "2024-12-23T16:40:16.911337",
     "exception": false,
     "start_time": "2024-12-23T16:39:29.350418",
     "status": "completed"
    },
    "tags": []
   },
   "outputs": [
    {
     "name": "stdout",
     "output_type": "stream",
     "text": [
      "Accuracy: 96.48%\n"
     ]
    }
   ],
   "source": [
    "# Training loop\n",
    "for epoch in range(5):\n",
    "    for images, labels in train_loader:\n",
    "        # Forward pass\n",
    "        outputs = model(images)\n",
    "        loss = criterion(outputs, labels)\n",
    "\n",
    "        # Backward pass\n",
    "        optimizer.zero_grad()\n",
    "        loss.backward()\n",
    "        optimizer.step()\n",
    "\n",
    "# Evaluate the model\n",
    "correct = 0\n",
    "total = 0\n",
    "with torch.no_grad():\n",
    "    for images, labels in test_loader:\n",
    "        outputs = model(images)\n",
    "        _, predicted = torch.max(outputs, 1)\n",
    "        total += labels.size(0)\n",
    "        correct += (predicted == labels).sum().item()\n",
    "\n",
    "print(f\"Accuracy: {100 * correct / total}%\")"
   ]
  },
  {
   "cell_type": "code",
   "execution_count": null,
   "id": "7073e64c",
   "metadata": {
    "papermill": {
     "duration": 0.037849,
     "end_time": "2024-12-23T16:40:16.987463",
     "exception": false,
     "start_time": "2024-12-23T16:40:16.949614",
     "status": "completed"
    },
    "tags": []
   },
   "outputs": [],
   "source": []
  }
 ],
 "metadata": {
  "kaggle": {
   "accelerator": "none",
   "dataSources": [],
   "dockerImageVersionId": 30786,
   "isGpuEnabled": false,
   "isInternetEnabled": true,
   "language": "python",
   "sourceType": "notebook"
  },
  "kernelspec": {
   "display_name": "Python 3",
   "language": "python",
   "name": "python3"
  },
  "language_info": {
   "codemirror_mode": {
    "name": "ipython",
    "version": 3
   },
   "file_extension": ".py",
   "mimetype": "text/x-python",
   "name": "python",
   "nbconvert_exporter": "python",
   "pygments_lexer": "ipython3",
   "version": "3.10.14"
  },
  "papermill": {
   "default_parameters": {},
   "duration": 118.087638,
   "end_time": "2024-12-23T16:40:20.509959",
   "environment_variables": {},
   "exception": null,
   "input_path": "__notebook__.ipynb",
   "output_path": "__notebook__.ipynb",
   "parameters": {},
   "start_time": "2024-12-23T16:38:22.422321",
   "version": "2.6.0"
  }
 },
 "nbformat": 4,
 "nbformat_minor": 5
}

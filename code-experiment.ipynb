{
 "cells": [
  {
   "cell_type": "markdown",
   "id": "aa665888",
   "metadata": {
    "papermill": {
     "duration": 0.003349,
     "end_time": "2024-12-06T15:48:59.366686",
     "exception": false,
     "start_time": "2024-12-06T15:48:59.363337",
     "status": "completed"
    },
    "tags": []
   },
   "source": [
    "# Scikit-learn\n"
   ]
  },
  {
   "cell_type": "code",
   "execution_count": 1,
   "id": "c9cc47c9",
   "metadata": {
    "execution": {
     "iopub.execute_input": "2024-12-06T15:48:59.375390Z",
     "iopub.status.busy": "2024-12-06T15:48:59.374343Z",
     "iopub.status.idle": "2024-12-06T15:49:01.048089Z",
     "shell.execute_reply": "2024-12-06T15:49:01.047003Z"
    },
    "papermill": {
     "duration": 1.680716,
     "end_time": "2024-12-06T15:49:01.050600",
     "exception": false,
     "start_time": "2024-12-06T15:48:59.369884",
     "status": "completed"
    },
    "tags": []
   },
   "outputs": [],
   "source": [
    "from sklearn.model_selection import train_test_split\n",
    "from sklearn.preprocessing import StandardScaler\n",
    "from sklearn.ensemble import RandomForestClassifier\n",
    "from sklearn.metrics import accuracy_score\n"
   ]
  },
  {
   "cell_type": "code",
   "execution_count": 2,
   "id": "c5173fe8",
   "metadata": {
    "execution": {
     "iopub.execute_input": "2024-12-06T15:49:01.058253Z",
     "iopub.status.busy": "2024-12-06T15:49:01.057800Z",
     "iopub.status.idle": "2024-12-06T15:49:01.178210Z",
     "shell.execute_reply": "2024-12-06T15:49:01.177066Z"
    },
    "papermill": {
     "duration": 0.126901,
     "end_time": "2024-12-06T15:49:01.180634",
     "exception": false,
     "start_time": "2024-12-06T15:49:01.053733",
     "status": "completed"
    },
    "tags": []
   },
   "outputs": [],
   "source": [
    "# Sample dataset (replace with your actual data)\n",
    "from sklearn.datasets import load_iris\n",
    "data = load_iris()\n",
    "X, y = data.data, data.target\n",
    "\n",
    "# Split data into training and testing sets\n",
    "X_train, X_test, y_train, y_test = train_test_split(X, y, test_size = 0.2, random_state=42)\n"
   ]
  },
  {
   "cell_type": "code",
   "execution_count": 3,
   "id": "60e865ee",
   "metadata": {
    "execution": {
     "iopub.execute_input": "2024-12-06T15:49:01.188213Z",
     "iopub.status.busy": "2024-12-06T15:49:01.187803Z",
     "iopub.status.idle": "2024-12-06T15:49:01.197928Z",
     "shell.execute_reply": "2024-12-06T15:49:01.196762Z"
    },
    "papermill": {
     "duration": 0.016344,
     "end_time": "2024-12-06T15:49:01.199992",
     "exception": false,
     "start_time": "2024-12-06T15:49:01.183648",
     "status": "completed"
    },
    "tags": []
   },
   "outputs": [],
   "source": [
    "#preprocessing\n",
    "#Scaling the data\n",
    "\n",
    "scaler = StandardScaler()\n",
    "x_train_scaled = scaler.fit_transform(X_train)\n",
    "x_test_scaled = scaler.transform(X_test)"
   ]
  },
  {
   "cell_type": "markdown",
   "id": "977fcb08",
   "metadata": {
    "papermill": {
     "duration": 0.002421,
     "end_time": "2024-12-06T15:49:01.205320",
     "exception": false,
     "start_time": "2024-12-06T15:49:01.202899",
     "status": "completed"
    },
    "tags": []
   },
   "source": [
    "# Pipeline"
   ]
  },
  {
   "cell_type": "code",
   "execution_count": 4,
   "id": "a3be1d6f",
   "metadata": {
    "execution": {
     "iopub.execute_input": "2024-12-06T15:49:01.212264Z",
     "iopub.status.busy": "2024-12-06T15:49:01.211876Z",
     "iopub.status.idle": "2024-12-06T15:49:01.219502Z",
     "shell.execute_reply": "2024-12-06T15:49:01.218413Z"
    },
    "papermill": {
     "duration": 0.013917,
     "end_time": "2024-12-06T15:49:01.221850",
     "exception": false,
     "start_time": "2024-12-06T15:49:01.207933",
     "status": "completed"
    },
    "tags": []
   },
   "outputs": [],
   "source": [
    "from sklearn.pipeline import Pipeline\n",
    "from sklearn.preprocessing import StandardScaler\n",
    "from sklearn.linear_model import LogisticRegression\n",
    "from sklearn.datasets import load_iris\n",
    "from sklearn.model_selection import train_test_split"
   ]
  },
  {
   "cell_type": "code",
   "execution_count": 5,
   "id": "8212d854",
   "metadata": {
    "execution": {
     "iopub.execute_input": "2024-12-06T15:49:01.229476Z",
     "iopub.status.busy": "2024-12-06T15:49:01.228808Z",
     "iopub.status.idle": "2024-12-06T15:49:01.258258Z",
     "shell.execute_reply": "2024-12-06T15:49:01.257124Z"
    },
    "papermill": {
     "duration": 0.035746,
     "end_time": "2024-12-06T15:49:01.260509",
     "exception": false,
     "start_time": "2024-12-06T15:49:01.224763",
     "status": "completed"
    },
    "tags": []
   },
   "outputs": [
    {
     "name": "stdout",
     "output_type": "stream",
     "text": [
      "Accuracy: 1.00\n"
     ]
    }
   ],
   "source": [
    "# Load data\n",
    "data = load_iris()\n",
    "X_train, X_test, y_train, y_test = train_test_split(data.data, data.target, test_size=0.2, random_state=42)\n",
    "\n",
    "# Define pipeline\n",
    "pipeline = Pipeline([\n",
    "    ('scaler', StandardScaler()),       # Step 1: Standardize features\n",
    "    ('classifier', LogisticRegression())  # Step 2: Train logistic regression\n",
    "])\n",
    "\n",
    "# Train model\n",
    "pipeline.fit(X_train, y_train)\n",
    "\n",
    "# Make predictions\n",
    "y_pred = pipeline.predict(X_test)\n",
    "\n",
    "# Evaluate\n",
    "print(f\"Accuracy: {pipeline.score(X_test, y_test):.2f}\")\n"
   ]
  },
  {
   "cell_type": "markdown",
   "id": "4b96574a",
   "metadata": {
    "papermill": {
     "duration": 0.002576,
     "end_time": "2024-12-06T15:49:01.266049",
     "exception": false,
     "start_time": "2024-12-06T15:49:01.263473",
     "status": "completed"
    },
    "tags": []
   },
   "source": [
    "# Keras"
   ]
  },
  {
   "cell_type": "code",
   "execution_count": 6,
   "id": "34ef7ee5",
   "metadata": {
    "execution": {
     "iopub.execute_input": "2024-12-06T15:49:01.274684Z",
     "iopub.status.busy": "2024-12-06T15:49:01.274326Z",
     "iopub.status.idle": "2024-12-06T15:49:16.050962Z",
     "shell.execute_reply": "2024-12-06T15:49:16.049741Z"
    },
    "papermill": {
     "duration": 14.783595,
     "end_time": "2024-12-06T15:49:16.053421",
     "exception": false,
     "start_time": "2024-12-06T15:49:01.269826",
     "status": "completed"
    },
    "tags": []
   },
   "outputs": [],
   "source": [
    "import tensorflow as tf\n",
    "from tensorflow.keras import Sequential\n",
    "from tensorflow.keras.layers import Dense, Flatten\n",
    "from tensorflow.keras.datasets import mnist\n"
   ]
  },
  {
   "cell_type": "code",
   "execution_count": 7,
   "id": "9ead7007",
   "metadata": {
    "execution": {
     "iopub.execute_input": "2024-12-06T15:49:16.061634Z",
     "iopub.status.busy": "2024-12-06T15:49:16.060947Z",
     "iopub.status.idle": "2024-12-06T15:49:16.676396Z",
     "shell.execute_reply": "2024-12-06T15:49:16.675392Z"
    },
    "papermill": {
     "duration": 0.62233,
     "end_time": "2024-12-06T15:49:16.678866",
     "exception": false,
     "start_time": "2024-12-06T15:49:16.056536",
     "status": "completed"
    },
    "tags": []
   },
   "outputs": [
    {
     "name": "stdout",
     "output_type": "stream",
     "text": [
      "Downloading data from https://storage.googleapis.com/tensorflow/tf-keras-datasets/mnist.npz\n",
      "\u001b[1m11490434/11490434\u001b[0m \u001b[32m━━━━━━━━━━━━━━━━━━━━\u001b[0m\u001b[37m\u001b[0m \u001b[1m0s\u001b[0m 0us/step\n"
     ]
    }
   ],
   "source": [
    "#load amd preprocess data\n",
    "(x_train,y_train),(x_test,y_test) = mnist.load_data()\n",
    "\n",
    "#normalization( divition of pixel value)\n",
    "x_train,x_test = x_train/255.0, x_test/255.0"
   ]
  },
  {
   "cell_type": "code",
   "execution_count": 8,
   "id": "4a17794a",
   "metadata": {
    "execution": {
     "iopub.execute_input": "2024-12-06T15:49:16.687607Z",
     "iopub.status.busy": "2024-12-06T15:49:16.686596Z",
     "iopub.status.idle": "2024-12-06T15:49:42.562236Z",
     "shell.execute_reply": "2024-12-06T15:49:42.560998Z"
    },
    "papermill": {
     "duration": 25.882289,
     "end_time": "2024-12-06T15:49:42.564471",
     "exception": false,
     "start_time": "2024-12-06T15:49:16.682182",
     "status": "completed"
    },
    "tags": []
   },
   "outputs": [
    {
     "name": "stderr",
     "output_type": "stream",
     "text": [
      "/opt/conda/lib/python3.10/site-packages/keras/src/layers/reshaping/flatten.py:37: UserWarning: Do not pass an `input_shape`/`input_dim` argument to a layer. When using Sequential models, prefer using an `Input(shape)` object as the first layer in the model instead.\n",
      "  super().__init__(**kwargs)\n"
     ]
    },
    {
     "name": "stdout",
     "output_type": "stream",
     "text": [
      "Epoch 1/5\n",
      "\u001b[1m1875/1875\u001b[0m \u001b[32m━━━━━━━━━━━━━━━━━━━━\u001b[0m\u001b[37m\u001b[0m \u001b[1m6s\u001b[0m 3ms/step - accuracy: 0.8745 - loss: 0.4391\n",
      "Epoch 2/5\n",
      "\u001b[1m1875/1875\u001b[0m \u001b[32m━━━━━━━━━━━━━━━━━━━━\u001b[0m\u001b[37m\u001b[0m \u001b[1m5s\u001b[0m 3ms/step - accuracy: 0.9633 - loss: 0.1247\n",
      "Epoch 3/5\n",
      "\u001b[1m1875/1875\u001b[0m \u001b[32m━━━━━━━━━━━━━━━━━━━━\u001b[0m\u001b[37m\u001b[0m \u001b[1m5s\u001b[0m 2ms/step - accuracy: 0.9764 - loss: 0.0793\n",
      "Epoch 4/5\n",
      "\u001b[1m1875/1875\u001b[0m \u001b[32m━━━━━━━━━━━━━━━━━━━━\u001b[0m\u001b[37m\u001b[0m \u001b[1m5s\u001b[0m 2ms/step - accuracy: 0.9829 - loss: 0.0579\n",
      "Epoch 5/5\n",
      "\u001b[1m1875/1875\u001b[0m \u001b[32m━━━━━━━━━━━━━━━━━━━━\u001b[0m\u001b[37m\u001b[0m \u001b[1m5s\u001b[0m 2ms/step - accuracy: 0.9870 - loss: 0.0428\n",
      "\u001b[1m313/313\u001b[0m \u001b[32m━━━━━━━━━━━━━━━━━━━━\u001b[0m\u001b[37m\u001b[0m \u001b[1m1s\u001b[0m 1ms/step - accuracy: 0.9755 - loss: 0.0798\n"
     ]
    },
    {
     "data": {
      "text/plain": [
       "[0.069035604596138, 0.9785000085830688]"
      ]
     },
     "execution_count": 8,
     "metadata": {},
     "output_type": "execute_result"
    }
   ],
   "source": [
    "import tensorflow as tf\n",
    "from tensorflow.keras import Sequential\n",
    "from tensorflow.keras.layers import Dense, Flatten\n",
    "from tensorflow.keras.datasets import mnist\n",
    "\n",
    "# Load and preprocess data\n",
    "(x_train, y_train), (x_test, y_test) = mnist.load_data()\n",
    "x_train, x_test = x_train / 255.0, x_test / 255.0\n",
    "\n",
    "# Build the model\n",
    "model = Sequential([\n",
    "    Flatten(input_shape=(28, 28)),\n",
    "    Dense(128, activation='relu'),\n",
    "    Dense(10, activation='softmax')\n",
    "])\n",
    "\n",
    "# Compile the model\n",
    "model.compile(optimizer='adam',\n",
    "              loss ='sparse_categorical_crossentropy',\n",
    "              metrics=['accuracy'])\n",
    "\n",
    "# Train the model\n",
    "model.fit(x_train, y_train, epochs=5)\n",
    "\n",
    "# Evaluate the model\n",
    "model.evaluate(x_test, y_test)\n"
   ]
  }
 ],
 "metadata": {
  "kaggle": {
   "accelerator": "none",
   "dataSources": [],
   "dockerImageVersionId": 30786,
   "isGpuEnabled": false,
   "isInternetEnabled": true,
   "language": "python",
   "sourceType": "notebook"
  },
  "kernelspec": {
   "display_name": "Python 3",
   "language": "python",
   "name": "python3"
  },
  "language_info": {
   "codemirror_mode": {
    "name": "ipython",
    "version": 3
   },
   "file_extension": ".py",
   "mimetype": "text/x-python",
   "name": "python",
   "nbconvert_exporter": "python",
   "pygments_lexer": "ipython3",
   "version": "3.10.14"
  },
  "papermill": {
   "default_parameters": {},
   "duration": 48.841418,
   "end_time": "2024-12-06T15:49:45.105181",
   "environment_variables": {},
   "exception": null,
   "input_path": "__notebook__.ipynb",
   "output_path": "__notebook__.ipynb",
   "parameters": {},
   "start_time": "2024-12-06T15:48:56.263763",
   "version": "2.6.0"
  }
 },
 "nbformat": 4,
 "nbformat_minor": 5
}

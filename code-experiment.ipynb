{
 "cells": [
  {
   "cell_type": "markdown",
   "id": "6c00d2bf",
   "metadata": {
    "papermill": {
     "duration": 0.005019,
     "end_time": "2024-12-13T16:03:30.047264",
     "exception": false,
     "start_time": "2024-12-13T16:03:30.042245",
     "status": "completed"
    },
    "tags": []
   },
   "source": [
    "# Scikit-learn\n"
   ]
  },
  {
   "cell_type": "code",
   "execution_count": 1,
   "id": "c0935a03",
   "metadata": {
    "execution": {
     "iopub.execute_input": "2024-12-13T16:03:30.058468Z",
     "iopub.status.busy": "2024-12-13T16:03:30.057858Z",
     "iopub.status.idle": "2024-12-13T16:03:31.939192Z",
     "shell.execute_reply": "2024-12-13T16:03:31.938014Z"
    },
    "papermill": {
     "duration": 1.890393,
     "end_time": "2024-12-13T16:03:31.941991",
     "exception": false,
     "start_time": "2024-12-13T16:03:30.051598",
     "status": "completed"
    },
    "tags": []
   },
   "outputs": [],
   "source": [
    "from sklearn.model_selection import train_test_split\n",
    "from sklearn.preprocessing import StandardScaler\n",
    "from sklearn.ensemble import RandomForestClassifier\n",
    "from sklearn.metrics import accuracy_score"
   ]
  },
  {
   "cell_type": "code",
   "execution_count": 2,
   "id": "fdfe6d74",
   "metadata": {
    "execution": {
     "iopub.execute_input": "2024-12-13T16:03:31.952476Z",
     "iopub.status.busy": "2024-12-13T16:03:31.951872Z",
     "iopub.status.idle": "2024-12-13T16:03:32.081344Z",
     "shell.execute_reply": "2024-12-13T16:03:32.080248Z"
    },
    "papermill": {
     "duration": 0.137685,
     "end_time": "2024-12-13T16:03:32.084087",
     "exception": false,
     "start_time": "2024-12-13T16:03:31.946402",
     "status": "completed"
    },
    "tags": []
   },
   "outputs": [],
   "source": [
    "from sklearn.datasets import load_iris\n",
    "\n",
    "data = load_iris()\n",
    "x, y = data.data, data.target\n",
    "\n",
    "x_train, x_test, y_train, y_tes = train_test_split(x,y, test_size = 0.20, random_state = 54)"
   ]
  },
  {
   "cell_type": "code",
   "execution_count": 3,
   "id": "fec8c264",
   "metadata": {
    "execution": {
     "iopub.execute_input": "2024-12-13T16:03:32.093827Z",
     "iopub.status.busy": "2024-12-13T16:03:32.093414Z",
     "iopub.status.idle": "2024-12-13T16:03:32.104287Z",
     "shell.execute_reply": "2024-12-13T16:03:32.103083Z"
    },
    "papermill": {
     "duration": 0.018413,
     "end_time": "2024-12-13T16:03:32.106573",
     "exception": false,
     "start_time": "2024-12-13T16:03:32.088160",
     "status": "completed"
    },
    "tags": []
   },
   "outputs": [],
   "source": [
    "scaler = StandardScaler()\n",
    "\n",
    "#each transform() will share the same sub-function of the module (std, mean)\n",
    "x_train_scaled = scaler.fit_transform(x_train) #Computed std dev, mean\n",
    "x_test_scaled = scaler.transform(x_test) #Retrive the data from fit_transform()  "
   ]
  },
  {
   "cell_type": "markdown",
   "id": "64d1c5b3",
   "metadata": {
    "papermill": {
     "duration": 0.003589,
     "end_time": "2024-12-13T16:03:32.114271",
     "exception": false,
     "start_time": "2024-12-13T16:03:32.110682",
     "status": "completed"
    },
    "tags": []
   },
   "source": [
    "# Pipeline"
   ]
  },
  {
   "cell_type": "code",
   "execution_count": 4,
   "id": "2aa4da27",
   "metadata": {
    "execution": {
     "iopub.execute_input": "2024-12-13T16:03:32.125225Z",
     "iopub.status.busy": "2024-12-13T16:03:32.124264Z",
     "iopub.status.idle": "2024-12-13T16:03:32.132704Z",
     "shell.execute_reply": "2024-12-13T16:03:32.131544Z"
    },
    "papermill": {
     "duration": 0.016007,
     "end_time": "2024-12-13T16:03:32.135054",
     "exception": false,
     "start_time": "2024-12-13T16:03:32.119047",
     "status": "completed"
    },
    "tags": []
   },
   "outputs": [],
   "source": [
    "from sklearn.pipeline import Pipeline\n",
    "from sklearn.preprocessing import StandardScaler\n",
    "from sklearn.linear_model import LogisticRegression\n",
    "from sklearn.datasets import load_iris\n",
    "from sklearn.model_selection import train_test_split"
   ]
  },
  {
   "cell_type": "code",
   "execution_count": 5,
   "id": "0eacde0a",
   "metadata": {
    "execution": {
     "iopub.execute_input": "2024-12-13T16:03:32.144718Z",
     "iopub.status.busy": "2024-12-13T16:03:32.144287Z",
     "iopub.status.idle": "2024-12-13T16:03:32.178438Z",
     "shell.execute_reply": "2024-12-13T16:03:32.177058Z"
    },
    "papermill": {
     "duration": 0.041962,
     "end_time": "2024-12-13T16:03:32.181126",
     "exception": false,
     "start_time": "2024-12-13T16:03:32.139164",
     "status": "completed"
    },
    "tags": []
   },
   "outputs": [
    {
     "name": "stdout",
     "output_type": "stream",
     "text": [
      "Accuracy: 1.00\n"
     ]
    }
   ],
   "source": [
    "# Load data\n",
    "data = load_iris()\n",
    "X_train, X_test, y_train, y_test = train_test_split(data.data, data.target, test_size=0.2, random_state= 42)\n",
    "\n",
    "# Define pipeline\n",
    "pipeline = Pipeline([\n",
    "    ('scaler', StandardScaler()),       # Step 1: Standardize features\n",
    "    ('classifier', LogisticRegression())  # Step 2: Train logistic regression\n",
    "])\n",
    "\n",
    "# Train model\n",
    "pipeline.fit(X_train, y_train)\n",
    "\n",
    "# Make predictions\n",
    "y_pred = pipeline.predict(X_test)\n",
    "\n",
    "# Evaluate\n",
    "print(f\"Accuracy: {pipeline.score(X_test, y_test):.2f}\")\n"
   ]
  },
  {
   "cell_type": "markdown",
   "id": "d0f0177a",
   "metadata": {
    "papermill": {
     "duration": 0.003736,
     "end_time": "2024-12-13T16:03:32.189165",
     "exception": false,
     "start_time": "2024-12-13T16:03:32.185429",
     "status": "completed"
    },
    "tags": []
   },
   "source": [
    "# Keras"
   ]
  },
  {
   "cell_type": "code",
   "execution_count": 6,
   "id": "5c4e3ff9",
   "metadata": {
    "execution": {
     "iopub.execute_input": "2024-12-13T16:03:32.200203Z",
     "iopub.status.busy": "2024-12-13T16:03:32.199709Z",
     "iopub.status.idle": "2024-12-13T16:03:47.657299Z",
     "shell.execute_reply": "2024-12-13T16:03:47.656061Z"
    },
    "papermill": {
     "duration": 15.465886,
     "end_time": "2024-12-13T16:03:47.660183",
     "exception": false,
     "start_time": "2024-12-13T16:03:32.194297",
     "status": "completed"
    },
    "tags": []
   },
   "outputs": [],
   "source": [
    "import tensorflow as tf\n",
    "from tensorflow.keras import Sequential\n",
    "from tensorflow.keras.layers import Dense, Flatten\n",
    "from tensorflow.keras.datasets import mnist"
   ]
  },
  {
   "cell_type": "code",
   "execution_count": 7,
   "id": "9238b755",
   "metadata": {
    "execution": {
     "iopub.execute_input": "2024-12-13T16:03:47.670986Z",
     "iopub.status.busy": "2024-12-13T16:03:47.670149Z",
     "iopub.status.idle": "2024-12-13T16:03:48.406249Z",
     "shell.execute_reply": "2024-12-13T16:03:48.405221Z"
    },
    "papermill": {
     "duration": 0.744633,
     "end_time": "2024-12-13T16:03:48.409150",
     "exception": false,
     "start_time": "2024-12-13T16:03:47.664517",
     "status": "completed"
    },
    "tags": []
   },
   "outputs": [
    {
     "name": "stdout",
     "output_type": "stream",
     "text": [
      "Downloading data from https://storage.googleapis.com/tensorflow/tf-keras-datasets/mnist.npz\n",
      "\u001b[1m11490434/11490434\u001b[0m \u001b[32m━━━━━━━━━━━━━━━━━━━━\u001b[0m\u001b[37m\u001b[0m \u001b[1m0s\u001b[0m 0us/step\n"
     ]
    }
   ],
   "source": [
    "#load data \n",
    "(x_train, y_train),(x_test, y_test) = mnist.load_data()\n",
    "\n",
    "#normalize\n",
    "(x_train, x_test) = x_train/255.0, x_test/255.0"
   ]
  },
  {
   "cell_type": "code",
   "execution_count": 8,
   "id": "0fb712be",
   "metadata": {
    "execution": {
     "iopub.execute_input": "2024-12-13T16:03:48.420859Z",
     "iopub.status.busy": "2024-12-13T16:03:48.419880Z",
     "iopub.status.idle": "2024-12-13T16:04:11.936177Z",
     "shell.execute_reply": "2024-12-13T16:04:11.935129Z"
    },
    "papermill": {
     "duration": 23.524352,
     "end_time": "2024-12-13T16:04:11.938413",
     "exception": false,
     "start_time": "2024-12-13T16:03:48.414061",
     "status": "completed"
    },
    "tags": []
   },
   "outputs": [
    {
     "name": "stderr",
     "output_type": "stream",
     "text": [
      "/opt/conda/lib/python3.10/site-packages/keras/src/layers/reshaping/flatten.py:37: UserWarning: Do not pass an `input_shape`/`input_dim` argument to a layer. When using Sequential models, prefer using an `Input(shape)` object as the first layer in the model instead.\n",
      "  super().__init__(**kwargs)\n"
     ]
    },
    {
     "name": "stdout",
     "output_type": "stream",
     "text": [
      "Epoch 1/5\n",
      "\u001b[1m1875/1875\u001b[0m \u001b[32m━━━━━━━━━━━━━━━━━━━━\u001b[0m\u001b[37m\u001b[0m \u001b[1m5s\u001b[0m 2ms/step - accuracy: 0.8747 - loss: 0.4413\n",
      "Epoch 2/5\n",
      "\u001b[1m1875/1875\u001b[0m \u001b[32m━━━━━━━━━━━━━━━━━━━━\u001b[0m\u001b[37m\u001b[0m \u001b[1m4s\u001b[0m 2ms/step - accuracy: 0.9630 - loss: 0.1258\n",
      "Epoch 3/5\n",
      "\u001b[1m1875/1875\u001b[0m \u001b[32m━━━━━━━━━━━━━━━━━━━━\u001b[0m\u001b[37m\u001b[0m \u001b[1m4s\u001b[0m 2ms/step - accuracy: 0.9761 - loss: 0.0784\n",
      "Epoch 4/5\n",
      "\u001b[1m1875/1875\u001b[0m \u001b[32m━━━━━━━━━━━━━━━━━━━━\u001b[0m\u001b[37m\u001b[0m \u001b[1m4s\u001b[0m 2ms/step - accuracy: 0.9823 - loss: 0.0584\n",
      "Epoch 5/5\n",
      "\u001b[1m1875/1875\u001b[0m \u001b[32m━━━━━━━━━━━━━━━━━━━━\u001b[0m\u001b[37m\u001b[0m \u001b[1m4s\u001b[0m 2ms/step - accuracy: 0.9873 - loss: 0.0430\n",
      "\u001b[1m313/313\u001b[0m \u001b[32m━━━━━━━━━━━━━━━━━━━━\u001b[0m\u001b[37m\u001b[0m \u001b[1m1s\u001b[0m 1ms/step - accuracy: 0.9731 - loss: 0.0890\n"
     ]
    },
    {
     "data": {
      "text/plain": [
       "[0.07472074031829834, 0.9775999784469604]"
      ]
     },
     "execution_count": 8,
     "metadata": {},
     "output_type": "execute_result"
    }
   ],
   "source": [
    "# Build the model\n",
    "model = Sequential([\n",
    "    Flatten(input_shape=(28, 28)),\n",
    "    Dense(128, activation='relu'),\n",
    "    Dense(10, activation='softmax')\n",
    "])\n",
    "\n",
    "# Compile the model\n",
    "model.compile(optimizer='adam',\n",
    "              loss ='sparse_categorical_crossentropy',\n",
    "              metrics=['accuracy'])\n",
    "\n",
    "# Train the model\n",
    "model.fit(x_train, y_train, epochs=5)\n",
    "\n",
    "# Evaluate the model\n",
    "model.evaluate(x_test, y_test)"
   ]
  },
  {
   "cell_type": "markdown",
   "id": "ca5cb6d6",
   "metadata": {
    "papermill": {
     "duration": 0.027229,
     "end_time": "2024-12-13T16:04:11.994436",
     "exception": false,
     "start_time": "2024-12-13T16:04:11.967207",
     "status": "completed"
    },
    "tags": []
   },
   "source": [
    "# Tensorflow\n"
   ]
  },
  {
   "cell_type": "code",
   "execution_count": 9,
   "id": "be3207ff",
   "metadata": {
    "execution": {
     "iopub.execute_input": "2024-12-13T16:04:12.050895Z",
     "iopub.status.busy": "2024-12-13T16:04:12.050491Z",
     "iopub.status.idle": "2024-12-13T16:04:12.531822Z",
     "shell.execute_reply": "2024-12-13T16:04:12.530730Z"
    },
    "papermill": {
     "duration": 0.51337,
     "end_time": "2024-12-13T16:04:12.534998",
     "exception": false,
     "start_time": "2024-12-13T16:04:12.021628",
     "status": "completed"
    },
    "tags": []
   },
   "outputs": [],
   "source": [
    "import tensorflow as tf\n",
    "from tensorflow.keras.datasets import mnist\n",
    "\n",
    "#load and preprocess data\n",
    "\n",
    "(x_train, y_train),(test, y_test) = mnist.load_data()\n",
    "x_train, x_test = x_train / 255.0, x_test /255.0\n",
    "\n",
    "\n",
    "#convert labels to one-hot encoding \n",
    "\n",
    "y_train = tf.one_hot(y_train,depth =10).numpy()\n",
    "y_test = tf.one_hot(y_test, depth = 10).numpy()"
   ]
  },
  {
   "cell_type": "markdown",
   "id": "bd04e247",
   "metadata": {
    "papermill": {
     "duration": 0.027341,
     "end_time": "2024-12-13T16:04:12.597578",
     "exception": false,
     "start_time": "2024-12-13T16:04:12.570237",
     "status": "completed"
    },
    "tags": []
   },
   "source": [
    "# PyTorch"
   ]
  },
  {
   "cell_type": "code",
   "execution_count": 10,
   "id": "8472e53c",
   "metadata": {
    "execution": {
     "iopub.execute_input": "2024-12-13T16:04:12.672544Z",
     "iopub.status.busy": "2024-12-13T16:04:12.672176Z",
     "iopub.status.idle": "2024-12-13T16:04:22.989090Z",
     "shell.execute_reply": "2024-12-13T16:04:22.987596Z"
    },
    "papermill": {
     "duration": 10.352017,
     "end_time": "2024-12-13T16:04:22.992702",
     "exception": false,
     "start_time": "2024-12-13T16:04:12.640685",
     "status": "completed"
    },
    "tags": []
   },
   "outputs": [
    {
     "name": "stdout",
     "output_type": "stream",
     "text": [
      "Downloading http://yann.lecun.com/exdb/mnist/train-images-idx3-ubyte.gz\n",
      "Failed to download (trying next):\n",
      "HTTP Error 403: Forbidden\n",
      "\n",
      "Downloading https://ossci-datasets.s3.amazonaws.com/mnist/train-images-idx3-ubyte.gz\n",
      "Downloading https://ossci-datasets.s3.amazonaws.com/mnist/train-images-idx3-ubyte.gz to ./data/MNIST/raw/train-images-idx3-ubyte.gz\n"
     ]
    },
    {
     "name": "stderr",
     "output_type": "stream",
     "text": [
      "100%|██████████| 9912422/9912422 [00:00<00:00, 17661001.75it/s]\n"
     ]
    },
    {
     "name": "stdout",
     "output_type": "stream",
     "text": [
      "Extracting ./data/MNIST/raw/train-images-idx3-ubyte.gz to ./data/MNIST/raw\n",
      "\n",
      "Downloading http://yann.lecun.com/exdb/mnist/train-labels-idx1-ubyte.gz\n",
      "Failed to download (trying next):\n",
      "HTTP Error 403: Forbidden\n",
      "\n",
      "Downloading https://ossci-datasets.s3.amazonaws.com/mnist/train-labels-idx1-ubyte.gz\n",
      "Downloading https://ossci-datasets.s3.amazonaws.com/mnist/train-labels-idx1-ubyte.gz to ./data/MNIST/raw/train-labels-idx1-ubyte.gz\n"
     ]
    },
    {
     "name": "stderr",
     "output_type": "stream",
     "text": [
      "100%|██████████| 28881/28881 [00:00<00:00, 469550.95it/s]\n"
     ]
    },
    {
     "name": "stdout",
     "output_type": "stream",
     "text": [
      "Extracting ./data/MNIST/raw/train-labels-idx1-ubyte.gz to ./data/MNIST/raw\n",
      "\n",
      "Downloading http://yann.lecun.com/exdb/mnist/t10k-images-idx3-ubyte.gz\n",
      "Failed to download (trying next):\n",
      "HTTP Error 403: Forbidden\n",
      "\n",
      "Downloading https://ossci-datasets.s3.amazonaws.com/mnist/t10k-images-idx3-ubyte.gz\n",
      "Downloading https://ossci-datasets.s3.amazonaws.com/mnist/t10k-images-idx3-ubyte.gz to ./data/MNIST/raw/t10k-images-idx3-ubyte.gz\n"
     ]
    },
    {
     "name": "stderr",
     "output_type": "stream",
     "text": [
      "100%|██████████| 1648877/1648877 [00:00<00:00, 4400698.55it/s]\n"
     ]
    },
    {
     "name": "stdout",
     "output_type": "stream",
     "text": [
      "Extracting ./data/MNIST/raw/t10k-images-idx3-ubyte.gz to ./data/MNIST/raw\n",
      "\n",
      "Downloading http://yann.lecun.com/exdb/mnist/t10k-labels-idx1-ubyte.gz\n",
      "Failed to download (trying next):\n",
      "HTTP Error 403: Forbidden\n",
      "\n",
      "Downloading https://ossci-datasets.s3.amazonaws.com/mnist/t10k-labels-idx1-ubyte.gz\n",
      "Downloading https://ossci-datasets.s3.amazonaws.com/mnist/t10k-labels-idx1-ubyte.gz to ./data/MNIST/raw/t10k-labels-idx1-ubyte.gz\n"
     ]
    },
    {
     "name": "stderr",
     "output_type": "stream",
     "text": [
      "100%|██████████| 4542/4542 [00:00<00:00, 1465199.87it/s]"
     ]
    },
    {
     "name": "stdout",
     "output_type": "stream",
     "text": [
      "Extracting ./data/MNIST/raw/t10k-labels-idx1-ubyte.gz to ./data/MNIST/raw\n",
      "\n"
     ]
    },
    {
     "name": "stderr",
     "output_type": "stream",
     "text": [
      "\n"
     ]
    }
   ],
   "source": [
    "import torch\n",
    "import torch.nn as nn\n",
    "import torch.optim as optim\n",
    "from torchvision import datasets, transforms\n",
    "from torch.utils.data import DataLoader\n",
    "\n",
    "# Load and preprocess data\n",
    "transform = transforms.ToTensor()\n",
    "train_dataset = datasets.MNIST(root='./data', train=True, transform=transform, download=True)\n",
    "test_dataset = datasets.MNIST(root='./data', train=False, transform=transform)\n",
    "\n",
    "train_loader = DataLoader(train_dataset, batch_size=64, shuffle=True)\n",
    "test_loader = DataLoader(test_dataset, batch_size=64, shuffle=False)\n",
    "\n",
    "# Define the model\n",
    "class NeuralNetwork(nn.Module):\n",
    "    def __init__(self):\n",
    "        super(NeuralNetwork, self).__init__()\n",
    "        self.flatten = nn.Flatten()\n",
    "        self.fc1 = nn.Linear(28 * 28, 128)\n",
    "        self.relu = nn.ReLU()\n",
    "        self.fc2 = nn.Linear(128, 10)\n",
    "        self.softmax = nn.Softmax(dim=1)\n",
    "\n",
    "    def forward(self, x):\n",
    "        x = self.flatten(x)\n",
    "        x = self.relu(self.fc1(x))\n",
    "        x = self.softmax(self.fc2(x))\n",
    "        return x"
   ]
  },
  {
   "cell_type": "code",
   "execution_count": 11,
   "id": "e718b42d",
   "metadata": {
    "execution": {
     "iopub.execute_input": "2024-12-13T16:04:23.057763Z",
     "iopub.status.busy": "2024-12-13T16:04:23.056195Z",
     "iopub.status.idle": "2024-12-13T16:04:23.078459Z",
     "shell.execute_reply": "2024-12-13T16:04:23.077055Z"
    },
    "papermill": {
     "duration": 0.056853,
     "end_time": "2024-12-13T16:04:23.081182",
     "exception": false,
     "start_time": "2024-12-13T16:04:23.024329",
     "status": "completed"
    },
    "tags": []
   },
   "outputs": [],
   "source": [
    "model = NeuralNetwork()\n",
    "\n",
    "# Define loss and optimizer\n",
    "criterion = nn.CrossEntropyLoss()\n",
    "optimizer = optim.Adam(model.parameters(), lr=0.001)\n"
   ]
  },
  {
   "cell_type": "code",
   "execution_count": 12,
   "id": "566e272f",
   "metadata": {
    "execution": {
     "iopub.execute_input": "2024-12-13T16:04:23.145071Z",
     "iopub.status.busy": "2024-12-13T16:04:23.144583Z",
     "iopub.status.idle": "2024-12-13T16:05:06.574892Z",
     "shell.execute_reply": "2024-12-13T16:05:06.573736Z"
    },
    "papermill": {
     "duration": 43.493424,
     "end_time": "2024-12-13T16:05:06.606486",
     "exception": false,
     "start_time": "2024-12-13T16:04:23.113062",
     "status": "completed"
    },
    "tags": []
   },
   "outputs": [
    {
     "name": "stdout",
     "output_type": "stream",
     "text": [
      "Accuracy: 96.41%\n"
     ]
    }
   ],
   "source": [
    "# Training loop\n",
    "for epoch in range(5):\n",
    "    for images, labels in train_loader:\n",
    "        # Forward pass\n",
    "        outputs = model(images)\n",
    "        loss = criterion(outputs, labels)\n",
    "\n",
    "        # Backward pass\n",
    "        optimizer.zero_grad()\n",
    "        loss.backward()\n",
    "        optimizer.step()\n",
    "\n",
    "# Evaluate the model\n",
    "correct = 0\n",
    "total = 0\n",
    "with torch.no_grad():\n",
    "    for images, labels in test_loader:\n",
    "        outputs = model(images)\n",
    "        _, predicted = torch.max(outputs, 1)\n",
    "        total += labels.size(0)\n",
    "        correct += (predicted == labels).sum().item()\n",
    "\n",
    "print(f\"Accuracy: {100 * correct / total}%\")"
   ]
  },
  {
   "cell_type": "code",
   "execution_count": null,
   "id": "bd4da744",
   "metadata": {
    "papermill": {
     "duration": 0.028585,
     "end_time": "2024-12-13T16:05:06.663710",
     "exception": false,
     "start_time": "2024-12-13T16:05:06.635125",
     "status": "completed"
    },
    "tags": []
   },
   "outputs": [],
   "source": []
  }
 ],
 "metadata": {
  "kaggle": {
   "accelerator": "none",
   "dataSources": [],
   "dockerImageVersionId": 30786,
   "isGpuEnabled": false,
   "isInternetEnabled": true,
   "language": "python",
   "sourceType": "notebook"
  },
  "kernelspec": {
   "display_name": "Python 3",
   "language": "python",
   "name": "python3"
  },
  "language_info": {
   "codemirror_mode": {
    "name": "ipython",
    "version": 3
   },
   "file_extension": ".py",
   "mimetype": "text/x-python",
   "name": "python",
   "nbconvert_exporter": "python",
   "pygments_lexer": "ipython3",
   "version": "3.10.14"
  },
  "papermill": {
   "default_parameters": {},
   "duration": 102.622938,
   "end_time": "2024-12-13T16:05:09.684679",
   "environment_variables": {},
   "exception": null,
   "input_path": "__notebook__.ipynb",
   "output_path": "__notebook__.ipynb",
   "parameters": {},
   "start_time": "2024-12-13T16:03:27.061741",
   "version": "2.6.0"
  }
 },
 "nbformat": 4,
 "nbformat_minor": 5
}

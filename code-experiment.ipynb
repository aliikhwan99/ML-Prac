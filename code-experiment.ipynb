{
 "cells": [
  {
   "cell_type": "markdown",
   "id": "f25372e9",
   "metadata": {
    "papermill": {
     "duration": 0.004811,
     "end_time": "2025-01-06T02:36:43.137146",
     "exception": false,
     "start_time": "2025-01-06T02:36:43.132335",
     "status": "completed"
    },
    "tags": []
   },
   "source": [
    "# Scikit-learn\n"
   ]
  },
  {
   "cell_type": "code",
   "execution_count": 1,
   "id": "0fd88c1d",
   "metadata": {
    "execution": {
     "iopub.execute_input": "2025-01-06T02:36:43.147124Z",
     "iopub.status.busy": "2025-01-06T02:36:43.146671Z",
     "iopub.status.idle": "2025-01-06T02:36:45.108438Z",
     "shell.execute_reply": "2025-01-06T02:36:45.107179Z"
    },
    "papermill": {
     "duration": 1.96987,
     "end_time": "2025-01-06T02:36:45.111163",
     "exception": false,
     "start_time": "2025-01-06T02:36:43.141293",
     "status": "completed"
    },
    "tags": []
   },
   "outputs": [],
   "source": [
    "from sklearn.preprocessing import StandardScaler\n",
    "from sklearn.datasets import load_iris\n",
    "from sklearn.model_selection import train_test_split\n",
    "from sklearn.linear_model import LinearRegression\n",
    "from sklearn.ensemble import RandomForestClassifier\n",
    "from sklearn.metrics import accuracy_score"
   ]
  },
  {
   "cell_type": "code",
   "execution_count": 2,
   "id": "aa243cc6",
   "metadata": {
    "execution": {
     "iopub.execute_input": "2025-01-06T02:36:45.122337Z",
     "iopub.status.busy": "2025-01-06T02:36:45.121789Z",
     "iopub.status.idle": "2025-01-06T02:36:45.136246Z",
     "shell.execute_reply": "2025-01-06T02:36:45.135213Z"
    },
    "papermill": {
     "duration": 0.023087,
     "end_time": "2025-01-06T02:36:45.138791",
     "exception": false,
     "start_time": "2025-01-06T02:36:45.115704",
     "status": "completed"
    },
    "tags": []
   },
   "outputs": [],
   "source": [
    "data = load_iris()\n",
    "\n",
    "x, y = data.data, data.target\n",
    "\n",
    "x_train, x_test, y_train, y_test = train_test_split(x, y, test_size = 0.2, random_state = 42) "
   ]
  },
  {
   "cell_type": "code",
   "execution_count": 3,
   "id": "db0b4e3e",
   "metadata": {
    "execution": {
     "iopub.execute_input": "2025-01-06T02:36:45.148904Z",
     "iopub.status.busy": "2025-01-06T02:36:45.148506Z",
     "iopub.status.idle": "2025-01-06T02:36:45.160162Z",
     "shell.execute_reply": "2025-01-06T02:36:45.158856Z"
    },
    "papermill": {
     "duration": 0.019365,
     "end_time": "2025-01-06T02:36:45.162436",
     "exception": false,
     "start_time": "2025-01-06T02:36:45.143071",
     "status": "completed"
    },
    "tags": []
   },
   "outputs": [],
   "source": [
    "scale = StandardScaler()\n",
    "\n",
    "x_train_scale = scale.fit_transform(x_train)\n",
    "\n",
    "x_test_scale = scale.transform(x_test)"
   ]
  },
  {
   "cell_type": "markdown",
   "id": "d5fa631f",
   "metadata": {
    "papermill": {
     "duration": 0.004343,
     "end_time": "2025-01-06T02:36:45.172176",
     "exception": false,
     "start_time": "2025-01-06T02:36:45.167833",
     "status": "completed"
    },
    "tags": []
   },
   "source": [
    "# Pipeline"
   ]
  },
  {
   "cell_type": "code",
   "execution_count": 4,
   "id": "39c30afa",
   "metadata": {
    "execution": {
     "iopub.execute_input": "2025-01-06T02:36:45.182207Z",
     "iopub.status.busy": "2025-01-06T02:36:45.181679Z",
     "iopub.status.idle": "2025-01-06T02:36:45.189500Z",
     "shell.execute_reply": "2025-01-06T02:36:45.188393Z"
    },
    "papermill": {
     "duration": 0.015532,
     "end_time": "2025-01-06T02:36:45.192008",
     "exception": false,
     "start_time": "2025-01-06T02:36:45.176476",
     "status": "completed"
    },
    "tags": []
   },
   "outputs": [],
   "source": [
    "from sklearn.pipeline import Pipeline\n",
    "from sklearn.linear_model import LogisticRegression"
   ]
  },
  {
   "cell_type": "code",
   "execution_count": 5,
   "id": "2cf32c14",
   "metadata": {
    "execution": {
     "iopub.execute_input": "2025-01-06T02:36:45.202017Z",
     "iopub.status.busy": "2025-01-06T02:36:45.201611Z",
     "iopub.status.idle": "2025-01-06T02:36:45.231568Z",
     "shell.execute_reply": "2025-01-06T02:36:45.230259Z"
    },
    "papermill": {
     "duration": 0.037708,
     "end_time": "2025-01-06T02:36:45.234013",
     "exception": false,
     "start_time": "2025-01-06T02:36:45.196305",
     "status": "completed"
    },
    "tags": []
   },
   "outputs": [
    {
     "name": "stdout",
     "output_type": "stream",
     "text": [
      "Accuarcy:1.00\n"
     ]
    }
   ],
   "source": [
    "pipeline = Pipeline([\n",
    "        ('scaler', StandardScaler()),\n",
    "        ('classifier', LogisticRegression())\n",
    "])\n",
    "\n",
    "#train model\n",
    "pipeline.fit(x_train, y_train)\n",
    "\n",
    "#make predictions\n",
    "y_pred = pipeline.predict(x_test)\n",
    "\n",
    "#evaluate\n",
    "print(f\"Accuarcy:{pipeline.score(x_test, y_test):.2f}\")\n"
   ]
  },
  {
   "cell_type": "markdown",
   "id": "8d13db67",
   "metadata": {
    "papermill": {
     "duration": 0.003834,
     "end_time": "2025-01-06T02:36:45.242097",
     "exception": false,
     "start_time": "2025-01-06T02:36:45.238263",
     "status": "completed"
    },
    "tags": []
   },
   "source": [
    "# Keras"
   ]
  },
  {
   "cell_type": "code",
   "execution_count": 6,
   "id": "625db968",
   "metadata": {
    "execution": {
     "iopub.execute_input": "2025-01-06T02:36:45.252983Z",
     "iopub.status.busy": "2025-01-06T02:36:45.252594Z",
     "iopub.status.idle": "2025-01-06T02:37:00.441933Z",
     "shell.execute_reply": "2025-01-06T02:37:00.440825Z"
    },
    "papermill": {
     "duration": 15.197211,
     "end_time": "2025-01-06T02:37:00.444494",
     "exception": false,
     "start_time": "2025-01-06T02:36:45.247283",
     "status": "completed"
    },
    "tags": []
   },
   "outputs": [],
   "source": [
    "import tensorflow as tf\n",
    "from tensorflow.keras import Sequential\n",
    "from tensorflow.keras.layers import Dense, Flatten\n",
    "from tensorflow.keras.datasets import mnist"
   ]
  },
  {
   "cell_type": "code",
   "execution_count": 7,
   "id": "cb171cfa",
   "metadata": {
    "execution": {
     "iopub.execute_input": "2025-01-06T02:37:00.454703Z",
     "iopub.status.busy": "2025-01-06T02:37:00.454105Z",
     "iopub.status.idle": "2025-01-06T02:37:01.175469Z",
     "shell.execute_reply": "2025-01-06T02:37:01.174168Z"
    },
    "papermill": {
     "duration": 0.729892,
     "end_time": "2025-01-06T02:37:01.178611",
     "exception": false,
     "start_time": "2025-01-06T02:37:00.448719",
     "status": "completed"
    },
    "tags": []
   },
   "outputs": [
    {
     "name": "stdout",
     "output_type": "stream",
     "text": [
      "Downloading data from https://storage.googleapis.com/tensorflow/tf-keras-datasets/mnist.npz\n",
      "\u001b[1m11490434/11490434\u001b[0m \u001b[32m━━━━━━━━━━━━━━━━━━━━\u001b[0m\u001b[37m\u001b[0m \u001b[1m0s\u001b[0m 0us/step\n"
     ]
    }
   ],
   "source": [
    "#load data \n",
    "(x_train, y_train),(x_test, y_test) = mnist.load_data()\n",
    "\n",
    "#normalize\n",
    "(x_train, x_test) = x_train/255.0, x_test/255.0"
   ]
  },
  {
   "cell_type": "code",
   "execution_count": 8,
   "id": "509b6c5d",
   "metadata": {
    "execution": {
     "iopub.execute_input": "2025-01-06T02:37:01.195373Z",
     "iopub.status.busy": "2025-01-06T02:37:01.194543Z",
     "iopub.status.idle": "2025-01-06T02:37:26.983546Z",
     "shell.execute_reply": "2025-01-06T02:37:26.982409Z"
    },
    "papermill": {
     "duration": 25.799952,
     "end_time": "2025-01-06T02:37:26.985773",
     "exception": false,
     "start_time": "2025-01-06T02:37:01.185821",
     "status": "completed"
    },
    "tags": []
   },
   "outputs": [
    {
     "name": "stderr",
     "output_type": "stream",
     "text": [
      "/opt/conda/lib/python3.10/site-packages/keras/src/layers/reshaping/flatten.py:37: UserWarning: Do not pass an `input_shape`/`input_dim` argument to a layer. When using Sequential models, prefer using an `Input(shape)` object as the first layer in the model instead.\n",
      "  super().__init__(**kwargs)\n"
     ]
    },
    {
     "name": "stdout",
     "output_type": "stream",
     "text": [
      "Epoch 1/5\n",
      "\u001b[1m1875/1875\u001b[0m \u001b[32m━━━━━━━━━━━━━━━━━━━━\u001b[0m\u001b[37m\u001b[0m \u001b[1m6s\u001b[0m 3ms/step - accuracy: 0.8764 - loss: 0.4336\n",
      "Epoch 2/5\n",
      "\u001b[1m1875/1875\u001b[0m \u001b[32m━━━━━━━━━━━━━━━━━━━━\u001b[0m\u001b[37m\u001b[0m \u001b[1m5s\u001b[0m 3ms/step - accuracy: 0.9618 - loss: 0.1301\n",
      "Epoch 3/5\n",
      "\u001b[1m1875/1875\u001b[0m \u001b[32m━━━━━━━━━━━━━━━━━━━━\u001b[0m\u001b[37m\u001b[0m \u001b[1m5s\u001b[0m 2ms/step - accuracy: 0.9745 - loss: 0.0863\n",
      "Epoch 4/5\n",
      "\u001b[1m1875/1875\u001b[0m \u001b[32m━━━━━━━━━━━━━━━━━━━━\u001b[0m\u001b[37m\u001b[0m \u001b[1m5s\u001b[0m 2ms/step - accuracy: 0.9828 - loss: 0.0577\n",
      "Epoch 5/5\n",
      "\u001b[1m1875/1875\u001b[0m \u001b[32m━━━━━━━━━━━━━━━━━━━━\u001b[0m\u001b[37m\u001b[0m \u001b[1m5s\u001b[0m 2ms/step - accuracy: 0.9857 - loss: 0.0458\n",
      "\u001b[1m313/313\u001b[0m \u001b[32m━━━━━━━━━━━━━━━━━━━━\u001b[0m\u001b[37m\u001b[0m \u001b[1m1s\u001b[0m 1ms/step - accuracy: 0.9738 - loss: 0.0814\n"
     ]
    },
    {
     "data": {
      "text/plain": [
       "[0.07276337593793869, 0.9764000177383423]"
      ]
     },
     "execution_count": 8,
     "metadata": {},
     "output_type": "execute_result"
    }
   ],
   "source": [
    "# Build the model\n",
    "model = Sequential([\n",
    "    Flatten(input_shape=(28, 28)),\n",
    "    Dense(128, activation='relu'),\n",
    "    Dense(10, activation='softmax')\n",
    "])\n",
    "\n",
    "# Compile the model\n",
    "model.compile(optimizer='adam',\n",
    "              loss ='sparse_categorical_crossentropy',\n",
    "              metrics=['accuracy'])\n",
    "\n",
    "# Train the model\n",
    "model.fit(x_train, y_train, epochs=5)\n",
    "\n",
    "# Evaluate the model\n",
    "model.evaluate(x_test, y_test)"
   ]
  },
  {
   "cell_type": "markdown",
   "id": "c5564121",
   "metadata": {
    "papermill": {
     "duration": 0.031643,
     "end_time": "2025-01-06T02:37:27.049366",
     "exception": false,
     "start_time": "2025-01-06T02:37:27.017723",
     "status": "completed"
    },
    "tags": []
   },
   "source": [
    "# Tensorflow\n"
   ]
  },
  {
   "cell_type": "code",
   "execution_count": 9,
   "id": "d91157ad",
   "metadata": {
    "execution": {
     "iopub.execute_input": "2025-01-06T02:37:27.112557Z",
     "iopub.status.busy": "2025-01-06T02:37:27.112175Z",
     "iopub.status.idle": "2025-01-06T02:37:27.117573Z",
     "shell.execute_reply": "2025-01-06T02:37:27.116446Z"
    },
    "papermill": {
     "duration": 0.040019,
     "end_time": "2025-01-06T02:37:27.119833",
     "exception": false,
     "start_time": "2025-01-06T02:37:27.079814",
     "status": "completed"
    },
    "tags": []
   },
   "outputs": [],
   "source": [
    "import tensorflow as tf\n",
    "from tensorflow.keras.datasets import mnist"
   ]
  },
  {
   "cell_type": "code",
   "execution_count": 10,
   "id": "26eae628",
   "metadata": {
    "execution": {
     "iopub.execute_input": "2025-01-06T02:37:27.184631Z",
     "iopub.status.busy": "2025-01-06T02:37:27.183855Z",
     "iopub.status.idle": "2025-01-06T02:37:27.199879Z",
     "shell.execute_reply": "2025-01-06T02:37:27.199023Z"
    },
    "papermill": {
     "duration": 0.050368,
     "end_time": "2025-01-06T02:37:27.202254",
     "exception": false,
     "start_time": "2025-01-06T02:37:27.151886",
     "status": "completed"
    },
    "tags": []
   },
   "outputs": [],
   "source": [
    "class NeuralNetwork(tf.keras.Model):\n",
    "    def __init__(self):\n",
    "        super().__init__()\n",
    "        self.flatten = tf.keras.layers.Flatten()\n",
    "        self.dense1 = tf.keras.layers.Dense(128, activation = \"relu\")\n",
    "        self.dense2 = tf.keras.layers.Dense(10, activation = 'softmax')\n",
    "\n",
    "    def call(self,x):\n",
    "        x = self.flatten(x)\n",
    "        x = self.dense1(x)\n",
    "        return self.dense2(x)\n",
    "\n",
    "model = NeuralNetwork()\n",
    "\n",
    "#define loss and optimizer\n",
    "\n",
    "loss_fn = tf.keras.losses.CategoricalCrossentropy()\n",
    "optimizer = tf.optimizers.Adam()\n",
    "\n"
   ]
  },
  {
   "cell_type": "markdown",
   "id": "0c1b6edd",
   "metadata": {
    "papermill": {
     "duration": 0.030207,
     "end_time": "2025-01-06T02:37:27.263544",
     "exception": false,
     "start_time": "2025-01-06T02:37:27.233337",
     "status": "completed"
    },
    "tags": []
   },
   "source": [
    "# PyTorch"
   ]
  },
  {
   "cell_type": "code",
   "execution_count": 11,
   "id": "95de8201",
   "metadata": {
    "execution": {
     "iopub.execute_input": "2025-01-06T02:37:27.325743Z",
     "iopub.status.busy": "2025-01-06T02:37:27.325355Z",
     "iopub.status.idle": "2025-01-06T02:37:34.835741Z",
     "shell.execute_reply": "2025-01-06T02:37:34.834601Z"
    },
    "papermill": {
     "duration": 7.544532,
     "end_time": "2025-01-06T02:37:34.838115",
     "exception": false,
     "start_time": "2025-01-06T02:37:27.293583",
     "status": "completed"
    },
    "tags": []
   },
   "outputs": [
    {
     "name": "stdout",
     "output_type": "stream",
     "text": [
      "Downloading http://yann.lecun.com/exdb/mnist/train-images-idx3-ubyte.gz\n",
      "Failed to download (trying next):\n",
      "HTTP Error 403: Forbidden\n",
      "\n",
      "Downloading https://ossci-datasets.s3.amazonaws.com/mnist/train-images-idx3-ubyte.gz\n",
      "Downloading https://ossci-datasets.s3.amazonaws.com/mnist/train-images-idx3-ubyte.gz to ./data/MNIST/raw/train-images-idx3-ubyte.gz\n"
     ]
    },
    {
     "name": "stderr",
     "output_type": "stream",
     "text": [
      "100%|██████████| 9912422/9912422 [00:00<00:00, 53766307.43it/s]\n"
     ]
    },
    {
     "name": "stdout",
     "output_type": "stream",
     "text": [
      "Extracting ./data/MNIST/raw/train-images-idx3-ubyte.gz to ./data/MNIST/raw\n",
      "\n",
      "Downloading http://yann.lecun.com/exdb/mnist/train-labels-idx1-ubyte.gz\n",
      "Failed to download (trying next):\n",
      "HTTP Error 403: Forbidden\n",
      "\n",
      "Downloading https://ossci-datasets.s3.amazonaws.com/mnist/train-labels-idx1-ubyte.gz\n",
      "Downloading https://ossci-datasets.s3.amazonaws.com/mnist/train-labels-idx1-ubyte.gz to ./data/MNIST/raw/train-labels-idx1-ubyte.gz\n"
     ]
    },
    {
     "name": "stderr",
     "output_type": "stream",
     "text": [
      "100%|██████████| 28881/28881 [00:00<00:00, 1642985.72it/s]"
     ]
    },
    {
     "name": "stdout",
     "output_type": "stream",
     "text": [
      "Extracting ./data/MNIST/raw/train-labels-idx1-ubyte.gz to ./data/MNIST/raw\n",
      "\n",
      "Downloading http://yann.lecun.com/exdb/mnist/t10k-images-idx3-ubyte.gz\n"
     ]
    },
    {
     "name": "stderr",
     "output_type": "stream",
     "text": [
      "\n"
     ]
    },
    {
     "name": "stdout",
     "output_type": "stream",
     "text": [
      "Failed to download (trying next):\n",
      "HTTP Error 403: Forbidden\n",
      "\n",
      "Downloading https://ossci-datasets.s3.amazonaws.com/mnist/t10k-images-idx3-ubyte.gz\n",
      "Downloading https://ossci-datasets.s3.amazonaws.com/mnist/t10k-images-idx3-ubyte.gz to ./data/MNIST/raw/t10k-images-idx3-ubyte.gz\n"
     ]
    },
    {
     "name": "stderr",
     "output_type": "stream",
     "text": [
      "100%|██████████| 1648877/1648877 [00:00<00:00, 14475296.58it/s]\n"
     ]
    },
    {
     "name": "stdout",
     "output_type": "stream",
     "text": [
      "Extracting ./data/MNIST/raw/t10k-images-idx3-ubyte.gz to ./data/MNIST/raw\n",
      "\n",
      "Downloading http://yann.lecun.com/exdb/mnist/t10k-labels-idx1-ubyte.gz\n",
      "Failed to download (trying next):\n",
      "HTTP Error 403: Forbidden\n",
      "\n",
      "Downloading https://ossci-datasets.s3.amazonaws.com/mnist/t10k-labels-idx1-ubyte.gz\n",
      "Downloading https://ossci-datasets.s3.amazonaws.com/mnist/t10k-labels-idx1-ubyte.gz to ./data/MNIST/raw/t10k-labels-idx1-ubyte.gz\n"
     ]
    },
    {
     "name": "stderr",
     "output_type": "stream",
     "text": [
      "100%|██████████| 4542/4542 [00:00<00:00, 1856776.68it/s]"
     ]
    },
    {
     "name": "stdout",
     "output_type": "stream",
     "text": [
      "Extracting ./data/MNIST/raw/t10k-labels-idx1-ubyte.gz to ./data/MNIST/raw\n",
      "\n"
     ]
    },
    {
     "name": "stderr",
     "output_type": "stream",
     "text": [
      "\n"
     ]
    }
   ],
   "source": [
    "import torch\n",
    "import torch.nn as nn\n",
    "import torch.optim as optim\n",
    "from torchvision import datasets, transforms\n",
    "from torch.utils.data import DataLoader\n",
    "\n",
    "# Load and preprocess data\n",
    "transform = transforms.ToTensor()\n",
    "train_dataset = datasets.MNIST(root='./data', train=True, transform=transform, download=True)\n",
    "test_dataset = datasets.MNIST(root='./data', train=False, transform=transform)\n",
    "\n",
    "train_loader = DataLoader(train_dataset, batch_size=64, shuffle=True)\n",
    "test_loader = DataLoader(test_dataset, batch_size=64, shuffle=False)\n",
    "\n",
    "# Define the model\n",
    "class NeuralNetwork(nn.Module):\n",
    "    def __init__(self):\n",
    "        super(NeuralNetwork, self).__init__()\n",
    "        self.flatten = nn.Flatten()\n",
    "        self.fc1 = nn.Linear(28 * 28, 128)\n",
    "        self.relu = nn.ReLU()\n",
    "        self.fc2 = nn.Linear(128, 10)\n",
    "        self.softmax = nn.Softmax(dim=1)\n",
    "\n",
    "    def forward(self, x):\n",
    "        x = self.flatten(x)\n",
    "        x = self.relu(self.fc1(x))\n",
    "        x = self.softmax(self.fc2(x))\n",
    "        return x"
   ]
  },
  {
   "cell_type": "code",
   "execution_count": 12,
   "id": "cb29d6f4",
   "metadata": {
    "execution": {
     "iopub.execute_input": "2025-01-06T02:37:34.904987Z",
     "iopub.status.busy": "2025-01-06T02:37:34.904066Z",
     "iopub.status.idle": "2025-01-06T02:37:34.924264Z",
     "shell.execute_reply": "2025-01-06T02:37:34.923031Z"
    },
    "papermill": {
     "duration": 0.057021,
     "end_time": "2025-01-06T02:37:34.926898",
     "exception": false,
     "start_time": "2025-01-06T02:37:34.869877",
     "status": "completed"
    },
    "tags": []
   },
   "outputs": [],
   "source": [
    "model = NeuralNetwork()\n",
    "\n",
    "# Define loss and optimizer\n",
    "criterion = nn.CrossEntropyLoss()\n",
    "optimizer = optim.Adam(model.parameters(), lr=0.001)\n"
   ]
  },
  {
   "cell_type": "code",
   "execution_count": 13,
   "id": "ccb156e6",
   "metadata": {
    "execution": {
     "iopub.execute_input": "2025-01-06T02:37:34.992740Z",
     "iopub.status.busy": "2025-01-06T02:37:34.992357Z",
     "iopub.status.idle": "2025-01-06T02:38:21.891909Z",
     "shell.execute_reply": "2025-01-06T02:38:21.890189Z"
    },
    "papermill": {
     "duration": 46.967156,
     "end_time": "2025-01-06T02:38:21.926192",
     "exception": false,
     "start_time": "2025-01-06T02:37:34.959036",
     "status": "completed"
    },
    "tags": []
   },
   "outputs": [
    {
     "name": "stdout",
     "output_type": "stream",
     "text": [
      "Accuracy: 96.46%\n"
     ]
    }
   ],
   "source": [
    "# Training loop\n",
    "for epoch in range(5):\n",
    "    for images, labels in train_loader:\n",
    "        # Forward pass\n",
    "        outputs = model(images)\n",
    "        loss = criterion(outputs, labels)\n",
    "\n",
    "        # Backward pass\n",
    "        optimizer.zero_grad()\n",
    "        loss.backward()\n",
    "        optimizer.step()\n",
    "\n",
    "# Evaluate the model\n",
    "correct = 0\n",
    "total = 0\n",
    "with torch.no_grad():\n",
    "    for images, labels in test_loader:\n",
    "        outputs = model(images)\n",
    "        _, predicted = torch.max(outputs, 1)\n",
    "        total += labels.size(0)\n",
    "        correct += (predicted == labels).sum().item()\n",
    "\n",
    "print(f\"Accuracy: {100 * correct / total}%\")"
   ]
  },
  {
   "cell_type": "code",
   "execution_count": null,
   "id": "dfbf96c8",
   "metadata": {
    "papermill": {
     "duration": 0.031572,
     "end_time": "2025-01-06T02:38:21.989413",
     "exception": false,
     "start_time": "2025-01-06T02:38:21.957841",
     "status": "completed"
    },
    "tags": []
   },
   "outputs": [],
   "source": []
  }
 ],
 "metadata": {
  "kaggle": {
   "accelerator": "none",
   "dataSources": [],
   "dockerImageVersionId": 30786,
   "isGpuEnabled": false,
   "isInternetEnabled": true,
   "language": "python",
   "sourceType": "notebook"
  },
  "kernelspec": {
   "display_name": "Python 3",
   "language": "python",
   "name": "python3"
  },
  "language_info": {
   "codemirror_mode": {
    "name": "ipython",
    "version": 3
   },
   "file_extension": ".py",
   "mimetype": "text/x-python",
   "name": "python",
   "nbconvert_exporter": "python",
   "pygments_lexer": "ipython3",
   "version": "3.10.14"
  },
  "papermill": {
   "default_parameters": {},
   "duration": 105.014881,
   "end_time": "2025-01-06T02:38:24.817322",
   "environment_variables": {},
   "exception": null,
   "input_path": "__notebook__.ipynb",
   "output_path": "__notebook__.ipynb",
   "parameters": {},
   "start_time": "2025-01-06T02:36:39.802441",
   "version": "2.6.0"
  }
 },
 "nbformat": 4,
 "nbformat_minor": 5
}

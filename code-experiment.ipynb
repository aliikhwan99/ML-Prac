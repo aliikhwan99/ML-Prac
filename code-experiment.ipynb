{
 "cells": [
  {
   "cell_type": "markdown",
   "id": "c2da81fc",
   "metadata": {
    "papermill": {
     "duration": 0.004877,
     "end_time": "2025-01-01T03:56:14.490921",
     "exception": false,
     "start_time": "2025-01-01T03:56:14.486044",
     "status": "completed"
    },
    "tags": []
   },
   "source": [
    "# Scikit-learn\n"
   ]
  },
  {
   "cell_type": "code",
   "execution_count": 1,
   "id": "caf07fa9",
   "metadata": {
    "execution": {
     "iopub.execute_input": "2025-01-01T03:56:14.501096Z",
     "iopub.status.busy": "2025-01-01T03:56:14.500670Z",
     "iopub.status.idle": "2025-01-01T03:56:16.434428Z",
     "shell.execute_reply": "2025-01-01T03:56:16.433038Z"
    },
    "papermill": {
     "duration": 1.942056,
     "end_time": "2025-01-01T03:56:16.437261",
     "exception": false,
     "start_time": "2025-01-01T03:56:14.495205",
     "status": "completed"
    },
    "tags": []
   },
   "outputs": [],
   "source": [
    "from sklearn.datasets import load_iris\n",
    "from sklearn.preprocessing import StandardScaler\n",
    "from sklearn.model_selection import train_test_split\n",
    "from sklearn.linear_model import LinearRegression\n",
    "from sklearn.ensemble import RandomForestClassifier\n",
    "from sklearn.metrics import accuracy_score"
   ]
  },
  {
   "cell_type": "code",
   "execution_count": 2,
   "id": "f9cd213a",
   "metadata": {
    "execution": {
     "iopub.execute_input": "2025-01-01T03:56:16.448271Z",
     "iopub.status.busy": "2025-01-01T03:56:16.447695Z",
     "iopub.status.idle": "2025-01-01T03:56:16.464180Z",
     "shell.execute_reply": "2025-01-01T03:56:16.462842Z"
    },
    "papermill": {
     "duration": 0.025179,
     "end_time": "2025-01-01T03:56:16.467005",
     "exception": false,
     "start_time": "2025-01-01T03:56:16.441826",
     "status": "completed"
    },
    "tags": []
   },
   "outputs": [],
   "source": [
    "data = load_iris()\n",
    "\n",
    "x, y = data.data, data.target\n",
    "\n",
    "x_train, x_test, y_train, y_test = train_test_split(x, y, test_size = 0.2, random_state = 42)"
   ]
  },
  {
   "cell_type": "code",
   "execution_count": 3,
   "id": "7da49470",
   "metadata": {
    "execution": {
     "iopub.execute_input": "2025-01-01T03:56:16.477150Z",
     "iopub.status.busy": "2025-01-01T03:56:16.476725Z",
     "iopub.status.idle": "2025-01-01T03:56:16.488179Z",
     "shell.execute_reply": "2025-01-01T03:56:16.486824Z"
    },
    "papermill": {
     "duration": 0.019505,
     "end_time": "2025-01-01T03:56:16.490695",
     "exception": false,
     "start_time": "2025-01-01T03:56:16.471190",
     "status": "completed"
    },
    "tags": []
   },
   "outputs": [],
   "source": [
    "scaler = StandardScaler()\n",
    "\n",
    "x_train_scale = scaler.fit_transform(x_train)\n",
    "\n",
    "x_test_scale = scaler.transform(x_test)\n"
   ]
  },
  {
   "cell_type": "markdown",
   "id": "6ab6f2cd",
   "metadata": {
    "papermill": {
     "duration": 0.003911,
     "end_time": "2025-01-01T03:56:16.498941",
     "exception": false,
     "start_time": "2025-01-01T03:56:16.495030",
     "status": "completed"
    },
    "tags": []
   },
   "source": [
    "# Pipeline"
   ]
  },
  {
   "cell_type": "code",
   "execution_count": 4,
   "id": "005011e7",
   "metadata": {
    "execution": {
     "iopub.execute_input": "2025-01-01T03:56:16.509652Z",
     "iopub.status.busy": "2025-01-01T03:56:16.509215Z",
     "iopub.status.idle": "2025-01-01T03:56:16.517133Z",
     "shell.execute_reply": "2025-01-01T03:56:16.515820Z"
    },
    "papermill": {
     "duration": 0.016767,
     "end_time": "2025-01-01T03:56:16.519853",
     "exception": false,
     "start_time": "2025-01-01T03:56:16.503086",
     "status": "completed"
    },
    "tags": []
   },
   "outputs": [],
   "source": [
    "from sklearn.pipeline import Pipeline\n",
    "from sklearn.linear_model import LogisticRegression"
   ]
  },
  {
   "cell_type": "code",
   "execution_count": 5,
   "id": "9840f9e5",
   "metadata": {
    "execution": {
     "iopub.execute_input": "2025-01-01T03:56:16.530316Z",
     "iopub.status.busy": "2025-01-01T03:56:16.529936Z",
     "iopub.status.idle": "2025-01-01T03:56:16.557978Z",
     "shell.execute_reply": "2025-01-01T03:56:16.556701Z"
    },
    "papermill": {
     "duration": 0.036336,
     "end_time": "2025-01-01T03:56:16.560426",
     "exception": false,
     "start_time": "2025-01-01T03:56:16.524090",
     "status": "completed"
    },
    "tags": []
   },
   "outputs": [
    {
     "name": "stdout",
     "output_type": "stream",
     "text": [
      "Accuarcy:1.00\n"
     ]
    }
   ],
   "source": [
    "pipeline = Pipeline([\n",
    "        ('scaler', StandardScaler()),\n",
    "        ('classifier', LogisticRegression())\n",
    "])\n",
    "\n",
    "#train model\n",
    "pipeline.fit(x_train, y_train)\n",
    "\n",
    "#make predictions\n",
    "y_pred = pipeline.predict(x_test)\n",
    "\n",
    "#evaluate\n",
    "print(f\"Accuarcy:{pipeline.score(x_test, y_test):.2f}\")\n"
   ]
  },
  {
   "cell_type": "markdown",
   "id": "277e9e7c",
   "metadata": {
    "papermill": {
     "duration": 0.003901,
     "end_time": "2025-01-01T03:56:16.568503",
     "exception": false,
     "start_time": "2025-01-01T03:56:16.564602",
     "status": "completed"
    },
    "tags": []
   },
   "source": [
    "# Keras"
   ]
  },
  {
   "cell_type": "code",
   "execution_count": 6,
   "id": "8d2ec28f",
   "metadata": {
    "execution": {
     "iopub.execute_input": "2025-01-01T03:56:16.579535Z",
     "iopub.status.busy": "2025-01-01T03:56:16.579107Z",
     "iopub.status.idle": "2025-01-01T03:56:31.340325Z",
     "shell.execute_reply": "2025-01-01T03:56:31.339172Z"
    },
    "papermill": {
     "duration": 14.769304,
     "end_time": "2025-01-01T03:56:31.342936",
     "exception": false,
     "start_time": "2025-01-01T03:56:16.573632",
     "status": "completed"
    },
    "tags": []
   },
   "outputs": [],
   "source": [
    "import tensorflow as tf\n",
    "from tensorflow.keras import Sequential\n",
    "from tensorflow.keras.layers import Dense, Flatten\n",
    "from tensorflow.keras.datasets import mnist"
   ]
  },
  {
   "cell_type": "code",
   "execution_count": 7,
   "id": "70559add",
   "metadata": {
    "execution": {
     "iopub.execute_input": "2025-01-01T03:56:31.353562Z",
     "iopub.status.busy": "2025-01-01T03:56:31.352851Z",
     "iopub.status.idle": "2025-01-01T03:56:32.904098Z",
     "shell.execute_reply": "2025-01-01T03:56:32.902796Z"
    },
    "papermill": {
     "duration": 1.559507,
     "end_time": "2025-01-01T03:56:32.906781",
     "exception": false,
     "start_time": "2025-01-01T03:56:31.347274",
     "status": "completed"
    },
    "tags": []
   },
   "outputs": [
    {
     "name": "stdout",
     "output_type": "stream",
     "text": [
      "Downloading data from https://storage.googleapis.com/tensorflow/tf-keras-datasets/mnist.npz\n",
      "\u001b[1m11490434/11490434\u001b[0m \u001b[32m━━━━━━━━━━━━━━━━━━━━\u001b[0m\u001b[37m\u001b[0m \u001b[1m1s\u001b[0m 0us/step\n"
     ]
    }
   ],
   "source": [
    "#load data \n",
    "(x_train, y_train),(x_test, y_test) = mnist.load_data()\n",
    "\n",
    "#normalize\n",
    "(x_train, x_test) = x_train/255.0, x_test/255.0"
   ]
  },
  {
   "cell_type": "code",
   "execution_count": 8,
   "id": "17181f08",
   "metadata": {
    "execution": {
     "iopub.execute_input": "2025-01-01T03:56:32.919363Z",
     "iopub.status.busy": "2025-01-01T03:56:32.918956Z",
     "iopub.status.idle": "2025-01-01T03:56:58.472213Z",
     "shell.execute_reply": "2025-01-01T03:56:58.471123Z"
    },
    "papermill": {
     "duration": 25.562281,
     "end_time": "2025-01-01T03:56:58.474617",
     "exception": false,
     "start_time": "2025-01-01T03:56:32.912336",
     "status": "completed"
    },
    "tags": []
   },
   "outputs": [
    {
     "name": "stderr",
     "output_type": "stream",
     "text": [
      "/opt/conda/lib/python3.10/site-packages/keras/src/layers/reshaping/flatten.py:37: UserWarning: Do not pass an `input_shape`/`input_dim` argument to a layer. When using Sequential models, prefer using an `Input(shape)` object as the first layer in the model instead.\n",
      "  super().__init__(**kwargs)\n"
     ]
    },
    {
     "name": "stdout",
     "output_type": "stream",
     "text": [
      "Epoch 1/5\n",
      "\u001b[1m1875/1875\u001b[0m \u001b[32m━━━━━━━━━━━━━━━━━━━━\u001b[0m\u001b[37m\u001b[0m \u001b[1m6s\u001b[0m 3ms/step - accuracy: 0.8765 - loss: 0.4317\n",
      "Epoch 2/5\n",
      "\u001b[1m1875/1875\u001b[0m \u001b[32m━━━━━━━━━━━━━━━━━━━━\u001b[0m\u001b[37m\u001b[0m \u001b[1m5s\u001b[0m 3ms/step - accuracy: 0.9629 - loss: 0.1256\n",
      "Epoch 3/5\n",
      "\u001b[1m1875/1875\u001b[0m \u001b[32m━━━━━━━━━━━━━━━━━━━━\u001b[0m\u001b[37m\u001b[0m \u001b[1m5s\u001b[0m 2ms/step - accuracy: 0.9762 - loss: 0.0799\n",
      "Epoch 4/5\n",
      "\u001b[1m1875/1875\u001b[0m \u001b[32m━━━━━━━━━━━━━━━━━━━━\u001b[0m\u001b[37m\u001b[0m \u001b[1m5s\u001b[0m 2ms/step - accuracy: 0.9838 - loss: 0.0554\n",
      "Epoch 5/5\n",
      "\u001b[1m1875/1875\u001b[0m \u001b[32m━━━━━━━━━━━━━━━━━━━━\u001b[0m\u001b[37m\u001b[0m \u001b[1m5s\u001b[0m 2ms/step - accuracy: 0.9864 - loss: 0.0430\n",
      "\u001b[1m313/313\u001b[0m \u001b[32m━━━━━━━━━━━━━━━━━━━━\u001b[0m\u001b[37m\u001b[0m \u001b[1m1s\u001b[0m 1ms/step - accuracy: 0.9747 - loss: 0.0819\n"
     ]
    },
    {
     "data": {
      "text/plain": [
       "[0.07399506866931915, 0.9768999814987183]"
      ]
     },
     "execution_count": 8,
     "metadata": {},
     "output_type": "execute_result"
    }
   ],
   "source": [
    "# Build the model\n",
    "model = Sequential([\n",
    "    Flatten(input_shape=(28, 28)),\n",
    "    Dense(128, activation='relu'),\n",
    "    Dense(10, activation='softmax')\n",
    "])\n",
    "\n",
    "# Compile the model\n",
    "model.compile(optimizer='adam',\n",
    "              loss ='sparse_categorical_crossentropy',\n",
    "              metrics=['accuracy'])\n",
    "\n",
    "# Train the model\n",
    "model.fit(x_train, y_train, epochs=5)\n",
    "\n",
    "# Evaluate the model\n",
    "model.evaluate(x_test, y_test)"
   ]
  },
  {
   "cell_type": "markdown",
   "id": "ee6d2710",
   "metadata": {
    "papermill": {
     "duration": 0.032134,
     "end_time": "2025-01-01T03:56:58.541637",
     "exception": false,
     "start_time": "2025-01-01T03:56:58.509503",
     "status": "completed"
    },
    "tags": []
   },
   "source": [
    "# Tensorflow\n"
   ]
  },
  {
   "cell_type": "code",
   "execution_count": 9,
   "id": "a78e0215",
   "metadata": {
    "execution": {
     "iopub.execute_input": "2025-01-01T03:56:58.606757Z",
     "iopub.status.busy": "2025-01-01T03:56:58.606327Z",
     "iopub.status.idle": "2025-01-01T03:56:59.076316Z",
     "shell.execute_reply": "2025-01-01T03:56:59.075227Z"
    },
    "papermill": {
     "duration": 0.505617,
     "end_time": "2025-01-01T03:56:59.078838",
     "exception": false,
     "start_time": "2025-01-01T03:56:58.573221",
     "status": "completed"
    },
    "tags": []
   },
   "outputs": [],
   "source": [
    "import tensorflow as tf\n",
    "from tensorflow.keras.datasets import mnist\n",
    "\n",
    "#load and preprocess data\n",
    "(x_train, y_train),(x_test, y_test) = mnist.load_data()\n",
    "\n",
    "x_train, x_test = x_train/255.0, x_test/255.0\n",
    "\n",
    "#convert into one-hot encoding\n",
    "y_train = tf.one_hot(y_train, depth = 10).numpy()\n",
    "Y_test = tf.one_hot(y_test, depth = 10).numpy()"
   ]
  },
  {
   "cell_type": "code",
   "execution_count": 10,
   "id": "856540e6",
   "metadata": {
    "execution": {
     "iopub.execute_input": "2025-01-01T03:56:59.143006Z",
     "iopub.status.busy": "2025-01-01T03:56:59.142594Z",
     "iopub.status.idle": "2025-01-01T03:56:59.148802Z",
     "shell.execute_reply": "2025-01-01T03:56:59.147730Z"
    },
    "papermill": {
     "duration": 0.041113,
     "end_time": "2025-01-01T03:56:59.150865",
     "exception": false,
     "start_time": "2025-01-01T03:56:59.109752",
     "status": "completed"
    },
    "tags": []
   },
   "outputs": [],
   "source": [
    "class NeuralNetwork(tf.keras.Model):\n",
    "    def __init__(self):\n",
    "        super().__init__()\n",
    "        self.flatten = tf.keras.layers.flatten()\n",
    "        self.dense1 = tf.keras.layers.dense.flatten(128, activation = 'relu')\n",
    "        self.dense2 = tf.keras.layers.dense.flatten(10, activation = 'softmax')\n",
    "\n",
    "    "
   ]
  },
  {
   "cell_type": "markdown",
   "id": "9164556e",
   "metadata": {
    "papermill": {
     "duration": 0.030487,
     "end_time": "2025-01-01T03:56:59.212852",
     "exception": false,
     "start_time": "2025-01-01T03:56:59.182365",
     "status": "completed"
    },
    "tags": []
   },
   "source": [
    "# PyTorch"
   ]
  },
  {
   "cell_type": "code",
   "execution_count": 11,
   "id": "232b1b35",
   "metadata": {
    "execution": {
     "iopub.execute_input": "2025-01-01T03:56:59.276016Z",
     "iopub.status.busy": "2025-01-01T03:56:59.275620Z",
     "iopub.status.idle": "2025-01-01T03:57:11.228984Z",
     "shell.execute_reply": "2025-01-01T03:57:11.227274Z"
    },
    "papermill": {
     "duration": 11.987836,
     "end_time": "2025-01-01T03:57:11.231186",
     "exception": false,
     "start_time": "2025-01-01T03:56:59.243350",
     "status": "completed"
    },
    "tags": []
   },
   "outputs": [
    {
     "name": "stdout",
     "output_type": "stream",
     "text": [
      "Downloading http://yann.lecun.com/exdb/mnist/train-images-idx3-ubyte.gz\n",
      "Failed to download (trying next):\n",
      "HTTP Error 403: Forbidden\n",
      "\n",
      "Downloading https://ossci-datasets.s3.amazonaws.com/mnist/train-images-idx3-ubyte.gz\n",
      "Downloading https://ossci-datasets.s3.amazonaws.com/mnist/train-images-idx3-ubyte.gz to ./data/MNIST/raw/train-images-idx3-ubyte.gz\n"
     ]
    },
    {
     "name": "stderr",
     "output_type": "stream",
     "text": [
      "100%|██████████| 9912422/9912422 [00:00<00:00, 12779613.23it/s]\n"
     ]
    },
    {
     "name": "stdout",
     "output_type": "stream",
     "text": [
      "Extracting ./data/MNIST/raw/train-images-idx3-ubyte.gz to ./data/MNIST/raw\n",
      "\n",
      "Downloading http://yann.lecun.com/exdb/mnist/train-labels-idx1-ubyte.gz\n",
      "Failed to download (trying next):\n",
      "HTTP Error 403: Forbidden\n",
      "\n",
      "Downloading https://ossci-datasets.s3.amazonaws.com/mnist/train-labels-idx1-ubyte.gz\n",
      "Downloading https://ossci-datasets.s3.amazonaws.com/mnist/train-labels-idx1-ubyte.gz to ./data/MNIST/raw/train-labels-idx1-ubyte.gz\n"
     ]
    },
    {
     "name": "stderr",
     "output_type": "stream",
     "text": [
      "100%|██████████| 28881/28881 [00:00<00:00, 338843.00it/s]\n"
     ]
    },
    {
     "name": "stdout",
     "output_type": "stream",
     "text": [
      "Extracting ./data/MNIST/raw/train-labels-idx1-ubyte.gz to ./data/MNIST/raw\n",
      "\n",
      "Downloading http://yann.lecun.com/exdb/mnist/t10k-images-idx3-ubyte.gz\n",
      "Failed to download (trying next):\n",
      "HTTP Error 403: Forbidden\n",
      "\n",
      "Downloading https://ossci-datasets.s3.amazonaws.com/mnist/t10k-images-idx3-ubyte.gz\n",
      "Downloading https://ossci-datasets.s3.amazonaws.com/mnist/t10k-images-idx3-ubyte.gz to ./data/MNIST/raw/t10k-images-idx3-ubyte.gz\n"
     ]
    },
    {
     "name": "stderr",
     "output_type": "stream",
     "text": [
      "100%|██████████| 1648877/1648877 [00:00<00:00, 3363045.60it/s]\n"
     ]
    },
    {
     "name": "stdout",
     "output_type": "stream",
     "text": [
      "Extracting ./data/MNIST/raw/t10k-images-idx3-ubyte.gz to ./data/MNIST/raw\n",
      "\n",
      "Downloading http://yann.lecun.com/exdb/mnist/t10k-labels-idx1-ubyte.gz\n",
      "Failed to download (trying next):\n",
      "HTTP Error 403: Forbidden\n",
      "\n",
      "Downloading https://ossci-datasets.s3.amazonaws.com/mnist/t10k-labels-idx1-ubyte.gz\n",
      "Downloading https://ossci-datasets.s3.amazonaws.com/mnist/t10k-labels-idx1-ubyte.gz to ./data/MNIST/raw/t10k-labels-idx1-ubyte.gz\n"
     ]
    },
    {
     "name": "stderr",
     "output_type": "stream",
     "text": [
      "100%|██████████| 4542/4542 [00:00<00:00, 2364175.82it/s]"
     ]
    },
    {
     "name": "stdout",
     "output_type": "stream",
     "text": [
      "Extracting ./data/MNIST/raw/t10k-labels-idx1-ubyte.gz to ./data/MNIST/raw\n",
      "\n"
     ]
    },
    {
     "name": "stderr",
     "output_type": "stream",
     "text": [
      "\n"
     ]
    }
   ],
   "source": [
    "import torch\n",
    "import torch.nn as nn\n",
    "import torch.optim as optim\n",
    "from torchvision import datasets, transforms\n",
    "from torch.utils.data import DataLoader\n",
    "\n",
    "# Load and preprocess data\n",
    "transform = transforms.ToTensor()\n",
    "train_dataset = datasets.MNIST(root='./data', train=True, transform=transform, download=True)\n",
    "test_dataset = datasets.MNIST(root='./data', train=False, transform=transform)\n",
    "\n",
    "train_loader = DataLoader(train_dataset, batch_size=64, shuffle=True)\n",
    "test_loader = DataLoader(test_dataset, batch_size=64, shuffle=False)\n",
    "\n",
    "# Define the model\n",
    "class NeuralNetwork(nn.Module):\n",
    "    def __init__(self):\n",
    "        super(NeuralNetwork, self).__init__()\n",
    "        self.flatten = nn.Flatten()\n",
    "        self.fc1 = nn.Linear(28 * 28, 128)\n",
    "        self.relu = nn.ReLU()\n",
    "        self.fc2 = nn.Linear(128, 10)\n",
    "        self.softmax = nn.Softmax(dim=1)\n",
    "\n",
    "    def forward(self, x):\n",
    "        x = self.flatten(x)\n",
    "        x = self.relu(self.fc1(x))\n",
    "        x = self.softmax(self.fc2(x))\n",
    "        return x"
   ]
  },
  {
   "cell_type": "code",
   "execution_count": 12,
   "id": "9be56f8b",
   "metadata": {
    "execution": {
     "iopub.execute_input": "2025-01-01T03:57:11.299097Z",
     "iopub.status.busy": "2025-01-01T03:57:11.298192Z",
     "iopub.status.idle": "2025-01-01T03:57:11.316704Z",
     "shell.execute_reply": "2025-01-01T03:57:11.315461Z"
    },
    "papermill": {
     "duration": 0.054725,
     "end_time": "2025-01-01T03:57:11.319044",
     "exception": false,
     "start_time": "2025-01-01T03:57:11.264319",
     "status": "completed"
    },
    "tags": []
   },
   "outputs": [],
   "source": [
    "model = NeuralNetwork()\n",
    "\n",
    "# Define loss and optimizer\n",
    "criterion = nn.CrossEntropyLoss()\n",
    "optimizer = optim.Adam(model.parameters(), lr=0.001)\n"
   ]
  },
  {
   "cell_type": "code",
   "execution_count": 13,
   "id": "46d0e54b",
   "metadata": {
    "execution": {
     "iopub.execute_input": "2025-01-01T03:57:11.387987Z",
     "iopub.status.busy": "2025-01-01T03:57:11.387538Z",
     "iopub.status.idle": "2025-01-01T03:57:56.809486Z",
     "shell.execute_reply": "2025-01-01T03:57:56.808342Z"
    },
    "papermill": {
     "duration": 45.490905,
     "end_time": "2025-01-01T03:57:56.844374",
     "exception": false,
     "start_time": "2025-01-01T03:57:11.353469",
     "status": "completed"
    },
    "tags": []
   },
   "outputs": [
    {
     "name": "stdout",
     "output_type": "stream",
     "text": [
      "Accuracy: 96.52%\n"
     ]
    }
   ],
   "source": [
    "# Training loop\n",
    "for epoch in range(5):\n",
    "    for images, labels in train_loader:\n",
    "        # Forward pass\n",
    "        outputs = model(images)\n",
    "        loss = criterion(outputs, labels)\n",
    "\n",
    "        # Backward pass\n",
    "        optimizer.zero_grad()\n",
    "        loss.backward()\n",
    "        optimizer.step()\n",
    "\n",
    "# Evaluate the model\n",
    "correct = 0\n",
    "total = 0\n",
    "with torch.no_grad():\n",
    "    for images, labels in test_loader:\n",
    "        outputs = model(images)\n",
    "        _, predicted = torch.max(outputs, 1)\n",
    "        total += labels.size(0)\n",
    "        correct += (predicted == labels).sum().item()\n",
    "\n",
    "print(f\"Accuracy: {100 * correct / total}%\")"
   ]
  },
  {
   "cell_type": "code",
   "execution_count": null,
   "id": "b3deeb07",
   "metadata": {
    "papermill": {
     "duration": 0.032177,
     "end_time": "2025-01-01T03:57:56.908729",
     "exception": false,
     "start_time": "2025-01-01T03:57:56.876552",
     "status": "completed"
    },
    "tags": []
   },
   "outputs": [],
   "source": []
  }
 ],
 "metadata": {
  "kaggle": {
   "accelerator": "none",
   "dataSources": [],
   "dockerImageVersionId": 30786,
   "isGpuEnabled": false,
   "isInternetEnabled": true,
   "language": "python",
   "sourceType": "notebook"
  },
  "kernelspec": {
   "display_name": "Python 3",
   "language": "python",
   "name": "python3"
  },
  "language_info": {
   "codemirror_mode": {
    "name": "ipython",
    "version": 3
   },
   "file_extension": ".py",
   "mimetype": "text/x-python",
   "name": "python",
   "nbconvert_exporter": "python",
   "pygments_lexer": "ipython3",
   "version": "3.10.14"
  },
  "papermill": {
   "default_parameters": {},
   "duration": 108.97948,
   "end_time": "2025-01-01T03:58:00.210121",
   "environment_variables": {},
   "exception": null,
   "input_path": "__notebook__.ipynb",
   "output_path": "__notebook__.ipynb",
   "parameters": {},
   "start_time": "2025-01-01T03:56:11.230641",
   "version": "2.6.0"
  }
 },
 "nbformat": 4,
 "nbformat_minor": 5
}

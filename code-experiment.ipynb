{
 "cells": [
  {
   "cell_type": "markdown",
   "id": "a3eb8656",
   "metadata": {
    "papermill": {
     "duration": 0.004482,
     "end_time": "2025-01-01T02:31:58.285125",
     "exception": false,
     "start_time": "2025-01-01T02:31:58.280643",
     "status": "completed"
    },
    "tags": []
   },
   "source": [
    "# Scikit-learn\n"
   ]
  },
  {
   "cell_type": "code",
   "execution_count": 1,
   "id": "6e6ebbe0",
   "metadata": {
    "execution": {
     "iopub.execute_input": "2025-01-01T02:31:58.295066Z",
     "iopub.status.busy": "2025-01-01T02:31:58.294551Z",
     "iopub.status.idle": "2025-01-01T02:32:00.186945Z",
     "shell.execute_reply": "2025-01-01T02:32:00.185795Z"
    },
    "papermill": {
     "duration": 1.900671,
     "end_time": "2025-01-01T02:32:00.189804",
     "exception": false,
     "start_time": "2025-01-01T02:31:58.289133",
     "status": "completed"
    },
    "tags": []
   },
   "outputs": [],
   "source": [
    "from sklearn.datasets import load_iris\n",
    "from sklearn.preprocessing import StandardScaler\n",
    "from sklearn.model_selection import train_test_split\n",
    "from sklearn.linear_model import LinearRegression\n",
    "from sklearn.ensemble import RandomForestClassifier\n",
    "from sklearn.metrics import accuracy_score"
   ]
  },
  {
   "cell_type": "code",
   "execution_count": 2,
   "id": "7ba140d6",
   "metadata": {
    "execution": {
     "iopub.execute_input": "2025-01-01T02:32:00.201381Z",
     "iopub.status.busy": "2025-01-01T02:32:00.200771Z",
     "iopub.status.idle": "2025-01-01T02:32:00.217216Z",
     "shell.execute_reply": "2025-01-01T02:32:00.216118Z"
    },
    "papermill": {
     "duration": 0.025528,
     "end_time": "2025-01-01T02:32:00.220001",
     "exception": false,
     "start_time": "2025-01-01T02:32:00.194473",
     "status": "completed"
    },
    "tags": []
   },
   "outputs": [],
   "source": [
    "data = load_iris()\n",
    "\n",
    "x, y = data.data, data.target\n",
    "\n",
    "x_train, x_test, y_train, y_test = train_test_split(x, y, test_size = 0.2, random_state = 42)"
   ]
  },
  {
   "cell_type": "code",
   "execution_count": 3,
   "id": "27c8436e",
   "metadata": {
    "execution": {
     "iopub.execute_input": "2025-01-01T02:32:00.230355Z",
     "iopub.status.busy": "2025-01-01T02:32:00.229326Z",
     "iopub.status.idle": "2025-01-01T02:32:00.241949Z",
     "shell.execute_reply": "2025-01-01T02:32:00.240345Z"
    },
    "papermill": {
     "duration": 0.020131,
     "end_time": "2025-01-01T02:32:00.244267",
     "exception": false,
     "start_time": "2025-01-01T02:32:00.224136",
     "status": "completed"
    },
    "tags": []
   },
   "outputs": [],
   "source": [
    "scaler = StandardScaler()\n",
    "\n",
    "x_train_scale = scaler.fit_transform(x_train)\n",
    "\n",
    "x_test_scale = scaler.transform(x_test)\n"
   ]
  },
  {
   "cell_type": "markdown",
   "id": "716d33dc",
   "metadata": {
    "papermill": {
     "duration": 0.003626,
     "end_time": "2025-01-01T02:32:00.251999",
     "exception": false,
     "start_time": "2025-01-01T02:32:00.248373",
     "status": "completed"
    },
    "tags": []
   },
   "source": [
    "# Pipeline"
   ]
  },
  {
   "cell_type": "code",
   "execution_count": 4,
   "id": "e2c5f665",
   "metadata": {
    "execution": {
     "iopub.execute_input": "2025-01-01T02:32:00.261133Z",
     "iopub.status.busy": "2025-01-01T02:32:00.260773Z",
     "iopub.status.idle": "2025-01-01T02:32:00.267568Z",
     "shell.execute_reply": "2025-01-01T02:32:00.266555Z"
    },
    "papermill": {
     "duration": 0.014051,
     "end_time": "2025-01-01T02:32:00.269813",
     "exception": false,
     "start_time": "2025-01-01T02:32:00.255762",
     "status": "completed"
    },
    "tags": []
   },
   "outputs": [],
   "source": [
    "from sklearn.pipeline import Pipeline\n",
    "from sklearn.linear_model import LogisticRegression"
   ]
  },
  {
   "cell_type": "code",
   "execution_count": 5,
   "id": "1e228010",
   "metadata": {
    "execution": {
     "iopub.execute_input": "2025-01-01T02:32:00.279434Z",
     "iopub.status.busy": "2025-01-01T02:32:00.278999Z",
     "iopub.status.idle": "2025-01-01T02:32:00.307728Z",
     "shell.execute_reply": "2025-01-01T02:32:00.306548Z"
    },
    "papermill": {
     "duration": 0.036272,
     "end_time": "2025-01-01T02:32:00.310132",
     "exception": false,
     "start_time": "2025-01-01T02:32:00.273860",
     "status": "completed"
    },
    "tags": []
   },
   "outputs": [
    {
     "name": "stdout",
     "output_type": "stream",
     "text": [
      "Accuarcy:1.00\n"
     ]
    }
   ],
   "source": [
    "pipeline = Pipeline([\n",
    "        ('scaler', StandardScaler()),\n",
    "        ('classifier', LogisticRegression())\n",
    "])\n",
    "\n",
    "#train model\n",
    "pipeline.fit(x_train, y_train)\n",
    "\n",
    "#make predictions\n",
    "y_pred = pipeline.predict(x_test)\n",
    "\n",
    "#evaluate\n",
    "print(f\"Accuarcy:{pipeline.score(x_test, y_test):.2f}\")\n"
   ]
  },
  {
   "cell_type": "markdown",
   "id": "f9a41f89",
   "metadata": {
    "papermill": {
     "duration": 0.003633,
     "end_time": "2025-01-01T02:32:00.317822",
     "exception": false,
     "start_time": "2025-01-01T02:32:00.314189",
     "status": "completed"
    },
    "tags": []
   },
   "source": [
    "# Keras"
   ]
  },
  {
   "cell_type": "code",
   "execution_count": 6,
   "id": "cc34a660",
   "metadata": {
    "execution": {
     "iopub.execute_input": "2025-01-01T02:32:00.328282Z",
     "iopub.status.busy": "2025-01-01T02:32:00.327901Z",
     "iopub.status.idle": "2025-01-01T02:32:15.223893Z",
     "shell.execute_reply": "2025-01-01T02:32:15.222934Z"
    },
    "papermill": {
     "duration": 14.903626,
     "end_time": "2025-01-01T02:32:15.226390",
     "exception": false,
     "start_time": "2025-01-01T02:32:00.322764",
     "status": "completed"
    },
    "tags": []
   },
   "outputs": [],
   "source": [
    "import tensorflow as tf\n",
    "from tensorflow.keras import Sequential\n",
    "from tensorflow.keras.layers import Dense, Flatten\n",
    "from tensorflow.keras.datasets import mnist"
   ]
  },
  {
   "cell_type": "code",
   "execution_count": 7,
   "id": "8fb3d659",
   "metadata": {
    "execution": {
     "iopub.execute_input": "2025-01-01T02:32:15.236450Z",
     "iopub.status.busy": "2025-01-01T02:32:15.235811Z",
     "iopub.status.idle": "2025-01-01T02:32:16.805184Z",
     "shell.execute_reply": "2025-01-01T02:32:16.804179Z"
    },
    "papermill": {
     "duration": 1.577072,
     "end_time": "2025-01-01T02:32:16.807613",
     "exception": false,
     "start_time": "2025-01-01T02:32:15.230541",
     "status": "completed"
    },
    "tags": []
   },
   "outputs": [
    {
     "name": "stdout",
     "output_type": "stream",
     "text": [
      "Downloading data from https://storage.googleapis.com/tensorflow/tf-keras-datasets/mnist.npz\n",
      "\u001b[1m11490434/11490434\u001b[0m \u001b[32m━━━━━━━━━━━━━━━━━━━━\u001b[0m\u001b[37m\u001b[0m \u001b[1m1s\u001b[0m 0us/step\n"
     ]
    }
   ],
   "source": [
    "#load data \n",
    "(x_train, y_train),(x_test, y_test) = mnist.load_data()\n",
    "\n",
    "#normalize\n",
    "(x_train, x_test) = x_train/255.0, x_test/255.0"
   ]
  },
  {
   "cell_type": "code",
   "execution_count": 8,
   "id": "c6b5e6d3",
   "metadata": {
    "execution": {
     "iopub.execute_input": "2025-01-01T02:32:16.819351Z",
     "iopub.status.busy": "2025-01-01T02:32:16.818936Z",
     "iopub.status.idle": "2025-01-01T02:32:41.568952Z",
     "shell.execute_reply": "2025-01-01T02:32:41.567716Z"
    },
    "papermill": {
     "duration": 24.758445,
     "end_time": "2025-01-01T02:32:41.571204",
     "exception": false,
     "start_time": "2025-01-01T02:32:16.812759",
     "status": "completed"
    },
    "tags": []
   },
   "outputs": [
    {
     "name": "stderr",
     "output_type": "stream",
     "text": [
      "/opt/conda/lib/python3.10/site-packages/keras/src/layers/reshaping/flatten.py:37: UserWarning: Do not pass an `input_shape`/`input_dim` argument to a layer. When using Sequential models, prefer using an `Input(shape)` object as the first layer in the model instead.\n",
      "  super().__init__(**kwargs)\n"
     ]
    },
    {
     "name": "stdout",
     "output_type": "stream",
     "text": [
      "Epoch 1/5\n",
      "\u001b[1m1875/1875\u001b[0m \u001b[32m━━━━━━━━━━━━━━━━━━━━\u001b[0m\u001b[37m\u001b[0m \u001b[1m5s\u001b[0m 2ms/step - accuracy: 0.8799 - loss: 0.4209\n",
      "Epoch 2/5\n",
      "\u001b[1m1875/1875\u001b[0m \u001b[32m━━━━━━━━━━━━━━━━━━━━\u001b[0m\u001b[37m\u001b[0m \u001b[1m5s\u001b[0m 2ms/step - accuracy: 0.9668 - loss: 0.1164\n",
      "Epoch 3/5\n",
      "\u001b[1m1875/1875\u001b[0m \u001b[32m━━━━━━━━━━━━━━━━━━━━\u001b[0m\u001b[37m\u001b[0m \u001b[1m4s\u001b[0m 2ms/step - accuracy: 0.9777 - loss: 0.0746\n",
      "Epoch 4/5\n",
      "\u001b[1m1875/1875\u001b[0m \u001b[32m━━━━━━━━━━━━━━━━━━━━\u001b[0m\u001b[37m\u001b[0m \u001b[1m5s\u001b[0m 3ms/step - accuracy: 0.9829 - loss: 0.0569\n",
      "Epoch 5/5\n",
      "\u001b[1m1875/1875\u001b[0m \u001b[32m━━━━━━━━━━━━━━━━━━━━\u001b[0m\u001b[37m\u001b[0m \u001b[1m4s\u001b[0m 2ms/step - accuracy: 0.9868 - loss: 0.0444\n",
      "\u001b[1m313/313\u001b[0m \u001b[32m━━━━━━━━━━━━━━━━━━━━\u001b[0m\u001b[37m\u001b[0m \u001b[1m1s\u001b[0m 1ms/step - accuracy: 0.9732 - loss: 0.0831\n"
     ]
    },
    {
     "data": {
      "text/plain": [
       "[0.07194165885448456, 0.9768999814987183]"
      ]
     },
     "execution_count": 8,
     "metadata": {},
     "output_type": "execute_result"
    }
   ],
   "source": [
    "# Build the model\n",
    "model = Sequential([\n",
    "    Flatten(input_shape=(28, 28)),\n",
    "    Dense(128, activation='relu'),\n",
    "    Dense(10, activation='softmax')\n",
    "])\n",
    "\n",
    "# Compile the model\n",
    "model.compile(optimizer='adam',\n",
    "              loss ='sparse_categorical_crossentropy',\n",
    "              metrics=['accuracy'])\n",
    "\n",
    "# Train the model\n",
    "model.fit(x_train, y_train, epochs=5)\n",
    "\n",
    "# Evaluate the model\n",
    "model.evaluate(x_test, y_test)"
   ]
  },
  {
   "cell_type": "markdown",
   "id": "e2c300a9",
   "metadata": {
    "papermill": {
     "duration": 0.029646,
     "end_time": "2025-01-01T02:32:41.632442",
     "exception": false,
     "start_time": "2025-01-01T02:32:41.602796",
     "status": "completed"
    },
    "tags": []
   },
   "source": [
    "# Tensorflow\n"
   ]
  },
  {
   "cell_type": "code",
   "execution_count": 9,
   "id": "ffec6a9d",
   "metadata": {
    "execution": {
     "iopub.execute_input": "2025-01-01T02:32:41.692210Z",
     "iopub.status.busy": "2025-01-01T02:32:41.691814Z",
     "iopub.status.idle": "2025-01-01T02:37:02.801610Z",
     "shell.execute_reply": "2025-01-01T02:37:02.800510Z"
    },
    "papermill": {
     "duration": 261.171403,
     "end_time": "2025-01-01T02:37:02.832959",
     "exception": false,
     "start_time": "2025-01-01T02:32:41.661556",
     "status": "completed"
    },
    "tags": []
   },
   "outputs": [
    {
     "name": "stdout",
     "output_type": "stream",
     "text": [
      "Accuracy: 97.35%\n"
     ]
    }
   ],
   "source": [
    "import tensorflow as tf\n",
    "from tensorflow.keras.datasets import mnist\n",
    "\n",
    "# Load and preprocess data\n",
    "(x_train, y_train), (x_test, y_test) = mnist.load_data()\n",
    "x_train, x_test = x_train / 255.0, x_test / 255.0\n",
    "\n",
    "# Convert labels to one-hot encoding\n",
    "y_train = tf.one_hot(y_train, depth=10).numpy()\n",
    "y_test = tf.one_hot(y_test, depth=10).numpy()\n",
    "\n",
    "# Define model\n",
    "class NeuralNetwork(tf.keras.Model):\n",
    "    def __init__(self):\n",
    "        super().__init__()\n",
    "        self.flatten = tf.keras.layers.Flatten()\n",
    "        self.dense1 = tf.keras.layers.Dense(128, activation='relu')\n",
    "        self.dense2 = tf.keras.layers.Dense(10, activation='softmax')\n",
    "\n",
    "    def call(self, x):\n",
    "        x = self.flatten(x)\n",
    "        x = self.dense1(x)\n",
    "        return self.dense2(x)\n",
    "\n",
    "model = NeuralNetwork()\n",
    "\n",
    "# Define loss and optimizer\n",
    "loss_fn = tf.keras.losses.CategoricalCrossentropy()\n",
    "optimizer = tf.optimizers.Adam()\n",
    "\n",
    "# Training loop\n",
    "batch_size = 32\n",
    "for epoch in range(5):\n",
    "    for start in range(0, len(x_train), batch_size):\n",
    "        end = start + batch_size\n",
    "        x_batch = x_train[start:end]\n",
    "        y_batch = y_train[start:end]\n",
    "        with tf.GradientTape() as tape:\n",
    "            predictions = model(x_batch)\n",
    "            loss = loss_fn(y_batch, predictions)\n",
    "        gradients = tape.gradient(loss, model.trainable_variables)\n",
    "        optimizer.apply_gradients(zip(gradients, model.trainable_variables))\n",
    "\n",
    "# Evaluate model\n",
    "correct = 0\n",
    "total = len(x_test)\n",
    "for start in range(0, total, batch_size):\n",
    "    end = start + batch_size\n",
    "    predictions = model(x_test[start:end])\n",
    "    correct += tf.reduce_sum(\n",
    "        tf.cast(tf.argmax(predictions, axis=1) == tf.argmax(y_test[start:end], axis=1), tf.int32)\n",
    "    )\n",
    "\n",
    "accuracy = 100 * correct / total\n",
    "print(f\"Accuracy: {accuracy}%\")\n"
   ]
  },
  {
   "cell_type": "markdown",
   "id": "bd4c4dac",
   "metadata": {
    "papermill": {
     "duration": 0.029391,
     "end_time": "2025-01-01T02:37:02.891553",
     "exception": false,
     "start_time": "2025-01-01T02:37:02.862162",
     "status": "completed"
    },
    "tags": []
   },
   "source": [
    "# PyTorch"
   ]
  },
  {
   "cell_type": "code",
   "execution_count": 10,
   "id": "cd769a68",
   "metadata": {
    "execution": {
     "iopub.execute_input": "2025-01-01T02:37:02.951651Z",
     "iopub.status.busy": "2025-01-01T02:37:02.951223Z",
     "iopub.status.idle": "2025-01-01T02:37:14.514539Z",
     "shell.execute_reply": "2025-01-01T02:37:14.513390Z"
    },
    "papermill": {
     "duration": 11.596024,
     "end_time": "2025-01-01T02:37:14.516774",
     "exception": false,
     "start_time": "2025-01-01T02:37:02.920750",
     "status": "completed"
    },
    "tags": []
   },
   "outputs": [
    {
     "name": "stdout",
     "output_type": "stream",
     "text": [
      "Downloading http://yann.lecun.com/exdb/mnist/train-images-idx3-ubyte.gz\n",
      "Failed to download (trying next):\n",
      "HTTP Error 403: Forbidden\n",
      "\n",
      "Downloading https://ossci-datasets.s3.amazonaws.com/mnist/train-images-idx3-ubyte.gz\n",
      "Downloading https://ossci-datasets.s3.amazonaws.com/mnist/train-images-idx3-ubyte.gz to ./data/MNIST/raw/train-images-idx3-ubyte.gz\n"
     ]
    },
    {
     "name": "stderr",
     "output_type": "stream",
     "text": [
      "100%|██████████| 9912422/9912422 [00:00<00:00, 12918624.23it/s]\n"
     ]
    },
    {
     "name": "stdout",
     "output_type": "stream",
     "text": [
      "Extracting ./data/MNIST/raw/train-images-idx3-ubyte.gz to ./data/MNIST/raw\n",
      "\n",
      "Downloading http://yann.lecun.com/exdb/mnist/train-labels-idx1-ubyte.gz\n",
      "Failed to download (trying next):\n",
      "HTTP Error 403: Forbidden\n",
      "\n",
      "Downloading https://ossci-datasets.s3.amazonaws.com/mnist/train-labels-idx1-ubyte.gz\n",
      "Downloading https://ossci-datasets.s3.amazonaws.com/mnist/train-labels-idx1-ubyte.gz to ./data/MNIST/raw/train-labels-idx1-ubyte.gz\n"
     ]
    },
    {
     "name": "stderr",
     "output_type": "stream",
     "text": [
      "100%|██████████| 28881/28881 [00:00<00:00, 338564.57it/s]\n"
     ]
    },
    {
     "name": "stdout",
     "output_type": "stream",
     "text": [
      "Extracting ./data/MNIST/raw/train-labels-idx1-ubyte.gz to ./data/MNIST/raw\n",
      "\n",
      "Downloading http://yann.lecun.com/exdb/mnist/t10k-images-idx3-ubyte.gz\n",
      "Failed to download (trying next):\n",
      "HTTP Error 403: Forbidden\n",
      "\n",
      "Downloading https://ossci-datasets.s3.amazonaws.com/mnist/t10k-images-idx3-ubyte.gz\n",
      "Downloading https://ossci-datasets.s3.amazonaws.com/mnist/t10k-images-idx3-ubyte.gz to ./data/MNIST/raw/t10k-images-idx3-ubyte.gz\n"
     ]
    },
    {
     "name": "stderr",
     "output_type": "stream",
     "text": [
      "100%|██████████| 1648877/1648877 [00:00<00:00, 3202502.86it/s]\n"
     ]
    },
    {
     "name": "stdout",
     "output_type": "stream",
     "text": [
      "Extracting ./data/MNIST/raw/t10k-images-idx3-ubyte.gz to ./data/MNIST/raw\n",
      "\n",
      "Downloading http://yann.lecun.com/exdb/mnist/t10k-labels-idx1-ubyte.gz\n",
      "Failed to download (trying next):\n",
      "HTTP Error 403: Forbidden\n",
      "\n",
      "Downloading https://ossci-datasets.s3.amazonaws.com/mnist/t10k-labels-idx1-ubyte.gz\n",
      "Downloading https://ossci-datasets.s3.amazonaws.com/mnist/t10k-labels-idx1-ubyte.gz to ./data/MNIST/raw/t10k-labels-idx1-ubyte.gz\n"
     ]
    },
    {
     "name": "stderr",
     "output_type": "stream",
     "text": [
      "100%|██████████| 4542/4542 [00:00<00:00, 2403548.92it/s]"
     ]
    },
    {
     "name": "stdout",
     "output_type": "stream",
     "text": [
      "Extracting ./data/MNIST/raw/t10k-labels-idx1-ubyte.gz to ./data/MNIST/raw\n",
      "\n"
     ]
    },
    {
     "name": "stderr",
     "output_type": "stream",
     "text": [
      "\n"
     ]
    }
   ],
   "source": [
    "import torch\n",
    "import torch.nn as nn\n",
    "import torch.optim as optim\n",
    "from torchvision import datasets, transforms\n",
    "from torch.utils.data import DataLoader\n",
    "\n",
    "# Load and preprocess data\n",
    "transform = transforms.ToTensor()\n",
    "train_dataset = datasets.MNIST(root='./data', train=True, transform=transform, download=True)\n",
    "test_dataset = datasets.MNIST(root='./data', train=False, transform=transform)\n",
    "\n",
    "train_loader = DataLoader(train_dataset, batch_size=64, shuffle=True)\n",
    "test_loader = DataLoader(test_dataset, batch_size=64, shuffle=False)\n",
    "\n",
    "# Define the model\n",
    "class NeuralNetwork(nn.Module):\n",
    "    def __init__(self):\n",
    "        super(NeuralNetwork, self).__init__()\n",
    "        self.flatten = nn.Flatten()\n",
    "        self.fc1 = nn.Linear(28 * 28, 128)\n",
    "        self.relu = nn.ReLU()\n",
    "        self.fc2 = nn.Linear(128, 10)\n",
    "        self.softmax = nn.Softmax(dim=1)\n",
    "\n",
    "    def forward(self, x):\n",
    "        x = self.flatten(x)\n",
    "        x = self.relu(self.fc1(x))\n",
    "        x = self.softmax(self.fc2(x))\n",
    "        return x"
   ]
  },
  {
   "cell_type": "code",
   "execution_count": 11,
   "id": "107fd595",
   "metadata": {
    "execution": {
     "iopub.execute_input": "2025-01-01T02:37:14.582431Z",
     "iopub.status.busy": "2025-01-01T02:37:14.581596Z",
     "iopub.status.idle": "2025-01-01T02:37:14.600177Z",
     "shell.execute_reply": "2025-01-01T02:37:14.599083Z"
    },
    "papermill": {
     "duration": 0.053075,
     "end_time": "2025-01-01T02:37:14.602523",
     "exception": false,
     "start_time": "2025-01-01T02:37:14.549448",
     "status": "completed"
    },
    "tags": []
   },
   "outputs": [],
   "source": [
    "model = NeuralNetwork()\n",
    "\n",
    "# Define loss and optimizer\n",
    "criterion = nn.CrossEntropyLoss()\n",
    "optimizer = optim.Adam(model.parameters(), lr=0.001)\n"
   ]
  },
  {
   "cell_type": "code",
   "execution_count": 12,
   "id": "499ab19a",
   "metadata": {
    "execution": {
     "iopub.execute_input": "2025-01-01T02:37:14.665997Z",
     "iopub.status.busy": "2025-01-01T02:37:14.665645Z",
     "iopub.status.idle": "2025-01-01T02:38:00.253544Z",
     "shell.execute_reply": "2025-01-01T02:38:00.252545Z"
    },
    "papermill": {
     "duration": 45.653401,
     "end_time": "2025-01-01T02:38:00.286948",
     "exception": false,
     "start_time": "2025-01-01T02:37:14.633547",
     "status": "completed"
    },
    "tags": []
   },
   "outputs": [
    {
     "name": "stdout",
     "output_type": "stream",
     "text": [
      "Accuracy: 96.5%\n"
     ]
    }
   ],
   "source": [
    "# Training loop\n",
    "for epoch in range(5):\n",
    "    for images, labels in train_loader:\n",
    "        # Forward pass\n",
    "        outputs = model(images)\n",
    "        loss = criterion(outputs, labels)\n",
    "\n",
    "        # Backward pass\n",
    "        optimizer.zero_grad()\n",
    "        loss.backward()\n",
    "        optimizer.step()\n",
    "\n",
    "# Evaluate the model\n",
    "correct = 0\n",
    "total = 0\n",
    "with torch.no_grad():\n",
    "    for images, labels in test_loader:\n",
    "        outputs = model(images)\n",
    "        _, predicted = torch.max(outputs, 1)\n",
    "        total += labels.size(0)\n",
    "        correct += (predicted == labels).sum().item()\n",
    "\n",
    "print(f\"Accuracy: {100 * correct / total}%\")"
   ]
  },
  {
   "cell_type": "code",
   "execution_count": null,
   "id": "bafe3695",
   "metadata": {
    "papermill": {
     "duration": 0.03088,
     "end_time": "2025-01-01T02:38:00.350115",
     "exception": false,
     "start_time": "2025-01-01T02:38:00.319235",
     "status": "completed"
    },
    "tags": []
   },
   "outputs": [],
   "source": []
  }
 ],
 "metadata": {
  "kaggle": {
   "accelerator": "none",
   "dataSources": [],
   "dockerImageVersionId": 30786,
   "isGpuEnabled": false,
   "isInternetEnabled": true,
   "language": "python",
   "sourceType": "notebook"
  },
  "kernelspec": {
   "display_name": "Python 3",
   "language": "python",
   "name": "python3"
  },
  "language_info": {
   "codemirror_mode": {
    "name": "ipython",
    "version": 3
   },
   "file_extension": ".py",
   "mimetype": "text/x-python",
   "name": "python",
   "nbconvert_exporter": "python",
   "pygments_lexer": "ipython3",
   "version": "3.10.14"
  },
  "papermill": {
   "default_parameters": {},
   "duration": 368.061637,
   "end_time": "2025-01-01T02:38:03.145256",
   "environment_variables": {},
   "exception": null,
   "input_path": "__notebook__.ipynb",
   "output_path": "__notebook__.ipynb",
   "parameters": {},
   "start_time": "2025-01-01T02:31:55.083619",
   "version": "2.6.0"
  }
 },
 "nbformat": 4,
 "nbformat_minor": 5
}

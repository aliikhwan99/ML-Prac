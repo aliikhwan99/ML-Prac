{
 "cells": [
  {
   "cell_type": "markdown",
   "id": "ab063b85",
   "metadata": {
    "papermill": {
     "duration": 0.004672,
     "end_time": "2024-12-20T15:06:05.728758",
     "exception": false,
     "start_time": "2024-12-20T15:06:05.724086",
     "status": "completed"
    },
    "tags": []
   },
   "source": [
    "# Scikit-learn\n"
   ]
  },
  {
   "cell_type": "code",
   "execution_count": 1,
   "id": "e04eef1e",
   "metadata": {
    "execution": {
     "iopub.execute_input": "2024-12-20T15:06:05.738615Z",
     "iopub.status.busy": "2024-12-20T15:06:05.738075Z",
     "iopub.status.idle": "2024-12-20T15:06:07.572097Z",
     "shell.execute_reply": "2024-12-20T15:06:07.570918Z"
    },
    "papermill": {
     "duration": 1.84187,
     "end_time": "2024-12-20T15:06:07.574661",
     "exception": false,
     "start_time": "2024-12-20T15:06:05.732791",
     "status": "completed"
    },
    "tags": []
   },
   "outputs": [],
   "source": [
    "from sklearn.model_selection import train_test_split\n",
    "from sklearn.datasets import load_iris\n",
    "from sklearn.preprocessing import StandardScaler\n",
    "from sklearn.linear_model import LinearRegression\n",
    "from sklearn.metrics import accuracy_score"
   ]
  },
  {
   "cell_type": "code",
   "execution_count": 2,
   "id": "692858c2",
   "metadata": {
    "execution": {
     "iopub.execute_input": "2024-12-20T15:06:07.584888Z",
     "iopub.status.busy": "2024-12-20T15:06:07.584386Z",
     "iopub.status.idle": "2024-12-20T15:06:07.599930Z",
     "shell.execute_reply": "2024-12-20T15:06:07.598910Z"
    },
    "papermill": {
     "duration": 0.023374,
     "end_time": "2024-12-20T15:06:07.602353",
     "exception": false,
     "start_time": "2024-12-20T15:06:07.578979",
     "status": "completed"
    },
    "tags": []
   },
   "outputs": [],
   "source": [
    "data = load_iris()\n",
    "\n",
    "x, y = data.data, data.target\n",
    "\n",
    "x_train, x_test, y_train, y_test = train_test_split( x, y,test_size = 0.2, random_state = 42)"
   ]
  },
  {
   "cell_type": "code",
   "execution_count": 3,
   "id": "e841016e",
   "metadata": {
    "execution": {
     "iopub.execute_input": "2024-12-20T15:06:07.611765Z",
     "iopub.status.busy": "2024-12-20T15:06:07.611330Z",
     "iopub.status.idle": "2024-12-20T15:06:07.622070Z",
     "shell.execute_reply": "2024-12-20T15:06:07.620959Z"
    },
    "papermill": {
     "duration": 0.017972,
     "end_time": "2024-12-20T15:06:07.624263",
     "exception": false,
     "start_time": "2024-12-20T15:06:07.606291",
     "status": "completed"
    },
    "tags": []
   },
   "outputs": [],
   "source": [
    "scaler = StandardScaler()\n",
    "\n",
    "x_scaler_train = scaler.fit_transform(x_train)\n",
    "\n",
    "x_scaler_test = scaler.transform(x_test)"
   ]
  },
  {
   "cell_type": "markdown",
   "id": "de2101e1",
   "metadata": {
    "papermill": {
     "duration": 0.003555,
     "end_time": "2024-12-20T15:06:07.631827",
     "exception": false,
     "start_time": "2024-12-20T15:06:07.628272",
     "status": "completed"
    },
    "tags": []
   },
   "source": [
    "# Pipeline"
   ]
  },
  {
   "cell_type": "code",
   "execution_count": 4,
   "id": "51954dcc",
   "metadata": {
    "execution": {
     "iopub.execute_input": "2024-12-20T15:06:07.641466Z",
     "iopub.status.busy": "2024-12-20T15:06:07.640658Z",
     "iopub.status.idle": "2024-12-20T15:06:07.648465Z",
     "shell.execute_reply": "2024-12-20T15:06:07.647450Z"
    },
    "papermill": {
     "duration": 0.015051,
     "end_time": "2024-12-20T15:06:07.650685",
     "exception": false,
     "start_time": "2024-12-20T15:06:07.635634",
     "status": "completed"
    },
    "tags": []
   },
   "outputs": [],
   "source": [
    "from sklearn.pipeline import Pipeline\n",
    "from sklearn.preprocessing import StandardScaler\n",
    "from sklearn.linear_model import LogisticRegression\n",
    "from sklearn.datasets import load_iris\n",
    "from sklearn.model_selection import train_test_split"
   ]
  },
  {
   "cell_type": "code",
   "execution_count": 5,
   "id": "5374be32",
   "metadata": {
    "execution": {
     "iopub.execute_input": "2024-12-20T15:06:07.660110Z",
     "iopub.status.busy": "2024-12-20T15:06:07.659732Z",
     "iopub.status.idle": "2024-12-20T15:06:07.692610Z",
     "shell.execute_reply": "2024-12-20T15:06:07.691486Z"
    },
    "papermill": {
     "duration": 0.040156,
     "end_time": "2024-12-20T15:06:07.694896",
     "exception": false,
     "start_time": "2024-12-20T15:06:07.654740",
     "status": "completed"
    },
    "tags": []
   },
   "outputs": [
    {
     "name": "stdout",
     "output_type": "stream",
     "text": [
      "Accuracy: 1.00\n"
     ]
    }
   ],
   "source": [
    "# Load data\n",
    "data = load_iris()\n",
    "X_train, X_test, y_train, y_test = train_test_split(data.data, data.target, test_size=0.2, random_state= 42)\n",
    "\n",
    "# Define pipeline\n",
    "pipeline = Pipeline([\n",
    "    ('scaler', StandardScaler()),       # Step 1: Standardize features\n",
    "    ('classifier', LogisticRegression())  # Step 2: Train logistic regression\n",
    "])\n",
    "\n",
    "# Train model\n",
    "pipeline.fit(X_train, y_train)\n",
    "\n",
    "# Make predictions\n",
    "y_pred = pipeline.predict(X_test)\n",
    "\n",
    "# Evaluate\n",
    "print(f\"Accuracy: {pipeline.score(X_test, y_test):.2f}\")\n"
   ]
  },
  {
   "cell_type": "markdown",
   "id": "e336e2b4",
   "metadata": {
    "papermill": {
     "duration": 0.003735,
     "end_time": "2024-12-20T15:06:07.702554",
     "exception": false,
     "start_time": "2024-12-20T15:06:07.698819",
     "status": "completed"
    },
    "tags": []
   },
   "source": [
    "# Keras"
   ]
  },
  {
   "cell_type": "code",
   "execution_count": 6,
   "id": "d6d25e52",
   "metadata": {
    "execution": {
     "iopub.execute_input": "2024-12-20T15:06:07.713045Z",
     "iopub.status.busy": "2024-12-20T15:06:07.712655Z",
     "iopub.status.idle": "2024-12-20T15:06:23.918299Z",
     "shell.execute_reply": "2024-12-20T15:06:23.917094Z"
    },
    "papermill": {
     "duration": 16.213499,
     "end_time": "2024-12-20T15:06:23.920985",
     "exception": false,
     "start_time": "2024-12-20T15:06:07.707486",
     "status": "completed"
    },
    "tags": []
   },
   "outputs": [],
   "source": [
    "import tensorflow as tf\n",
    "from tensorflow.keras import Sequential\n",
    "from tensorflow.keras.layers import Dense, Flatten\n",
    "from tensorflow.keras.datasets import mnist"
   ]
  },
  {
   "cell_type": "code",
   "execution_count": 7,
   "id": "da6d673d",
   "metadata": {
    "execution": {
     "iopub.execute_input": "2024-12-20T15:06:23.931596Z",
     "iopub.status.busy": "2024-12-20T15:06:23.930933Z",
     "iopub.status.idle": "2024-12-20T15:06:24.591296Z",
     "shell.execute_reply": "2024-12-20T15:06:24.590058Z"
    },
    "papermill": {
     "duration": 0.668143,
     "end_time": "2024-12-20T15:06:24.593766",
     "exception": false,
     "start_time": "2024-12-20T15:06:23.925623",
     "status": "completed"
    },
    "tags": []
   },
   "outputs": [
    {
     "name": "stdout",
     "output_type": "stream",
     "text": [
      "Downloading data from https://storage.googleapis.com/tensorflow/tf-keras-datasets/mnist.npz\n",
      "\u001b[1m11490434/11490434\u001b[0m \u001b[32m━━━━━━━━━━━━━━━━━━━━\u001b[0m\u001b[37m\u001b[0m \u001b[1m0s\u001b[0m 0us/step\n"
     ]
    }
   ],
   "source": [
    "#load data \n",
    "(x_train, y_train),(x_test, y_test) = mnist.load_data()\n",
    "\n",
    "#normalize\n",
    "(x_train, x_test) = x_train/255.0, x_test/255.0"
   ]
  },
  {
   "cell_type": "code",
   "execution_count": 8,
   "id": "83838a3f",
   "metadata": {
    "execution": {
     "iopub.execute_input": "2024-12-20T15:06:24.604220Z",
     "iopub.status.busy": "2024-12-20T15:06:24.603825Z",
     "iopub.status.idle": "2024-12-20T15:06:52.061764Z",
     "shell.execute_reply": "2024-12-20T15:06:52.060662Z"
    },
    "papermill": {
     "duration": 27.465912,
     "end_time": "2024-12-20T15:06:52.064188",
     "exception": false,
     "start_time": "2024-12-20T15:06:24.598276",
     "status": "completed"
    },
    "tags": []
   },
   "outputs": [
    {
     "name": "stderr",
     "output_type": "stream",
     "text": [
      "/opt/conda/lib/python3.10/site-packages/keras/src/layers/reshaping/flatten.py:37: UserWarning: Do not pass an `input_shape`/`input_dim` argument to a layer. When using Sequential models, prefer using an `Input(shape)` object as the first layer in the model instead.\n",
      "  super().__init__(**kwargs)\n"
     ]
    },
    {
     "name": "stdout",
     "output_type": "stream",
     "text": [
      "Epoch 1/5\n",
      "\u001b[1m1875/1875\u001b[0m \u001b[32m━━━━━━━━━━━━━━━━━━━━\u001b[0m\u001b[37m\u001b[0m \u001b[1m6s\u001b[0m 3ms/step - accuracy: 0.8749 - loss: 0.4385\n",
      "Epoch 2/5\n",
      "\u001b[1m1875/1875\u001b[0m \u001b[32m━━━━━━━━━━━━━━━━━━━━\u001b[0m\u001b[37m\u001b[0m \u001b[1m5s\u001b[0m 3ms/step - accuracy: 0.9644 - loss: 0.1202\n",
      "Epoch 3/5\n",
      "\u001b[1m1875/1875\u001b[0m \u001b[32m━━━━━━━━━━━━━━━━━━━━\u001b[0m\u001b[37m\u001b[0m \u001b[1m5s\u001b[0m 3ms/step - accuracy: 0.9746 - loss: 0.0808\n",
      "Epoch 4/5\n",
      "\u001b[1m1875/1875\u001b[0m \u001b[32m━━━━━━━━━━━━━━━━━━━━\u001b[0m\u001b[37m\u001b[0m \u001b[1m5s\u001b[0m 3ms/step - accuracy: 0.9828 - loss: 0.0568\n",
      "Epoch 5/5\n",
      "\u001b[1m1875/1875\u001b[0m \u001b[32m━━━━━━━━━━━━━━━━━━━━\u001b[0m\u001b[37m\u001b[0m \u001b[1m5s\u001b[0m 3ms/step - accuracy: 0.9862 - loss: 0.0437\n",
      "\u001b[1m313/313\u001b[0m \u001b[32m━━━━━━━━━━━━━━━━━━━━\u001b[0m\u001b[37m\u001b[0m \u001b[1m1s\u001b[0m 1ms/step - accuracy: 0.9745 - loss: 0.0892\n"
     ]
    },
    {
     "data": {
      "text/plain": [
       "[0.0744643285870552, 0.9778000116348267]"
      ]
     },
     "execution_count": 8,
     "metadata": {},
     "output_type": "execute_result"
    }
   ],
   "source": [
    "# Build the model\n",
    "model = Sequential([\n",
    "    Flatten(input_shape=(28, 28)),\n",
    "    Dense(128, activation='relu'),\n",
    "    Dense(10, activation='softmax')\n",
    "])\n",
    "\n",
    "# Compile the model\n",
    "model.compile(optimizer='adam',\n",
    "              loss ='sparse_categorical_crossentropy',\n",
    "              metrics=['accuracy'])\n",
    "\n",
    "# Train the model\n",
    "model.fit(x_train, y_train, epochs=5)\n",
    "\n",
    "# Evaluate the model\n",
    "model.evaluate(x_test, y_test)"
   ]
  },
  {
   "cell_type": "markdown",
   "id": "e13e3b7a",
   "metadata": {
    "papermill": {
     "duration": 0.032011,
     "end_time": "2024-12-20T15:06:52.130203",
     "exception": false,
     "start_time": "2024-12-20T15:06:52.098192",
     "status": "completed"
    },
    "tags": []
   },
   "source": [
    "# Tensorflow\n"
   ]
  },
  {
   "cell_type": "code",
   "execution_count": 9,
   "id": "1379b930",
   "metadata": {
    "execution": {
     "iopub.execute_input": "2024-12-20T15:06:52.196022Z",
     "iopub.status.busy": "2024-12-20T15:06:52.195608Z",
     "iopub.status.idle": "2024-12-20T15:06:52.670796Z",
     "shell.execute_reply": "2024-12-20T15:06:52.669597Z"
    },
    "papermill": {
     "duration": 0.511332,
     "end_time": "2024-12-20T15:06:52.673234",
     "exception": false,
     "start_time": "2024-12-20T15:06:52.161902",
     "status": "completed"
    },
    "tags": []
   },
   "outputs": [],
   "source": [
    "import tensorflow as tf\n",
    "from tensorflow.keras.datasets import mnist\n",
    "\n",
    "#load data\n",
    "(x_train, y_train),(x_test, y_test) = mnist.load_data()\n",
    "x_train, x_test = x_train/255.0, x_test/255.0\n",
    "\n",
    "y_train = tf.one_hot(y_train, depth =10).numpy()\n",
    "y_test = tf.one_hot(y_test, depth =10).numpy()\n",
    "\n",
    "class NeuralNetwork(tf.keras.Model):\n",
    "    def __init__(self):\n",
    "        super().__init__()\n",
    "        self.flatten = tf.keras.layers.Flatten()\n",
    "        self.dense1 = tf.keras.layers.Dense(128, activation = 'relu')\n",
    "        self.dense2 = tf.keras.layers.Dense(10, activation = 'softmax')\n",
    "\n",
    "    def call(self, x):\n",
    "        x = self.flatten(x)\n",
    "        x = self.dense(x)\n",
    "        return self.dense2(x)\n",
    "\n",
    "model = NeuralNetwork()\n",
    "\n",
    "\n",
    "#define loss and optimizer\n",
    "loss_fn = tf.keras.losses.CategoricalCrossentropy()\n",
    "optimizer = tf.optimizers.Adam()\n",
    "\n"
   ]
  },
  {
   "cell_type": "markdown",
   "id": "64ce35dc",
   "metadata": {
    "papermill": {
     "duration": 0.031611,
     "end_time": "2024-12-20T15:06:52.736642",
     "exception": false,
     "start_time": "2024-12-20T15:06:52.705031",
     "status": "completed"
    },
    "tags": []
   },
   "source": [
    "# PyTorch"
   ]
  },
  {
   "cell_type": "code",
   "execution_count": 10,
   "id": "ed38b107",
   "metadata": {
    "execution": {
     "iopub.execute_input": "2024-12-20T15:06:52.801666Z",
     "iopub.status.busy": "2024-12-20T15:06:52.801194Z",
     "iopub.status.idle": "2024-12-20T15:07:03.325293Z",
     "shell.execute_reply": "2024-12-20T15:07:03.323958Z"
    },
    "papermill": {
     "duration": 10.559405,
     "end_time": "2024-12-20T15:07:03.327896",
     "exception": false,
     "start_time": "2024-12-20T15:06:52.768491",
     "status": "completed"
    },
    "tags": []
   },
   "outputs": [
    {
     "name": "stdout",
     "output_type": "stream",
     "text": [
      "Downloading http://yann.lecun.com/exdb/mnist/train-images-idx3-ubyte.gz\n",
      "Failed to download (trying next):\n",
      "HTTP Error 403: Forbidden\n",
      "\n",
      "Downloading https://ossci-datasets.s3.amazonaws.com/mnist/train-images-idx3-ubyte.gz\n",
      "Downloading https://ossci-datasets.s3.amazonaws.com/mnist/train-images-idx3-ubyte.gz to ./data/MNIST/raw/train-images-idx3-ubyte.gz\n"
     ]
    },
    {
     "name": "stderr",
     "output_type": "stream",
     "text": [
      "100%|██████████| 9912422/9912422 [00:00<00:00, 17528035.42it/s]\n"
     ]
    },
    {
     "name": "stdout",
     "output_type": "stream",
     "text": [
      "Extracting ./data/MNIST/raw/train-images-idx3-ubyte.gz to ./data/MNIST/raw\n",
      "\n",
      "Downloading http://yann.lecun.com/exdb/mnist/train-labels-idx1-ubyte.gz\n",
      "Failed to download (trying next):\n",
      "HTTP Error 403: Forbidden\n",
      "\n",
      "Downloading https://ossci-datasets.s3.amazonaws.com/mnist/train-labels-idx1-ubyte.gz\n",
      "Downloading https://ossci-datasets.s3.amazonaws.com/mnist/train-labels-idx1-ubyte.gz to ./data/MNIST/raw/train-labels-idx1-ubyte.gz\n"
     ]
    },
    {
     "name": "stderr",
     "output_type": "stream",
     "text": [
      "100%|██████████| 28881/28881 [00:00<00:00, 471392.80it/s]\n"
     ]
    },
    {
     "name": "stdout",
     "output_type": "stream",
     "text": [
      "Extracting ./data/MNIST/raw/train-labels-idx1-ubyte.gz to ./data/MNIST/raw\n",
      "\n",
      "Downloading http://yann.lecun.com/exdb/mnist/t10k-images-idx3-ubyte.gz\n",
      "Failed to download (trying next):\n",
      "HTTP Error 403: Forbidden\n",
      "\n",
      "Downloading https://ossci-datasets.s3.amazonaws.com/mnist/t10k-images-idx3-ubyte.gz\n",
      "Downloading https://ossci-datasets.s3.amazonaws.com/mnist/t10k-images-idx3-ubyte.gz to ./data/MNIST/raw/t10k-images-idx3-ubyte.gz\n"
     ]
    },
    {
     "name": "stderr",
     "output_type": "stream",
     "text": [
      "100%|██████████| 1648877/1648877 [00:00<00:00, 4405492.17it/s]\n"
     ]
    },
    {
     "name": "stdout",
     "output_type": "stream",
     "text": [
      "Extracting ./data/MNIST/raw/t10k-images-idx3-ubyte.gz to ./data/MNIST/raw\n",
      "\n",
      "Downloading http://yann.lecun.com/exdb/mnist/t10k-labels-idx1-ubyte.gz\n",
      "Failed to download (trying next):\n",
      "HTTP Error 403: Forbidden\n",
      "\n",
      "Downloading https://ossci-datasets.s3.amazonaws.com/mnist/t10k-labels-idx1-ubyte.gz\n",
      "Downloading https://ossci-datasets.s3.amazonaws.com/mnist/t10k-labels-idx1-ubyte.gz to ./data/MNIST/raw/t10k-labels-idx1-ubyte.gz\n"
     ]
    },
    {
     "name": "stderr",
     "output_type": "stream",
     "text": [
      "100%|██████████| 4542/4542 [00:00<00:00, 2178697.25it/s]"
     ]
    },
    {
     "name": "stdout",
     "output_type": "stream",
     "text": [
      "Extracting ./data/MNIST/raw/t10k-labels-idx1-ubyte.gz to ./data/MNIST/raw\n",
      "\n"
     ]
    },
    {
     "name": "stderr",
     "output_type": "stream",
     "text": [
      "\n"
     ]
    }
   ],
   "source": [
    "import torch\n",
    "import torch.nn as nn\n",
    "import torch.optim as optim\n",
    "from torchvision import datasets, transforms\n",
    "from torch.utils.data import DataLoader\n",
    "\n",
    "# Load and preprocess data\n",
    "transform = transforms.ToTensor()\n",
    "train_dataset = datasets.MNIST(root='./data', train=True, transform=transform, download=True)\n",
    "test_dataset = datasets.MNIST(root='./data', train=False, transform=transform)\n",
    "\n",
    "train_loader = DataLoader(train_dataset, batch_size=64, shuffle=True)\n",
    "test_loader = DataLoader(test_dataset, batch_size=64, shuffle=False)\n",
    "\n",
    "# Define the model\n",
    "class NeuralNetwork(nn.Module):\n",
    "    def __init__(self):\n",
    "        super(NeuralNetwork, self).__init__()\n",
    "        self.flatten = nn.Flatten()\n",
    "        self.fc1 = nn.Linear(28 * 28, 128)\n",
    "        self.relu = nn.ReLU()\n",
    "        self.fc2 = nn.Linear(128, 10)\n",
    "        self.softmax = nn.Softmax(dim=1)\n",
    "\n",
    "    def forward(self, x):\n",
    "        x = self.flatten(x)\n",
    "        x = self.relu(self.fc1(x))\n",
    "        x = self.softmax(self.fc2(x))\n",
    "        return x"
   ]
  },
  {
   "cell_type": "code",
   "execution_count": 11,
   "id": "2e294bdd",
   "metadata": {
    "execution": {
     "iopub.execute_input": "2024-12-20T15:07:03.401303Z",
     "iopub.status.busy": "2024-12-20T15:07:03.400322Z",
     "iopub.status.idle": "2024-12-20T15:07:03.422683Z",
     "shell.execute_reply": "2024-12-20T15:07:03.421227Z"
    },
    "papermill": {
     "duration": 0.061347,
     "end_time": "2024-12-20T15:07:03.425171",
     "exception": false,
     "start_time": "2024-12-20T15:07:03.363824",
     "status": "completed"
    },
    "tags": []
   },
   "outputs": [],
   "source": [
    "model = NeuralNetwork()\n",
    "\n",
    "# Define loss and optimizer\n",
    "criterion = nn.CrossEntropyLoss()\n",
    "optimizer = optim.Adam(model.parameters(), lr=0.001)\n"
   ]
  },
  {
   "cell_type": "code",
   "execution_count": 12,
   "id": "d5195c50",
   "metadata": {
    "execution": {
     "iopub.execute_input": "2024-12-20T15:07:03.497299Z",
     "iopub.status.busy": "2024-12-20T15:07:03.496879Z",
     "iopub.status.idle": "2024-12-20T15:07:51.629707Z",
     "shell.execute_reply": "2024-12-20T15:07:51.628605Z"
    },
    "papermill": {
     "duration": 48.207371,
     "end_time": "2024-12-20T15:07:51.668784",
     "exception": false,
     "start_time": "2024-12-20T15:07:03.461413",
     "status": "completed"
    },
    "tags": []
   },
   "outputs": [
    {
     "name": "stdout",
     "output_type": "stream",
     "text": [
      "Accuracy: 96.53%\n"
     ]
    }
   ],
   "source": [
    "# Training loop\n",
    "for epoch in range(5):\n",
    "    for images, labels in train_loader:\n",
    "        # Forward pass\n",
    "        outputs = model(images)\n",
    "        loss = criterion(outputs, labels)\n",
    "\n",
    "        # Backward pass\n",
    "        optimizer.zero_grad()\n",
    "        loss.backward()\n",
    "        optimizer.step()\n",
    "\n",
    "# Evaluate the model\n",
    "correct = 0\n",
    "total = 0\n",
    "with torch.no_grad():\n",
    "    for images, labels in test_loader:\n",
    "        outputs = model(images)\n",
    "        _, predicted = torch.max(outputs, 1)\n",
    "        total += labels.size(0)\n",
    "        correct += (predicted == labels).sum().item()\n",
    "\n",
    "print(f\"Accuracy: {100 * correct / total}%\")"
   ]
  },
  {
   "cell_type": "code",
   "execution_count": null,
   "id": "36f2706d",
   "metadata": {
    "papermill": {
     "duration": 0.032908,
     "end_time": "2024-12-20T15:07:51.735058",
     "exception": false,
     "start_time": "2024-12-20T15:07:51.702150",
     "status": "completed"
    },
    "tags": []
   },
   "outputs": [],
   "source": []
  }
 ],
 "metadata": {
  "kaggle": {
   "accelerator": "none",
   "dataSources": [],
   "dockerImageVersionId": 30786,
   "isGpuEnabled": false,
   "isInternetEnabled": true,
   "language": "python",
   "sourceType": "notebook"
  },
  "kernelspec": {
   "display_name": "Python 3",
   "language": "python",
   "name": "python3"
  },
  "language_info": {
   "codemirror_mode": {
    "name": "ipython",
    "version": 3
   },
   "file_extension": ".py",
   "mimetype": "text/x-python",
   "name": "python",
   "nbconvert_exporter": "python",
   "pygments_lexer": "ipython3",
   "version": "3.10.14"
  },
  "papermill": {
   "default_parameters": {},
   "duration": 112.020407,
   "end_time": "2024-12-20T15:07:54.334532",
   "environment_variables": {},
   "exception": null,
   "input_path": "__notebook__.ipynb",
   "output_path": "__notebook__.ipynb",
   "parameters": {},
   "start_time": "2024-12-20T15:06:02.314125",
   "version": "2.6.0"
  }
 },
 "nbformat": 4,
 "nbformat_minor": 5
}

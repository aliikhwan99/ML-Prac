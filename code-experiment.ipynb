{
 "cells": [
  {
   "cell_type": "markdown",
   "id": "1ef1356f",
   "metadata": {
    "papermill": {
     "duration": 0.004806,
     "end_time": "2024-12-09T03:11:46.934463",
     "exception": false,
     "start_time": "2024-12-09T03:11:46.929657",
     "status": "completed"
    },
    "tags": []
   },
   "source": [
    "# Scikit-learn\n"
   ]
  },
  {
   "cell_type": "code",
   "execution_count": 1,
   "id": "bd7bf17d",
   "metadata": {
    "execution": {
     "iopub.execute_input": "2024-12-09T03:11:46.943965Z",
     "iopub.status.busy": "2024-12-09T03:11:46.943514Z",
     "iopub.status.idle": "2024-12-09T03:11:48.958813Z",
     "shell.execute_reply": "2024-12-09T03:11:48.957765Z"
    },
    "papermill": {
     "duration": 2.022829,
     "end_time": "2024-12-09T03:11:48.961313",
     "exception": false,
     "start_time": "2024-12-09T03:11:46.938484",
     "status": "completed"
    },
    "tags": []
   },
   "outputs": [],
   "source": [
    "from sklearn.model_selection import train_test_split\n",
    "from sklearn.preprocessing import StandardScaler\n",
    "from sklearn.ensemble import RandomForestClassifier\n",
    "from sklearn.metrics import accuracy_score"
   ]
  },
  {
   "cell_type": "code",
   "execution_count": 2,
   "id": "14a1d799",
   "metadata": {
    "execution": {
     "iopub.execute_input": "2024-12-09T03:11:48.971145Z",
     "iopub.status.busy": "2024-12-09T03:11:48.970648Z",
     "iopub.status.idle": "2024-12-09T03:11:49.101303Z",
     "shell.execute_reply": "2024-12-09T03:11:49.100056Z"
    },
    "papermill": {
     "duration": 0.13844,
     "end_time": "2024-12-09T03:11:49.104064",
     "exception": false,
     "start_time": "2024-12-09T03:11:48.965624",
     "status": "completed"
    },
    "tags": []
   },
   "outputs": [],
   "source": [
    "#import data\n",
    "from sklearn.datasets import load_iris\n",
    "data = load_iris()\n",
    "X, y = data.data, data.target\n",
    "\n",
    "x_train, x_test, y_train, y_test = train_test_split(X, y, test_size = 0.2, random_state = 42)"
   ]
  },
  {
   "cell_type": "code",
   "execution_count": 3,
   "id": "b9bffc70",
   "metadata": {
    "execution": {
     "iopub.execute_input": "2024-12-09T03:11:49.114252Z",
     "iopub.status.busy": "2024-12-09T03:11:49.113084Z",
     "iopub.status.idle": "2024-12-09T03:11:49.124034Z",
     "shell.execute_reply": "2024-12-09T03:11:49.122826Z"
    },
    "papermill": {
     "duration": 0.018448,
     "end_time": "2024-12-09T03:11:49.126394",
     "exception": false,
     "start_time": "2024-12-09T03:11:49.107946",
     "status": "completed"
    },
    "tags": []
   },
   "outputs": [],
   "source": [
    "#preprocessing \n",
    "scaler = StandardScaler()\n",
    "\n",
    "x_train_scaler = scaler.fit_transform(x_train)\n",
    "x_test_scaler = scaler.transform(x_test)"
   ]
  },
  {
   "cell_type": "markdown",
   "id": "20659895",
   "metadata": {
    "papermill": {
     "duration": 0.003691,
     "end_time": "2024-12-09T03:11:49.134103",
     "exception": false,
     "start_time": "2024-12-09T03:11:49.130412",
     "status": "completed"
    },
    "tags": []
   },
   "source": [
    "# Pipeline"
   ]
  },
  {
   "cell_type": "code",
   "execution_count": 4,
   "id": "fe2f22f2",
   "metadata": {
    "execution": {
     "iopub.execute_input": "2024-12-09T03:11:49.144020Z",
     "iopub.status.busy": "2024-12-09T03:11:49.143631Z",
     "iopub.status.idle": "2024-12-09T03:11:49.152658Z",
     "shell.execute_reply": "2024-12-09T03:11:49.151481Z"
    },
    "papermill": {
     "duration": 0.017168,
     "end_time": "2024-12-09T03:11:49.155627",
     "exception": false,
     "start_time": "2024-12-09T03:11:49.138459",
     "status": "completed"
    },
    "tags": []
   },
   "outputs": [],
   "source": [
    "from sklearn.pipeline import Pipeline\n",
    "from sklearn.preprocessing import StandardScaler\n",
    "from sklearn.linear_model import LogisticRegression\n",
    "from sklearn.datasets import load_iris\n",
    "from sklearn.model_selection import train_test_split"
   ]
  },
  {
   "cell_type": "code",
   "execution_count": 5,
   "id": "8745b891",
   "metadata": {
    "execution": {
     "iopub.execute_input": "2024-12-09T03:11:49.166058Z",
     "iopub.status.busy": "2024-12-09T03:11:49.165656Z",
     "iopub.status.idle": "2024-12-09T03:11:49.197904Z",
     "shell.execute_reply": "2024-12-09T03:11:49.196768Z"
    },
    "papermill": {
     "duration": 0.04046,
     "end_time": "2024-12-09T03:11:49.200254",
     "exception": false,
     "start_time": "2024-12-09T03:11:49.159794",
     "status": "completed"
    },
    "tags": []
   },
   "outputs": [
    {
     "name": "stdout",
     "output_type": "stream",
     "text": [
      "Accuracy: 1.00\n"
     ]
    }
   ],
   "source": [
    "# Load data\n",
    "data = load_iris()\n",
    "X_train, X_test, y_train, y_test = train_test_split(data.data, data.target, test_size=0.2, random_state= 42)\n",
    "\n",
    "# Define pipeline\n",
    "pipeline = Pipeline([\n",
    "    ('scaler', StandardScaler()),       # Step 1: Standardize features\n",
    "    ('classifier', LogisticRegression())  # Step 2: Train logistic regression\n",
    "])\n",
    "\n",
    "# Train model\n",
    "pipeline.fit(X_train, y_train)\n",
    "\n",
    "# Make predictions\n",
    "y_pred = pipeline.predict(X_test)\n",
    "\n",
    "# Evaluate\n",
    "print(f\"Accuracy: {pipeline.score(X_test, y_test):.2f}\")\n"
   ]
  },
  {
   "cell_type": "markdown",
   "id": "c29f4c4c",
   "metadata": {
    "papermill": {
     "duration": 0.003546,
     "end_time": "2024-12-09T03:11:49.208108",
     "exception": false,
     "start_time": "2024-12-09T03:11:49.204562",
     "status": "completed"
    },
    "tags": []
   },
   "source": [
    "# Keras"
   ]
  },
  {
   "cell_type": "code",
   "execution_count": 6,
   "id": "fabeacdf",
   "metadata": {
    "execution": {
     "iopub.execute_input": "2024-12-09T03:11:49.219379Z",
     "iopub.status.busy": "2024-12-09T03:11:49.218855Z",
     "iopub.status.idle": "2024-12-09T03:12:05.776732Z",
     "shell.execute_reply": "2024-12-09T03:12:05.775055Z"
    },
    "papermill": {
     "duration": 16.566448,
     "end_time": "2024-12-09T03:12:05.780063",
     "exception": false,
     "start_time": "2024-12-09T03:11:49.213615",
     "status": "completed"
    },
    "tags": []
   },
   "outputs": [],
   "source": [
    "import tensorflow as tf\n",
    "from tensorflow.keras import Sequential\n",
    "from tensorflow.keras.layers import Dense, Flatten\n",
    "from tensorflow.keras.datasets import mnist"
   ]
  },
  {
   "cell_type": "code",
   "execution_count": 7,
   "id": "72ccc066",
   "metadata": {
    "execution": {
     "iopub.execute_input": "2024-12-09T03:12:05.790623Z",
     "iopub.status.busy": "2024-12-09T03:12:05.789823Z",
     "iopub.status.idle": "2024-12-09T03:12:07.383615Z",
     "shell.execute_reply": "2024-12-09T03:12:07.381874Z"
    },
    "papermill": {
     "duration": 1.602229,
     "end_time": "2024-12-09T03:12:07.386482",
     "exception": false,
     "start_time": "2024-12-09T03:12:05.784253",
     "status": "completed"
    },
    "tags": []
   },
   "outputs": [
    {
     "name": "stdout",
     "output_type": "stream",
     "text": [
      "Downloading data from https://storage.googleapis.com/tensorflow/tf-keras-datasets/mnist.npz\n",
      "\u001b[1m11490434/11490434\u001b[0m \u001b[32m━━━━━━━━━━━━━━━━━━━━\u001b[0m\u001b[37m\u001b[0m \u001b[1m1s\u001b[0m 0us/step\n"
     ]
    }
   ],
   "source": [
    "#load data \n",
    "(x_train, y_train),(x_test, y_test) = mnist.load_data()\n",
    "\n",
    "#normalize\n",
    "(x_train, x_test) = x_train/255.0, x_test/255.0"
   ]
  },
  {
   "cell_type": "code",
   "execution_count": 8,
   "id": "5e8b6dc4",
   "metadata": {
    "execution": {
     "iopub.execute_input": "2024-12-09T03:12:07.401069Z",
     "iopub.status.busy": "2024-12-09T03:12:07.400653Z",
     "iopub.status.idle": "2024-12-09T03:12:38.811694Z",
     "shell.execute_reply": "2024-12-09T03:12:38.810403Z"
    },
    "papermill": {
     "duration": 31.420705,
     "end_time": "2024-12-09T03:12:38.814001",
     "exception": false,
     "start_time": "2024-12-09T03:12:07.393296",
     "status": "completed"
    },
    "tags": []
   },
   "outputs": [
    {
     "name": "stderr",
     "output_type": "stream",
     "text": [
      "/opt/conda/lib/python3.10/site-packages/keras/src/layers/reshaping/flatten.py:37: UserWarning: Do not pass an `input_shape`/`input_dim` argument to a layer. When using Sequential models, prefer using an `Input(shape)` object as the first layer in the model instead.\n",
      "  super().__init__(**kwargs)\n"
     ]
    },
    {
     "name": "stdout",
     "output_type": "stream",
     "text": [
      "Epoch 1/5\n",
      "\u001b[1m1875/1875\u001b[0m \u001b[32m━━━━━━━━━━━━━━━━━━━━\u001b[0m\u001b[37m\u001b[0m \u001b[1m7s\u001b[0m 3ms/step - accuracy: 0.8749 - loss: 0.4420\n",
      "Epoch 2/5\n",
      "\u001b[1m1875/1875\u001b[0m \u001b[32m━━━━━━━━━━━━━━━━━━━━\u001b[0m\u001b[37m\u001b[0m \u001b[1m6s\u001b[0m 3ms/step - accuracy: 0.9634 - loss: 0.1245\n",
      "Epoch 3/5\n",
      "\u001b[1m1875/1875\u001b[0m \u001b[32m━━━━━━━━━━━━━━━━━━━━\u001b[0m\u001b[37m\u001b[0m \u001b[1m6s\u001b[0m 3ms/step - accuracy: 0.9759 - loss: 0.0805\n",
      "Epoch 4/5\n",
      "\u001b[1m1875/1875\u001b[0m \u001b[32m━━━━━━━━━━━━━━━━━━━━\u001b[0m\u001b[37m\u001b[0m \u001b[1m6s\u001b[0m 3ms/step - accuracy: 0.9827 - loss: 0.0581\n",
      "Epoch 5/5\n",
      "\u001b[1m1875/1875\u001b[0m \u001b[32m━━━━━━━━━━━━━━━━━━━━\u001b[0m\u001b[37m\u001b[0m \u001b[1m6s\u001b[0m 3ms/step - accuracy: 0.9864 - loss: 0.0438\n",
      "\u001b[1m313/313\u001b[0m \u001b[32m━━━━━━━━━━━━━━━━━━━━\u001b[0m\u001b[37m\u001b[0m \u001b[1m1s\u001b[0m 2ms/step - accuracy: 0.9721 - loss: 0.0933\n"
     ]
    },
    {
     "data": {
      "text/plain": [
       "[0.07716061174869537, 0.9769999980926514]"
      ]
     },
     "execution_count": 8,
     "metadata": {},
     "output_type": "execute_result"
    }
   ],
   "source": [
    "# Build the model\n",
    "model = Sequential([\n",
    "    Flatten(input_shape=(28, 28)),\n",
    "    Dense(128, activation='relu'),\n",
    "    Dense(10, activation='softmax')\n",
    "])\n",
    "\n",
    "# Compile the model\n",
    "model.compile(optimizer='adam',\n",
    "              loss ='sparse_categorical_crossentropy',\n",
    "              metrics=['accuracy'])\n",
    "\n",
    "# Train the model\n",
    "model.fit(x_train, y_train, epochs=5)\n",
    "\n",
    "# Evaluate the model\n",
    "model.evaluate(x_test, y_test)"
   ]
  },
  {
   "cell_type": "code",
   "execution_count": null,
   "id": "da80e517",
   "metadata": {
    "papermill": {
     "duration": 0.037094,
     "end_time": "2024-12-09T03:12:38.889516",
     "exception": false,
     "start_time": "2024-12-09T03:12:38.852422",
     "status": "completed"
    },
    "tags": []
   },
   "outputs": [],
   "source": []
  },
  {
   "cell_type": "markdown",
   "id": "c46c1f2c",
   "metadata": {
    "papermill": {
     "duration": 0.038525,
     "end_time": "2024-12-09T03:12:38.965946",
     "exception": false,
     "start_time": "2024-12-09T03:12:38.927421",
     "status": "completed"
    },
    "tags": []
   },
   "source": [
    "# PyTorch"
   ]
  },
  {
   "cell_type": "code",
   "execution_count": 9,
   "id": "737d3070",
   "metadata": {
    "execution": {
     "iopub.execute_input": "2024-12-09T03:12:39.044343Z",
     "iopub.status.busy": "2024-12-09T03:12:39.043871Z",
     "iopub.status.idle": "2024-12-09T03:12:51.530875Z",
     "shell.execute_reply": "2024-12-09T03:12:51.529480Z"
    },
    "papermill": {
     "duration": 12.530079,
     "end_time": "2024-12-09T03:12:51.533323",
     "exception": false,
     "start_time": "2024-12-09T03:12:39.003244",
     "status": "completed"
    },
    "tags": []
   },
   "outputs": [
    {
     "name": "stdout",
     "output_type": "stream",
     "text": [
      "Downloading http://yann.lecun.com/exdb/mnist/train-images-idx3-ubyte.gz\n",
      "Failed to download (trying next):\n",
      "HTTP Error 403: Forbidden\n",
      "\n",
      "Downloading https://ossci-datasets.s3.amazonaws.com/mnist/train-images-idx3-ubyte.gz\n",
      "Downloading https://ossci-datasets.s3.amazonaws.com/mnist/train-images-idx3-ubyte.gz to ./data/MNIST/raw/train-images-idx3-ubyte.gz\n"
     ]
    },
    {
     "name": "stderr",
     "output_type": "stream",
     "text": [
      "100%|██████████| 9912422/9912422 [00:00<00:00, 12778709.80it/s]\n"
     ]
    },
    {
     "name": "stdout",
     "output_type": "stream",
     "text": [
      "Extracting ./data/MNIST/raw/train-images-idx3-ubyte.gz to ./data/MNIST/raw\n",
      "\n",
      "Downloading http://yann.lecun.com/exdb/mnist/train-labels-idx1-ubyte.gz\n",
      "Failed to download (trying next):\n",
      "HTTP Error 403: Forbidden\n",
      "\n",
      "Downloading https://ossci-datasets.s3.amazonaws.com/mnist/train-labels-idx1-ubyte.gz\n",
      "Downloading https://ossci-datasets.s3.amazonaws.com/mnist/train-labels-idx1-ubyte.gz to ./data/MNIST/raw/train-labels-idx1-ubyte.gz\n"
     ]
    },
    {
     "name": "stderr",
     "output_type": "stream",
     "text": [
      "100%|██████████| 28881/28881 [00:00<00:00, 336460.00it/s]\n"
     ]
    },
    {
     "name": "stdout",
     "output_type": "stream",
     "text": [
      "Extracting ./data/MNIST/raw/train-labels-idx1-ubyte.gz to ./data/MNIST/raw\n",
      "\n",
      "Downloading http://yann.lecun.com/exdb/mnist/t10k-images-idx3-ubyte.gz\n",
      "Failed to download (trying next):\n",
      "HTTP Error 403: Forbidden\n",
      "\n",
      "Downloading https://ossci-datasets.s3.amazonaws.com/mnist/t10k-images-idx3-ubyte.gz\n",
      "Downloading https://ossci-datasets.s3.amazonaws.com/mnist/t10k-images-idx3-ubyte.gz to ./data/MNIST/raw/t10k-images-idx3-ubyte.gz\n"
     ]
    },
    {
     "name": "stderr",
     "output_type": "stream",
     "text": [
      "100%|██████████| 1648877/1648877 [00:00<00:00, 3182873.79it/s]\n"
     ]
    },
    {
     "name": "stdout",
     "output_type": "stream",
     "text": [
      "Extracting ./data/MNIST/raw/t10k-images-idx3-ubyte.gz to ./data/MNIST/raw\n",
      "\n",
      "Downloading http://yann.lecun.com/exdb/mnist/t10k-labels-idx1-ubyte.gz\n",
      "Failed to download (trying next):\n",
      "HTTP Error 403: Forbidden\n",
      "\n",
      "Downloading https://ossci-datasets.s3.amazonaws.com/mnist/t10k-labels-idx1-ubyte.gz\n",
      "Downloading https://ossci-datasets.s3.amazonaws.com/mnist/t10k-labels-idx1-ubyte.gz to ./data/MNIST/raw/t10k-labels-idx1-ubyte.gz\n"
     ]
    },
    {
     "name": "stderr",
     "output_type": "stream",
     "text": [
      "100%|██████████| 4542/4542 [00:00<00:00, 1533241.75it/s]"
     ]
    },
    {
     "name": "stdout",
     "output_type": "stream",
     "text": [
      "Extracting ./data/MNIST/raw/t10k-labels-idx1-ubyte.gz to ./data/MNIST/raw\n",
      "\n"
     ]
    },
    {
     "name": "stderr",
     "output_type": "stream",
     "text": [
      "\n"
     ]
    }
   ],
   "source": [
    "import torch\n",
    "import torch.nn as nn\n",
    "import torch.optim as optim\n",
    "from torchvision import datasets, transforms\n",
    "from torch.utils.data import DataLoader\n",
    "\n",
    "# Load and preprocess data\n",
    "transform = transforms.ToTensor()\n",
    "train_dataset = datasets.MNIST(root='./data', train=True, transform=transform, download=True)\n",
    "test_dataset = datasets.MNIST(root='./data', train=False, transform=transform)\n",
    "\n",
    "train_loader = DataLoader(train_dataset, batch_size=64, shuffle=True)\n",
    "test_loader = DataLoader(test_dataset, batch_size=64, shuffle=False)\n",
    "\n",
    "# Define the model\n",
    "class NeuralNetwork(nn.Module):\n",
    "    def __init__(self):\n",
    "        super(NeuralNetwork, self).__init__()\n",
    "        self.flatten = nn.Flatten()\n",
    "        self.fc1 = nn.Linear(28 * 28, 128)\n",
    "        self.relu = nn.ReLU()\n",
    "        self.fc2 = nn.Linear(128, 10)\n",
    "        self.softmax = nn.Softmax(dim=1)\n",
    "\n",
    "    def forward(self, x):\n",
    "        x = self.flatten(x)\n",
    "        x = self.relu(self.fc1(x))\n",
    "        x = self.softmax(self.fc2(x))\n",
    "        return x"
   ]
  },
  {
   "cell_type": "code",
   "execution_count": 10,
   "id": "21fd8171",
   "metadata": {
    "execution": {
     "iopub.execute_input": "2024-12-09T03:12:51.613243Z",
     "iopub.status.busy": "2024-12-09T03:12:51.612356Z",
     "iopub.status.idle": "2024-12-09T03:12:51.632174Z",
     "shell.execute_reply": "2024-12-09T03:12:51.631149Z"
    },
    "papermill": {
     "duration": 0.06257,
     "end_time": "2024-12-09T03:12:51.634882",
     "exception": false,
     "start_time": "2024-12-09T03:12:51.572312",
     "status": "completed"
    },
    "tags": []
   },
   "outputs": [],
   "source": [
    "model = NeuralNetwork()\n",
    "\n",
    "# Define loss and optimizer\n",
    "criterion = nn.CrossEntropyLoss()\n",
    "optimizer = optim.Adam(model.parameters(), lr=0.001)\n"
   ]
  },
  {
   "cell_type": "code",
   "execution_count": 11,
   "id": "87bdca69",
   "metadata": {
    "execution": {
     "iopub.execute_input": "2024-12-09T03:12:51.717928Z",
     "iopub.status.busy": "2024-12-09T03:12:51.717029Z",
     "iopub.status.idle": "2024-12-09T03:13:39.807176Z",
     "shell.execute_reply": "2024-12-09T03:13:39.805928Z"
    },
    "papermill": {
     "duration": 48.174448,
     "end_time": "2024-12-09T03:13:39.847762",
     "exception": false,
     "start_time": "2024-12-09T03:12:51.673314",
     "status": "completed"
    },
    "tags": []
   },
   "outputs": [
    {
     "name": "stdout",
     "output_type": "stream",
     "text": [
      "Accuracy: 96.41%\n"
     ]
    }
   ],
   "source": [
    "# Training loop\n",
    "for epoch in range(5):\n",
    "    for images, labels in train_loader:\n",
    "        # Forward pass\n",
    "        outputs = model(images)\n",
    "        loss = criterion(outputs, labels)\n",
    "\n",
    "        # Backward pass\n",
    "        optimizer.zero_grad()\n",
    "        loss.backward()\n",
    "        optimizer.step()\n",
    "\n",
    "# Evaluate the model\n",
    "correct = 0\n",
    "total = 0\n",
    "with torch.no_grad():\n",
    "    for images, labels in test_loader:\n",
    "        outputs = model(images)\n",
    "        _, predicted = torch.max(outputs, 1)\n",
    "        total += labels.size(0)\n",
    "        correct += (predicted == labels).sum().item()\n",
    "\n",
    "print(f\"Accuracy: {100 * correct / total}%\")"
   ]
  },
  {
   "cell_type": "code",
   "execution_count": null,
   "id": "0370ea2f",
   "metadata": {
    "papermill": {
     "duration": 0.040609,
     "end_time": "2024-12-09T03:13:39.931858",
     "exception": false,
     "start_time": "2024-12-09T03:13:39.891249",
     "status": "completed"
    },
    "tags": []
   },
   "outputs": [],
   "source": []
  }
 ],
 "metadata": {
  "kaggle": {
   "accelerator": "none",
   "dataSources": [],
   "dockerImageVersionId": 30786,
   "isGpuEnabled": false,
   "isInternetEnabled": true,
   "language": "python",
   "sourceType": "notebook"
  },
  "kernelspec": {
   "display_name": "Python 3",
   "language": "python",
   "name": "python3"
  },
  "language_info": {
   "codemirror_mode": {
    "name": "ipython",
    "version": 3
   },
   "file_extension": ".py",
   "mimetype": "text/x-python",
   "name": "python",
   "nbconvert_exporter": "python",
   "pygments_lexer": "ipython3",
   "version": "3.10.14"
  },
  "papermill": {
   "default_parameters": {},
   "duration": 118.602634,
   "end_time": "2024-12-09T03:13:42.515120",
   "environment_variables": {},
   "exception": null,
   "input_path": "__notebook__.ipynb",
   "output_path": "__notebook__.ipynb",
   "parameters": {},
   "start_time": "2024-12-09T03:11:43.912486",
   "version": "2.6.0"
  }
 },
 "nbformat": 4,
 "nbformat_minor": 5
}

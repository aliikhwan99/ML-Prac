{
 "cells": [
  {
   "cell_type": "markdown",
   "id": "6ac3fe9d",
   "metadata": {
    "papermill": {
     "duration": 0.00447,
     "end_time": "2024-12-11T16:00:54.258948",
     "exception": false,
     "start_time": "2024-12-11T16:00:54.254478",
     "status": "completed"
    },
    "tags": []
   },
   "source": [
    "# Scikit-learn\n"
   ]
  },
  {
   "cell_type": "code",
   "execution_count": 1,
   "id": "4e7e3fdd",
   "metadata": {
    "execution": {
     "iopub.execute_input": "2024-12-11T16:00:54.267814Z",
     "iopub.status.busy": "2024-12-11T16:00:54.267410Z",
     "iopub.status.idle": "2024-12-11T16:00:56.024838Z",
     "shell.execute_reply": "2024-12-11T16:00:56.023747Z"
    },
    "papermill": {
     "duration": 1.764615,
     "end_time": "2024-12-11T16:00:56.027310",
     "exception": false,
     "start_time": "2024-12-11T16:00:54.262695",
     "status": "completed"
    },
    "tags": []
   },
   "outputs": [],
   "source": [
    "from sklearn.model_selection import train_test_split\n",
    "from sklearn.preprocessing import StandardScaler\n",
    "from sklearn.ensemble import RandomForestClassifier\n",
    "from sklearn.metrics import accuracy_score"
   ]
  },
  {
   "cell_type": "code",
   "execution_count": 2,
   "id": "f6e3963c",
   "metadata": {
    "execution": {
     "iopub.execute_input": "2024-12-11T16:00:56.036542Z",
     "iopub.status.busy": "2024-12-11T16:00:56.036063Z",
     "iopub.status.idle": "2024-12-11T16:00:56.154030Z",
     "shell.execute_reply": "2024-12-11T16:00:56.152811Z"
    },
    "papermill": {
     "duration": 0.125347,
     "end_time": "2024-12-11T16:00:56.156554",
     "exception": false,
     "start_time": "2024-12-11T16:00:56.031207",
     "status": "completed"
    },
    "tags": []
   },
   "outputs": [],
   "source": [
    "from sklearn.datasets import load_iris\n",
    "\n",
    "data = load_iris()\n",
    "x, y = data.data, data.target\n",
    "\n",
    "x_train, x_test, y_train, y_tes = train_test_split(x,y, test_size = 0.20, random_state = 54)"
   ]
  },
  {
   "cell_type": "code",
   "execution_count": 3,
   "id": "286ef29c",
   "metadata": {
    "execution": {
     "iopub.execute_input": "2024-12-11T16:00:56.166174Z",
     "iopub.status.busy": "2024-12-11T16:00:56.165277Z",
     "iopub.status.idle": "2024-12-11T16:00:56.175425Z",
     "shell.execute_reply": "2024-12-11T16:00:56.174303Z"
    },
    "papermill": {
     "duration": 0.016882,
     "end_time": "2024-12-11T16:00:56.177413",
     "exception": false,
     "start_time": "2024-12-11T16:00:56.160531",
     "status": "completed"
    },
    "tags": []
   },
   "outputs": [],
   "source": [
    "scaler = StandardScaler()\n",
    "\n",
    "x_train_scaled = scaler.fit_transform(x_train)\n",
    "x_test_scaled = scaler.transform(x_test)"
   ]
  },
  {
   "cell_type": "markdown",
   "id": "ec808d18",
   "metadata": {
    "papermill": {
     "duration": 0.003287,
     "end_time": "2024-12-11T16:00:56.184395",
     "exception": false,
     "start_time": "2024-12-11T16:00:56.181108",
     "status": "completed"
    },
    "tags": []
   },
   "source": [
    "# Pipeline"
   ]
  },
  {
   "cell_type": "code",
   "execution_count": 4,
   "id": "10ca056f",
   "metadata": {
    "execution": {
     "iopub.execute_input": "2024-12-11T16:00:56.192668Z",
     "iopub.status.busy": "2024-12-11T16:00:56.192290Z",
     "iopub.status.idle": "2024-12-11T16:00:56.199515Z",
     "shell.execute_reply": "2024-12-11T16:00:56.198602Z"
    },
    "papermill": {
     "duration": 0.013863,
     "end_time": "2024-12-11T16:00:56.201690",
     "exception": false,
     "start_time": "2024-12-11T16:00:56.187827",
     "status": "completed"
    },
    "tags": []
   },
   "outputs": [],
   "source": [
    "from sklearn.pipeline import Pipeline\n",
    "from sklearn.preprocessing import StandardScaler\n",
    "from sklearn.linear_model import LogisticRegression\n",
    "from sklearn.datasets import load_iris\n",
    "from sklearn.model_selection import train_test_split"
   ]
  },
  {
   "cell_type": "code",
   "execution_count": 5,
   "id": "6eb63776",
   "metadata": {
    "execution": {
     "iopub.execute_input": "2024-12-11T16:00:56.210561Z",
     "iopub.status.busy": "2024-12-11T16:00:56.210194Z",
     "iopub.status.idle": "2024-12-11T16:00:56.240590Z",
     "shell.execute_reply": "2024-12-11T16:00:56.239264Z"
    },
    "papermill": {
     "duration": 0.037966,
     "end_time": "2024-12-11T16:00:56.243435",
     "exception": false,
     "start_time": "2024-12-11T16:00:56.205469",
     "status": "completed"
    },
    "tags": []
   },
   "outputs": [
    {
     "name": "stdout",
     "output_type": "stream",
     "text": [
      "Accuracy: 1.00\n"
     ]
    }
   ],
   "source": [
    "# Load data\n",
    "data = load_iris()\n",
    "X_train, X_test, y_train, y_test = train_test_split(data.data, data.target, test_size=0.2, random_state= 42)\n",
    "\n",
    "# Define pipeline\n",
    "pipeline = Pipeline([\n",
    "    ('scaler', StandardScaler()),       # Step 1: Standardize features\n",
    "    ('classifier', LogisticRegression())  # Step 2: Train logistic regression\n",
    "])\n",
    "\n",
    "# Train model\n",
    "pipeline.fit(X_train, y_train)\n",
    "\n",
    "# Make predictions\n",
    "y_pred = pipeline.predict(X_test)\n",
    "\n",
    "# Evaluate\n",
    "print(f\"Accuracy: {pipeline.score(X_test, y_test):.2f}\")\n"
   ]
  },
  {
   "cell_type": "markdown",
   "id": "aa40cc86",
   "metadata": {
    "papermill": {
     "duration": 0.003525,
     "end_time": "2024-12-11T16:00:56.251067",
     "exception": false,
     "start_time": "2024-12-11T16:00:56.247542",
     "status": "completed"
    },
    "tags": []
   },
   "source": [
    "# Keras"
   ]
  },
  {
   "cell_type": "code",
   "execution_count": 6,
   "id": "3b2ad79a",
   "metadata": {
    "execution": {
     "iopub.execute_input": "2024-12-11T16:00:56.261314Z",
     "iopub.status.busy": "2024-12-11T16:00:56.260586Z",
     "iopub.status.idle": "2024-12-11T16:01:10.545749Z",
     "shell.execute_reply": "2024-12-11T16:01:10.544415Z"
    },
    "papermill": {
     "duration": 14.292593,
     "end_time": "2024-12-11T16:01:10.548367",
     "exception": false,
     "start_time": "2024-12-11T16:00:56.255774",
     "status": "completed"
    },
    "tags": []
   },
   "outputs": [],
   "source": [
    "import tensorflow as tf\n",
    "from tensorflow.keras import Sequential\n",
    "from tensorflow.keras.layers import Dense, Flatten\n",
    "from tensorflow.keras.datasets import mnist"
   ]
  },
  {
   "cell_type": "code",
   "execution_count": 7,
   "id": "fb0f296d",
   "metadata": {
    "execution": {
     "iopub.execute_input": "2024-12-11T16:01:10.558548Z",
     "iopub.status.busy": "2024-12-11T16:01:10.557436Z",
     "iopub.status.idle": "2024-12-11T16:01:12.492213Z",
     "shell.execute_reply": "2024-12-11T16:01:12.491279Z"
    },
    "papermill": {
     "duration": 1.942263,
     "end_time": "2024-12-11T16:01:12.494618",
     "exception": false,
     "start_time": "2024-12-11T16:01:10.552355",
     "status": "completed"
    },
    "tags": []
   },
   "outputs": [
    {
     "name": "stdout",
     "output_type": "stream",
     "text": [
      "Downloading data from https://storage.googleapis.com/tensorflow/tf-keras-datasets/mnist.npz\n",
      "\u001b[1m11490434/11490434\u001b[0m \u001b[32m━━━━━━━━━━━━━━━━━━━━\u001b[0m\u001b[37m\u001b[0m \u001b[1m1s\u001b[0m 0us/step\n"
     ]
    }
   ],
   "source": [
    "#load data \n",
    "(x_train, y_train),(x_test, y_test) = mnist.load_data()\n",
    "\n",
    "#normalize\n",
    "(x_train, x_test) = x_train/255.0, x_test/255.0"
   ]
  },
  {
   "cell_type": "code",
   "execution_count": 8,
   "id": "f277c10d",
   "metadata": {
    "execution": {
     "iopub.execute_input": "2024-12-11T16:01:12.506686Z",
     "iopub.status.busy": "2024-12-11T16:01:12.506018Z",
     "iopub.status.idle": "2024-12-11T16:01:33.405821Z",
     "shell.execute_reply": "2024-12-11T16:01:33.404811Z"
    },
    "papermill": {
     "duration": 20.908083,
     "end_time": "2024-12-11T16:01:33.408049",
     "exception": false,
     "start_time": "2024-12-11T16:01:12.499966",
     "status": "completed"
    },
    "tags": []
   },
   "outputs": [
    {
     "name": "stderr",
     "output_type": "stream",
     "text": [
      "/opt/conda/lib/python3.10/site-packages/keras/src/layers/reshaping/flatten.py:37: UserWarning: Do not pass an `input_shape`/`input_dim` argument to a layer. When using Sequential models, prefer using an `Input(shape)` object as the first layer in the model instead.\n",
      "  super().__init__(**kwargs)\n"
     ]
    },
    {
     "name": "stdout",
     "output_type": "stream",
     "text": [
      "Epoch 1/5\n",
      "\u001b[1m1875/1875\u001b[0m \u001b[32m━━━━━━━━━━━━━━━━━━━━\u001b[0m\u001b[37m\u001b[0m \u001b[1m5s\u001b[0m 2ms/step - accuracy: 0.8771 - loss: 0.4360\n",
      "Epoch 2/5\n",
      "\u001b[1m1875/1875\u001b[0m \u001b[32m━━━━━━━━━━━━━━━━━━━━\u001b[0m\u001b[37m\u001b[0m \u001b[1m4s\u001b[0m 2ms/step - accuracy: 0.9649 - loss: 0.1216\n",
      "Epoch 3/5\n",
      "\u001b[1m1875/1875\u001b[0m \u001b[32m━━━━━━━━━━━━━━━━━━━━\u001b[0m\u001b[37m\u001b[0m \u001b[1m4s\u001b[0m 2ms/step - accuracy: 0.9766 - loss: 0.0803\n",
      "Epoch 4/5\n",
      "\u001b[1m1875/1875\u001b[0m \u001b[32m━━━━━━━━━━━━━━━━━━━━\u001b[0m\u001b[37m\u001b[0m \u001b[1m4s\u001b[0m 2ms/step - accuracy: 0.9834 - loss: 0.0561\n",
      "Epoch 5/5\n",
      "\u001b[1m1875/1875\u001b[0m \u001b[32m━━━━━━━━━━━━━━━━━━━━\u001b[0m\u001b[37m\u001b[0m \u001b[1m4s\u001b[0m 2ms/step - accuracy: 0.9862 - loss: 0.0448\n",
      "\u001b[1m313/313\u001b[0m \u001b[32m━━━━━━━━━━━━━━━━━━━━\u001b[0m\u001b[37m\u001b[0m \u001b[1m0s\u001b[0m 1ms/step - accuracy: 0.9693 - loss: 0.0959\n"
     ]
    },
    {
     "data": {
      "text/plain": [
       "[0.0852004885673523, 0.9739999771118164]"
      ]
     },
     "execution_count": 8,
     "metadata": {},
     "output_type": "execute_result"
    }
   ],
   "source": [
    "# Build the model\n",
    "model = Sequential([\n",
    "    Flatten(input_shape=(28, 28)),\n",
    "    Dense(128, activation='relu'),\n",
    "    Dense(10, activation='softmax')\n",
    "])\n",
    "\n",
    "# Compile the model\n",
    "model.compile(optimizer='adam',\n",
    "              loss ='sparse_categorical_crossentropy',\n",
    "              metrics=['accuracy'])\n",
    "\n",
    "# Train the model\n",
    "model.fit(x_train, y_train, epochs=5)\n",
    "\n",
    "# Evaluate the model\n",
    "model.evaluate(x_test, y_test)"
   ]
  },
  {
   "cell_type": "code",
   "execution_count": null,
   "id": "9fc50a12",
   "metadata": {
    "papermill": {
     "duration": 0.02601,
     "end_time": "2024-12-11T16:01:33.461864",
     "exception": false,
     "start_time": "2024-12-11T16:01:33.435854",
     "status": "completed"
    },
    "tags": []
   },
   "outputs": [],
   "source": []
  },
  {
   "cell_type": "markdown",
   "id": "672e7930",
   "metadata": {
    "papermill": {
     "duration": 0.025582,
     "end_time": "2024-12-11T16:01:33.513178",
     "exception": false,
     "start_time": "2024-12-11T16:01:33.487596",
     "status": "completed"
    },
    "tags": []
   },
   "source": [
    "# PyTorch"
   ]
  },
  {
   "cell_type": "code",
   "execution_count": 9,
   "id": "906065e5",
   "metadata": {
    "execution": {
     "iopub.execute_input": "2024-12-11T16:01:33.566013Z",
     "iopub.status.busy": "2024-12-11T16:01:33.565593Z",
     "iopub.status.idle": "2024-12-11T16:01:51.289178Z",
     "shell.execute_reply": "2024-12-11T16:01:51.287898Z"
    },
    "papermill": {
     "duration": 17.752687,
     "end_time": "2024-12-11T16:01:51.291563",
     "exception": false,
     "start_time": "2024-12-11T16:01:33.538876",
     "status": "completed"
    },
    "tags": []
   },
   "outputs": [
    {
     "name": "stdout",
     "output_type": "stream",
     "text": [
      "Downloading http://yann.lecun.com/exdb/mnist/train-images-idx3-ubyte.gz\n",
      "Failed to download (trying next):\n",
      "HTTP Error 403: Forbidden\n",
      "\n",
      "Downloading https://ossci-datasets.s3.amazonaws.com/mnist/train-images-idx3-ubyte.gz\n",
      "Downloading https://ossci-datasets.s3.amazonaws.com/mnist/train-images-idx3-ubyte.gz to ./data/MNIST/raw/train-images-idx3-ubyte.gz\n"
     ]
    },
    {
     "name": "stderr",
     "output_type": "stream",
     "text": [
      "100%|██████████| 9912422/9912422 [00:01<00:00, 6015665.97it/s] \n"
     ]
    },
    {
     "name": "stdout",
     "output_type": "stream",
     "text": [
      "Extracting ./data/MNIST/raw/train-images-idx3-ubyte.gz to ./data/MNIST/raw\n",
      "\n",
      "Downloading http://yann.lecun.com/exdb/mnist/train-labels-idx1-ubyte.gz\n",
      "Failed to download (trying next):\n",
      "HTTP Error 403: Forbidden\n",
      "\n",
      "Downloading https://ossci-datasets.s3.amazonaws.com/mnist/train-labels-idx1-ubyte.gz\n",
      "Downloading https://ossci-datasets.s3.amazonaws.com/mnist/train-labels-idx1-ubyte.gz to ./data/MNIST/raw/train-labels-idx1-ubyte.gz\n"
     ]
    },
    {
     "name": "stderr",
     "output_type": "stream",
     "text": [
      "100%|██████████| 28881/28881 [00:00<00:00, 158963.01it/s]\n"
     ]
    },
    {
     "name": "stdout",
     "output_type": "stream",
     "text": [
      "Extracting ./data/MNIST/raw/train-labels-idx1-ubyte.gz to ./data/MNIST/raw\n",
      "\n",
      "Downloading http://yann.lecun.com/exdb/mnist/t10k-images-idx3-ubyte.gz\n",
      "Failed to download (trying next):\n",
      "HTTP Error 403: Forbidden\n",
      "\n",
      "Downloading https://ossci-datasets.s3.amazonaws.com/mnist/t10k-images-idx3-ubyte.gz\n",
      "Downloading https://ossci-datasets.s3.amazonaws.com/mnist/t10k-images-idx3-ubyte.gz to ./data/MNIST/raw/t10k-images-idx3-ubyte.gz\n"
     ]
    },
    {
     "name": "stderr",
     "output_type": "stream",
     "text": [
      "100%|██████████| 1648877/1648877 [00:01<00:00, 1512122.07it/s]\n"
     ]
    },
    {
     "name": "stdout",
     "output_type": "stream",
     "text": [
      "Extracting ./data/MNIST/raw/t10k-images-idx3-ubyte.gz to ./data/MNIST/raw\n",
      "\n",
      "Downloading http://yann.lecun.com/exdb/mnist/t10k-labels-idx1-ubyte.gz\n",
      "Failed to download (trying next):\n",
      "HTTP Error 403: Forbidden\n",
      "\n",
      "Downloading https://ossci-datasets.s3.amazonaws.com/mnist/t10k-labels-idx1-ubyte.gz\n",
      "Downloading https://ossci-datasets.s3.amazonaws.com/mnist/t10k-labels-idx1-ubyte.gz to ./data/MNIST/raw/t10k-labels-idx1-ubyte.gz\n"
     ]
    },
    {
     "name": "stderr",
     "output_type": "stream",
     "text": [
      "100%|██████████| 4542/4542 [00:00<00:00, 1906005.88it/s]"
     ]
    },
    {
     "name": "stdout",
     "output_type": "stream",
     "text": [
      "Extracting ./data/MNIST/raw/t10k-labels-idx1-ubyte.gz to ./data/MNIST/raw\n",
      "\n"
     ]
    },
    {
     "name": "stderr",
     "output_type": "stream",
     "text": [
      "\n"
     ]
    }
   ],
   "source": [
    "import torch\n",
    "import torch.nn as nn\n",
    "import torch.optim as optim\n",
    "from torchvision import datasets, transforms\n",
    "from torch.utils.data import DataLoader\n",
    "\n",
    "# Load and preprocess data\n",
    "transform = transforms.ToTensor()\n",
    "train_dataset = datasets.MNIST(root='./data', train=True, transform=transform, download=True)\n",
    "test_dataset = datasets.MNIST(root='./data', train=False, transform=transform)\n",
    "\n",
    "train_loader = DataLoader(train_dataset, batch_size=64, shuffle=True)\n",
    "test_loader = DataLoader(test_dataset, batch_size=64, shuffle=False)\n",
    "\n",
    "# Define the model\n",
    "class NeuralNetwork(nn.Module):\n",
    "    def __init__(self):\n",
    "        super(NeuralNetwork, self).__init__()\n",
    "        self.flatten = nn.Flatten()\n",
    "        self.fc1 = nn.Linear(28 * 28, 128)\n",
    "        self.relu = nn.ReLU()\n",
    "        self.fc2 = nn.Linear(128, 10)\n",
    "        self.softmax = nn.Softmax(dim=1)\n",
    "\n",
    "    def forward(self, x):\n",
    "        x = self.flatten(x)\n",
    "        x = self.relu(self.fc1(x))\n",
    "        x = self.softmax(self.fc2(x))\n",
    "        return x"
   ]
  },
  {
   "cell_type": "code",
   "execution_count": 10,
   "id": "6c5dade0",
   "metadata": {
    "execution": {
     "iopub.execute_input": "2024-12-11T16:01:51.350749Z",
     "iopub.status.busy": "2024-12-11T16:01:51.349203Z",
     "iopub.status.idle": "2024-12-11T16:01:51.368499Z",
     "shell.execute_reply": "2024-12-11T16:01:51.367423Z"
    },
    "papermill": {
     "duration": 0.050908,
     "end_time": "2024-12-11T16:01:51.370897",
     "exception": false,
     "start_time": "2024-12-11T16:01:51.319989",
     "status": "completed"
    },
    "tags": []
   },
   "outputs": [],
   "source": [
    "model = NeuralNetwork()\n",
    "\n",
    "# Define loss and optimizer\n",
    "criterion = nn.CrossEntropyLoss()\n",
    "optimizer = optim.Adam(model.parameters(), lr=0.001)\n"
   ]
  },
  {
   "cell_type": "code",
   "execution_count": 11,
   "id": "ba515b61",
   "metadata": {
    "execution": {
     "iopub.execute_input": "2024-12-11T16:01:51.429314Z",
     "iopub.status.busy": "2024-12-11T16:01:51.428951Z",
     "iopub.status.idle": "2024-12-11T16:02:36.051342Z",
     "shell.execute_reply": "2024-12-11T16:02:36.050283Z"
    },
    "papermill": {
     "duration": 44.683115,
     "end_time": "2024-12-11T16:02:36.082682",
     "exception": false,
     "start_time": "2024-12-11T16:01:51.399567",
     "status": "completed"
    },
    "tags": []
   },
   "outputs": [
    {
     "name": "stdout",
     "output_type": "stream",
     "text": [
      "Accuracy: 96.52%\n"
     ]
    }
   ],
   "source": [
    "# Training loop\n",
    "for epoch in range(5):\n",
    "    for images, labels in train_loader:\n",
    "        # Forward pass\n",
    "        outputs = model(images)\n",
    "        loss = criterion(outputs, labels)\n",
    "\n",
    "        # Backward pass\n",
    "        optimizer.zero_grad()\n",
    "        loss.backward()\n",
    "        optimizer.step()\n",
    "\n",
    "# Evaluate the model\n",
    "correct = 0\n",
    "total = 0\n",
    "with torch.no_grad():\n",
    "    for images, labels in test_loader:\n",
    "        outputs = model(images)\n",
    "        _, predicted = torch.max(outputs, 1)\n",
    "        total += labels.size(0)\n",
    "        correct += (predicted == labels).sum().item()\n",
    "\n",
    "print(f\"Accuracy: {100 * correct / total}%\")"
   ]
  },
  {
   "cell_type": "code",
   "execution_count": null,
   "id": "3f62141b",
   "metadata": {
    "papermill": {
     "duration": 0.027917,
     "end_time": "2024-12-11T16:02:36.139863",
     "exception": false,
     "start_time": "2024-12-11T16:02:36.111946",
     "status": "completed"
    },
    "tags": []
   },
   "outputs": [],
   "source": []
  }
 ],
 "metadata": {
  "kaggle": {
   "accelerator": "none",
   "dataSources": [],
   "dockerImageVersionId": 30786,
   "isGpuEnabled": false,
   "isInternetEnabled": true,
   "language": "python",
   "sourceType": "notebook"
  },
  "kernelspec": {
   "display_name": "Python 3",
   "language": "python",
   "name": "python3"
  },
  "language_info": {
   "codemirror_mode": {
    "name": "ipython",
    "version": 3
   },
   "file_extension": ".py",
   "mimetype": "text/x-python",
   "name": "python",
   "nbconvert_exporter": "python",
   "pygments_lexer": "ipython3",
   "version": "3.10.14"
  },
  "papermill": {
   "default_parameters": {},
   "duration": 107.525059,
   "end_time": "2024-12-11T16:02:39.113196",
   "environment_variables": {},
   "exception": null,
   "input_path": "__notebook__.ipynb",
   "output_path": "__notebook__.ipynb",
   "parameters": {},
   "start_time": "2024-12-11T16:00:51.588137",
   "version": "2.6.0"
  }
 },
 "nbformat": 4,
 "nbformat_minor": 5
}

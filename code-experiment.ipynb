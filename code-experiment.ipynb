{
 "cells": [
  {
   "cell_type": "markdown",
   "id": "45273a0c",
   "metadata": {
    "papermill": {
     "duration": 0.005139,
     "end_time": "2024-12-20T03:42:20.583175",
     "exception": false,
     "start_time": "2024-12-20T03:42:20.578036",
     "status": "completed"
    },
    "tags": []
   },
   "source": [
    "# Scikit-learn\n"
   ]
  },
  {
   "cell_type": "code",
   "execution_count": 1,
   "id": "8396106e",
   "metadata": {
    "execution": {
     "iopub.execute_input": "2024-12-20T03:42:20.592980Z",
     "iopub.status.busy": "2024-12-20T03:42:20.592494Z",
     "iopub.status.idle": "2024-12-20T03:42:22.532756Z",
     "shell.execute_reply": "2024-12-20T03:42:22.531551Z"
    },
    "papermill": {
     "duration": 1.948415,
     "end_time": "2024-12-20T03:42:22.535600",
     "exception": false,
     "start_time": "2024-12-20T03:42:20.587185",
     "status": "completed"
    },
    "tags": []
   },
   "outputs": [],
   "source": [
    "from sklearn.datasets import load_iris\n",
    "from sklearn.preprocessing import StandardScaler\n",
    "from sklearn.model_selection import train_test_split\n",
    "from sklearn.ensemble import RandomForestClassifier\n",
    "from sklearn.linear_model import LinearRegression\n",
    "from sklearn.metrics import accuracy_score"
   ]
  },
  {
   "cell_type": "code",
   "execution_count": 2,
   "id": "53e4d6d1",
   "metadata": {
    "execution": {
     "iopub.execute_input": "2024-12-20T03:42:22.545977Z",
     "iopub.status.busy": "2024-12-20T03:42:22.545464Z",
     "iopub.status.idle": "2024-12-20T03:42:22.559314Z",
     "shell.execute_reply": "2024-12-20T03:42:22.558375Z"
    },
    "papermill": {
     "duration": 0.02183,
     "end_time": "2024-12-20T03:42:22.561743",
     "exception": false,
     "start_time": "2024-12-20T03:42:22.539913",
     "status": "completed"
    },
    "tags": []
   },
   "outputs": [],
   "source": [
    "data = load_iris()\n",
    "\n",
    "x, y = data.data, data.target\n",
    "\n",
    "x_train, x_test, y_train, y_test = train_test_split(x, y, test_size = 0.20, random_state = 42)"
   ]
  },
  {
   "cell_type": "code",
   "execution_count": 3,
   "id": "8a4067ac",
   "metadata": {
    "execution": {
     "iopub.execute_input": "2024-12-20T03:42:22.571134Z",
     "iopub.status.busy": "2024-12-20T03:42:22.570717Z",
     "iopub.status.idle": "2024-12-20T03:42:22.581439Z",
     "shell.execute_reply": "2024-12-20T03:42:22.580277Z"
    },
    "papermill": {
     "duration": 0.017975,
     "end_time": "2024-12-20T03:42:22.583647",
     "exception": false,
     "start_time": "2024-12-20T03:42:22.565672",
     "status": "completed"
    },
    "tags": []
   },
   "outputs": [],
   "source": [
    "scaler = StandardScaler()\n",
    "\n",
    "train_scaleX = scaler.fit_transform(x_train)\n",
    "\n",
    "test_scaleX = scaler.transform(x_test)"
   ]
  },
  {
   "cell_type": "markdown",
   "id": "758e572a",
   "metadata": {
    "papermill": {
     "duration": 0.003603,
     "end_time": "2024-12-20T03:42:22.591133",
     "exception": false,
     "start_time": "2024-12-20T03:42:22.587530",
     "status": "completed"
    },
    "tags": []
   },
   "source": [
    "# Pipeline"
   ]
  },
  {
   "cell_type": "code",
   "execution_count": 4,
   "id": "1acc2a50",
   "metadata": {
    "execution": {
     "iopub.execute_input": "2024-12-20T03:42:22.600270Z",
     "iopub.status.busy": "2024-12-20T03:42:22.599841Z",
     "iopub.status.idle": "2024-12-20T03:42:22.607433Z",
     "shell.execute_reply": "2024-12-20T03:42:22.606451Z"
    },
    "papermill": {
     "duration": 0.01475,
     "end_time": "2024-12-20T03:42:22.609644",
     "exception": false,
     "start_time": "2024-12-20T03:42:22.594894",
     "status": "completed"
    },
    "tags": []
   },
   "outputs": [],
   "source": [
    "from sklearn.pipeline import Pipeline\n",
    "from sklearn.preprocessing import StandardScaler\n",
    "from sklearn.linear_model import LogisticRegression\n",
    "from sklearn.datasets import load_iris\n",
    "from sklearn.model_selection import train_test_split"
   ]
  },
  {
   "cell_type": "code",
   "execution_count": 5,
   "id": "8d10a7bc",
   "metadata": {
    "execution": {
     "iopub.execute_input": "2024-12-20T03:42:22.619279Z",
     "iopub.status.busy": "2024-12-20T03:42:22.618849Z",
     "iopub.status.idle": "2024-12-20T03:42:22.649739Z",
     "shell.execute_reply": "2024-12-20T03:42:22.648467Z"
    },
    "papermill": {
     "duration": 0.03838,
     "end_time": "2024-12-20T03:42:22.652165",
     "exception": false,
     "start_time": "2024-12-20T03:42:22.613785",
     "status": "completed"
    },
    "tags": []
   },
   "outputs": [
    {
     "name": "stdout",
     "output_type": "stream",
     "text": [
      "Accuracy: 1.00\n"
     ]
    }
   ],
   "source": [
    "# Load data\n",
    "data = load_iris()\n",
    "X_train, X_test, y_train, y_test = train_test_split(data.data, data.target, test_size=0.2, random_state= 42)\n",
    "\n",
    "# Define pipeline\n",
    "pipeline = Pipeline([\n",
    "    ('scaler', StandardScaler()),       # Step 1: Standardize features\n",
    "    ('classifier', LogisticRegression())  # Step 2: Train logistic regression\n",
    "])\n",
    "\n",
    "# Train model\n",
    "pipeline.fit(X_train, y_train)\n",
    "\n",
    "# Make predictions\n",
    "y_pred = pipeline.predict(X_test)\n",
    "\n",
    "# Evaluate\n",
    "print(f\"Accuracy: {pipeline.score(X_test, y_test):.2f}\")\n"
   ]
  },
  {
   "cell_type": "markdown",
   "id": "646ee6b2",
   "metadata": {
    "papermill": {
     "duration": 0.003676,
     "end_time": "2024-12-20T03:42:22.659845",
     "exception": false,
     "start_time": "2024-12-20T03:42:22.656169",
     "status": "completed"
    },
    "tags": []
   },
   "source": [
    "# Keras"
   ]
  },
  {
   "cell_type": "code",
   "execution_count": 6,
   "id": "9d81cdaa",
   "metadata": {
    "execution": {
     "iopub.execute_input": "2024-12-20T03:42:22.671135Z",
     "iopub.status.busy": "2024-12-20T03:42:22.669972Z",
     "iopub.status.idle": "2024-12-20T03:42:37.529731Z",
     "shell.execute_reply": "2024-12-20T03:42:37.528715Z"
    },
    "papermill": {
     "duration": 14.867319,
     "end_time": "2024-12-20T03:42:37.532093",
     "exception": false,
     "start_time": "2024-12-20T03:42:22.664774",
     "status": "completed"
    },
    "tags": []
   },
   "outputs": [],
   "source": [
    "import tensorflow as tf\n",
    "from tensorflow.keras import Sequential\n",
    "from tensorflow.keras.layers import Dense, Flatten\n",
    "from tensorflow.keras.datasets import mnist"
   ]
  },
  {
   "cell_type": "code",
   "execution_count": 7,
   "id": "82b878d9",
   "metadata": {
    "execution": {
     "iopub.execute_input": "2024-12-20T03:42:37.542725Z",
     "iopub.status.busy": "2024-12-20T03:42:37.541395Z",
     "iopub.status.idle": "2024-12-20T03:42:38.183773Z",
     "shell.execute_reply": "2024-12-20T03:42:38.182343Z"
    },
    "papermill": {
     "duration": 0.650112,
     "end_time": "2024-12-20T03:42:38.186292",
     "exception": false,
     "start_time": "2024-12-20T03:42:37.536180",
     "status": "completed"
    },
    "tags": []
   },
   "outputs": [
    {
     "name": "stdout",
     "output_type": "stream",
     "text": [
      "Downloading data from https://storage.googleapis.com/tensorflow/tf-keras-datasets/mnist.npz\n",
      "\u001b[1m11490434/11490434\u001b[0m \u001b[32m━━━━━━━━━━━━━━━━━━━━\u001b[0m\u001b[37m\u001b[0m \u001b[1m0s\u001b[0m 0us/step\n"
     ]
    }
   ],
   "source": [
    "#load data \n",
    "(x_train, y_train),(x_test, y_test) = mnist.load_data()\n",
    "\n",
    "#normalize\n",
    "(x_train, x_test) = x_train/255.0, x_test/255.0"
   ]
  },
  {
   "cell_type": "code",
   "execution_count": 8,
   "id": "e9ece965",
   "metadata": {
    "execution": {
     "iopub.execute_input": "2024-12-20T03:42:38.196624Z",
     "iopub.status.busy": "2024-12-20T03:42:38.196245Z",
     "iopub.status.idle": "2024-12-20T03:43:02.632503Z",
     "shell.execute_reply": "2024-12-20T03:43:02.631358Z"
    },
    "papermill": {
     "duration": 24.444017,
     "end_time": "2024-12-20T03:43:02.634836",
     "exception": false,
     "start_time": "2024-12-20T03:42:38.190819",
     "status": "completed"
    },
    "tags": []
   },
   "outputs": [
    {
     "name": "stderr",
     "output_type": "stream",
     "text": [
      "/opt/conda/lib/python3.10/site-packages/keras/src/layers/reshaping/flatten.py:37: UserWarning: Do not pass an `input_shape`/`input_dim` argument to a layer. When using Sequential models, prefer using an `Input(shape)` object as the first layer in the model instead.\n",
      "  super().__init__(**kwargs)\n"
     ]
    },
    {
     "name": "stdout",
     "output_type": "stream",
     "text": [
      "Epoch 1/5\n",
      "\u001b[1m1875/1875\u001b[0m \u001b[32m━━━━━━━━━━━━━━━━━━━━\u001b[0m\u001b[37m\u001b[0m \u001b[1m5s\u001b[0m 2ms/step - accuracy: 0.8764 - loss: 0.4393\n",
      "Epoch 2/5\n",
      "\u001b[1m1875/1875\u001b[0m \u001b[32m━━━━━━━━━━━━━━━━━━━━\u001b[0m\u001b[37m\u001b[0m \u001b[1m5s\u001b[0m 2ms/step - accuracy: 0.9655 - loss: 0.1190\n",
      "Epoch 3/5\n",
      "\u001b[1m1875/1875\u001b[0m \u001b[32m━━━━━━━━━━━━━━━━━━━━\u001b[0m\u001b[37m\u001b[0m \u001b[1m4s\u001b[0m 2ms/step - accuracy: 0.9768 - loss: 0.0785\n",
      "Epoch 4/5\n",
      "\u001b[1m1875/1875\u001b[0m \u001b[32m━━━━━━━━━━━━━━━━━━━━\u001b[0m\u001b[37m\u001b[0m \u001b[1m5s\u001b[0m 2ms/step - accuracy: 0.9838 - loss: 0.0538\n",
      "Epoch 5/5\n",
      "\u001b[1m1875/1875\u001b[0m \u001b[32m━━━━━━━━━━━━━━━━━━━━\u001b[0m\u001b[37m\u001b[0m \u001b[1m5s\u001b[0m 2ms/step - accuracy: 0.9874 - loss: 0.0417\n",
      "\u001b[1m313/313\u001b[0m \u001b[32m━━━━━━━━━━━━━━━━━━━━\u001b[0m\u001b[37m\u001b[0m \u001b[1m1s\u001b[0m 1ms/step - accuracy: 0.9730 - loss: 0.0942\n"
     ]
    },
    {
     "data": {
      "text/plain": [
       "[0.08185876905918121, 0.9764000177383423]"
      ]
     },
     "execution_count": 8,
     "metadata": {},
     "output_type": "execute_result"
    }
   ],
   "source": [
    "# Build the model\n",
    "model = Sequential([\n",
    "    Flatten(input_shape=(28, 28)),\n",
    "    Dense(128, activation='relu'),\n",
    "    Dense(10, activation='softmax')\n",
    "])\n",
    "\n",
    "# Compile the model\n",
    "model.compile(optimizer='adam',\n",
    "              loss ='sparse_categorical_crossentropy',\n",
    "              metrics=['accuracy'])\n",
    "\n",
    "# Train the model\n",
    "model.fit(x_train, y_train, epochs=5)\n",
    "\n",
    "# Evaluate the model\n",
    "model.evaluate(x_test, y_test)"
   ]
  },
  {
   "cell_type": "markdown",
   "id": "d250073b",
   "metadata": {
    "papermill": {
     "duration": 0.029814,
     "end_time": "2024-12-20T03:43:02.696716",
     "exception": false,
     "start_time": "2024-12-20T03:43:02.666902",
     "status": "completed"
    },
    "tags": []
   },
   "source": [
    "# Tensorflow\n"
   ]
  },
  {
   "cell_type": "code",
   "execution_count": 9,
   "id": "4e464e03",
   "metadata": {
    "execution": {
     "iopub.execute_input": "2024-12-20T03:43:02.757096Z",
     "iopub.status.busy": "2024-12-20T03:43:02.756586Z",
     "iopub.status.idle": "2024-12-20T03:43:03.233887Z",
     "shell.execute_reply": "2024-12-20T03:43:03.232810Z"
    },
    "papermill": {
     "duration": 0.510945,
     "end_time": "2024-12-20T03:43:03.236540",
     "exception": false,
     "start_time": "2024-12-20T03:43:02.725595",
     "status": "completed"
    },
    "tags": []
   },
   "outputs": [],
   "source": [
    "import tensorflow as tf\n",
    "from tensorflow.keras.datasets import mnist\n",
    "\n",
    "#load data\n",
    "(x_train, y_train),(x_test, y_test) = mnist.load_data()\n",
    "x_train, x_test = x_train/255.0, x_test/255.0\n",
    "\n",
    "y_train = tf.one_hot(y_train, depth =10).numpy()\n",
    "y_test = tf.one_hot(y_test, depth =10).numpy()\n",
    "\n",
    "class NeuralNetwork(tf.keras.Model):\n",
    "    def __init__(self):\n",
    "        super().__init__()\n",
    "        self.flatten = tf.keras.layers.Flatten()\n",
    "        self.dense1 = tf.keras.layers.Dense(128, activation = 'relu')\n",
    "        self.dense2 = tf.keras.layers.Dense(10, activation = 'softmax')\n",
    "\n",
    "    def call(self, x):\n",
    "        x = self.flatten(x)\n",
    "        x = self.dense(x)\n",
    "        return self.dense2(x)\n",
    "\n",
    "model = NeuralNetwork()\n",
    "\n",
    "\n",
    "#define loss and optimizer\n",
    "loss_fn = tf.keras.losses.CategoricalCrossentropy()\n",
    "optimizer = tf.optimizers.Adam()\n",
    "\n"
   ]
  },
  {
   "cell_type": "markdown",
   "id": "db886dc0",
   "metadata": {
    "papermill": {
     "duration": 0.028197,
     "end_time": "2024-12-20T03:43:03.293621",
     "exception": false,
     "start_time": "2024-12-20T03:43:03.265424",
     "status": "completed"
    },
    "tags": []
   },
   "source": [
    "# PyTorch"
   ]
  },
  {
   "cell_type": "code",
   "execution_count": 10,
   "id": "e64b9412",
   "metadata": {
    "execution": {
     "iopub.execute_input": "2024-12-20T03:43:03.355856Z",
     "iopub.status.busy": "2024-12-20T03:43:03.355433Z",
     "iopub.status.idle": "2024-12-20T03:43:10.781172Z",
     "shell.execute_reply": "2024-12-20T03:43:10.779994Z"
    },
    "papermill": {
     "duration": 7.460275,
     "end_time": "2024-12-20T03:43:10.783587",
     "exception": false,
     "start_time": "2024-12-20T03:43:03.323312",
     "status": "completed"
    },
    "tags": []
   },
   "outputs": [
    {
     "name": "stdout",
     "output_type": "stream",
     "text": [
      "Downloading http://yann.lecun.com/exdb/mnist/train-images-idx3-ubyte.gz\n",
      "Failed to download (trying next):\n",
      "HTTP Error 403: Forbidden\n",
      "\n",
      "Downloading https://ossci-datasets.s3.amazonaws.com/mnist/train-images-idx3-ubyte.gz\n",
      "Downloading https://ossci-datasets.s3.amazonaws.com/mnist/train-images-idx3-ubyte.gz to ./data/MNIST/raw/train-images-idx3-ubyte.gz\n"
     ]
    },
    {
     "name": "stderr",
     "output_type": "stream",
     "text": [
      "100%|██████████| 9912422/9912422 [00:00<00:00, 58389982.58it/s]\n"
     ]
    },
    {
     "name": "stdout",
     "output_type": "stream",
     "text": [
      "Extracting ./data/MNIST/raw/train-images-idx3-ubyte.gz to ./data/MNIST/raw\n",
      "\n",
      "Downloading http://yann.lecun.com/exdb/mnist/train-labels-idx1-ubyte.gz\n",
      "Failed to download (trying next):\n",
      "HTTP Error 403: Forbidden\n",
      "\n",
      "Downloading https://ossci-datasets.s3.amazonaws.com/mnist/train-labels-idx1-ubyte.gz\n",
      "Downloading https://ossci-datasets.s3.amazonaws.com/mnist/train-labels-idx1-ubyte.gz to ./data/MNIST/raw/train-labels-idx1-ubyte.gz\n"
     ]
    },
    {
     "name": "stderr",
     "output_type": "stream",
     "text": [
      "100%|██████████| 28881/28881 [00:00<00:00, 1555175.03it/s]"
     ]
    },
    {
     "name": "stdout",
     "output_type": "stream",
     "text": [
      "Extracting ./data/MNIST/raw/train-labels-idx1-ubyte.gz to ./data/MNIST/raw\n",
      "\n",
      "Downloading http://yann.lecun.com/exdb/mnist/t10k-images-idx3-ubyte.gz\n"
     ]
    },
    {
     "name": "stderr",
     "output_type": "stream",
     "text": [
      "\n"
     ]
    },
    {
     "name": "stdout",
     "output_type": "stream",
     "text": [
      "Failed to download (trying next):\n",
      "HTTP Error 403: Forbidden\n",
      "\n",
      "Downloading https://ossci-datasets.s3.amazonaws.com/mnist/t10k-images-idx3-ubyte.gz\n",
      "Downloading https://ossci-datasets.s3.amazonaws.com/mnist/t10k-images-idx3-ubyte.gz to ./data/MNIST/raw/t10k-images-idx3-ubyte.gz\n"
     ]
    },
    {
     "name": "stderr",
     "output_type": "stream",
     "text": [
      "100%|██████████| 1648877/1648877 [00:00<00:00, 14701525.01it/s]\n"
     ]
    },
    {
     "name": "stdout",
     "output_type": "stream",
     "text": [
      "Extracting ./data/MNIST/raw/t10k-images-idx3-ubyte.gz to ./data/MNIST/raw\n",
      "\n",
      "Downloading http://yann.lecun.com/exdb/mnist/t10k-labels-idx1-ubyte.gz\n",
      "Failed to download (trying next):\n",
      "HTTP Error 403: Forbidden\n",
      "\n",
      "Downloading https://ossci-datasets.s3.amazonaws.com/mnist/t10k-labels-idx1-ubyte.gz\n",
      "Downloading https://ossci-datasets.s3.amazonaws.com/mnist/t10k-labels-idx1-ubyte.gz to ./data/MNIST/raw/t10k-labels-idx1-ubyte.gz\n"
     ]
    },
    {
     "name": "stderr",
     "output_type": "stream",
     "text": [
      "100%|██████████| 4542/4542 [00:00<00:00, 2078844.26it/s]"
     ]
    },
    {
     "name": "stdout",
     "output_type": "stream",
     "text": [
      "Extracting ./data/MNIST/raw/t10k-labels-idx1-ubyte.gz to ./data/MNIST/raw\n",
      "\n"
     ]
    },
    {
     "name": "stderr",
     "output_type": "stream",
     "text": [
      "\n"
     ]
    }
   ],
   "source": [
    "import torch\n",
    "import torch.nn as nn\n",
    "import torch.optim as optim\n",
    "from torchvision import datasets, transforms\n",
    "from torch.utils.data import DataLoader\n",
    "\n",
    "# Load and preprocess data\n",
    "transform = transforms.ToTensor()\n",
    "train_dataset = datasets.MNIST(root='./data', train=True, transform=transform, download=True)\n",
    "test_dataset = datasets.MNIST(root='./data', train=False, transform=transform)\n",
    "\n",
    "train_loader = DataLoader(train_dataset, batch_size=64, shuffle=True)\n",
    "test_loader = DataLoader(test_dataset, batch_size=64, shuffle=False)\n",
    "\n",
    "# Define the model\n",
    "class NeuralNetwork(nn.Module):\n",
    "    def __init__(self):\n",
    "        super(NeuralNetwork, self).__init__()\n",
    "        self.flatten = nn.Flatten()\n",
    "        self.fc1 = nn.Linear(28 * 28, 128)\n",
    "        self.relu = nn.ReLU()\n",
    "        self.fc2 = nn.Linear(128, 10)\n",
    "        self.softmax = nn.Softmax(dim=1)\n",
    "\n",
    "    def forward(self, x):\n",
    "        x = self.flatten(x)\n",
    "        x = self.relu(self.fc1(x))\n",
    "        x = self.softmax(self.fc2(x))\n",
    "        return x"
   ]
  },
  {
   "cell_type": "code",
   "execution_count": 11,
   "id": "f319ae7d",
   "metadata": {
    "execution": {
     "iopub.execute_input": "2024-12-20T03:43:10.847151Z",
     "iopub.status.busy": "2024-12-20T03:43:10.846292Z",
     "iopub.status.idle": "2024-12-20T03:43:10.866164Z",
     "shell.execute_reply": "2024-12-20T03:43:10.864969Z"
    },
    "papermill": {
     "duration": 0.05438,
     "end_time": "2024-12-20T03:43:10.868588",
     "exception": false,
     "start_time": "2024-12-20T03:43:10.814208",
     "status": "completed"
    },
    "tags": []
   },
   "outputs": [],
   "source": [
    "model = NeuralNetwork()\n",
    "\n",
    "# Define loss and optimizer\n",
    "criterion = nn.CrossEntropyLoss()\n",
    "optimizer = optim.Adam(model.parameters(), lr=0.001)\n"
   ]
  },
  {
   "cell_type": "code",
   "execution_count": 12,
   "id": "87d4679a",
   "metadata": {
    "execution": {
     "iopub.execute_input": "2024-12-20T03:43:10.930843Z",
     "iopub.status.busy": "2024-12-20T03:43:10.930458Z",
     "iopub.status.idle": "2024-12-20T03:43:56.279081Z",
     "shell.execute_reply": "2024-12-20T03:43:56.277916Z"
    },
    "papermill": {
     "duration": 45.412598,
     "end_time": "2024-12-20T03:43:56.311285",
     "exception": false,
     "start_time": "2024-12-20T03:43:10.898687",
     "status": "completed"
    },
    "tags": []
   },
   "outputs": [
    {
     "name": "stdout",
     "output_type": "stream",
     "text": [
      "Accuracy: 96.35%\n"
     ]
    }
   ],
   "source": [
    "# Training loop\n",
    "for epoch in range(5):\n",
    "    for images, labels in train_loader:\n",
    "        # Forward pass\n",
    "        outputs = model(images)\n",
    "        loss = criterion(outputs, labels)\n",
    "\n",
    "        # Backward pass\n",
    "        optimizer.zero_grad()\n",
    "        loss.backward()\n",
    "        optimizer.step()\n",
    "\n",
    "# Evaluate the model\n",
    "correct = 0\n",
    "total = 0\n",
    "with torch.no_grad():\n",
    "    for images, labels in test_loader:\n",
    "        outputs = model(images)\n",
    "        _, predicted = torch.max(outputs, 1)\n",
    "        total += labels.size(0)\n",
    "        correct += (predicted == labels).sum().item()\n",
    "\n",
    "print(f\"Accuracy: {100 * correct / total}%\")"
   ]
  },
  {
   "cell_type": "code",
   "execution_count": null,
   "id": "9d60c5ad",
   "metadata": {
    "papermill": {
     "duration": 0.030583,
     "end_time": "2024-12-20T03:43:56.371749",
     "exception": false,
     "start_time": "2024-12-20T03:43:56.341166",
     "status": "completed"
    },
    "tags": []
   },
   "outputs": [],
   "source": []
  }
 ],
 "metadata": {
  "kaggle": {
   "accelerator": "none",
   "dataSources": [],
   "dockerImageVersionId": 30786,
   "isGpuEnabled": false,
   "isInternetEnabled": true,
   "language": "python",
   "sourceType": "notebook"
  },
  "kernelspec": {
   "display_name": "Python 3",
   "language": "python",
   "name": "python3"
  },
  "language_info": {
   "codemirror_mode": {
    "name": "ipython",
    "version": 3
   },
   "file_extension": ".py",
   "mimetype": "text/x-python",
   "name": "python",
   "nbconvert_exporter": "python",
   "pygments_lexer": "ipython3",
   "version": "3.10.14"
  },
  "papermill": {
   "default_parameters": {},
   "duration": 102.014866,
   "end_time": "2024-12-20T03:43:59.373159",
   "environment_variables": {},
   "exception": null,
   "input_path": "__notebook__.ipynb",
   "output_path": "__notebook__.ipynb",
   "parameters": {},
   "start_time": "2024-12-20T03:42:17.358293",
   "version": "2.6.0"
  }
 },
 "nbformat": 4,
 "nbformat_minor": 5
}

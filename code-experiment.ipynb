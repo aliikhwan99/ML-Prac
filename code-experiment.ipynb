{
 "cells": [
  {
   "cell_type": "markdown",
   "id": "5f97d177",
   "metadata": {
    "papermill": {
     "duration": 0.004609,
     "end_time": "2025-01-06T03:04:23.068534",
     "exception": false,
     "start_time": "2025-01-06T03:04:23.063925",
     "status": "completed"
    },
    "tags": []
   },
   "source": [
    "# Scikit-learn\n"
   ]
  },
  {
   "cell_type": "code",
   "execution_count": 1,
   "id": "f960ba5a",
   "metadata": {
    "execution": {
     "iopub.execute_input": "2025-01-06T03:04:23.078381Z",
     "iopub.status.busy": "2025-01-06T03:04:23.077967Z",
     "iopub.status.idle": "2025-01-06T03:04:25.048698Z",
     "shell.execute_reply": "2025-01-06T03:04:25.047539Z"
    },
    "papermill": {
     "duration": 1.978581,
     "end_time": "2025-01-06T03:04:25.051192",
     "exception": false,
     "start_time": "2025-01-06T03:04:23.072611",
     "status": "completed"
    },
    "tags": []
   },
   "outputs": [],
   "source": [
    "from sklearn.preprocessing import StandardScaler\n",
    "from sklearn.datasets import load_iris\n",
    "from sklearn.model_selection import train_test_split\n",
    "from sklearn.linear_model import LinearRegression\n",
    "from sklearn.ensemble import RandomForestClassifier\n",
    "from sklearn.metrics import accuracy_score"
   ]
  },
  {
   "cell_type": "code",
   "execution_count": 2,
   "id": "1e02e5c5",
   "metadata": {
    "execution": {
     "iopub.execute_input": "2025-01-06T03:04:25.061696Z",
     "iopub.status.busy": "2025-01-06T03:04:25.060983Z",
     "iopub.status.idle": "2025-01-06T03:04:25.074414Z",
     "shell.execute_reply": "2025-01-06T03:04:25.073486Z"
    },
    "papermill": {
     "duration": 0.021252,
     "end_time": "2025-01-06T03:04:25.076828",
     "exception": false,
     "start_time": "2025-01-06T03:04:25.055576",
     "status": "completed"
    },
    "tags": []
   },
   "outputs": [],
   "source": [
    "data = load_iris()\n",
    "\n",
    "x, y = data.data, data.target\n",
    "\n",
    "x_train, x_test, y_train, y_test = train_test_split(x, y, test_size = 0.2, random_state = 42) "
   ]
  },
  {
   "cell_type": "code",
   "execution_count": 3,
   "id": "482e3332",
   "metadata": {
    "execution": {
     "iopub.execute_input": "2025-01-06T03:04:25.086495Z",
     "iopub.status.busy": "2025-01-06T03:04:25.086061Z",
     "iopub.status.idle": "2025-01-06T03:04:25.096600Z",
     "shell.execute_reply": "2025-01-06T03:04:25.095504Z"
    },
    "papermill": {
     "duration": 0.01817,
     "end_time": "2025-01-06T03:04:25.099004",
     "exception": false,
     "start_time": "2025-01-06T03:04:25.080834",
     "status": "completed"
    },
    "tags": []
   },
   "outputs": [],
   "source": [
    "scale = StandardScaler()\n",
    "\n",
    "x_train_scale = scale.fit_transform(x_train)\n",
    "\n",
    "x_test_scale = scale.transform(x_test)"
   ]
  },
  {
   "cell_type": "markdown",
   "id": "932b9acd",
   "metadata": {
    "papermill": {
     "duration": 0.003573,
     "end_time": "2025-01-06T03:04:25.106651",
     "exception": false,
     "start_time": "2025-01-06T03:04:25.103078",
     "status": "completed"
    },
    "tags": []
   },
   "source": [
    "# Pipeline"
   ]
  },
  {
   "cell_type": "code",
   "execution_count": 4,
   "id": "eb18c708",
   "metadata": {
    "execution": {
     "iopub.execute_input": "2025-01-06T03:04:25.115855Z",
     "iopub.status.busy": "2025-01-06T03:04:25.115504Z",
     "iopub.status.idle": "2025-01-06T03:04:25.122561Z",
     "shell.execute_reply": "2025-01-06T03:04:25.121544Z"
    },
    "papermill": {
     "duration": 0.014503,
     "end_time": "2025-01-06T03:04:25.124957",
     "exception": false,
     "start_time": "2025-01-06T03:04:25.110454",
     "status": "completed"
    },
    "tags": []
   },
   "outputs": [],
   "source": [
    "from sklearn.pipeline import Pipeline\n",
    "from sklearn.linear_model import LogisticRegression"
   ]
  },
  {
   "cell_type": "code",
   "execution_count": 5,
   "id": "6c19bcee",
   "metadata": {
    "execution": {
     "iopub.execute_input": "2025-01-06T03:04:25.135181Z",
     "iopub.status.busy": "2025-01-06T03:04:25.134133Z",
     "iopub.status.idle": "2025-01-06T03:04:25.163767Z",
     "shell.execute_reply": "2025-01-06T03:04:25.162531Z"
    },
    "papermill": {
     "duration": 0.037507,
     "end_time": "2025-01-06T03:04:25.166584",
     "exception": false,
     "start_time": "2025-01-06T03:04:25.129077",
     "status": "completed"
    },
    "tags": []
   },
   "outputs": [
    {
     "name": "stdout",
     "output_type": "stream",
     "text": [
      "Accuarcy:1.00\n"
     ]
    }
   ],
   "source": [
    "pipeline = Pipeline([\n",
    "        ('scaler', StandardScaler()),\n",
    "        ('classifier', LogisticRegression())\n",
    "])\n",
    "\n",
    "#train model\n",
    "pipeline.fit(x_train, y_train)\n",
    "\n",
    "#make predictions\n",
    "y_pred = pipeline.predict(x_test)\n",
    "\n",
    "#evaluate\n",
    "print(f\"Accuarcy:{pipeline.score(x_test, y_test):.2f}\")\n"
   ]
  },
  {
   "cell_type": "markdown",
   "id": "8a6bcf3d",
   "metadata": {
    "papermill": {
     "duration": 0.003828,
     "end_time": "2025-01-06T03:04:25.174772",
     "exception": false,
     "start_time": "2025-01-06T03:04:25.170944",
     "status": "completed"
    },
    "tags": []
   },
   "source": [
    "# Keras"
   ]
  },
  {
   "cell_type": "code",
   "execution_count": 6,
   "id": "951dcb5a",
   "metadata": {
    "execution": {
     "iopub.execute_input": "2025-01-06T03:04:25.186039Z",
     "iopub.status.busy": "2025-01-06T03:04:25.185095Z",
     "iopub.status.idle": "2025-01-06T03:04:40.004208Z",
     "shell.execute_reply": "2025-01-06T03:04:40.002976Z"
    },
    "papermill": {
     "duration": 14.82737,
     "end_time": "2025-01-06T03:04:40.006999",
     "exception": false,
     "start_time": "2025-01-06T03:04:25.179629",
     "status": "completed"
    },
    "tags": []
   },
   "outputs": [],
   "source": [
    "import tensorflow as tf\n",
    "from tensorflow.keras import Sequential\n",
    "from tensorflow.keras.layers import Dense, Flatten\n",
    "from tensorflow.keras.datasets import mnist"
   ]
  },
  {
   "cell_type": "code",
   "execution_count": 7,
   "id": "1fa1f1b5",
   "metadata": {
    "execution": {
     "iopub.execute_input": "2025-01-06T03:04:40.017584Z",
     "iopub.status.busy": "2025-01-06T03:04:40.016746Z",
     "iopub.status.idle": "2025-01-06T03:04:43.215283Z",
     "shell.execute_reply": "2025-01-06T03:04:43.214134Z"
    },
    "papermill": {
     "duration": 3.206551,
     "end_time": "2025-01-06T03:04:43.217865",
     "exception": false,
     "start_time": "2025-01-06T03:04:40.011314",
     "status": "completed"
    },
    "tags": []
   },
   "outputs": [
    {
     "name": "stdout",
     "output_type": "stream",
     "text": [
      "Downloading data from https://storage.googleapis.com/tensorflow/tf-keras-datasets/mnist.npz\n",
      "\u001b[1m11490434/11490434\u001b[0m \u001b[32m━━━━━━━━━━━━━━━━━━━━\u001b[0m\u001b[37m\u001b[0m \u001b[1m2s\u001b[0m 0us/step\n"
     ]
    }
   ],
   "source": [
    "#load data \n",
    "(x_train, y_train),(x_test, y_test) = mnist.load_data()\n",
    "\n",
    "#normalize\n",
    "(x_train, x_test) = x_train/255.0, x_test/255.0"
   ]
  },
  {
   "cell_type": "code",
   "execution_count": 8,
   "id": "2a079756",
   "metadata": {
    "execution": {
     "iopub.execute_input": "2025-01-06T03:04:43.231192Z",
     "iopub.status.busy": "2025-01-06T03:04:43.230778Z",
     "iopub.status.idle": "2025-01-06T03:05:09.170272Z",
     "shell.execute_reply": "2025-01-06T03:05:09.168770Z"
    },
    "papermill": {
     "duration": 25.949386,
     "end_time": "2025-01-06T03:05:09.173216",
     "exception": false,
     "start_time": "2025-01-06T03:04:43.223830",
     "status": "completed"
    },
    "tags": []
   },
   "outputs": [
    {
     "name": "stderr",
     "output_type": "stream",
     "text": [
      "/opt/conda/lib/python3.10/site-packages/keras/src/layers/reshaping/flatten.py:37: UserWarning: Do not pass an `input_shape`/`input_dim` argument to a layer. When using Sequential models, prefer using an `Input(shape)` object as the first layer in the model instead.\n",
      "  super().__init__(**kwargs)\n"
     ]
    },
    {
     "name": "stdout",
     "output_type": "stream",
     "text": [
      "Epoch 1/5\n",
      "\u001b[1m1875/1875\u001b[0m \u001b[32m━━━━━━━━━━━━━━━━━━━━\u001b[0m\u001b[37m\u001b[0m \u001b[1m6s\u001b[0m 2ms/step - accuracy: 0.8802 - loss: 0.4271\n",
      "Epoch 2/5\n",
      "\u001b[1m1875/1875\u001b[0m \u001b[32m━━━━━━━━━━━━━━━━━━━━\u001b[0m\u001b[37m\u001b[0m \u001b[1m5s\u001b[0m 2ms/step - accuracy: 0.9650 - loss: 0.1213\n",
      "Epoch 3/5\n",
      "\u001b[1m1875/1875\u001b[0m \u001b[32m━━━━━━━━━━━━━━━━━━━━\u001b[0m\u001b[37m\u001b[0m \u001b[1m5s\u001b[0m 2ms/step - accuracy: 0.9780 - loss: 0.0756\n",
      "Epoch 4/5\n",
      "\u001b[1m1875/1875\u001b[0m \u001b[32m━━━━━━━━━━━━━━━━━━━━\u001b[0m\u001b[37m\u001b[0m \u001b[1m5s\u001b[0m 3ms/step - accuracy: 0.9822 - loss: 0.0575\n",
      "Epoch 5/5\n",
      "\u001b[1m1875/1875\u001b[0m \u001b[32m━━━━━━━━━━━━━━━━━━━━\u001b[0m\u001b[37m\u001b[0m \u001b[1m5s\u001b[0m 3ms/step - accuracy: 0.9879 - loss: 0.0413\n",
      "\u001b[1m313/313\u001b[0m \u001b[32m━━━━━━━━━━━━━━━━━━━━\u001b[0m\u001b[37m\u001b[0m \u001b[1m1s\u001b[0m 1ms/step - accuracy: 0.9766 - loss: 0.0729\n"
     ]
    },
    {
     "data": {
      "text/plain": [
       "[0.06355107575654984, 0.9800999760627747]"
      ]
     },
     "execution_count": 8,
     "metadata": {},
     "output_type": "execute_result"
    }
   ],
   "source": [
    "# Build the model\n",
    "model = Sequential([\n",
    "    Flatten(input_shape=(28, 28)),\n",
    "    Dense(128, activation='relu'),\n",
    "    Dense(10, activation='softmax')\n",
    "])\n",
    "\n",
    "# Compile the model\n",
    "model.compile(optimizer='adam',\n",
    "              loss ='sparse_categorical_crossentropy',\n",
    "              metrics=['accuracy'])\n",
    "\n",
    "# Train the model\n",
    "model.fit(x_train, y_train, epochs=5)\n",
    "\n",
    "# Evaluate the model\n",
    "model.evaluate(x_test, y_test)"
   ]
  },
  {
   "cell_type": "markdown",
   "id": "0d1f7636",
   "metadata": {
    "papermill": {
     "duration": 0.03119,
     "end_time": "2025-01-06T03:05:09.237241",
     "exception": false,
     "start_time": "2025-01-06T03:05:09.206051",
     "status": "completed"
    },
    "tags": []
   },
   "source": [
    "# Tensorflow\n"
   ]
  },
  {
   "cell_type": "code",
   "execution_count": 9,
   "id": "8a7e5d66",
   "metadata": {
    "execution": {
     "iopub.execute_input": "2025-01-06T03:05:09.300051Z",
     "iopub.status.busy": "2025-01-06T03:05:09.299627Z",
     "iopub.status.idle": "2025-01-06T03:05:10.063608Z",
     "shell.execute_reply": "2025-01-06T03:05:10.062202Z"
    },
    "papermill": {
     "duration": 0.798691,
     "end_time": "2025-01-06T03:05:10.066254",
     "exception": false,
     "start_time": "2025-01-06T03:05:09.267563",
     "status": "completed"
    },
    "tags": []
   },
   "outputs": [],
   "source": [
    "import tensorflow as tf\n",
    "from tensorflow.keras.datasets import mnist\n",
    "\n",
    "(x_train, x_test),(y_train, y_test) = mnist.load_data()\n",
    "x_train, x_test = x_train/255.0, x_test/255.0\n",
    "\n",
    "y_train = tf.one_hot(y_train, depth = 10).numpy()\n",
    "y_test = tf.one_hot(y_test, depth = 10).numpy()"
   ]
  },
  {
   "cell_type": "code",
   "execution_count": 10,
   "id": "6467c913",
   "metadata": {
    "execution": {
     "iopub.execute_input": "2025-01-06T03:05:10.133874Z",
     "iopub.status.busy": "2025-01-06T03:05:10.133486Z",
     "iopub.status.idle": "2025-01-06T03:05:10.140430Z",
     "shell.execute_reply": "2025-01-06T03:05:10.138988Z"
    },
    "papermill": {
     "duration": 0.043746,
     "end_time": "2025-01-06T03:05:10.143260",
     "exception": false,
     "start_time": "2025-01-06T03:05:10.099514",
     "status": "completed"
    },
    "tags": []
   },
   "outputs": [],
   "source": [
    "class NeuronNetwork(tf.keras.Model):\n",
    "    def __init__(self):\n",
    "        super().__init()\n",
    "        self.flatten = tf.keras.layers.Flatten()\n",
    "        self.dense1 = tf.keras.layers.Dense(128, activation = \"relu\")\n",
    "        self.dense2 = tf.keras.layers.Dense(20, activation = 'softmax')\n",
    "\n",
    "    def call(self, x):\n",
    "        self.flatten(x)\n",
    "        self.dense1(x)\n",
    "        return self.dense2(x)"
   ]
  },
  {
   "cell_type": "markdown",
   "id": "276b7665",
   "metadata": {
    "papermill": {
     "duration": 0.030782,
     "end_time": "2025-01-06T03:05:10.206726",
     "exception": false,
     "start_time": "2025-01-06T03:05:10.175944",
     "status": "completed"
    },
    "tags": []
   },
   "source": [
    "# PyTorch"
   ]
  },
  {
   "cell_type": "code",
   "execution_count": 11,
   "id": "8803578c",
   "metadata": {
    "execution": {
     "iopub.execute_input": "2025-01-06T03:05:10.274625Z",
     "iopub.status.busy": "2025-01-06T03:05:10.274141Z",
     "iopub.status.idle": "2025-01-06T03:05:29.488546Z",
     "shell.execute_reply": "2025-01-06T03:05:29.487351Z"
    },
    "papermill": {
     "duration": 19.25129,
     "end_time": "2025-01-06T03:05:29.491476",
     "exception": false,
     "start_time": "2025-01-06T03:05:10.240186",
     "status": "completed"
    },
    "tags": []
   },
   "outputs": [
    {
     "name": "stdout",
     "output_type": "stream",
     "text": [
      "Downloading http://yann.lecun.com/exdb/mnist/train-images-idx3-ubyte.gz\n",
      "Failed to download (trying next):\n",
      "HTTP Error 403: Forbidden\n",
      "\n",
      "Downloading https://ossci-datasets.s3.amazonaws.com/mnist/train-images-idx3-ubyte.gz\n",
      "Downloading https://ossci-datasets.s3.amazonaws.com/mnist/train-images-idx3-ubyte.gz to ./data/MNIST/raw/train-images-idx3-ubyte.gz\n"
     ]
    },
    {
     "name": "stderr",
     "output_type": "stream",
     "text": [
      "100%|██████████| 9912422/9912422 [00:01<00:00, 5297682.79it/s] \n"
     ]
    },
    {
     "name": "stdout",
     "output_type": "stream",
     "text": [
      "Extracting ./data/MNIST/raw/train-images-idx3-ubyte.gz to ./data/MNIST/raw\n",
      "\n",
      "Downloading http://yann.lecun.com/exdb/mnist/train-labels-idx1-ubyte.gz\n",
      "Failed to download (trying next):\n",
      "HTTP Error 403: Forbidden\n",
      "\n",
      "Downloading https://ossci-datasets.s3.amazonaws.com/mnist/train-labels-idx1-ubyte.gz\n",
      "Downloading https://ossci-datasets.s3.amazonaws.com/mnist/train-labels-idx1-ubyte.gz to ./data/MNIST/raw/train-labels-idx1-ubyte.gz\n"
     ]
    },
    {
     "name": "stderr",
     "output_type": "stream",
     "text": [
      "100%|██████████| 28881/28881 [00:00<00:00, 152810.19it/s]\n"
     ]
    },
    {
     "name": "stdout",
     "output_type": "stream",
     "text": [
      "Extracting ./data/MNIST/raw/train-labels-idx1-ubyte.gz to ./data/MNIST/raw\n",
      "\n",
      "Downloading http://yann.lecun.com/exdb/mnist/t10k-images-idx3-ubyte.gz\n",
      "Failed to download (trying next):\n",
      "HTTP Error 403: Forbidden\n",
      "\n",
      "Downloading https://ossci-datasets.s3.amazonaws.com/mnist/t10k-images-idx3-ubyte.gz\n",
      "Downloading https://ossci-datasets.s3.amazonaws.com/mnist/t10k-images-idx3-ubyte.gz to ./data/MNIST/raw/t10k-images-idx3-ubyte.gz\n"
     ]
    },
    {
     "name": "stderr",
     "output_type": "stream",
     "text": [
      "100%|██████████| 1648877/1648877 [00:01<00:00, 1450231.17it/s]\n"
     ]
    },
    {
     "name": "stdout",
     "output_type": "stream",
     "text": [
      "Extracting ./data/MNIST/raw/t10k-images-idx3-ubyte.gz to ./data/MNIST/raw\n",
      "\n",
      "Downloading http://yann.lecun.com/exdb/mnist/t10k-labels-idx1-ubyte.gz\n",
      "Failed to download (trying next):\n",
      "HTTP Error 403: Forbidden\n",
      "\n",
      "Downloading https://ossci-datasets.s3.amazonaws.com/mnist/t10k-labels-idx1-ubyte.gz\n",
      "Downloading https://ossci-datasets.s3.amazonaws.com/mnist/t10k-labels-idx1-ubyte.gz to ./data/MNIST/raw/t10k-labels-idx1-ubyte.gz\n"
     ]
    },
    {
     "name": "stderr",
     "output_type": "stream",
     "text": [
      "100%|██████████| 4542/4542 [00:00<00:00, 1959326.21it/s]"
     ]
    },
    {
     "name": "stdout",
     "output_type": "stream",
     "text": [
      "Extracting ./data/MNIST/raw/t10k-labels-idx1-ubyte.gz to ./data/MNIST/raw\n",
      "\n"
     ]
    },
    {
     "name": "stderr",
     "output_type": "stream",
     "text": [
      "\n"
     ]
    }
   ],
   "source": [
    "import torch\n",
    "import torch.nn as nn\n",
    "import torch.optim as optim\n",
    "from torchvision import datasets, transforms\n",
    "from torch.utils.data import DataLoader\n",
    "\n",
    "# Load and preprocess data\n",
    "transform = transforms.ToTensor()\n",
    "train_dataset = datasets.MNIST(root='./data', train=True, transform=transform, download=True)\n",
    "test_dataset = datasets.MNIST(root='./data', train=False, transform=transform)\n",
    "\n",
    "train_loader = DataLoader(train_dataset, batch_size=64, shuffle=True)\n",
    "test_loader = DataLoader(test_dataset, batch_size=64, shuffle=False)\n",
    "\n",
    "# Define the model\n",
    "class NeuralNetwork(nn.Module):\n",
    "    def __init__(self):\n",
    "        super(NeuralNetwork, self).__init__()\n",
    "        self.flatten = nn.Flatten()\n",
    "        self.fc1 = nn.Linear(28 * 28, 128)\n",
    "        self.relu = nn.ReLU()\n",
    "        self.fc2 = nn.Linear(128, 10)\n",
    "        self.softmax = nn.Softmax(dim=1)\n",
    "\n",
    "    def forward(self, x):\n",
    "        x = self.flatten(x)\n",
    "        x = self.relu(self.fc1(x))\n",
    "        x = self.softmax(self.fc2(x))\n",
    "        return x"
   ]
  },
  {
   "cell_type": "code",
   "execution_count": 12,
   "id": "3bf0cf37",
   "metadata": {
    "execution": {
     "iopub.execute_input": "2025-01-06T03:05:29.560904Z",
     "iopub.status.busy": "2025-01-06T03:05:29.559966Z",
     "iopub.status.idle": "2025-01-06T03:05:29.580612Z",
     "shell.execute_reply": "2025-01-06T03:05:29.579572Z"
    },
    "papermill": {
     "duration": 0.057283,
     "end_time": "2025-01-06T03:05:29.582964",
     "exception": false,
     "start_time": "2025-01-06T03:05:29.525681",
     "status": "completed"
    },
    "tags": []
   },
   "outputs": [],
   "source": [
    "model = NeuralNetwork()\n",
    "\n",
    "# Define loss and optimizer\n",
    "criterion = nn.CrossEntropyLoss()\n",
    "optimizer = optim.Adam(model.parameters(), lr=0.001)\n"
   ]
  },
  {
   "cell_type": "code",
   "execution_count": 13,
   "id": "f1668f84",
   "metadata": {
    "execution": {
     "iopub.execute_input": "2025-01-06T03:05:29.652140Z",
     "iopub.status.busy": "2025-01-06T03:05:29.651722Z",
     "iopub.status.idle": "2025-01-06T03:06:16.031882Z",
     "shell.execute_reply": "2025-01-06T03:06:16.030404Z"
    },
    "papermill": {
     "duration": 46.450839,
     "end_time": "2025-01-06T03:06:16.067921",
     "exception": false,
     "start_time": "2025-01-06T03:05:29.617082",
     "status": "completed"
    },
    "tags": []
   },
   "outputs": [
    {
     "name": "stdout",
     "output_type": "stream",
     "text": [
      "Accuracy: 96.4%\n"
     ]
    }
   ],
   "source": [
    "# Training loop\n",
    "for epoch in range(5):\n",
    "    for images, labels in train_loader:\n",
    "        # Forward pass\n",
    "        outputs = model(images)\n",
    "        loss = criterion(outputs, labels)\n",
    "\n",
    "        # Backward pass\n",
    "        optimizer.zero_grad()\n",
    "        loss.backward()\n",
    "        optimizer.step()\n",
    "\n",
    "# Evaluate the model\n",
    "correct = 0\n",
    "total = 0\n",
    "with torch.no_grad():\n",
    "    for images, labels in test_loader:\n",
    "        outputs = model(images)\n",
    "        _, predicted = torch.max(outputs, 1)\n",
    "        total += labels.size(0)\n",
    "        correct += (predicted == labels).sum().item()\n",
    "\n",
    "print(f\"Accuracy: {100 * correct / total}%\")"
   ]
  },
  {
   "cell_type": "code",
   "execution_count": null,
   "id": "85c9acb0",
   "metadata": {
    "papermill": {
     "duration": 0.0348,
     "end_time": "2025-01-06T03:06:16.135521",
     "exception": false,
     "start_time": "2025-01-06T03:06:16.100721",
     "status": "completed"
    },
    "tags": []
   },
   "outputs": [],
   "source": []
  }
 ],
 "metadata": {
  "kaggle": {
   "accelerator": "none",
   "dataSources": [],
   "dockerImageVersionId": 30786,
   "isGpuEnabled": false,
   "isInternetEnabled": true,
   "language": "python",
   "sourceType": "notebook"
  },
  "kernelspec": {
   "display_name": "Python 3",
   "language": "python",
   "name": "python3"
  },
  "language_info": {
   "codemirror_mode": {
    "name": "ipython",
    "version": 3
   },
   "file_extension": ".py",
   "mimetype": "text/x-python",
   "name": "python",
   "nbconvert_exporter": "python",
   "pygments_lexer": "ipython3",
   "version": "3.10.14"
  },
  "papermill": {
   "default_parameters": {},
   "duration": 118.978761,
   "end_time": "2025-01-06T03:06:18.855236",
   "environment_variables": {},
   "exception": null,
   "input_path": "__notebook__.ipynb",
   "output_path": "__notebook__.ipynb",
   "parameters": {},
   "start_time": "2025-01-06T03:04:19.876475",
   "version": "2.6.0"
  }
 },
 "nbformat": 4,
 "nbformat_minor": 5
}

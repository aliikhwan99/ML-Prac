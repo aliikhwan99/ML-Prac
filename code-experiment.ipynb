{
 "cells": [
  {
   "cell_type": "markdown",
   "id": "f6c64409",
   "metadata": {
    "papermill": {
     "duration": 0.004372,
     "end_time": "2024-12-26T03:17:15.774966",
     "exception": false,
     "start_time": "2024-12-26T03:17:15.770594",
     "status": "completed"
    },
    "tags": []
   },
   "source": [
    "# Scikit-learn\n"
   ]
  },
  {
   "cell_type": "code",
   "execution_count": 1,
   "id": "facb2814",
   "metadata": {
    "execution": {
     "iopub.execute_input": "2024-12-26T03:17:15.784565Z",
     "iopub.status.busy": "2024-12-26T03:17:15.783760Z",
     "iopub.status.idle": "2024-12-26T03:17:17.393331Z",
     "shell.execute_reply": "2024-12-26T03:17:17.392465Z"
    },
    "papermill": {
     "duration": 1.616978,
     "end_time": "2024-12-26T03:17:17.395730",
     "exception": false,
     "start_time": "2024-12-26T03:17:15.778752",
     "status": "completed"
    },
    "tags": []
   },
   "outputs": [],
   "source": [
    "from sklearn.datasets import load_iris\n",
    "from sklearn.preprocessing import StandardScaler\n",
    "from sklearn.model_selection import train_test_split\n",
    "from sklearn.ensemble import RandomForestClassifier\n",
    "from sklearn.metrics import accuracy_score"
   ]
  },
  {
   "cell_type": "code",
   "execution_count": 2,
   "id": "5eab4414",
   "metadata": {
    "execution": {
     "iopub.execute_input": "2024-12-26T03:17:17.404571Z",
     "iopub.status.busy": "2024-12-26T03:17:17.404149Z",
     "iopub.status.idle": "2024-12-26T03:17:17.416062Z",
     "shell.execute_reply": "2024-12-26T03:17:17.415062Z"
    },
    "papermill": {
     "duration": 0.018643,
     "end_time": "2024-12-26T03:17:17.418309",
     "exception": false,
     "start_time": "2024-12-26T03:17:17.399666",
     "status": "completed"
    },
    "tags": []
   },
   "outputs": [],
   "source": [
    "data = load_iris()\n",
    "\n",
    "x, y = data.data, data.target\n",
    "\n",
    "x_train, x_test, y_train, y_test = train_test_split(x, y, test_size = 0.2, random_state = 42)"
   ]
  },
  {
   "cell_type": "code",
   "execution_count": 3,
   "id": "85342a1d",
   "metadata": {
    "execution": {
     "iopub.execute_input": "2024-12-26T03:17:17.427538Z",
     "iopub.status.busy": "2024-12-26T03:17:17.426707Z",
     "iopub.status.idle": "2024-12-26T03:17:17.435596Z",
     "shell.execute_reply": "2024-12-26T03:17:17.434654Z"
    },
    "papermill": {
     "duration": 0.015431,
     "end_time": "2024-12-26T03:17:17.437572",
     "exception": false,
     "start_time": "2024-12-26T03:17:17.422141",
     "status": "completed"
    },
    "tags": []
   },
   "outputs": [],
   "source": [
    "scale = StandardScaler()\n",
    "\n",
    "x_train_scale = scale.fit_transform(x_train)\n",
    "\n",
    "x_test_scale = scale.transform(x_test)"
   ]
  },
  {
   "cell_type": "markdown",
   "id": "70de534e",
   "metadata": {
    "papermill": {
     "duration": 0.00334,
     "end_time": "2024-12-26T03:17:17.444657",
     "exception": false,
     "start_time": "2024-12-26T03:17:17.441317",
     "status": "completed"
    },
    "tags": []
   },
   "source": [
    "# Pipeline"
   ]
  },
  {
   "cell_type": "code",
   "execution_count": 4,
   "id": "ec9f52ce",
   "metadata": {
    "execution": {
     "iopub.execute_input": "2024-12-26T03:17:17.453507Z",
     "iopub.status.busy": "2024-12-26T03:17:17.452695Z",
     "iopub.status.idle": "2024-12-26T03:17:17.458905Z",
     "shell.execute_reply": "2024-12-26T03:17:17.458204Z"
    },
    "papermill": {
     "duration": 0.012721,
     "end_time": "2024-12-26T03:17:17.460836",
     "exception": false,
     "start_time": "2024-12-26T03:17:17.448115",
     "status": "completed"
    },
    "tags": []
   },
   "outputs": [],
   "source": [
    "from sklearn.pipeline import Pipeline\n",
    "from sklearn.linear_model import LogisticRegression"
   ]
  },
  {
   "cell_type": "code",
   "execution_count": 5,
   "id": "d6d33e09",
   "metadata": {
    "execution": {
     "iopub.execute_input": "2024-12-26T03:17:17.469370Z",
     "iopub.status.busy": "2024-12-26T03:17:17.468754Z",
     "iopub.status.idle": "2024-12-26T03:17:17.492666Z",
     "shell.execute_reply": "2024-12-26T03:17:17.491648Z"
    },
    "papermill": {
     "duration": 0.030196,
     "end_time": "2024-12-26T03:17:17.494702",
     "exception": false,
     "start_time": "2024-12-26T03:17:17.464506",
     "status": "completed"
    },
    "tags": []
   },
   "outputs": [
    {
     "name": "stdout",
     "output_type": "stream",
     "text": [
      "Accuarcy:1.00\n"
     ]
    }
   ],
   "source": [
    "pipeline = Pipeline([\n",
    "        ('scaler', StandardScaler()),\n",
    "        ('classifier', LogisticRegression())\n",
    "])\n",
    "\n",
    "#train model\n",
    "pipeline.fit(x_train, y_train)\n",
    "\n",
    "#make predictions\n",
    "y_pred = pipeline.predict(x_test)\n",
    "\n",
    "#evaluate\n",
    "print(f\"Accuarcy:{pipeline.score(x_test, y_test):.2f}\")\n"
   ]
  },
  {
   "cell_type": "markdown",
   "id": "faf92d54",
   "metadata": {
    "papermill": {
     "duration": 0.00547,
     "end_time": "2024-12-26T03:17:17.506202",
     "exception": false,
     "start_time": "2024-12-26T03:17:17.500732",
     "status": "completed"
    },
    "tags": []
   },
   "source": [
    "# Keras"
   ]
  },
  {
   "cell_type": "code",
   "execution_count": 6,
   "id": "8f1ad2b4",
   "metadata": {
    "execution": {
     "iopub.execute_input": "2024-12-26T03:17:17.516396Z",
     "iopub.status.busy": "2024-12-26T03:17:17.515990Z",
     "iopub.status.idle": "2024-12-26T03:17:30.259680Z",
     "shell.execute_reply": "2024-12-26T03:17:30.258840Z"
    },
    "papermill": {
     "duration": 12.750879,
     "end_time": "2024-12-26T03:17:30.262110",
     "exception": false,
     "start_time": "2024-12-26T03:17:17.511231",
     "status": "completed"
    },
    "tags": []
   },
   "outputs": [],
   "source": [
    "import tensorflow as tf\n",
    "from tensorflow.keras import Sequential\n",
    "from tensorflow.keras.layers import Dense, Flatten\n",
    "from tensorflow.keras.datasets import mnist"
   ]
  },
  {
   "cell_type": "code",
   "execution_count": 7,
   "id": "d99067dd",
   "metadata": {
    "execution": {
     "iopub.execute_input": "2024-12-26T03:17:30.271610Z",
     "iopub.status.busy": "2024-12-26T03:17:30.270685Z",
     "iopub.status.idle": "2024-12-26T03:17:32.172589Z",
     "shell.execute_reply": "2024-12-26T03:17:32.171715Z"
    },
    "papermill": {
     "duration": 1.90882,
     "end_time": "2024-12-26T03:17:32.174866",
     "exception": false,
     "start_time": "2024-12-26T03:17:30.266046",
     "status": "completed"
    },
    "tags": []
   },
   "outputs": [
    {
     "name": "stdout",
     "output_type": "stream",
     "text": [
      "Downloading data from https://storage.googleapis.com/tensorflow/tf-keras-datasets/mnist.npz\n",
      "\u001b[1m11490434/11490434\u001b[0m \u001b[32m━━━━━━━━━━━━━━━━━━━━\u001b[0m\u001b[37m\u001b[0m \u001b[1m1s\u001b[0m 0us/step\n"
     ]
    }
   ],
   "source": [
    "#load data \n",
    "(x_train, y_train),(x_test, y_test) = mnist.load_data()\n",
    "\n",
    "#normalize\n",
    "(x_train, x_test) = x_train/255.0, x_test/255.0"
   ]
  },
  {
   "cell_type": "code",
   "execution_count": 8,
   "id": "76dd928d",
   "metadata": {
    "execution": {
     "iopub.execute_input": "2024-12-26T03:17:32.187151Z",
     "iopub.status.busy": "2024-12-26T03:17:32.186338Z",
     "iopub.status.idle": "2024-12-26T03:17:51.134306Z",
     "shell.execute_reply": "2024-12-26T03:17:51.133222Z"
    },
    "papermill": {
     "duration": 18.956024,
     "end_time": "2024-12-26T03:17:51.136320",
     "exception": false,
     "start_time": "2024-12-26T03:17:32.180296",
     "status": "completed"
    },
    "tags": []
   },
   "outputs": [
    {
     "name": "stderr",
     "output_type": "stream",
     "text": [
      "/opt/conda/lib/python3.10/site-packages/keras/src/layers/reshaping/flatten.py:37: UserWarning: Do not pass an `input_shape`/`input_dim` argument to a layer. When using Sequential models, prefer using an `Input(shape)` object as the first layer in the model instead.\n",
      "  super().__init__(**kwargs)\n"
     ]
    },
    {
     "name": "stdout",
     "output_type": "stream",
     "text": [
      "Epoch 1/5\n",
      "\u001b[1m1875/1875\u001b[0m \u001b[32m━━━━━━━━━━━━━━━━━━━━\u001b[0m\u001b[37m\u001b[0m \u001b[1m4s\u001b[0m 2ms/step - accuracy: 0.8780 - loss: 0.4347\n",
      "Epoch 2/5\n",
      "\u001b[1m1875/1875\u001b[0m \u001b[32m━━━━━━━━━━━━━━━━━━━━\u001b[0m\u001b[37m\u001b[0m \u001b[1m3s\u001b[0m 2ms/step - accuracy: 0.9647 - loss: 0.1190\n",
      "Epoch 3/5\n",
      "\u001b[1m1875/1875\u001b[0m \u001b[32m━━━━━━━━━━━━━━━━━━━━\u001b[0m\u001b[37m\u001b[0m \u001b[1m3s\u001b[0m 2ms/step - accuracy: 0.9765 - loss: 0.0792\n",
      "Epoch 4/5\n",
      "\u001b[1m1875/1875\u001b[0m \u001b[32m━━━━━━━━━━━━━━━━━━━━\u001b[0m\u001b[37m\u001b[0m \u001b[1m3s\u001b[0m 2ms/step - accuracy: 0.9842 - loss: 0.0530\n",
      "Epoch 5/5\n",
      "\u001b[1m1875/1875\u001b[0m \u001b[32m━━━━━━━━━━━━━━━━━━━━\u001b[0m\u001b[37m\u001b[0m \u001b[1m3s\u001b[0m 2ms/step - accuracy: 0.9858 - loss: 0.0465\n",
      "\u001b[1m313/313\u001b[0m \u001b[32m━━━━━━━━━━━━━━━━━━━━\u001b[0m\u001b[37m\u001b[0m \u001b[1m0s\u001b[0m 1ms/step - accuracy: 0.9710 - loss: 0.0882\n"
     ]
    },
    {
     "data": {
      "text/plain": [
       "[0.07681983709335327, 0.9758999943733215]"
      ]
     },
     "execution_count": 8,
     "metadata": {},
     "output_type": "execute_result"
    }
   ],
   "source": [
    "# Build the model\n",
    "model = Sequential([\n",
    "    Flatten(input_shape=(28, 28)),\n",
    "    Dense(128, activation='relu'),\n",
    "    Dense(10, activation='softmax')\n",
    "])\n",
    "\n",
    "# Compile the model\n",
    "model.compile(optimizer='adam',\n",
    "              loss ='sparse_categorical_crossentropy',\n",
    "              metrics=['accuracy'])\n",
    "\n",
    "# Train the model\n",
    "model.fit(x_train, y_train, epochs=5)\n",
    "\n",
    "# Evaluate the model\n",
    "model.evaluate(x_test, y_test)"
   ]
  },
  {
   "cell_type": "markdown",
   "id": "4e9a4e09",
   "metadata": {
    "papermill": {
     "duration": 0.023872,
     "end_time": "2024-12-26T03:17:51.190550",
     "exception": false,
     "start_time": "2024-12-26T03:17:51.166678",
     "status": "completed"
    },
    "tags": []
   },
   "source": [
    "# Tensorflow\n"
   ]
  },
  {
   "cell_type": "code",
   "execution_count": 9,
   "id": "af5d8be5",
   "metadata": {
    "execution": {
     "iopub.execute_input": "2024-12-26T03:17:51.241122Z",
     "iopub.status.busy": "2024-12-26T03:17:51.240715Z",
     "iopub.status.idle": "2024-12-26T03:21:40.913559Z",
     "shell.execute_reply": "2024-12-26T03:21:40.912531Z"
    },
    "papermill": {
     "duration": 229.724393,
     "end_time": "2024-12-26T03:21:40.939318",
     "exception": false,
     "start_time": "2024-12-26T03:17:51.214925",
     "status": "completed"
    },
    "tags": []
   },
   "outputs": [
    {
     "name": "stdout",
     "output_type": "stream",
     "text": [
      "Accuracy: 97.45%\n"
     ]
    }
   ],
   "source": [
    "import tensorflow as tf\n",
    "from tensorflow.keras.datasets import mnist\n",
    "\n",
    "# Load and preprocess data\n",
    "(x_train, y_train), (x_test, y_test) = mnist.load_data()\n",
    "x_train, x_test = x_train / 255.0, x_test / 255.0\n",
    "\n",
    "# Convert labels to one-hot encoding\n",
    "y_train = tf.one_hot(y_train, depth=10).numpy()\n",
    "y_test = tf.one_hot(y_test, depth=10).numpy()\n",
    "\n",
    "# Define model\n",
    "class NeuralNetwork(tf.keras.Model):\n",
    "    def __init__(self):\n",
    "        super().__init__()\n",
    "        self.flatten = tf.keras.layers.Flatten()\n",
    "        self.dense1 = tf.keras.layers.Dense(128, activation='relu')\n",
    "        self.dense2 = tf.keras.layers.Dense(10, activation='softmax')\n",
    "\n",
    "    def call(self, x):\n",
    "        x = self.flatten(x)\n",
    "        x = self.dense1(x)\n",
    "        return self.dense2(x)\n",
    "\n",
    "model = NeuralNetwork()\n",
    "\n",
    "# Define loss and optimizer\n",
    "loss_fn = tf.keras.losses.CategoricalCrossentropy()\n",
    "optimizer = tf.optimizers.Adam()\n",
    "\n",
    "# Training loop\n",
    "batch_size = 32\n",
    "for epoch in range(5):\n",
    "    for start in range(0, len(x_train), batch_size):\n",
    "        end = start + batch_size\n",
    "        x_batch = x_train[start:end]\n",
    "        y_batch = y_train[start:end]\n",
    "        with tf.GradientTape() as tape:\n",
    "            predictions = model(x_batch)\n",
    "            loss = loss_fn(y_batch, predictions)\n",
    "        gradients = tape.gradient(loss, model.trainable_variables)\n",
    "        optimizer.apply_gradients(zip(gradients, model.trainable_variables))\n",
    "\n",
    "# Evaluate model\n",
    "correct = 0\n",
    "total = len(x_test)\n",
    "for start in range(0, total, batch_size):\n",
    "    end = start + batch_size\n",
    "    predictions = model(x_test[start:end])\n",
    "    correct += tf.reduce_sum(\n",
    "        tf.cast(tf.argmax(predictions, axis=1) == tf.argmax(y_test[start:end], axis=1), tf.int32)\n",
    "    )\n",
    "\n",
    "accuracy = 100 * correct / total\n",
    "print(f\"Accuracy: {accuracy}%\")\n"
   ]
  },
  {
   "cell_type": "markdown",
   "id": "4d024278",
   "metadata": {
    "papermill": {
     "duration": 0.027302,
     "end_time": "2024-12-26T03:21:40.991150",
     "exception": false,
     "start_time": "2024-12-26T03:21:40.963848",
     "status": "completed"
    },
    "tags": []
   },
   "source": [
    "# PyTorch"
   ]
  },
  {
   "cell_type": "code",
   "execution_count": 10,
   "id": "e30e56d0",
   "metadata": {
    "execution": {
     "iopub.execute_input": "2024-12-26T03:21:41.041600Z",
     "iopub.status.busy": "2024-12-26T03:21:41.041223Z",
     "iopub.status.idle": "2024-12-26T03:21:59.366742Z",
     "shell.execute_reply": "2024-12-26T03:21:59.365695Z"
    },
    "papermill": {
     "duration": 18.353937,
     "end_time": "2024-12-26T03:21:59.369794",
     "exception": false,
     "start_time": "2024-12-26T03:21:41.015857",
     "status": "completed"
    },
    "tags": []
   },
   "outputs": [
    {
     "name": "stdout",
     "output_type": "stream",
     "text": [
      "Downloading http://yann.lecun.com/exdb/mnist/train-images-idx3-ubyte.gz\n",
      "Failed to download (trying next):\n",
      "HTTP Error 403: Forbidden\n",
      "\n",
      "Downloading https://ossci-datasets.s3.amazonaws.com/mnist/train-images-idx3-ubyte.gz\n",
      "Downloading https://ossci-datasets.s3.amazonaws.com/mnist/train-images-idx3-ubyte.gz to ./data/MNIST/raw/train-images-idx3-ubyte.gz\n"
     ]
    },
    {
     "name": "stderr",
     "output_type": "stream",
     "text": [
      "100%|██████████| 9912422/9912422 [00:01<00:00, 5808904.39it/s]\n"
     ]
    },
    {
     "name": "stdout",
     "output_type": "stream",
     "text": [
      "Extracting ./data/MNIST/raw/train-images-idx3-ubyte.gz to ./data/MNIST/raw\n",
      "\n",
      "Downloading http://yann.lecun.com/exdb/mnist/train-labels-idx1-ubyte.gz\n",
      "Failed to download (trying next):\n",
      "HTTP Error 403: Forbidden\n",
      "\n",
      "Downloading https://ossci-datasets.s3.amazonaws.com/mnist/train-labels-idx1-ubyte.gz\n",
      "Downloading https://ossci-datasets.s3.amazonaws.com/mnist/train-labels-idx1-ubyte.gz to ./data/MNIST/raw/train-labels-idx1-ubyte.gz\n"
     ]
    },
    {
     "name": "stderr",
     "output_type": "stream",
     "text": [
      "100%|██████████| 28881/28881 [00:00<00:00, 153252.13it/s]\n"
     ]
    },
    {
     "name": "stdout",
     "output_type": "stream",
     "text": [
      "Extracting ./data/MNIST/raw/train-labels-idx1-ubyte.gz to ./data/MNIST/raw\n",
      "\n",
      "Downloading http://yann.lecun.com/exdb/mnist/t10k-images-idx3-ubyte.gz\n",
      "Failed to download (trying next):\n",
      "HTTP Error 403: Forbidden\n",
      "\n",
      "Downloading https://ossci-datasets.s3.amazonaws.com/mnist/t10k-images-idx3-ubyte.gz\n",
      "Downloading https://ossci-datasets.s3.amazonaws.com/mnist/t10k-images-idx3-ubyte.gz to ./data/MNIST/raw/t10k-images-idx3-ubyte.gz\n"
     ]
    },
    {
     "name": "stderr",
     "output_type": "stream",
     "text": [
      "100%|██████████| 1648877/1648877 [00:01<00:00, 1455993.69it/s]\n"
     ]
    },
    {
     "name": "stdout",
     "output_type": "stream",
     "text": [
      "Extracting ./data/MNIST/raw/t10k-images-idx3-ubyte.gz to ./data/MNIST/raw\n",
      "\n",
      "Downloading http://yann.lecun.com/exdb/mnist/t10k-labels-idx1-ubyte.gz\n",
      "Failed to download (trying next):\n",
      "HTTP Error 403: Forbidden\n",
      "\n",
      "Downloading https://ossci-datasets.s3.amazonaws.com/mnist/t10k-labels-idx1-ubyte.gz\n",
      "Downloading https://ossci-datasets.s3.amazonaws.com/mnist/t10k-labels-idx1-ubyte.gz to ./data/MNIST/raw/t10k-labels-idx1-ubyte.gz\n"
     ]
    },
    {
     "name": "stderr",
     "output_type": "stream",
     "text": [
      "100%|██████████| 4542/4542 [00:00<00:00, 2003420.84it/s]"
     ]
    },
    {
     "name": "stdout",
     "output_type": "stream",
     "text": [
      "Extracting ./data/MNIST/raw/t10k-labels-idx1-ubyte.gz to ./data/MNIST/raw\n",
      "\n"
     ]
    },
    {
     "name": "stderr",
     "output_type": "stream",
     "text": [
      "\n"
     ]
    }
   ],
   "source": [
    "import torch\n",
    "import torch.nn as nn\n",
    "import torch.optim as optim\n",
    "from torchvision import datasets, transforms\n",
    "from torch.utils.data import DataLoader\n",
    "\n",
    "# Load and preprocess data\n",
    "transform = transforms.ToTensor()\n",
    "train_dataset = datasets.MNIST(root='./data', train=True, transform=transform, download=True)\n",
    "test_dataset = datasets.MNIST(root='./data', train=False, transform=transform)\n",
    "\n",
    "train_loader = DataLoader(train_dataset, batch_size=64, shuffle=True)\n",
    "test_loader = DataLoader(test_dataset, batch_size=64, shuffle=False)\n",
    "\n",
    "# Define the model\n",
    "class NeuralNetwork(nn.Module):\n",
    "    def __init__(self):\n",
    "        super(NeuralNetwork, self).__init__()\n",
    "        self.flatten = nn.Flatten()\n",
    "        self.fc1 = nn.Linear(28 * 28, 128)\n",
    "        self.relu = nn.ReLU()\n",
    "        self.fc2 = nn.Linear(128, 10)\n",
    "        self.softmax = nn.Softmax(dim=1)\n",
    "\n",
    "    def forward(self, x):\n",
    "        x = self.flatten(x)\n",
    "        x = self.relu(self.fc1(x))\n",
    "        x = self.softmax(self.fc2(x))\n",
    "        return x"
   ]
  },
  {
   "cell_type": "code",
   "execution_count": 11,
   "id": "ab142717",
   "metadata": {
    "execution": {
     "iopub.execute_input": "2024-12-26T03:21:59.426596Z",
     "iopub.status.busy": "2024-12-26T03:21:59.425686Z",
     "iopub.status.idle": "2024-12-26T03:21:59.443827Z",
     "shell.execute_reply": "2024-12-26T03:21:59.442862Z"
    },
    "papermill": {
     "duration": 0.048574,
     "end_time": "2024-12-26T03:21:59.445889",
     "exception": false,
     "start_time": "2024-12-26T03:21:59.397315",
     "status": "completed"
    },
    "tags": []
   },
   "outputs": [],
   "source": [
    "model = NeuralNetwork()\n",
    "\n",
    "# Define loss and optimizer\n",
    "criterion = nn.CrossEntropyLoss()\n",
    "optimizer = optim.Adam(model.parameters(), lr=0.001)\n"
   ]
  },
  {
   "cell_type": "code",
   "execution_count": 12,
   "id": "c41243b0",
   "metadata": {
    "execution": {
     "iopub.execute_input": "2024-12-26T03:21:59.499764Z",
     "iopub.status.busy": "2024-12-26T03:21:59.498905Z",
     "iopub.status.idle": "2024-12-26T03:22:41.722389Z",
     "shell.execute_reply": "2024-12-26T03:22:41.721360Z"
    },
    "papermill": {
     "duration": 42.278667,
     "end_time": "2024-12-26T03:22:41.750651",
     "exception": false,
     "start_time": "2024-12-26T03:21:59.471984",
     "status": "completed"
    },
    "tags": []
   },
   "outputs": [
    {
     "name": "stdout",
     "output_type": "stream",
     "text": [
      "Accuracy: 96.48%\n"
     ]
    }
   ],
   "source": [
    "# Training loop\n",
    "for epoch in range(5):\n",
    "    for images, labels in train_loader:\n",
    "        # Forward pass\n",
    "        outputs = model(images)\n",
    "        loss = criterion(outputs, labels)\n",
    "\n",
    "        # Backward pass\n",
    "        optimizer.zero_grad()\n",
    "        loss.backward()\n",
    "        optimizer.step()\n",
    "\n",
    "# Evaluate the model\n",
    "correct = 0\n",
    "total = 0\n",
    "with torch.no_grad():\n",
    "    for images, labels in test_loader:\n",
    "        outputs = model(images)\n",
    "        _, predicted = torch.max(outputs, 1)\n",
    "        total += labels.size(0)\n",
    "        correct += (predicted == labels).sum().item()\n",
    "\n",
    "print(f\"Accuracy: {100 * correct / total}%\")"
   ]
  },
  {
   "cell_type": "code",
   "execution_count": null,
   "id": "99df331a",
   "metadata": {
    "papermill": {
     "duration": 0.025815,
     "end_time": "2024-12-26T03:22:41.802627",
     "exception": false,
     "start_time": "2024-12-26T03:22:41.776812",
     "status": "completed"
    },
    "tags": []
   },
   "outputs": [],
   "source": []
  }
 ],
 "metadata": {
  "kaggle": {
   "accelerator": "none",
   "dataSources": [],
   "dockerImageVersionId": 30786,
   "isGpuEnabled": false,
   "isInternetEnabled": true,
   "language": "python",
   "sourceType": "notebook"
  },
  "kernelspec": {
   "display_name": "Python 3",
   "language": "python",
   "name": "python3"
  },
  "language_info": {
   "codemirror_mode": {
    "name": "ipython",
    "version": 3
   },
   "file_extension": ".py",
   "mimetype": "text/x-python",
   "name": "python",
   "nbconvert_exporter": "python",
   "pygments_lexer": "ipython3",
   "version": "3.10.14"
  },
  "papermill": {
   "default_parameters": {},
   "duration": 331.896932,
   "end_time": "2024-12-26T03:22:44.830212",
   "environment_variables": {},
   "exception": null,
   "input_path": "__notebook__.ipynb",
   "output_path": "__notebook__.ipynb",
   "parameters": {},
   "start_time": "2024-12-26T03:17:12.933280",
   "version": "2.6.0"
  }
 },
 "nbformat": 4,
 "nbformat_minor": 5
}

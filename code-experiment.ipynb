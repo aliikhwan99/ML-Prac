{
 "cells": [
  {
   "cell_type": "markdown",
   "id": "385bae5d",
   "metadata": {
    "papermill": {
     "duration": 0.004401,
     "end_time": "2024-12-08T15:07:05.149276",
     "exception": false,
     "start_time": "2024-12-08T15:07:05.144875",
     "status": "completed"
    },
    "tags": []
   },
   "source": [
    "# Scikit-learn\n"
   ]
  },
  {
   "cell_type": "code",
   "execution_count": 1,
   "id": "e6b5aef2",
   "metadata": {
    "execution": {
     "iopub.execute_input": "2024-12-08T15:07:05.158705Z",
     "iopub.status.busy": "2024-12-08T15:07:05.158173Z",
     "iopub.status.idle": "2024-12-08T15:07:06.788607Z",
     "shell.execute_reply": "2024-12-08T15:07:06.787560Z"
    },
    "papermill": {
     "duration": 1.637719,
     "end_time": "2024-12-08T15:07:06.790875",
     "exception": false,
     "start_time": "2024-12-08T15:07:05.153156",
     "status": "completed"
    },
    "tags": []
   },
   "outputs": [],
   "source": [
    "from sklearn.model_selection import train_test_split\n",
    "from sklearn.preprocessing import StandardScaler\n",
    "from sklearn.ensemble import RandomForestClassifier\n",
    "from sklearn.metrics import accuracy_score"
   ]
  },
  {
   "cell_type": "code",
   "execution_count": 2,
   "id": "03f9425a",
   "metadata": {
    "execution": {
     "iopub.execute_input": "2024-12-08T15:07:06.799885Z",
     "iopub.status.busy": "2024-12-08T15:07:06.799390Z",
     "iopub.status.idle": "2024-12-08T15:07:06.914432Z",
     "shell.execute_reply": "2024-12-08T15:07:06.913437Z"
    },
    "papermill": {
     "duration": 0.122129,
     "end_time": "2024-12-08T15:07:06.916848",
     "exception": false,
     "start_time": "2024-12-08T15:07:06.794719",
     "status": "completed"
    },
    "tags": []
   },
   "outputs": [],
   "source": [
    "#import data\n",
    "from sklearn.datasets import load_iris\n",
    "data = load_iris()\n",
    "X, y = data.data, data.target\n",
    "\n",
    "x_train, x_test, y_train, y_test = train_test_split(X, y, test_size = 0.2, random_state = 42)"
   ]
  },
  {
   "cell_type": "code",
   "execution_count": 3,
   "id": "107a2d11",
   "metadata": {
    "execution": {
     "iopub.execute_input": "2024-12-08T15:07:06.926566Z",
     "iopub.status.busy": "2024-12-08T15:07:06.925825Z",
     "iopub.status.idle": "2024-12-08T15:07:06.935701Z",
     "shell.execute_reply": "2024-12-08T15:07:06.934592Z"
    },
    "papermill": {
     "duration": 0.017232,
     "end_time": "2024-12-08T15:07:06.937931",
     "exception": false,
     "start_time": "2024-12-08T15:07:06.920699",
     "status": "completed"
    },
    "tags": []
   },
   "outputs": [],
   "source": [
    "#preprocessing \n",
    "scaler = StandardScaler()\n",
    "\n",
    "x_train_scaler = scaler.fit_transform(x_train)\n",
    "x_test_scaler = scaler.transform(x_test)"
   ]
  },
  {
   "cell_type": "markdown",
   "id": "639c7ba0",
   "metadata": {
    "papermill": {
     "duration": 0.003453,
     "end_time": "2024-12-08T15:07:06.946778",
     "exception": false,
     "start_time": "2024-12-08T15:07:06.943325",
     "status": "completed"
    },
    "tags": []
   },
   "source": [
    "# Pipeline"
   ]
  },
  {
   "cell_type": "code",
   "execution_count": 4,
   "id": "8916ef26",
   "metadata": {
    "execution": {
     "iopub.execute_input": "2024-12-08T15:07:06.955419Z",
     "iopub.status.busy": "2024-12-08T15:07:06.955052Z",
     "iopub.status.idle": "2024-12-08T15:07:06.963226Z",
     "shell.execute_reply": "2024-12-08T15:07:06.962152Z"
    },
    "papermill": {
     "duration": 0.015323,
     "end_time": "2024-12-08T15:07:06.965621",
     "exception": false,
     "start_time": "2024-12-08T15:07:06.950298",
     "status": "completed"
    },
    "tags": []
   },
   "outputs": [],
   "source": [
    "from sklearn.pipeline import Pipeline\n",
    "from sklearn.preprocessing import StandardScaler\n",
    "from sklearn.linear_model import LogisticRegression\n",
    "from sklearn.datasets import load_iris\n",
    "from sklearn.model_selection import train_test_split"
   ]
  },
  {
   "cell_type": "code",
   "execution_count": 5,
   "id": "c4b6b6b9",
   "metadata": {
    "execution": {
     "iopub.execute_input": "2024-12-08T15:07:06.975139Z",
     "iopub.status.busy": "2024-12-08T15:07:06.974343Z",
     "iopub.status.idle": "2024-12-08T15:07:07.005604Z",
     "shell.execute_reply": "2024-12-08T15:07:07.004668Z"
    },
    "papermill": {
     "duration": 0.038441,
     "end_time": "2024-12-08T15:07:07.007847",
     "exception": false,
     "start_time": "2024-12-08T15:07:06.969406",
     "status": "completed"
    },
    "tags": []
   },
   "outputs": [
    {
     "name": "stdout",
     "output_type": "stream",
     "text": [
      "Accuracy: 1.00\n"
     ]
    }
   ],
   "source": [
    "# Load data\n",
    "data = load_iris()\n",
    "X_train, X_test, y_train, y_test = train_test_split(data.data, data.target, test_size=0.2, random_state= 42)\n",
    "\n",
    "# Define pipeline\n",
    "pipeline = Pipeline([\n",
    "    ('scaler', StandardScaler()),       # Step 1: Standardize features\n",
    "    ('classifier', LogisticRegression())  # Step 2: Train logistic regression\n",
    "])\n",
    "\n",
    "# Train model\n",
    "pipeline.fit(X_train, y_train)\n",
    "\n",
    "# Make predictions\n",
    "y_pred = pipeline.predict(X_test)\n",
    "\n",
    "# Evaluate\n",
    "print(f\"Accuracy: {pipeline.score(X_test, y_test):.2f}\")\n"
   ]
  },
  {
   "cell_type": "markdown",
   "id": "096154f5",
   "metadata": {
    "papermill": {
     "duration": 0.003333,
     "end_time": "2024-12-08T15:07:07.014849",
     "exception": false,
     "start_time": "2024-12-08T15:07:07.011516",
     "status": "completed"
    },
    "tags": []
   },
   "source": [
    "# Keras"
   ]
  },
  {
   "cell_type": "code",
   "execution_count": 6,
   "id": "e6cf48c8",
   "metadata": {
    "execution": {
     "iopub.execute_input": "2024-12-08T15:07:07.024342Z",
     "iopub.status.busy": "2024-12-08T15:07:07.023986Z",
     "iopub.status.idle": "2024-12-08T15:07:20.682662Z",
     "shell.execute_reply": "2024-12-08T15:07:20.681736Z"
    },
    "papermill": {
     "duration": 13.665748,
     "end_time": "2024-12-08T15:07:20.684992",
     "exception": false,
     "start_time": "2024-12-08T15:07:07.019244",
     "status": "completed"
    },
    "tags": []
   },
   "outputs": [],
   "source": [
    "import tensorflow as tf\n",
    "from tensorflow.keras import Sequential\n",
    "from tensorflow.keras.layers import Dense, Flatten\n",
    "from tensorflow.keras.datasets import mnist\n"
   ]
  },
  {
   "cell_type": "code",
   "execution_count": 7,
   "id": "7730c2c2",
   "metadata": {
    "execution": {
     "iopub.execute_input": "2024-12-08T15:07:20.694250Z",
     "iopub.status.busy": "2024-12-08T15:07:20.693630Z",
     "iopub.status.idle": "2024-12-08T15:07:21.333340Z",
     "shell.execute_reply": "2024-12-08T15:07:21.332164Z"
    },
    "papermill": {
     "duration": 0.64699,
     "end_time": "2024-12-08T15:07:21.335761",
     "exception": false,
     "start_time": "2024-12-08T15:07:20.688771",
     "status": "completed"
    },
    "tags": []
   },
   "outputs": [
    {
     "name": "stdout",
     "output_type": "stream",
     "text": [
      "Downloading data from https://storage.googleapis.com/tensorflow/tf-keras-datasets/mnist.npz\n",
      "\u001b[1m11490434/11490434\u001b[0m \u001b[32m━━━━━━━━━━━━━━━━━━━━\u001b[0m\u001b[37m\u001b[0m \u001b[1m0s\u001b[0m 0us/step\n"
     ]
    }
   ],
   "source": [
    "#load amd preprocess data\n",
    "(x_train,y_train),(x_test,y_test) = mnist.load_data()\n",
    "\n",
    "#normalization( divition of pixel value)\n",
    "x_train,x_test = x_train/255.0, x_test/255.0"
   ]
  },
  {
   "cell_type": "code",
   "execution_count": 8,
   "id": "a1bc4969",
   "metadata": {
    "execution": {
     "iopub.execute_input": "2024-12-08T15:07:21.345945Z",
     "iopub.status.busy": "2024-12-08T15:07:21.345009Z",
     "iopub.status.idle": "2024-12-08T15:07:44.944491Z",
     "shell.execute_reply": "2024-12-08T15:07:44.943547Z"
    },
    "papermill": {
     "duration": 23.607239,
     "end_time": "2024-12-08T15:07:44.947104",
     "exception": false,
     "start_time": "2024-12-08T15:07:21.339865",
     "status": "completed"
    },
    "tags": []
   },
   "outputs": [
    {
     "name": "stderr",
     "output_type": "stream",
     "text": [
      "/opt/conda/lib/python3.10/site-packages/keras/src/layers/reshaping/flatten.py:37: UserWarning: Do not pass an `input_shape`/`input_dim` argument to a layer. When using Sequential models, prefer using an `Input(shape)` object as the first layer in the model instead.\n",
      "  super().__init__(**kwargs)\n"
     ]
    },
    {
     "name": "stdout",
     "output_type": "stream",
     "text": [
      "Epoch 1/5\n",
      "\u001b[1m1875/1875\u001b[0m \u001b[32m━━━━━━━━━━━━━━━━━━━━\u001b[0m\u001b[37m\u001b[0m \u001b[1m5s\u001b[0m 2ms/step - accuracy: 0.8788 - loss: 0.4287\n",
      "Epoch 2/5\n",
      "\u001b[1m1875/1875\u001b[0m \u001b[32m━━━━━━━━━━━━━━━━━━━━\u001b[0m\u001b[37m\u001b[0m \u001b[1m4s\u001b[0m 2ms/step - accuracy: 0.9639 - loss: 0.1224\n",
      "Epoch 3/5\n",
      "\u001b[1m1875/1875\u001b[0m \u001b[32m━━━━━━━━━━━━━━━━━━━━\u001b[0m\u001b[37m\u001b[0m \u001b[1m4s\u001b[0m 2ms/step - accuracy: 0.9758 - loss: 0.0792\n",
      "Epoch 4/5\n",
      "\u001b[1m1875/1875\u001b[0m \u001b[32m━━━━━━━━━━━━━━━━━━━━\u001b[0m\u001b[37m\u001b[0m \u001b[1m4s\u001b[0m 2ms/step - accuracy: 0.9833 - loss: 0.0565\n",
      "Epoch 5/5\n",
      "\u001b[1m1875/1875\u001b[0m \u001b[32m━━━━━━━━━━━━━━━━━━━━\u001b[0m\u001b[37m\u001b[0m \u001b[1m4s\u001b[0m 2ms/step - accuracy: 0.9886 - loss: 0.0396\n",
      "\u001b[1m313/313\u001b[0m \u001b[32m━━━━━━━━━━━━━━━━━━━━\u001b[0m\u001b[37m\u001b[0m \u001b[1m1s\u001b[0m 1ms/step - accuracy: 0.9703 - loss: 0.0963\n"
     ]
    },
    {
     "data": {
      "text/plain": [
       "[0.08190511912107468, 0.9746000170707703]"
      ]
     },
     "execution_count": 8,
     "metadata": {},
     "output_type": "execute_result"
    }
   ],
   "source": [
    "import tensorflow as tf\n",
    "from tensorflow.keras import Sequential\n",
    "from tensorflow.keras.layers import Dense, Flatten\n",
    "from tensorflow.keras.datasets import mnist\n",
    "\n",
    "# Load and preprocess data\n",
    "(x_train, y_train), (x_test, y_test) = mnist.load_data()\n",
    "x_train, x_test = x_train / 255.0, x_test / 255.0\n",
    "\n",
    "# Build the model\n",
    "model = Sequential([\n",
    "    Flatten(input_shape=(28, 28)),\n",
    "    Dense(128, activation='relu'),\n",
    "    Dense(10, activation='softmax')\n",
    "])\n",
    "\n",
    "# Compile the model\n",
    "model.compile(optimizer='adam',\n",
    "              loss ='sparse_categorical_crossentropy',\n",
    "              metrics=['accuracy'])\n",
    "\n",
    "# Train the model\n",
    "model.fit(x_train, y_train, epochs=5)\n",
    "\n",
    "# Evaluate the model\n",
    "model.evaluate(x_test, y_test)\n"
   ]
  },
  {
   "cell_type": "code",
   "execution_count": null,
   "id": "e21af081",
   "metadata": {
    "papermill": {
     "duration": 0.02815,
     "end_time": "2024-12-08T15:07:45.004443",
     "exception": false,
     "start_time": "2024-12-08T15:07:44.976293",
     "status": "completed"
    },
    "tags": []
   },
   "outputs": [],
   "source": []
  },
  {
   "cell_type": "markdown",
   "id": "9dc2f951",
   "metadata": {
    "papermill": {
     "duration": 0.027017,
     "end_time": "2024-12-08T15:07:45.058453",
     "exception": false,
     "start_time": "2024-12-08T15:07:45.031436",
     "status": "completed"
    },
    "tags": []
   },
   "source": [
    "# PyTorch"
   ]
  },
  {
   "cell_type": "code",
   "execution_count": 9,
   "id": "8fadacc1",
   "metadata": {
    "execution": {
     "iopub.execute_input": "2024-12-08T15:07:45.116089Z",
     "iopub.status.busy": "2024-12-08T15:07:45.115700Z",
     "iopub.status.idle": "2024-12-08T15:07:55.028776Z",
     "shell.execute_reply": "2024-12-08T15:07:55.027518Z"
    },
    "papermill": {
     "duration": 9.944437,
     "end_time": "2024-12-08T15:07:55.031747",
     "exception": false,
     "start_time": "2024-12-08T15:07:45.087310",
     "status": "completed"
    },
    "tags": []
   },
   "outputs": [
    {
     "name": "stdout",
     "output_type": "stream",
     "text": [
      "Downloading http://yann.lecun.com/exdb/mnist/train-images-idx3-ubyte.gz\n",
      "Failed to download (trying next):\n",
      "HTTP Error 403: Forbidden\n",
      "\n",
      "Downloading https://ossci-datasets.s3.amazonaws.com/mnist/train-images-idx3-ubyte.gz\n",
      "Downloading https://ossci-datasets.s3.amazonaws.com/mnist/train-images-idx3-ubyte.gz to ./data/MNIST/raw/train-images-idx3-ubyte.gz\n"
     ]
    },
    {
     "name": "stderr",
     "output_type": "stream",
     "text": [
      "100%|██████████| 9912422/9912422 [00:00<00:00, 17507176.98it/s]\n"
     ]
    },
    {
     "name": "stdout",
     "output_type": "stream",
     "text": [
      "Extracting ./data/MNIST/raw/train-images-idx3-ubyte.gz to ./data/MNIST/raw\n",
      "\n",
      "Downloading http://yann.lecun.com/exdb/mnist/train-labels-idx1-ubyte.gz\n",
      "Failed to download (trying next):\n",
      "HTTP Error 403: Forbidden\n",
      "\n",
      "Downloading https://ossci-datasets.s3.amazonaws.com/mnist/train-labels-idx1-ubyte.gz\n",
      "Downloading https://ossci-datasets.s3.amazonaws.com/mnist/train-labels-idx1-ubyte.gz to ./data/MNIST/raw/train-labels-idx1-ubyte.gz\n"
     ]
    },
    {
     "name": "stderr",
     "output_type": "stream",
     "text": [
      "100%|██████████| 28881/28881 [00:00<00:00, 466906.77it/s]\n"
     ]
    },
    {
     "name": "stdout",
     "output_type": "stream",
     "text": [
      "Extracting ./data/MNIST/raw/train-labels-idx1-ubyte.gz to ./data/MNIST/raw\n",
      "\n",
      "Downloading http://yann.lecun.com/exdb/mnist/t10k-images-idx3-ubyte.gz\n",
      "Failed to download (trying next):\n",
      "HTTP Error 403: Forbidden\n",
      "\n",
      "Downloading https://ossci-datasets.s3.amazonaws.com/mnist/t10k-images-idx3-ubyte.gz\n",
      "Downloading https://ossci-datasets.s3.amazonaws.com/mnist/t10k-images-idx3-ubyte.gz to ./data/MNIST/raw/t10k-images-idx3-ubyte.gz\n"
     ]
    },
    {
     "name": "stderr",
     "output_type": "stream",
     "text": [
      "100%|██████████| 1648877/1648877 [00:00<00:00, 4379075.46it/s]\n"
     ]
    },
    {
     "name": "stdout",
     "output_type": "stream",
     "text": [
      "Extracting ./data/MNIST/raw/t10k-images-idx3-ubyte.gz to ./data/MNIST/raw\n",
      "\n",
      "Downloading http://yann.lecun.com/exdb/mnist/t10k-labels-idx1-ubyte.gz\n",
      "Failed to download (trying next):\n",
      "HTTP Error 403: Forbidden\n",
      "\n",
      "Downloading https://ossci-datasets.s3.amazonaws.com/mnist/t10k-labels-idx1-ubyte.gz\n",
      "Downloading https://ossci-datasets.s3.amazonaws.com/mnist/t10k-labels-idx1-ubyte.gz to ./data/MNIST/raw/t10k-labels-idx1-ubyte.gz\n"
     ]
    },
    {
     "name": "stderr",
     "output_type": "stream",
     "text": [
      "100%|██████████| 4542/4542 [00:00<00:00, 2159189.48it/s]"
     ]
    },
    {
     "name": "stdout",
     "output_type": "stream",
     "text": [
      "Extracting ./data/MNIST/raw/t10k-labels-idx1-ubyte.gz to ./data/MNIST/raw\n",
      "\n"
     ]
    },
    {
     "name": "stderr",
     "output_type": "stream",
     "text": [
      "\n"
     ]
    }
   ],
   "source": [
    "import torch\n",
    "import torch.nn as nn\n",
    "import torch.optim as optim\n",
    "from torchvision import datasets, transforms\n",
    "from torch.utils.data import DataLoader\n",
    "\n",
    "# Load and preprocess data\n",
    "transform = transforms.ToTensor()\n",
    "train_dataset = datasets.MNIST(root='./data', train=True, transform=transform, download=True)\n",
    "test_dataset = datasets.MNIST(root='./data', train=False, transform=transform)\n",
    "\n",
    "train_loader = DataLoader(train_dataset, batch_size=64, shuffle=True)\n",
    "test_loader = DataLoader(test_dataset, batch_size=64, shuffle=False)\n",
    "\n",
    "# Define the model\n",
    "class NeuralNetwork(nn.Module):\n",
    "    def __init__(self):\n",
    "        super(NeuralNetwork, self).__init__()\n",
    "        self.flatten = nn.Flatten()\n",
    "        self.fc1 = nn.Linear(28 * 28, 128)\n",
    "        self.relu = nn.ReLU()\n",
    "        self.fc2 = nn.Linear(128, 10)\n",
    "        self.softmax = nn.Softmax(dim=1)\n",
    "\n",
    "    def forward(self, x):\n",
    "        x = self.flatten(x)\n",
    "        x = self.relu(self.fc1(x))\n",
    "        x = self.softmax(self.fc2(x))\n",
    "        return x"
   ]
  },
  {
   "cell_type": "code",
   "execution_count": 10,
   "id": "6c46f672",
   "metadata": {
    "execution": {
     "iopub.execute_input": "2024-12-08T15:07:55.093400Z",
     "iopub.status.busy": "2024-12-08T15:07:55.092517Z",
     "iopub.status.idle": "2024-12-08T15:07:55.110553Z",
     "shell.execute_reply": "2024-12-08T15:07:55.109468Z"
    },
    "papermill": {
     "duration": 0.051898,
     "end_time": "2024-12-08T15:07:55.113036",
     "exception": false,
     "start_time": "2024-12-08T15:07:55.061138",
     "status": "completed"
    },
    "tags": []
   },
   "outputs": [],
   "source": [
    "model = NeuralNetwork()\n",
    "\n",
    "# Define loss and optimizer\n",
    "criterion = nn.CrossEntropyLoss()\n",
    "optimizer = optim.Adam(model.parameters(), lr=0.001)\n"
   ]
  },
  {
   "cell_type": "code",
   "execution_count": 11,
   "id": "1f870929",
   "metadata": {
    "execution": {
     "iopub.execute_input": "2024-12-08T15:07:55.173272Z",
     "iopub.status.busy": "2024-12-08T15:07:55.172860Z",
     "iopub.status.idle": "2024-12-08T15:08:38.541715Z",
     "shell.execute_reply": "2024-12-08T15:08:38.540672Z"
    },
    "papermill": {
     "duration": 43.430753,
     "end_time": "2024-12-08T15:08:38.573490",
     "exception": false,
     "start_time": "2024-12-08T15:07:55.142737",
     "status": "completed"
    },
    "tags": []
   },
   "outputs": [
    {
     "name": "stdout",
     "output_type": "stream",
     "text": [
      "Accuracy: 96.5%\n"
     ]
    }
   ],
   "source": [
    "# Training loop\n",
    "for epoch in range(5):\n",
    "    for images, labels in train_loader:\n",
    "        # Forward pass\n",
    "        outputs = model(images)\n",
    "        loss = criterion(outputs, labels)\n",
    "\n",
    "        # Backward pass\n",
    "        optimizer.zero_grad()\n",
    "        loss.backward()\n",
    "        optimizer.step()\n",
    "\n",
    "# Evaluate the model\n",
    "correct = 0\n",
    "total = 0\n",
    "with torch.no_grad():\n",
    "    for images, labels in test_loader:\n",
    "        outputs = model(images)\n",
    "        _, predicted = torch.max(outputs, 1)\n",
    "        total += labels.size(0)\n",
    "        correct += (predicted == labels).sum().item()\n",
    "\n",
    "print(f\"Accuracy: {100 * correct / total}%\")"
   ]
  },
  {
   "cell_type": "code",
   "execution_count": null,
   "id": "41fe3ae4",
   "metadata": {
    "papermill": {
     "duration": 0.041112,
     "end_time": "2024-12-08T15:08:38.643554",
     "exception": false,
     "start_time": "2024-12-08T15:08:38.602442",
     "status": "completed"
    },
    "tags": []
   },
   "outputs": [],
   "source": []
  }
 ],
 "metadata": {
  "kaggle": {
   "accelerator": "none",
   "dataSources": [],
   "dockerImageVersionId": 30786,
   "isGpuEnabled": false,
   "isInternetEnabled": true,
   "language": "python",
   "sourceType": "notebook"
  },
  "kernelspec": {
   "display_name": "Python 3",
   "language": "python",
   "name": "python3"
  },
  "language_info": {
   "codemirror_mode": {
    "name": "ipython",
    "version": 3
   },
   "file_extension": ".py",
   "mimetype": "text/x-python",
   "name": "python",
   "nbconvert_exporter": "python",
   "pygments_lexer": "ipython3",
   "version": "3.10.14"
  },
  "papermill": {
   "default_parameters": {},
   "duration": 99.574439,
   "end_time": "2024-12-08T15:08:41.946461",
   "environment_variables": {},
   "exception": null,
   "input_path": "__notebook__.ipynb",
   "output_path": "__notebook__.ipynb",
   "parameters": {},
   "start_time": "2024-12-08T15:07:02.372022",
   "version": "2.6.0"
  }
 },
 "nbformat": 4,
 "nbformat_minor": 5
}

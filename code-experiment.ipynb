{
 "cells": [
  {
   "cell_type": "markdown",
   "id": "71113e69",
   "metadata": {
    "papermill": {
     "duration": 0.00332,
     "end_time": "2025-01-29T04:42:54.918688",
     "exception": false,
     "start_time": "2025-01-29T04:42:54.915368",
     "status": "completed"
    },
    "tags": []
   },
   "source": [
    "# Scikit-learn\n"
   ]
  },
  {
   "cell_type": "code",
   "execution_count": 1,
   "id": "be6be4bb",
   "metadata": {
    "execution": {
     "iopub.execute_input": "2025-01-29T04:42:54.925518Z",
     "iopub.status.busy": "2025-01-29T04:42:54.924983Z",
     "iopub.status.idle": "2025-01-29T04:42:56.187979Z",
     "shell.execute_reply": "2025-01-29T04:42:56.187334Z"
    },
    "papermill": {
     "duration": 1.268425,
     "end_time": "2025-01-29T04:42:56.189901",
     "exception": false,
     "start_time": "2025-01-29T04:42:54.921476",
     "status": "completed"
    },
    "tags": []
   },
   "outputs": [],
   "source": [
    "from sklearn.datasets import load_iris\n",
    "from sklearn.model_selection import train_test_split\n",
    "from sklearn.linear_model import LinearRegression\n",
    "from sklearn.preprocessing import StandardScaler\n",
    "from sklearn.metrics import accuracy_score"
   ]
  },
  {
   "cell_type": "code",
   "execution_count": 2,
   "id": "eb985567",
   "metadata": {
    "execution": {
     "iopub.execute_input": "2025-01-29T04:42:56.197304Z",
     "iopub.status.busy": "2025-01-29T04:42:56.196572Z",
     "iopub.status.idle": "2025-01-29T04:42:56.208627Z",
     "shell.execute_reply": "2025-01-29T04:42:56.208038Z"
    },
    "papermill": {
     "duration": 0.017318,
     "end_time": "2025-01-29T04:42:56.210272",
     "exception": false,
     "start_time": "2025-01-29T04:42:56.192954",
     "status": "completed"
    },
    "tags": []
   },
   "outputs": [],
   "source": [
    "data = load_iris()\n",
    "\n",
    "x, y = data.data, data.target\n",
    "\n",
    "x_train, x_test, y_train, y_test = train_test_split(x, y, test_size = 0.2, random_state = 42) "
   ]
  },
  {
   "cell_type": "code",
   "execution_count": 3,
   "id": "dda78f94",
   "metadata": {
    "execution": {
     "iopub.execute_input": "2025-01-29T04:42:56.216994Z",
     "iopub.status.busy": "2025-01-29T04:42:56.216757Z",
     "iopub.status.idle": "2025-01-29T04:42:56.223773Z",
     "shell.execute_reply": "2025-01-29T04:42:56.223009Z"
    },
    "papermill": {
     "duration": 0.012304,
     "end_time": "2025-01-29T04:42:56.225477",
     "exception": false,
     "start_time": "2025-01-29T04:42:56.213173",
     "status": "completed"
    },
    "tags": []
   },
   "outputs": [],
   "source": [
    "scale = StandardScaler()\n",
    "\n",
    "x_train_scale = scale.fit_transform(x_train)\n",
    "\n",
    "x_test_scale = scale.transform(x_test)"
   ]
  },
  {
   "cell_type": "markdown",
   "id": "ca6f98f8",
   "metadata": {
    "papermill": {
     "duration": 0.002488,
     "end_time": "2025-01-29T04:42:56.231734",
     "exception": false,
     "start_time": "2025-01-29T04:42:56.229246",
     "status": "completed"
    },
    "tags": []
   },
   "source": [
    "# Pipeline"
   ]
  },
  {
   "cell_type": "code",
   "execution_count": 4,
   "id": "6b33e2f7",
   "metadata": {
    "execution": {
     "iopub.execute_input": "2025-01-29T04:42:56.237950Z",
     "iopub.status.busy": "2025-01-29T04:42:56.237711Z",
     "iopub.status.idle": "2025-01-29T04:42:56.242265Z",
     "shell.execute_reply": "2025-01-29T04:42:56.241690Z"
    },
    "papermill": {
     "duration": 0.009402,
     "end_time": "2025-01-29T04:42:56.243764",
     "exception": false,
     "start_time": "2025-01-29T04:42:56.234362",
     "status": "completed"
    },
    "tags": []
   },
   "outputs": [],
   "source": [
    "from sklearn.pipeline import Pipeline\n",
    "from sklearn.linear_model import LogisticRegression"
   ]
  },
  {
   "cell_type": "code",
   "execution_count": 5,
   "id": "d14c7f81",
   "metadata": {
    "execution": {
     "iopub.execute_input": "2025-01-29T04:42:56.250586Z",
     "iopub.status.busy": "2025-01-29T04:42:56.250004Z",
     "iopub.status.idle": "2025-01-29T04:42:56.281467Z",
     "shell.execute_reply": "2025-01-29T04:42:56.280610Z"
    },
    "papermill": {
     "duration": 0.036561,
     "end_time": "2025-01-29T04:42:56.283182",
     "exception": false,
     "start_time": "2025-01-29T04:42:56.246621",
     "status": "completed"
    },
    "tags": []
   },
   "outputs": [
    {
     "name": "stdout",
     "output_type": "stream",
     "text": [
      "Accuarcy:1.00\n"
     ]
    }
   ],
   "source": [
    "pipeline = Pipeline([\n",
    "        ('scaler', StandardScaler()),\n",
    "        ('classifier', LogisticRegression())\n",
    "])\n",
    "\n",
    "#train model\n",
    "pipeline.fit(x_train, y_train)\n",
    "\n",
    "#make predictions\n",
    "y_pred = pipeline.predict(x_test)\n",
    "\n",
    "#evaluate\n",
    "print(f\"Accuarcy:{pipeline.score(x_test, y_test):.2f}\")\n"
   ]
  },
  {
   "cell_type": "markdown",
   "id": "d23d087e",
   "metadata": {
    "papermill": {
     "duration": 0.0027,
     "end_time": "2025-01-29T04:42:56.288927",
     "exception": false,
     "start_time": "2025-01-29T04:42:56.286227",
     "status": "completed"
    },
    "tags": []
   },
   "source": [
    "# Keras"
   ]
  },
  {
   "cell_type": "code",
   "execution_count": 6,
   "id": "b3e10c79",
   "metadata": {
    "execution": {
     "iopub.execute_input": "2025-01-29T04:42:56.295628Z",
     "iopub.status.busy": "2025-01-29T04:42:56.295365Z",
     "iopub.status.idle": "2025-01-29T04:43:07.794186Z",
     "shell.execute_reply": "2025-01-29T04:43:07.793549Z"
    },
    "papermill": {
     "duration": 11.504187,
     "end_time": "2025-01-29T04:43:07.796107",
     "exception": false,
     "start_time": "2025-01-29T04:42:56.291920",
     "status": "completed"
    },
    "tags": []
   },
   "outputs": [],
   "source": [
    "import tensorflow as tf\n",
    "from tensorflow.keras import Sequential\n",
    "from tensorflow.keras.layers import Dense, Flatten\n",
    "from tensorflow.keras.datasets import mnist"
   ]
  },
  {
   "cell_type": "code",
   "execution_count": 7,
   "id": "9d06b4e7",
   "metadata": {
    "execution": {
     "iopub.execute_input": "2025-01-29T04:43:07.804087Z",
     "iopub.status.busy": "2025-01-29T04:43:07.803108Z",
     "iopub.status.idle": "2025-01-29T04:43:08.326990Z",
     "shell.execute_reply": "2025-01-29T04:43:08.326316Z"
    },
    "papermill": {
     "duration": 0.529744,
     "end_time": "2025-01-29T04:43:08.329033",
     "exception": false,
     "start_time": "2025-01-29T04:43:07.799289",
     "status": "completed"
    },
    "tags": []
   },
   "outputs": [
    {
     "name": "stdout",
     "output_type": "stream",
     "text": [
      "Downloading data from https://storage.googleapis.com/tensorflow/tf-keras-datasets/mnist.npz\n",
      "\u001b[1m11490434/11490434\u001b[0m \u001b[32m━━━━━━━━━━━━━━━━━━━━\u001b[0m\u001b[37m\u001b[0m \u001b[1m0s\u001b[0m 0us/step\n"
     ]
    }
   ],
   "source": [
    "#load data \n",
    "(x_train, y_train),(x_test, y_test) = mnist.load_data()\n",
    "\n",
    "#normalize\n",
    "(x_train, x_test) = x_train/255.0, x_test/255.0"
   ]
  },
  {
   "cell_type": "code",
   "execution_count": 8,
   "id": "7156aeec",
   "metadata": {
    "execution": {
     "iopub.execute_input": "2025-01-29T04:43:08.337144Z",
     "iopub.status.busy": "2025-01-29T04:43:08.336823Z",
     "iopub.status.idle": "2025-01-29T04:43:24.137435Z",
     "shell.execute_reply": "2025-01-29T04:43:24.136588Z"
    },
    "papermill": {
     "duration": 15.806327,
     "end_time": "2025-01-29T04:43:24.139047",
     "exception": false,
     "start_time": "2025-01-29T04:43:08.332720",
     "status": "completed"
    },
    "tags": []
   },
   "outputs": [
    {
     "name": "stderr",
     "output_type": "stream",
     "text": [
      "/opt/conda/lib/python3.10/site-packages/keras/src/layers/reshaping/flatten.py:37: UserWarning: Do not pass an `input_shape`/`input_dim` argument to a layer. When using Sequential models, prefer using an `Input(shape)` object as the first layer in the model instead.\n",
      "  super().__init__(**kwargs)\n"
     ]
    },
    {
     "name": "stdout",
     "output_type": "stream",
     "text": [
      "Epoch 1/5\n"
     ]
    },
    {
     "name": "stderr",
     "output_type": "stream",
     "text": [
      "WARNING: All log messages before absl::InitializeLog() is called are written to STDERR\n",
      "I0000 00:00:1738125790.428160      69 service.cc:145] XLA service 0x7e6e54008480 initialized for platform CUDA (this does not guarantee that XLA will be used). Devices:\n",
      "I0000 00:00:1738125790.428212      69 service.cc:153]   StreamExecutor device (0): Tesla T4, Compute Capability 7.5\n",
      "I0000 00:00:1738125790.428216      69 service.cc:153]   StreamExecutor device (1): Tesla T4, Compute Capability 7.5\n"
     ]
    },
    {
     "name": "stdout",
     "output_type": "stream",
     "text": [
      "\u001b[1m 125/1875\u001b[0m \u001b[32m━\u001b[0m\u001b[37m━━━━━━━━━━━━━━━━━━━\u001b[0m \u001b[1m2s\u001b[0m 1ms/step - accuracy: 0.6545 - loss: 1.2258"
     ]
    },
    {
     "name": "stderr",
     "output_type": "stream",
     "text": [
      "I0000 00:00:1738125791.561306      69 device_compiler.h:188] Compiled cluster using XLA!  This line is logged at most once for the lifetime of the process.\n"
     ]
    },
    {
     "name": "stdout",
     "output_type": "stream",
     "text": [
      "\u001b[1m1875/1875\u001b[0m \u001b[32m━━━━━━━━━━━━━━━━━━━━\u001b[0m\u001b[37m\u001b[0m \u001b[1m4s\u001b[0m 1ms/step - accuracy: 0.8771 - loss: 0.4322\n",
      "Epoch 2/5\n",
      "\u001b[1m1875/1875\u001b[0m \u001b[32m━━━━━━━━━━━━━━━━━━━━\u001b[0m\u001b[37m\u001b[0m \u001b[1m2s\u001b[0m 1ms/step - accuracy: 0.9651 - loss: 0.1226\n",
      "Epoch 3/5\n",
      "\u001b[1m1875/1875\u001b[0m \u001b[32m━━━━━━━━━━━━━━━━━━━━\u001b[0m\u001b[37m\u001b[0m \u001b[1m2s\u001b[0m 1ms/step - accuracy: 0.9758 - loss: 0.0786\n",
      "Epoch 4/5\n",
      "\u001b[1m1875/1875\u001b[0m \u001b[32m━━━━━━━━━━━━━━━━━━━━\u001b[0m\u001b[37m\u001b[0m \u001b[1m2s\u001b[0m 1ms/step - accuracy: 0.9831 - loss: 0.0561\n",
      "Epoch 5/5\n",
      "\u001b[1m1875/1875\u001b[0m \u001b[32m━━━━━━━━━━━━━━━━━━━━\u001b[0m\u001b[37m\u001b[0m \u001b[1m2s\u001b[0m 1ms/step - accuracy: 0.9875 - loss: 0.0399\n",
      "\u001b[1m313/313\u001b[0m \u001b[32m━━━━━━━━━━━━━━━━━━━━\u001b[0m\u001b[37m\u001b[0m \u001b[1m1s\u001b[0m 2ms/step - accuracy: 0.9700 - loss: 0.0931\n"
     ]
    },
    {
     "data": {
      "text/plain": [
       "[0.07537835091352463, 0.9764999747276306]"
      ]
     },
     "execution_count": 8,
     "metadata": {},
     "output_type": "execute_result"
    }
   ],
   "source": [
    "# Build the model\n",
    "model = Sequential([\n",
    "    Flatten(input_shape=(28, 28)),\n",
    "    Dense(128, activation='relu'),\n",
    "    Dense(10, activation='softmax')\n",
    "])\n",
    "\n",
    "# Compile the model\n",
    "model.compile(optimizer='adam',\n",
    "              loss ='sparse_categorical_crossentropy',\n",
    "              metrics=['accuracy'])\n",
    "\n",
    "# Train the model\n",
    "model.fit(x_train, y_train, epochs=5)\n",
    "\n",
    "# Evaluate the model\n",
    "model.evaluate(x_test, y_test)"
   ]
  },
  {
   "cell_type": "markdown",
   "id": "caa3865a",
   "metadata": {
    "papermill": {
     "duration": 0.014038,
     "end_time": "2025-01-29T04:43:24.169039",
     "exception": false,
     "start_time": "2025-01-29T04:43:24.155001",
     "status": "completed"
    },
    "tags": []
   },
   "source": [
    "# Tensorflow\n"
   ]
  },
  {
   "cell_type": "code",
   "execution_count": 9,
   "id": "5854d046",
   "metadata": {
    "execution": {
     "iopub.execute_input": "2025-01-29T04:43:24.198531Z",
     "iopub.status.busy": "2025-01-29T04:43:24.197623Z",
     "iopub.status.idle": "2025-01-29T04:43:24.582419Z",
     "shell.execute_reply": "2025-01-29T04:43:24.581696Z"
    },
    "papermill": {
     "duration": 0.401369,
     "end_time": "2025-01-29T04:43:24.584406",
     "exception": false,
     "start_time": "2025-01-29T04:43:24.183037",
     "status": "completed"
    },
    "tags": []
   },
   "outputs": [],
   "source": [
    "import tensorflow as tf\n",
    "from tensorflow.keras.datasets import mnist\n",
    "\n",
    "(x_train, y_train), (x_test, y_test) = mnist.load_data()\n",
    "x_train, x_test = x_train/255.0, x_test/255.0"
   ]
  },
  {
   "cell_type": "code",
   "execution_count": 10,
   "id": "dd0b6e27",
   "metadata": {
    "execution": {
     "iopub.execute_input": "2025-01-29T04:43:24.614526Z",
     "iopub.status.busy": "2025-01-29T04:43:24.614257Z",
     "iopub.status.idle": "2025-01-29T04:43:24.618839Z",
     "shell.execute_reply": "2025-01-29T04:43:24.618126Z"
    },
    "papermill": {
     "duration": 0.021118,
     "end_time": "2025-01-29T04:43:24.620408",
     "exception": false,
     "start_time": "2025-01-29T04:43:24.599290",
     "status": "completed"
    },
    "tags": []
   },
   "outputs": [],
   "source": [
    "class NeuralNetwork(tf.keras.Model):\n",
    "    def __init__(self):\n",
    "        super().__init()\n",
    "        self.flatten = tf.keras.layers.flatten()\n",
    "        self.dense1 = tf.keras.layers.dense(128, activation = 'relu')\n",
    "        self.dense2 = tf.keras.layers.dense(10, activation = 'softmax')"
   ]
  },
  {
   "cell_type": "markdown",
   "id": "58813027",
   "metadata": {
    "papermill": {
     "duration": 0.013834,
     "end_time": "2025-01-29T04:43:24.648184",
     "exception": false,
     "start_time": "2025-01-29T04:43:24.634350",
     "status": "completed"
    },
    "tags": []
   },
   "source": [
    "# PyTorch"
   ]
  },
  {
   "cell_type": "code",
   "execution_count": 11,
   "id": "3b216782",
   "metadata": {
    "execution": {
     "iopub.execute_input": "2025-01-29T04:43:24.676840Z",
     "iopub.status.busy": "2025-01-29T04:43:24.676616Z",
     "iopub.status.idle": "2025-01-29T04:43:31.822934Z",
     "shell.execute_reply": "2025-01-29T04:43:31.821860Z"
    },
    "papermill": {
     "duration": 7.163002,
     "end_time": "2025-01-29T04:43:31.825069",
     "exception": false,
     "start_time": "2025-01-29T04:43:24.662067",
     "status": "completed"
    },
    "tags": []
   },
   "outputs": [
    {
     "name": "stdout",
     "output_type": "stream",
     "text": [
      "Downloading http://yann.lecun.com/exdb/mnist/train-images-idx3-ubyte.gz\n",
      "Failed to download (trying next):\n",
      "<urlopen error [Errno 111] Connection refused>\n",
      "\n",
      "Downloading https://ossci-datasets.s3.amazonaws.com/mnist/train-images-idx3-ubyte.gz\n",
      "Downloading https://ossci-datasets.s3.amazonaws.com/mnist/train-images-idx3-ubyte.gz to ./data/MNIST/raw/train-images-idx3-ubyte.gz\n"
     ]
    },
    {
     "name": "stderr",
     "output_type": "stream",
     "text": [
      "100%|██████████| 9912422/9912422 [00:00<00:00, 43450831.89it/s]\n"
     ]
    },
    {
     "name": "stdout",
     "output_type": "stream",
     "text": [
      "Extracting ./data/MNIST/raw/train-images-idx3-ubyte.gz to ./data/MNIST/raw\n",
      "\n",
      "Downloading http://yann.lecun.com/exdb/mnist/train-labels-idx1-ubyte.gz\n",
      "Failed to download (trying next):\n",
      "<urlopen error [Errno 111] Connection refused>\n",
      "\n",
      "Downloading https://ossci-datasets.s3.amazonaws.com/mnist/train-labels-idx1-ubyte.gz\n",
      "Downloading https://ossci-datasets.s3.amazonaws.com/mnist/train-labels-idx1-ubyte.gz to ./data/MNIST/raw/train-labels-idx1-ubyte.gz\n"
     ]
    },
    {
     "name": "stderr",
     "output_type": "stream",
     "text": [
      "100%|██████████| 28881/28881 [00:00<00:00, 1125869.66it/s]\n"
     ]
    },
    {
     "name": "stdout",
     "output_type": "stream",
     "text": [
      "Extracting ./data/MNIST/raw/train-labels-idx1-ubyte.gz to ./data/MNIST/raw\n",
      "\n",
      "Downloading http://yann.lecun.com/exdb/mnist/t10k-images-idx3-ubyte.gz\n",
      "Failed to download (trying next):\n",
      "<urlopen error [Errno 111] Connection refused>\n",
      "\n",
      "Downloading https://ossci-datasets.s3.amazonaws.com/mnist/t10k-images-idx3-ubyte.gz\n",
      "Downloading https://ossci-datasets.s3.amazonaws.com/mnist/t10k-images-idx3-ubyte.gz to ./data/MNIST/raw/t10k-images-idx3-ubyte.gz\n"
     ]
    },
    {
     "name": "stderr",
     "output_type": "stream",
     "text": [
      "100%|██████████| 1648877/1648877 [00:00<00:00, 9306297.72it/s]\n"
     ]
    },
    {
     "name": "stdout",
     "output_type": "stream",
     "text": [
      "Extracting ./data/MNIST/raw/t10k-images-idx3-ubyte.gz to ./data/MNIST/raw\n",
      "\n",
      "Downloading http://yann.lecun.com/exdb/mnist/t10k-labels-idx1-ubyte.gz\n",
      "Failed to download (trying next):\n",
      "<urlopen error [Errno 111] Connection refused>\n",
      "\n",
      "Downloading https://ossci-datasets.s3.amazonaws.com/mnist/t10k-labels-idx1-ubyte.gz\n",
      "Downloading https://ossci-datasets.s3.amazonaws.com/mnist/t10k-labels-idx1-ubyte.gz to ./data/MNIST/raw/t10k-labels-idx1-ubyte.gz\n"
     ]
    },
    {
     "name": "stderr",
     "output_type": "stream",
     "text": [
      "100%|██████████| 4542/4542 [00:00<00:00, 4313978.43it/s]"
     ]
    },
    {
     "name": "stdout",
     "output_type": "stream",
     "text": [
      "Extracting ./data/MNIST/raw/t10k-labels-idx1-ubyte.gz to ./data/MNIST/raw\n",
      "\n"
     ]
    },
    {
     "name": "stderr",
     "output_type": "stream",
     "text": [
      "\n"
     ]
    }
   ],
   "source": [
    "import torch\n",
    "import torch.nn as nn\n",
    "import torch.optim as optim\n",
    "from torchvision import datasets, transforms\n",
    "from torch.utils.data import DataLoader\n",
    "\n",
    "# Load and preprocess data\n",
    "transform = transforms.ToTensor()\n",
    "train_dataset = datasets.MNIST(root='./data', train=True, transform=transform, download=True)\n",
    "test_dataset = datasets.MNIST(root='./data', train=False, transform=transform)\n",
    "\n",
    "train_loader = DataLoader(train_dataset, batch_size=64, shuffle=True)\n",
    "test_loader = DataLoader(test_dataset, batch_size=64, shuffle=False)\n",
    "\n",
    "# Define the model\n",
    "class NeuralNetwork(nn.Module):\n",
    "    def __init__(self):\n",
    "        super(NeuralNetwork, self).__init__()\n",
    "        self.flatten = nn.Flatten()\n",
    "        self.fc1 = nn.Linear(28 * 28, 128)\n",
    "        self.relu = nn.ReLU()\n",
    "        self.fc2 = nn.Linear(128, 10)\n",
    "        self.softmax = nn.Softmax(dim=1)\n",
    "\n",
    "    def forward(self, x):\n",
    "        x = self.flatten(x)\n",
    "        x = self.relu(self.fc1(x))\n",
    "        x = self.softmax(self.fc2(x))\n",
    "        return x"
   ]
  },
  {
   "cell_type": "code",
   "execution_count": 12,
   "id": "70815c08",
   "metadata": {
    "execution": {
     "iopub.execute_input": "2025-01-29T04:43:31.857218Z",
     "iopub.status.busy": "2025-01-29T04:43:31.856408Z",
     "iopub.status.idle": "2025-01-29T04:43:31.872777Z",
     "shell.execute_reply": "2025-01-29T04:43:31.872045Z"
    },
    "papermill": {
     "duration": 0.034015,
     "end_time": "2025-01-29T04:43:31.874373",
     "exception": false,
     "start_time": "2025-01-29T04:43:31.840358",
     "status": "completed"
    },
    "tags": []
   },
   "outputs": [],
   "source": [
    "model = NeuralNetwork()\n",
    "\n",
    "# Define loss and optimizer\n",
    "criterion = nn.CrossEntropyLoss()\n",
    "optimizer = optim.Adam(model.parameters(), lr=0.001)\n"
   ]
  },
  {
   "cell_type": "code",
   "execution_count": 13,
   "id": "0bffa8ad",
   "metadata": {
    "execution": {
     "iopub.execute_input": "2025-01-29T04:43:31.905754Z",
     "iopub.status.busy": "2025-01-29T04:43:31.905434Z",
     "iopub.status.idle": "2025-01-29T04:44:11.307052Z",
     "shell.execute_reply": "2025-01-29T04:44:11.306023Z"
    },
    "papermill": {
     "duration": 39.43466,
     "end_time": "2025-01-29T04:44:11.323997",
     "exception": false,
     "start_time": "2025-01-29T04:43:31.889337",
     "status": "completed"
    },
    "tags": []
   },
   "outputs": [
    {
     "name": "stdout",
     "output_type": "stream",
     "text": [
      "Accuracy: 96.12%\n"
     ]
    }
   ],
   "source": [
    "# Training loop\n",
    "for epoch in range(5):\n",
    "    for images, labels in train_loader:\n",
    "        # Forward pass\n",
    "        outputs = model(images)\n",
    "        loss = criterion(outputs, labels)\n",
    "\n",
    "        # Backward pass\n",
    "        optimizer.zero_grad()\n",
    "        loss.backward()\n",
    "        optimizer.step()\n",
    "\n",
    "# Evaluate the model\n",
    "correct = 0\n",
    "total = 0\n",
    "with torch.no_grad():\n",
    "    for images, labels in test_loader:\n",
    "        outputs = model(images)\n",
    "        _, predicted = torch.max(outputs, 1)\n",
    "        total += labels.size(0)\n",
    "        correct += (predicted == labels).sum().item()\n",
    "\n",
    "print(f\"Accuracy: {100 * correct / total}%\")"
   ]
  },
  {
   "cell_type": "code",
   "execution_count": null,
   "id": "1b3a5615",
   "metadata": {
    "papermill": {
     "duration": 0.014586,
     "end_time": "2025-01-29T04:44:11.353427",
     "exception": false,
     "start_time": "2025-01-29T04:44:11.338841",
     "status": "completed"
    },
    "tags": []
   },
   "outputs": [],
   "source": []
  }
 ],
 "metadata": {
  "kaggle": {
   "accelerator": "nvidiaTeslaT4",
   "dataSources": [],
   "dockerImageVersionId": 30786,
   "isGpuEnabled": true,
   "isInternetEnabled": true,
   "language": "python",
   "sourceType": "notebook"
  },
  "kernelspec": {
   "display_name": "Python 3",
   "language": "python",
   "name": "python3"
  },
  "language_info": {
   "codemirror_mode": {
    "name": "ipython",
    "version": 3
   },
   "file_extension": ".py",
   "mimetype": "text/x-python",
   "name": "python",
   "nbconvert_exporter": "python",
   "pygments_lexer": "ipython3",
   "version": "3.10.14"
  },
  "papermill": {
   "default_parameters": {},
   "duration": 81.698182,
   "end_time": "2025-01-29T04:44:14.176529",
   "environment_variables": {},
   "exception": null,
   "input_path": "__notebook__.ipynb",
   "output_path": "__notebook__.ipynb",
   "parameters": {},
   "start_time": "2025-01-29T04:42:52.478347",
   "version": "2.6.0"
  }
 },
 "nbformat": 4,
 "nbformat_minor": 5
}

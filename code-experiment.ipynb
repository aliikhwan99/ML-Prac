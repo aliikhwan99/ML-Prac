{
 "cells": [
  {
   "cell_type": "markdown",
   "id": "91b6a4bc",
   "metadata": {
    "papermill": {
     "duration": 0.004561,
     "end_time": "2024-12-31T16:01:18.089318",
     "exception": false,
     "start_time": "2024-12-31T16:01:18.084757",
     "status": "completed"
    },
    "tags": []
   },
   "source": [
    "# Scikit-learn\n"
   ]
  },
  {
   "cell_type": "code",
   "execution_count": 1,
   "id": "926c18a5",
   "metadata": {
    "execution": {
     "iopub.execute_input": "2024-12-31T16:01:18.099552Z",
     "iopub.status.busy": "2024-12-31T16:01:18.099011Z",
     "iopub.status.idle": "2024-12-31T16:01:20.040598Z",
     "shell.execute_reply": "2024-12-31T16:01:20.039168Z"
    },
    "papermill": {
     "duration": 1.950275,
     "end_time": "2024-12-31T16:01:20.043523",
     "exception": false,
     "start_time": "2024-12-31T16:01:18.093248",
     "status": "completed"
    },
    "tags": []
   },
   "outputs": [],
   "source": [
    "from sklearn.datasets import load_iris\n",
    "from sklearn.preprocessing import StandardScaler\n",
    "from sklearn.model_selection import train_test_split\n",
    "from sklearn.linear_model import LinearRegression\n",
    "from sklearn.metrics import accuracy_score"
   ]
  },
  {
   "cell_type": "code",
   "execution_count": 2,
   "id": "55e0918e",
   "metadata": {
    "execution": {
     "iopub.execute_input": "2024-12-31T16:01:20.054357Z",
     "iopub.status.busy": "2024-12-31T16:01:20.053862Z",
     "iopub.status.idle": "2024-12-31T16:01:20.072263Z",
     "shell.execute_reply": "2024-12-31T16:01:20.071086Z"
    },
    "papermill": {
     "duration": 0.026293,
     "end_time": "2024-12-31T16:01:20.074790",
     "exception": false,
     "start_time": "2024-12-31T16:01:20.048497",
     "status": "completed"
    },
    "tags": []
   },
   "outputs": [],
   "source": [
    "data = load_iris()\n",
    "\n",
    "x, y = data.data, data.target\n",
    "\n",
    "x_train, x_test, y_train, y_test = train_test_split(x, y, test_size = 0.2, random_state = 42)"
   ]
  },
  {
   "cell_type": "code",
   "execution_count": 3,
   "id": "93cf9e1d",
   "metadata": {
    "execution": {
     "iopub.execute_input": "2024-12-31T16:01:20.084405Z",
     "iopub.status.busy": "2024-12-31T16:01:20.084047Z",
     "iopub.status.idle": "2024-12-31T16:01:20.096354Z",
     "shell.execute_reply": "2024-12-31T16:01:20.095064Z"
    },
    "papermill": {
     "duration": 0.019962,
     "end_time": "2024-12-31T16:01:20.098787",
     "exception": false,
     "start_time": "2024-12-31T16:01:20.078825",
     "status": "completed"
    },
    "tags": []
   },
   "outputs": [],
   "source": [
    "scale = StandardScaler()\n",
    "\n",
    "x_train_scale = scale.fit_transform(x_train)\n",
    "\n",
    "x_test_scale = scale.transform(x_test)"
   ]
  },
  {
   "cell_type": "markdown",
   "id": "dd2aa5cf",
   "metadata": {
    "papermill": {
     "duration": 0.003552,
     "end_time": "2024-12-31T16:01:20.106374",
     "exception": false,
     "start_time": "2024-12-31T16:01:20.102822",
     "status": "completed"
    },
    "tags": []
   },
   "source": [
    "# Pipeline"
   ]
  },
  {
   "cell_type": "code",
   "execution_count": 4,
   "id": "3e9387a9",
   "metadata": {
    "execution": {
     "iopub.execute_input": "2024-12-31T16:01:20.115856Z",
     "iopub.status.busy": "2024-12-31T16:01:20.115414Z",
     "iopub.status.idle": "2024-12-31T16:01:20.124110Z",
     "shell.execute_reply": "2024-12-31T16:01:20.122570Z"
    },
    "papermill": {
     "duration": 0.016568,
     "end_time": "2024-12-31T16:01:20.126736",
     "exception": false,
     "start_time": "2024-12-31T16:01:20.110168",
     "status": "completed"
    },
    "tags": []
   },
   "outputs": [],
   "source": [
    "from sklearn.pipeline import Pipeline\n",
    "from sklearn.linear_model import LogisticRegression"
   ]
  },
  {
   "cell_type": "code",
   "execution_count": 5,
   "id": "21dd0511",
   "metadata": {
    "execution": {
     "iopub.execute_input": "2024-12-31T16:01:20.136543Z",
     "iopub.status.busy": "2024-12-31T16:01:20.136110Z",
     "iopub.status.idle": "2024-12-31T16:01:20.169216Z",
     "shell.execute_reply": "2024-12-31T16:01:20.168066Z"
    },
    "papermill": {
     "duration": 0.041913,
     "end_time": "2024-12-31T16:01:20.172787",
     "exception": false,
     "start_time": "2024-12-31T16:01:20.130874",
     "status": "completed"
    },
    "tags": []
   },
   "outputs": [
    {
     "name": "stdout",
     "output_type": "stream",
     "text": [
      "Accuarcy:1.00\n"
     ]
    }
   ],
   "source": [
    "pipeline = Pipeline([\n",
    "        ('scaler', StandardScaler()),\n",
    "        ('classifier', LogisticRegression())\n",
    "])\n",
    "\n",
    "#train model\n",
    "pipeline.fit(x_train, y_train)\n",
    "\n",
    "#make predictions\n",
    "y_pred = pipeline.predict(x_test)\n",
    "\n",
    "#evaluate\n",
    "print(f\"Accuarcy:{pipeline.score(x_test, y_test):.2f}\")\n"
   ]
  },
  {
   "cell_type": "markdown",
   "id": "c6579a96",
   "metadata": {
    "papermill": {
     "duration": 0.003616,
     "end_time": "2024-12-31T16:01:20.180604",
     "exception": false,
     "start_time": "2024-12-31T16:01:20.176988",
     "status": "completed"
    },
    "tags": []
   },
   "source": [
    "# Keras"
   ]
  },
  {
   "cell_type": "code",
   "execution_count": 6,
   "id": "5d063f9c",
   "metadata": {
    "execution": {
     "iopub.execute_input": "2024-12-31T16:01:20.192474Z",
     "iopub.status.busy": "2024-12-31T16:01:20.191584Z",
     "iopub.status.idle": "2024-12-31T16:01:36.310386Z",
     "shell.execute_reply": "2024-12-31T16:01:36.309124Z"
    },
    "papermill": {
     "duration": 16.127047,
     "end_time": "2024-12-31T16:01:36.312921",
     "exception": false,
     "start_time": "2024-12-31T16:01:20.185874",
     "status": "completed"
    },
    "tags": []
   },
   "outputs": [],
   "source": [
    "import tensorflow as tf\n",
    "from tensorflow.keras import Sequential\n",
    "from tensorflow.keras.layers import Dense, Flatten\n",
    "from tensorflow.keras.datasets import mnist"
   ]
  },
  {
   "cell_type": "code",
   "execution_count": 7,
   "id": "4888df1e",
   "metadata": {
    "execution": {
     "iopub.execute_input": "2024-12-31T16:01:36.322834Z",
     "iopub.status.busy": "2024-12-31T16:01:36.322156Z",
     "iopub.status.idle": "2024-12-31T16:01:38.259706Z",
     "shell.execute_reply": "2024-12-31T16:01:38.258554Z"
    },
    "papermill": {
     "duration": 1.945647,
     "end_time": "2024-12-31T16:01:38.262658",
     "exception": false,
     "start_time": "2024-12-31T16:01:36.317011",
     "status": "completed"
    },
    "tags": []
   },
   "outputs": [
    {
     "name": "stdout",
     "output_type": "stream",
     "text": [
      "Downloading data from https://storage.googleapis.com/tensorflow/tf-keras-datasets/mnist.npz\n",
      "\u001b[1m11490434/11490434\u001b[0m \u001b[32m━━━━━━━━━━━━━━━━━━━━\u001b[0m\u001b[37m\u001b[0m \u001b[1m1s\u001b[0m 0us/step\n"
     ]
    }
   ],
   "source": [
    "#load data \n",
    "(x_train, y_train),(x_test, y_test) = mnist.load_data()\n",
    "\n",
    "#normalize\n",
    "(x_train, x_test) = x_train/255.0, x_test/255.0"
   ]
  },
  {
   "cell_type": "code",
   "execution_count": 8,
   "id": "18afaba1",
   "metadata": {
    "execution": {
     "iopub.execute_input": "2024-12-31T16:01:38.275285Z",
     "iopub.status.busy": "2024-12-31T16:01:38.274878Z",
     "iopub.status.idle": "2024-12-31T16:02:06.985381Z",
     "shell.execute_reply": "2024-12-31T16:02:06.984106Z"
    },
    "papermill": {
     "duration": 28.719604,
     "end_time": "2024-12-31T16:02:06.987893",
     "exception": false,
     "start_time": "2024-12-31T16:01:38.268289",
     "status": "completed"
    },
    "tags": []
   },
   "outputs": [
    {
     "name": "stderr",
     "output_type": "stream",
     "text": [
      "/opt/conda/lib/python3.10/site-packages/keras/src/layers/reshaping/flatten.py:37: UserWarning: Do not pass an `input_shape`/`input_dim` argument to a layer. When using Sequential models, prefer using an `Input(shape)` object as the first layer in the model instead.\n",
      "  super().__init__(**kwargs)\n"
     ]
    },
    {
     "name": "stdout",
     "output_type": "stream",
     "text": [
      "Epoch 1/5\n",
      "\u001b[1m1875/1875\u001b[0m \u001b[32m━━━━━━━━━━━━━━━━━━━━\u001b[0m\u001b[37m\u001b[0m \u001b[1m6s\u001b[0m 3ms/step - accuracy: 0.8766 - loss: 0.4355\n",
      "Epoch 2/5\n",
      "\u001b[1m1875/1875\u001b[0m \u001b[32m━━━━━━━━━━━━━━━━━━━━\u001b[0m\u001b[37m\u001b[0m \u001b[1m5s\u001b[0m 3ms/step - accuracy: 0.9640 - loss: 0.1235\n",
      "Epoch 3/5\n",
      "\u001b[1m1875/1875\u001b[0m \u001b[32m━━━━━━━━━━━━━━━━━━━━\u001b[0m\u001b[37m\u001b[0m \u001b[1m5s\u001b[0m 3ms/step - accuracy: 0.9768 - loss: 0.0773\n",
      "Epoch 4/5\n",
      "\u001b[1m1875/1875\u001b[0m \u001b[32m━━━━━━━━━━━━━━━━━━━━\u001b[0m\u001b[37m\u001b[0m \u001b[1m5s\u001b[0m 3ms/step - accuracy: 0.9819 - loss: 0.0582\n",
      "Epoch 5/5\n",
      "\u001b[1m1875/1875\u001b[0m \u001b[32m━━━━━━━━━━━━━━━━━━━━\u001b[0m\u001b[37m\u001b[0m \u001b[1m5s\u001b[0m 3ms/step - accuracy: 0.9864 - loss: 0.0438\n",
      "\u001b[1m313/313\u001b[0m \u001b[32m━━━━━━━━━━━━━━━━━━━━\u001b[0m\u001b[37m\u001b[0m \u001b[1m1s\u001b[0m 1ms/step - accuracy: 0.9744 - loss: 0.0872\n"
     ]
    },
    {
     "data": {
      "text/plain": [
       "[0.07415760308504105, 0.9781000018119812]"
      ]
     },
     "execution_count": 8,
     "metadata": {},
     "output_type": "execute_result"
    }
   ],
   "source": [
    "# Build the model\n",
    "model = Sequential([\n",
    "    Flatten(input_shape=(28, 28)),\n",
    "    Dense(128, activation='relu'),\n",
    "    Dense(10, activation='softmax')\n",
    "])\n",
    "\n",
    "# Compile the model\n",
    "model.compile(optimizer='adam',\n",
    "              loss ='sparse_categorical_crossentropy',\n",
    "              metrics=['accuracy'])\n",
    "\n",
    "# Train the model\n",
    "model.fit(x_train, y_train, epochs=5)\n",
    "\n",
    "# Evaluate the model\n",
    "model.evaluate(x_test, y_test)"
   ]
  },
  {
   "cell_type": "markdown",
   "id": "11fabb16",
   "metadata": {
    "papermill": {
     "duration": 0.034538,
     "end_time": "2024-12-31T16:02:07.059422",
     "exception": false,
     "start_time": "2024-12-31T16:02:07.024884",
     "status": "completed"
    },
    "tags": []
   },
   "source": [
    "# Tensorflow\n"
   ]
  },
  {
   "cell_type": "code",
   "execution_count": 9,
   "id": "a8ec8e45",
   "metadata": {
    "execution": {
     "iopub.execute_input": "2024-12-31T16:02:07.130005Z",
     "iopub.status.busy": "2024-12-31T16:02:07.129595Z",
     "iopub.status.idle": "2024-12-31T16:06:50.664705Z",
     "shell.execute_reply": "2024-12-31T16:06:50.663463Z"
    },
    "papermill": {
     "duration": 283.608223,
     "end_time": "2024-12-31T16:06:50.701808",
     "exception": false,
     "start_time": "2024-12-31T16:02:07.093585",
     "status": "completed"
    },
    "tags": []
   },
   "outputs": [
    {
     "name": "stdout",
     "output_type": "stream",
     "text": [
      "Accuracy: 97.12%\n"
     ]
    }
   ],
   "source": [
    "import tensorflow as tf\n",
    "from tensorflow.keras.datasets import mnist\n",
    "\n",
    "# Load and preprocess data\n",
    "(x_train, y_train), (x_test, y_test) = mnist.load_data()\n",
    "x_train, x_test = x_train / 255.0, x_test / 255.0\n",
    "\n",
    "# Convert labels to one-hot encoding\n",
    "y_train = tf.one_hot(y_train, depth=10).numpy()\n",
    "y_test = tf.one_hot(y_test, depth=10).numpy()\n",
    "\n",
    "# Define model\n",
    "class NeuralNetwork(tf.keras.Model):\n",
    "    def __init__(self):\n",
    "        super().__init__()\n",
    "        self.flatten = tf.keras.layers.Flatten()\n",
    "        self.dense1 = tf.keras.layers.Dense(128, activation='relu')\n",
    "        self.dense2 = tf.keras.layers.Dense(10, activation='softmax')\n",
    "\n",
    "    def call(self, x):\n",
    "        x = self.flatten(x)\n",
    "        x = self.dense1(x)\n",
    "        return self.dense2(x)\n",
    "\n",
    "model = NeuralNetwork()\n",
    "\n",
    "# Define loss and optimizer\n",
    "loss_fn = tf.keras.losses.CategoricalCrossentropy()\n",
    "optimizer = tf.optimizers.Adam()\n",
    "\n",
    "# Training loop\n",
    "batch_size = 32\n",
    "for epoch in range(5):\n",
    "    for start in range(0, len(x_train), batch_size):\n",
    "        end = start + batch_size\n",
    "        x_batch = x_train[start:end]\n",
    "        y_batch = y_train[start:end]\n",
    "        with tf.GradientTape() as tape:\n",
    "            predictions = model(x_batch)\n",
    "            loss = loss_fn(y_batch, predictions)\n",
    "        gradients = tape.gradient(loss, model.trainable_variables)\n",
    "        optimizer.apply_gradients(zip(gradients, model.trainable_variables))\n",
    "\n",
    "# Evaluate model\n",
    "correct = 0\n",
    "total = len(x_test)\n",
    "for start in range(0, total, batch_size):\n",
    "    end = start + batch_size\n",
    "    predictions = model(x_test[start:end])\n",
    "    correct += tf.reduce_sum(\n",
    "        tf.cast(tf.argmax(predictions, axis=1) == tf.argmax(y_test[start:end], axis=1), tf.int32)\n",
    "    )\n",
    "\n",
    "accuracy = 100 * correct / total\n",
    "print(f\"Accuracy: {accuracy}%\")\n"
   ]
  },
  {
   "cell_type": "markdown",
   "id": "11af6595",
   "metadata": {
    "papermill": {
     "duration": 0.034784,
     "end_time": "2024-12-31T16:06:50.770808",
     "exception": false,
     "start_time": "2024-12-31T16:06:50.736024",
     "status": "completed"
    },
    "tags": []
   },
   "source": [
    "# PyTorch"
   ]
  },
  {
   "cell_type": "code",
   "execution_count": 10,
   "id": "535e5517",
   "metadata": {
    "execution": {
     "iopub.execute_input": "2024-12-31T16:06:50.844312Z",
     "iopub.status.busy": "2024-12-31T16:06:50.843877Z",
     "iopub.status.idle": "2024-12-31T16:07:10.007550Z",
     "shell.execute_reply": "2024-12-31T16:07:10.005107Z"
    },
    "papermill": {
     "duration": 19.205453,
     "end_time": "2024-12-31T16:07:10.011728",
     "exception": false,
     "start_time": "2024-12-31T16:06:50.806275",
     "status": "completed"
    },
    "tags": []
   },
   "outputs": [
    {
     "name": "stdout",
     "output_type": "stream",
     "text": [
      "Downloading http://yann.lecun.com/exdb/mnist/train-images-idx3-ubyte.gz\n",
      "Failed to download (trying next):\n",
      "HTTP Error 403: Forbidden\n",
      "\n",
      "Downloading https://ossci-datasets.s3.amazonaws.com/mnist/train-images-idx3-ubyte.gz\n",
      "Downloading https://ossci-datasets.s3.amazonaws.com/mnist/train-images-idx3-ubyte.gz to ./data/MNIST/raw/train-images-idx3-ubyte.gz\n"
     ]
    },
    {
     "name": "stderr",
     "output_type": "stream",
     "text": [
      "100%|██████████| 9912422/9912422 [00:01<00:00, 5791767.58it/s] \n"
     ]
    },
    {
     "name": "stdout",
     "output_type": "stream",
     "text": [
      "Extracting ./data/MNIST/raw/train-images-idx3-ubyte.gz to ./data/MNIST/raw\n",
      "\n",
      "Downloading http://yann.lecun.com/exdb/mnist/train-labels-idx1-ubyte.gz\n",
      "Failed to download (trying next):\n",
      "HTTP Error 403: Forbidden\n",
      "\n",
      "Downloading https://ossci-datasets.s3.amazonaws.com/mnist/train-labels-idx1-ubyte.gz\n",
      "Downloading https://ossci-datasets.s3.amazonaws.com/mnist/train-labels-idx1-ubyte.gz to ./data/MNIST/raw/train-labels-idx1-ubyte.gz\n"
     ]
    },
    {
     "name": "stderr",
     "output_type": "stream",
     "text": [
      "100%|██████████| 28881/28881 [00:00<00:00, 153917.90it/s]\n"
     ]
    },
    {
     "name": "stdout",
     "output_type": "stream",
     "text": [
      "Extracting ./data/MNIST/raw/train-labels-idx1-ubyte.gz to ./data/MNIST/raw\n",
      "\n",
      "Downloading http://yann.lecun.com/exdb/mnist/t10k-images-idx3-ubyte.gz\n",
      "Failed to download (trying next):\n",
      "HTTP Error 403: Forbidden\n",
      "\n",
      "Downloading https://ossci-datasets.s3.amazonaws.com/mnist/t10k-images-idx3-ubyte.gz\n",
      "Downloading https://ossci-datasets.s3.amazonaws.com/mnist/t10k-images-idx3-ubyte.gz to ./data/MNIST/raw/t10k-images-idx3-ubyte.gz\n"
     ]
    },
    {
     "name": "stderr",
     "output_type": "stream",
     "text": [
      "100%|██████████| 1648877/1648877 [00:01<00:00, 1450327.27it/s]\n"
     ]
    },
    {
     "name": "stdout",
     "output_type": "stream",
     "text": [
      "Extracting ./data/MNIST/raw/t10k-images-idx3-ubyte.gz to ./data/MNIST/raw\n",
      "\n",
      "Downloading http://yann.lecun.com/exdb/mnist/t10k-labels-idx1-ubyte.gz\n",
      "Failed to download (trying next):\n",
      "HTTP Error 403: Forbidden\n",
      "\n",
      "Downloading https://ossci-datasets.s3.amazonaws.com/mnist/t10k-labels-idx1-ubyte.gz\n",
      "Downloading https://ossci-datasets.s3.amazonaws.com/mnist/t10k-labels-idx1-ubyte.gz to ./data/MNIST/raw/t10k-labels-idx1-ubyte.gz\n"
     ]
    },
    {
     "name": "stderr",
     "output_type": "stream",
     "text": [
      "100%|██████████| 4542/4542 [00:00<00:00, 1749199.23it/s]"
     ]
    },
    {
     "name": "stdout",
     "output_type": "stream",
     "text": [
      "Extracting ./data/MNIST/raw/t10k-labels-idx1-ubyte.gz to ./data/MNIST/raw\n",
      "\n"
     ]
    },
    {
     "name": "stderr",
     "output_type": "stream",
     "text": [
      "\n"
     ]
    }
   ],
   "source": [
    "import torch\n",
    "import torch.nn as nn\n",
    "import torch.optim as optim\n",
    "from torchvision import datasets, transforms\n",
    "from torch.utils.data import DataLoader\n",
    "\n",
    "# Load and preprocess data\n",
    "transform = transforms.ToTensor()\n",
    "train_dataset = datasets.MNIST(root='./data', train=True, transform=transform, download=True)\n",
    "test_dataset = datasets.MNIST(root='./data', train=False, transform=transform)\n",
    "\n",
    "train_loader = DataLoader(train_dataset, batch_size=64, shuffle=True)\n",
    "test_loader = DataLoader(test_dataset, batch_size=64, shuffle=False)\n",
    "\n",
    "# Define the model\n",
    "class NeuralNetwork(nn.Module):\n",
    "    def __init__(self):\n",
    "        super(NeuralNetwork, self).__init__()\n",
    "        self.flatten = nn.Flatten()\n",
    "        self.fc1 = nn.Linear(28 * 28, 128)\n",
    "        self.relu = nn.ReLU()\n",
    "        self.fc2 = nn.Linear(128, 10)\n",
    "        self.softmax = nn.Softmax(dim=1)\n",
    "\n",
    "    def forward(self, x):\n",
    "        x = self.flatten(x)\n",
    "        x = self.relu(self.fc1(x))\n",
    "        x = self.softmax(self.fc2(x))\n",
    "        return x"
   ]
  },
  {
   "cell_type": "code",
   "execution_count": 11,
   "id": "1364a75e",
   "metadata": {
    "execution": {
     "iopub.execute_input": "2024-12-31T16:07:10.092891Z",
     "iopub.status.busy": "2024-12-31T16:07:10.091915Z",
     "iopub.status.idle": "2024-12-31T16:07:10.114056Z",
     "shell.execute_reply": "2024-12-31T16:07:10.112895Z"
    },
    "papermill": {
     "duration": 0.06463,
     "end_time": "2024-12-31T16:07:10.116698",
     "exception": false,
     "start_time": "2024-12-31T16:07:10.052068",
     "status": "completed"
    },
    "tags": []
   },
   "outputs": [],
   "source": [
    "model = NeuralNetwork()\n",
    "\n",
    "# Define loss and optimizer\n",
    "criterion = nn.CrossEntropyLoss()\n",
    "optimizer = optim.Adam(model.parameters(), lr=0.001)\n"
   ]
  },
  {
   "cell_type": "code",
   "execution_count": 12,
   "id": "ffad5ee4",
   "metadata": {
    "execution": {
     "iopub.execute_input": "2024-12-31T16:07:10.195448Z",
     "iopub.status.busy": "2024-12-31T16:07:10.195085Z",
     "iopub.status.idle": "2024-12-31T16:08:00.580923Z",
     "shell.execute_reply": "2024-12-31T16:08:00.579819Z"
    },
    "papermill": {
     "duration": 50.464285,
     "end_time": "2024-12-31T16:08:00.620432",
     "exception": false,
     "start_time": "2024-12-31T16:07:10.156147",
     "status": "completed"
    },
    "tags": []
   },
   "outputs": [
    {
     "name": "stdout",
     "output_type": "stream",
     "text": [
      "Accuracy: 96.39%\n"
     ]
    }
   ],
   "source": [
    "# Training loop\n",
    "for epoch in range(5):\n",
    "    for images, labels in train_loader:\n",
    "        # Forward pass\n",
    "        outputs = model(images)\n",
    "        loss = criterion(outputs, labels)\n",
    "\n",
    "        # Backward pass\n",
    "        optimizer.zero_grad()\n",
    "        loss.backward()\n",
    "        optimizer.step()\n",
    "\n",
    "# Evaluate the model\n",
    "correct = 0\n",
    "total = 0\n",
    "with torch.no_grad():\n",
    "    for images, labels in test_loader:\n",
    "        outputs = model(images)\n",
    "        _, predicted = torch.max(outputs, 1)\n",
    "        total += labels.size(0)\n",
    "        correct += (predicted == labels).sum().item()\n",
    "\n",
    "print(f\"Accuracy: {100 * correct / total}%\")"
   ]
  },
  {
   "cell_type": "code",
   "execution_count": null,
   "id": "24074dc4",
   "metadata": {
    "papermill": {
     "duration": 0.035679,
     "end_time": "2024-12-31T16:08:00.693009",
     "exception": false,
     "start_time": "2024-12-31T16:08:00.657330",
     "status": "completed"
    },
    "tags": []
   },
   "outputs": [],
   "source": []
  }
 ],
 "metadata": {
  "kaggle": {
   "accelerator": "none",
   "dataSources": [],
   "dockerImageVersionId": 30786,
   "isGpuEnabled": false,
   "isInternetEnabled": true,
   "language": "python",
   "sourceType": "notebook"
  },
  "kernelspec": {
   "display_name": "Python 3",
   "language": "python",
   "name": "python3"
  },
  "language_info": {
   "codemirror_mode": {
    "name": "ipython",
    "version": 3
   },
   "file_extension": ".py",
   "mimetype": "text/x-python",
   "name": "python",
   "nbconvert_exporter": "python",
   "pygments_lexer": "ipython3",
   "version": "3.10.14"
  },
  "papermill": {
   "default_parameters": {},
   "duration": 409.200627,
   "end_time": "2024-12-31T16:08:03.808999",
   "environment_variables": {},
   "exception": null,
   "input_path": "__notebook__.ipynb",
   "output_path": "__notebook__.ipynb",
   "parameters": {},
   "start_time": "2024-12-31T16:01:14.608372",
   "version": "2.6.0"
  }
 },
 "nbformat": 4,
 "nbformat_minor": 5
}

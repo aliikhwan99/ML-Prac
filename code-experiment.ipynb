{
 "cells": [
  {
   "cell_type": "markdown",
   "id": "d217f2f9",
   "metadata": {
    "papermill": {
     "duration": 0.004785,
     "end_time": "2025-01-01T02:44:07.665302",
     "exception": false,
     "start_time": "2025-01-01T02:44:07.660517",
     "status": "completed"
    },
    "tags": []
   },
   "source": [
    "# Scikit-learn\n"
   ]
  },
  {
   "cell_type": "code",
   "execution_count": 1,
   "id": "37e156bf",
   "metadata": {
    "execution": {
     "iopub.execute_input": "2025-01-01T02:44:07.675846Z",
     "iopub.status.busy": "2025-01-01T02:44:07.674884Z",
     "iopub.status.idle": "2025-01-01T02:44:09.626560Z",
     "shell.execute_reply": "2025-01-01T02:44:09.625463Z"
    },
    "papermill": {
     "duration": 1.959789,
     "end_time": "2025-01-01T02:44:09.629187",
     "exception": false,
     "start_time": "2025-01-01T02:44:07.669398",
     "status": "completed"
    },
    "tags": []
   },
   "outputs": [],
   "source": [
    "from sklearn.datasets import load_iris\n",
    "from sklearn.preprocessing import StandardScaler\n",
    "from sklearn.model_selection import train_test_split\n",
    "from sklearn.linear_model import LinearRegression\n",
    "from sklearn.ensemble import RandomForestClassifier\n",
    "from sklearn.metrics import accuracy_score"
   ]
  },
  {
   "cell_type": "code",
   "execution_count": 2,
   "id": "129198ca",
   "metadata": {
    "execution": {
     "iopub.execute_input": "2025-01-01T02:44:09.640287Z",
     "iopub.status.busy": "2025-01-01T02:44:09.639712Z",
     "iopub.status.idle": "2025-01-01T02:44:09.655590Z",
     "shell.execute_reply": "2025-01-01T02:44:09.654521Z"
    },
    "papermill": {
     "duration": 0.024429,
     "end_time": "2025-01-01T02:44:09.658216",
     "exception": false,
     "start_time": "2025-01-01T02:44:09.633787",
     "status": "completed"
    },
    "tags": []
   },
   "outputs": [],
   "source": [
    "data = load_iris()\n",
    "\n",
    "x, y = data.data, data.target\n",
    "\n",
    "x_train, x_test, y_train, y_test = train_test_split(x, y, test_size = 0.2, random_state = 42)"
   ]
  },
  {
   "cell_type": "code",
   "execution_count": 3,
   "id": "d98150c8",
   "metadata": {
    "execution": {
     "iopub.execute_input": "2025-01-01T02:44:09.668389Z",
     "iopub.status.busy": "2025-01-01T02:44:09.667996Z",
     "iopub.status.idle": "2025-01-01T02:44:09.678131Z",
     "shell.execute_reply": "2025-01-01T02:44:09.677013Z"
    },
    "papermill": {
     "duration": 0.017707,
     "end_time": "2025-01-01T02:44:09.680416",
     "exception": false,
     "start_time": "2025-01-01T02:44:09.662709",
     "status": "completed"
    },
    "tags": []
   },
   "outputs": [],
   "source": [
    "scaler = StandardScaler()\n",
    "\n",
    "x_train_scale = scaler.fit_transform(x_train)\n",
    "\n",
    "x_test_scale = scaler.transform(x_test)\n"
   ]
  },
  {
   "cell_type": "markdown",
   "id": "41d40ca5",
   "metadata": {
    "papermill": {
     "duration": 0.003774,
     "end_time": "2025-01-01T02:44:09.688327",
     "exception": false,
     "start_time": "2025-01-01T02:44:09.684553",
     "status": "completed"
    },
    "tags": []
   },
   "source": [
    "# Pipeline"
   ]
  },
  {
   "cell_type": "code",
   "execution_count": 4,
   "id": "338737be",
   "metadata": {
    "execution": {
     "iopub.execute_input": "2025-01-01T02:44:09.698409Z",
     "iopub.status.busy": "2025-01-01T02:44:09.697973Z",
     "iopub.status.idle": "2025-01-01T02:44:09.706136Z",
     "shell.execute_reply": "2025-01-01T02:44:09.704738Z"
    },
    "papermill": {
     "duration": 0.016388,
     "end_time": "2025-01-01T02:44:09.708932",
     "exception": false,
     "start_time": "2025-01-01T02:44:09.692544",
     "status": "completed"
    },
    "tags": []
   },
   "outputs": [],
   "source": [
    "from sklearn.pipeline import Pipeline\n",
    "from sklearn.linear_model import LogisticRegression"
   ]
  },
  {
   "cell_type": "code",
   "execution_count": 5,
   "id": "03337a59",
   "metadata": {
    "execution": {
     "iopub.execute_input": "2025-01-01T02:44:09.718903Z",
     "iopub.status.busy": "2025-01-01T02:44:09.718459Z",
     "iopub.status.idle": "2025-01-01T02:44:09.748770Z",
     "shell.execute_reply": "2025-01-01T02:44:09.747582Z"
    },
    "papermill": {
     "duration": 0.037891,
     "end_time": "2025-01-01T02:44:09.751100",
     "exception": false,
     "start_time": "2025-01-01T02:44:09.713209",
     "status": "completed"
    },
    "tags": []
   },
   "outputs": [
    {
     "name": "stdout",
     "output_type": "stream",
     "text": [
      "Accuarcy:1.00\n"
     ]
    }
   ],
   "source": [
    "pipeline = Pipeline([\n",
    "        ('scaler', StandardScaler()),\n",
    "        ('classifier', LogisticRegression())\n",
    "])\n",
    "\n",
    "#train model\n",
    "pipeline.fit(x_train, y_train)\n",
    "\n",
    "#make predictions\n",
    "y_pred = pipeline.predict(x_test)\n",
    "\n",
    "#evaluate\n",
    "print(f\"Accuarcy:{pipeline.score(x_test, y_test):.2f}\")\n"
   ]
  },
  {
   "cell_type": "markdown",
   "id": "73682d9a",
   "metadata": {
    "papermill": {
     "duration": 0.003795,
     "end_time": "2025-01-01T02:44:09.759082",
     "exception": false,
     "start_time": "2025-01-01T02:44:09.755287",
     "status": "completed"
    },
    "tags": []
   },
   "source": [
    "# Keras"
   ]
  },
  {
   "cell_type": "code",
   "execution_count": 6,
   "id": "725ef491",
   "metadata": {
    "execution": {
     "iopub.execute_input": "2025-01-01T02:44:09.769924Z",
     "iopub.status.busy": "2025-01-01T02:44:09.769513Z",
     "iopub.status.idle": "2025-01-01T02:44:24.819271Z",
     "shell.execute_reply": "2025-01-01T02:44:24.818068Z"
    },
    "papermill": {
     "duration": 15.057627,
     "end_time": "2025-01-01T02:44:24.821812",
     "exception": false,
     "start_time": "2025-01-01T02:44:09.764185",
     "status": "completed"
    },
    "tags": []
   },
   "outputs": [],
   "source": [
    "import tensorflow as tf\n",
    "from tensorflow.keras import Sequential\n",
    "from tensorflow.keras.layers import Dense, Flatten\n",
    "from tensorflow.keras.datasets import mnist"
   ]
  },
  {
   "cell_type": "code",
   "execution_count": 7,
   "id": "88c7f647",
   "metadata": {
    "execution": {
     "iopub.execute_input": "2025-01-01T02:44:24.832077Z",
     "iopub.status.busy": "2025-01-01T02:44:24.831431Z",
     "iopub.status.idle": "2025-01-01T02:44:25.471767Z",
     "shell.execute_reply": "2025-01-01T02:44:25.470724Z"
    },
    "papermill": {
     "duration": 0.648125,
     "end_time": "2025-01-01T02:44:25.474179",
     "exception": false,
     "start_time": "2025-01-01T02:44:24.826054",
     "status": "completed"
    },
    "tags": []
   },
   "outputs": [
    {
     "name": "stdout",
     "output_type": "stream",
     "text": [
      "Downloading data from https://storage.googleapis.com/tensorflow/tf-keras-datasets/mnist.npz\n",
      "\u001b[1m11490434/11490434\u001b[0m \u001b[32m━━━━━━━━━━━━━━━━━━━━\u001b[0m\u001b[37m\u001b[0m \u001b[1m0s\u001b[0m 0us/step\n"
     ]
    }
   ],
   "source": [
    "#load data \n",
    "(x_train, y_train),(x_test, y_test) = mnist.load_data()\n",
    "\n",
    "#normalize\n",
    "(x_train, x_test) = x_train/255.0, x_test/255.0"
   ]
  },
  {
   "cell_type": "code",
   "execution_count": 8,
   "id": "10abd212",
   "metadata": {
    "execution": {
     "iopub.execute_input": "2025-01-01T02:44:25.484932Z",
     "iopub.status.busy": "2025-01-01T02:44:25.484519Z",
     "iopub.status.idle": "2025-01-01T02:44:51.089080Z",
     "shell.execute_reply": "2025-01-01T02:44:51.087957Z"
    },
    "papermill": {
     "duration": 25.612476,
     "end_time": "2025-01-01T02:44:51.091225",
     "exception": false,
     "start_time": "2025-01-01T02:44:25.478749",
     "status": "completed"
    },
    "tags": []
   },
   "outputs": [
    {
     "name": "stderr",
     "output_type": "stream",
     "text": [
      "/opt/conda/lib/python3.10/site-packages/keras/src/layers/reshaping/flatten.py:37: UserWarning: Do not pass an `input_shape`/`input_dim` argument to a layer. When using Sequential models, prefer using an `Input(shape)` object as the first layer in the model instead.\n",
      "  super().__init__(**kwargs)\n"
     ]
    },
    {
     "name": "stdout",
     "output_type": "stream",
     "text": [
      "Epoch 1/5\n",
      "\u001b[1m1875/1875\u001b[0m \u001b[32m━━━━━━━━━━━━━━━━━━━━\u001b[0m\u001b[37m\u001b[0m \u001b[1m6s\u001b[0m 3ms/step - accuracy: 0.8792 - loss: 0.4358\n",
      "Epoch 2/5\n",
      "\u001b[1m1875/1875\u001b[0m \u001b[32m━━━━━━━━━━━━━━━━━━━━\u001b[0m\u001b[37m\u001b[0m \u001b[1m5s\u001b[0m 2ms/step - accuracy: 0.9643 - loss: 0.1197\n",
      "Epoch 3/5\n",
      "\u001b[1m1875/1875\u001b[0m \u001b[32m━━━━━━━━━━━━━━━━━━━━\u001b[0m\u001b[37m\u001b[0m \u001b[1m5s\u001b[0m 2ms/step - accuracy: 0.9759 - loss: 0.0806\n",
      "Epoch 4/5\n",
      "\u001b[1m1875/1875\u001b[0m \u001b[32m━━━━━━━━━━━━━━━━━━━━\u001b[0m\u001b[37m\u001b[0m \u001b[1m5s\u001b[0m 2ms/step - accuracy: 0.9828 - loss: 0.0580\n",
      "Epoch 5/5\n",
      "\u001b[1m1875/1875\u001b[0m \u001b[32m━━━━━━━━━━━━━━━━━━━━\u001b[0m\u001b[37m\u001b[0m \u001b[1m5s\u001b[0m 2ms/step - accuracy: 0.9868 - loss: 0.0445\n",
      "\u001b[1m313/313\u001b[0m \u001b[32m━━━━━━━━━━━━━━━━━━━━\u001b[0m\u001b[37m\u001b[0m \u001b[1m1s\u001b[0m 1ms/step - accuracy: 0.9711 - loss: 0.0875\n"
     ]
    },
    {
     "data": {
      "text/plain": [
       "[0.07623647153377533, 0.9753999710083008]"
      ]
     },
     "execution_count": 8,
     "metadata": {},
     "output_type": "execute_result"
    }
   ],
   "source": [
    "# Build the model\n",
    "model = Sequential([\n",
    "    Flatten(input_shape=(28, 28)),\n",
    "    Dense(128, activation='relu'),\n",
    "    Dense(10, activation='softmax')\n",
    "])\n",
    "\n",
    "# Compile the model\n",
    "model.compile(optimizer='adam',\n",
    "              loss ='sparse_categorical_crossentropy',\n",
    "              metrics=['accuracy'])\n",
    "\n",
    "# Train the model\n",
    "model.fit(x_train, y_train, epochs=5)\n",
    "\n",
    "# Evaluate the model\n",
    "model.evaluate(x_test, y_test)"
   ]
  },
  {
   "cell_type": "markdown",
   "id": "eb1afea4",
   "metadata": {
    "papermill": {
     "duration": 0.02996,
     "end_time": "2025-01-01T02:44:51.153149",
     "exception": false,
     "start_time": "2025-01-01T02:44:51.123189",
     "status": "completed"
    },
    "tags": []
   },
   "source": [
    "# Tensorflow\n"
   ]
  },
  {
   "cell_type": "code",
   "execution_count": 9,
   "id": "06da5da6",
   "metadata": {
    "execution": {
     "iopub.execute_input": "2025-01-01T02:44:51.214930Z",
     "iopub.status.busy": "2025-01-01T02:44:51.214521Z",
     "iopub.status.idle": "2025-01-01T02:44:51.686243Z",
     "shell.execute_reply": "2025-01-01T02:44:51.685255Z"
    },
    "papermill": {
     "duration": 0.505634,
     "end_time": "2025-01-01T02:44:51.688625",
     "exception": false,
     "start_time": "2025-01-01T02:44:51.182991",
     "status": "completed"
    },
    "tags": []
   },
   "outputs": [],
   "source": [
    "import tensorflow as tf\n",
    "from tensorflow.keras.datasets import mnist\n",
    "\n",
    "#load and preprocess data\n",
    "(x_train, y_train),(x_test, y_test) = mnist.load_data()\n",
    "\n",
    "x_train, x_test = x_train/255.0, x_test/255.0\n",
    "\n",
    "#convert into one-hot encoding\n",
    "y_train = tf.one_hot(y_train, depth = 10).numpy()\n",
    "Y_test = tf.one_hot(y_test, depth = 10).numpy()\n",
    "\n"
   ]
  },
  {
   "cell_type": "code",
   "execution_count": null,
   "id": "5800314b",
   "metadata": {
    "papermill": {
     "duration": 0.030084,
     "end_time": "2025-01-01T02:44:51.748772",
     "exception": false,
     "start_time": "2025-01-01T02:44:51.718688",
     "status": "completed"
    },
    "tags": []
   },
   "outputs": [],
   "source": []
  },
  {
   "cell_type": "markdown",
   "id": "734975b9",
   "metadata": {
    "papermill": {
     "duration": 0.029637,
     "end_time": "2025-01-01T02:44:51.809366",
     "exception": false,
     "start_time": "2025-01-01T02:44:51.779729",
     "status": "completed"
    },
    "tags": []
   },
   "source": [
    "# PyTorch"
   ]
  },
  {
   "cell_type": "code",
   "execution_count": 10,
   "id": "025db86f",
   "metadata": {
    "execution": {
     "iopub.execute_input": "2025-01-01T02:44:51.870738Z",
     "iopub.status.busy": "2025-01-01T02:44:51.870287Z",
     "iopub.status.idle": "2025-01-01T02:44:59.441616Z",
     "shell.execute_reply": "2025-01-01T02:44:59.440480Z"
    },
    "papermill": {
     "duration": 7.604751,
     "end_time": "2025-01-01T02:44:59.443887",
     "exception": false,
     "start_time": "2025-01-01T02:44:51.839136",
     "status": "completed"
    },
    "tags": []
   },
   "outputs": [
    {
     "name": "stdout",
     "output_type": "stream",
     "text": [
      "Downloading http://yann.lecun.com/exdb/mnist/train-images-idx3-ubyte.gz\n",
      "Failed to download (trying next):\n",
      "HTTP Error 403: Forbidden\n",
      "\n",
      "Downloading https://ossci-datasets.s3.amazonaws.com/mnist/train-images-idx3-ubyte.gz\n",
      "Downloading https://ossci-datasets.s3.amazonaws.com/mnist/train-images-idx3-ubyte.gz to ./data/MNIST/raw/train-images-idx3-ubyte.gz\n"
     ]
    },
    {
     "name": "stderr",
     "output_type": "stream",
     "text": [
      "100%|██████████| 9912422/9912422 [00:00<00:00, 56296671.61it/s]\n"
     ]
    },
    {
     "name": "stdout",
     "output_type": "stream",
     "text": [
      "Extracting ./data/MNIST/raw/train-images-idx3-ubyte.gz to ./data/MNIST/raw\n",
      "\n",
      "Downloading http://yann.lecun.com/exdb/mnist/train-labels-idx1-ubyte.gz\n",
      "Failed to download (trying next):\n",
      "HTTP Error 403: Forbidden\n",
      "\n",
      "Downloading https://ossci-datasets.s3.amazonaws.com/mnist/train-labels-idx1-ubyte.gz\n",
      "Downloading https://ossci-datasets.s3.amazonaws.com/mnist/train-labels-idx1-ubyte.gz to ./data/MNIST/raw/train-labels-idx1-ubyte.gz\n"
     ]
    },
    {
     "name": "stderr",
     "output_type": "stream",
     "text": [
      "100%|██████████| 28881/28881 [00:00<00:00, 1560745.40it/s]"
     ]
    },
    {
     "name": "stdout",
     "output_type": "stream",
     "text": [
      "Extracting ./data/MNIST/raw/train-labels-idx1-ubyte.gz to ./data/MNIST/raw\n",
      "\n",
      "Downloading http://yann.lecun.com/exdb/mnist/t10k-images-idx3-ubyte.gz\n"
     ]
    },
    {
     "name": "stderr",
     "output_type": "stream",
     "text": [
      "\n"
     ]
    },
    {
     "name": "stdout",
     "output_type": "stream",
     "text": [
      "Failed to download (trying next):\n",
      "HTTP Error 403: Forbidden\n",
      "\n",
      "Downloading https://ossci-datasets.s3.amazonaws.com/mnist/t10k-images-idx3-ubyte.gz\n",
      "Downloading https://ossci-datasets.s3.amazonaws.com/mnist/t10k-images-idx3-ubyte.gz to ./data/MNIST/raw/t10k-images-idx3-ubyte.gz\n"
     ]
    },
    {
     "name": "stderr",
     "output_type": "stream",
     "text": [
      "100%|██████████| 1648877/1648877 [00:00<00:00, 14546633.45it/s]\n"
     ]
    },
    {
     "name": "stdout",
     "output_type": "stream",
     "text": [
      "Extracting ./data/MNIST/raw/t10k-images-idx3-ubyte.gz to ./data/MNIST/raw\n",
      "\n",
      "Downloading http://yann.lecun.com/exdb/mnist/t10k-labels-idx1-ubyte.gz\n",
      "Failed to download (trying next):\n",
      "HTTP Error 403: Forbidden\n",
      "\n",
      "Downloading https://ossci-datasets.s3.amazonaws.com/mnist/t10k-labels-idx1-ubyte.gz\n",
      "Downloading https://ossci-datasets.s3.amazonaws.com/mnist/t10k-labels-idx1-ubyte.gz to ./data/MNIST/raw/t10k-labels-idx1-ubyte.gz\n"
     ]
    },
    {
     "name": "stderr",
     "output_type": "stream",
     "text": [
      "100%|██████████| 4542/4542 [00:00<00:00, 2007220.39it/s]"
     ]
    },
    {
     "name": "stdout",
     "output_type": "stream",
     "text": [
      "Extracting ./data/MNIST/raw/t10k-labels-idx1-ubyte.gz to ./data/MNIST/raw\n",
      "\n"
     ]
    },
    {
     "name": "stderr",
     "output_type": "stream",
     "text": [
      "\n"
     ]
    }
   ],
   "source": [
    "import torch\n",
    "import torch.nn as nn\n",
    "import torch.optim as optim\n",
    "from torchvision import datasets, transforms\n",
    "from torch.utils.data import DataLoader\n",
    "\n",
    "# Load and preprocess data\n",
    "transform = transforms.ToTensor()\n",
    "train_dataset = datasets.MNIST(root='./data', train=True, transform=transform, download=True)\n",
    "test_dataset = datasets.MNIST(root='./data', train=False, transform=transform)\n",
    "\n",
    "train_loader = DataLoader(train_dataset, batch_size=64, shuffle=True)\n",
    "test_loader = DataLoader(test_dataset, batch_size=64, shuffle=False)\n",
    "\n",
    "# Define the model\n",
    "class NeuralNetwork(nn.Module):\n",
    "    def __init__(self):\n",
    "        super(NeuralNetwork, self).__init__()\n",
    "        self.flatten = nn.Flatten()\n",
    "        self.fc1 = nn.Linear(28 * 28, 128)\n",
    "        self.relu = nn.ReLU()\n",
    "        self.fc2 = nn.Linear(128, 10)\n",
    "        self.softmax = nn.Softmax(dim=1)\n",
    "\n",
    "    def forward(self, x):\n",
    "        x = self.flatten(x)\n",
    "        x = self.relu(self.fc1(x))\n",
    "        x = self.softmax(self.fc2(x))\n",
    "        return x"
   ]
  },
  {
   "cell_type": "code",
   "execution_count": 11,
   "id": "8ba160d7",
   "metadata": {
    "execution": {
     "iopub.execute_input": "2025-01-01T02:44:59.511467Z",
     "iopub.status.busy": "2025-01-01T02:44:59.510560Z",
     "iopub.status.idle": "2025-01-01T02:44:59.531104Z",
     "shell.execute_reply": "2025-01-01T02:44:59.530058Z"
    },
    "papermill": {
     "duration": 0.058282,
     "end_time": "2025-01-01T02:44:59.533603",
     "exception": false,
     "start_time": "2025-01-01T02:44:59.475321",
     "status": "completed"
    },
    "tags": []
   },
   "outputs": [],
   "source": [
    "model = NeuralNetwork()\n",
    "\n",
    "# Define loss and optimizer\n",
    "criterion = nn.CrossEntropyLoss()\n",
    "optimizer = optim.Adam(model.parameters(), lr=0.001)\n"
   ]
  },
  {
   "cell_type": "code",
   "execution_count": 12,
   "id": "057292d4",
   "metadata": {
    "execution": {
     "iopub.execute_input": "2025-01-01T02:44:59.598317Z",
     "iopub.status.busy": "2025-01-01T02:44:59.597879Z",
     "iopub.status.idle": "2025-01-01T02:45:46.528319Z",
     "shell.execute_reply": "2025-01-01T02:45:46.526834Z"
    },
    "papermill": {
     "duration": 46.995677,
     "end_time": "2025-01-01T02:45:46.560293",
     "exception": false,
     "start_time": "2025-01-01T02:44:59.564616",
     "status": "completed"
    },
    "tags": []
   },
   "outputs": [
    {
     "name": "stdout",
     "output_type": "stream",
     "text": [
      "Accuracy: 96.35%\n"
     ]
    }
   ],
   "source": [
    "# Training loop\n",
    "for epoch in range(5):\n",
    "    for images, labels in train_loader:\n",
    "        # Forward pass\n",
    "        outputs = model(images)\n",
    "        loss = criterion(outputs, labels)\n",
    "\n",
    "        # Backward pass\n",
    "        optimizer.zero_grad()\n",
    "        loss.backward()\n",
    "        optimizer.step()\n",
    "\n",
    "# Evaluate the model\n",
    "correct = 0\n",
    "total = 0\n",
    "with torch.no_grad():\n",
    "    for images, labels in test_loader:\n",
    "        outputs = model(images)\n",
    "        _, predicted = torch.max(outputs, 1)\n",
    "        total += labels.size(0)\n",
    "        correct += (predicted == labels).sum().item()\n",
    "\n",
    "print(f\"Accuracy: {100 * correct / total}%\")"
   ]
  },
  {
   "cell_type": "code",
   "execution_count": null,
   "id": "ce9db981",
   "metadata": {
    "papermill": {
     "duration": 0.032541,
     "end_time": "2025-01-01T02:45:46.624009",
     "exception": false,
     "start_time": "2025-01-01T02:45:46.591468",
     "status": "completed"
    },
    "tags": []
   },
   "outputs": [],
   "source": []
  }
 ],
 "metadata": {
  "kaggle": {
   "accelerator": "none",
   "dataSources": [],
   "dockerImageVersionId": 30786,
   "isGpuEnabled": false,
   "isInternetEnabled": true,
   "language": "python",
   "sourceType": "notebook"
  },
  "kernelspec": {
   "display_name": "Python 3",
   "language": "python",
   "name": "python3"
  },
  "language_info": {
   "codemirror_mode": {
    "name": "ipython",
    "version": 3
   },
   "file_extension": ".py",
   "mimetype": "text/x-python",
   "name": "python",
   "nbconvert_exporter": "python",
   "pygments_lexer": "ipython3",
   "version": "3.10.14"
  },
  "papermill": {
   "default_parameters": {},
   "duration": 105.015598,
   "end_time": "2025-01-01T02:45:49.366734",
   "environment_variables": {},
   "exception": null,
   "input_path": "__notebook__.ipynb",
   "output_path": "__notebook__.ipynb",
   "parameters": {},
   "start_time": "2025-01-01T02:44:04.351136",
   "version": "2.6.0"
  }
 },
 "nbformat": 4,
 "nbformat_minor": 5
}

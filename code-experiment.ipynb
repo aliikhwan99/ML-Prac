{
 "cells": [
  {
   "cell_type": "markdown",
   "id": "47dad5b7",
   "metadata": {
    "papermill": {
     "duration": 0.004765,
     "end_time": "2024-12-12T15:30:02.217040",
     "exception": false,
     "start_time": "2024-12-12T15:30:02.212275",
     "status": "completed"
    },
    "tags": []
   },
   "source": [
    "# Scikit-learn\n"
   ]
  },
  {
   "cell_type": "code",
   "execution_count": 1,
   "id": "f27e4a32",
   "metadata": {
    "execution": {
     "iopub.execute_input": "2024-12-12T15:30:02.226807Z",
     "iopub.status.busy": "2024-12-12T15:30:02.226385Z",
     "iopub.status.idle": "2024-12-12T15:30:04.127630Z",
     "shell.execute_reply": "2024-12-12T15:30:04.126565Z"
    },
    "papermill": {
     "duration": 1.90891,
     "end_time": "2024-12-12T15:30:04.130058",
     "exception": false,
     "start_time": "2024-12-12T15:30:02.221148",
     "status": "completed"
    },
    "tags": []
   },
   "outputs": [],
   "source": [
    "from sklearn.model_selection import train_test_split\n",
    "from sklearn.preprocessing import StandardScaler\n",
    "from sklearn.ensemble import RandomForestClassifier\n",
    "from sklearn.metrics import accuracy_score"
   ]
  },
  {
   "cell_type": "code",
   "execution_count": 2,
   "id": "ad2203c5",
   "metadata": {
    "execution": {
     "iopub.execute_input": "2024-12-12T15:30:04.139428Z",
     "iopub.status.busy": "2024-12-12T15:30:04.138955Z",
     "iopub.status.idle": "2024-12-12T15:30:04.265326Z",
     "shell.execute_reply": "2024-12-12T15:30:04.264215Z"
    },
    "papermill": {
     "duration": 0.133812,
     "end_time": "2024-12-12T15:30:04.267872",
     "exception": false,
     "start_time": "2024-12-12T15:30:04.134060",
     "status": "completed"
    },
    "tags": []
   },
   "outputs": [],
   "source": [
    "from sklearn.datasets import load_iris\n",
    "\n",
    "data = load_iris()\n",
    "x, y = data.data, data.target\n",
    "\n",
    "x_train, x_test, y_train, y_tes = train_test_split(x,y, test_size = 0.20, random_state = 54)"
   ]
  },
  {
   "cell_type": "code",
   "execution_count": 3,
   "id": "3321ef54",
   "metadata": {
    "execution": {
     "iopub.execute_input": "2024-12-12T15:30:04.277560Z",
     "iopub.status.busy": "2024-12-12T15:30:04.277133Z",
     "iopub.status.idle": "2024-12-12T15:30:04.288055Z",
     "shell.execute_reply": "2024-12-12T15:30:04.286852Z"
    },
    "papermill": {
     "duration": 0.018266,
     "end_time": "2024-12-12T15:30:04.290163",
     "exception": false,
     "start_time": "2024-12-12T15:30:04.271897",
     "status": "completed"
    },
    "tags": []
   },
   "outputs": [],
   "source": [
    "scaler = StandardScaler()\n",
    "\n",
    "x_train_scaled = scaler.fit_transform(x_train)\n",
    "x_test_scaled = scaler.transform(x_test)"
   ]
  },
  {
   "cell_type": "markdown",
   "id": "c410a8a4",
   "metadata": {
    "papermill": {
     "duration": 0.003608,
     "end_time": "2024-12-12T15:30:04.298246",
     "exception": false,
     "start_time": "2024-12-12T15:30:04.294638",
     "status": "completed"
    },
    "tags": []
   },
   "source": [
    "# Pipeline"
   ]
  },
  {
   "cell_type": "code",
   "execution_count": 4,
   "id": "00753f91",
   "metadata": {
    "execution": {
     "iopub.execute_input": "2024-12-12T15:30:04.308183Z",
     "iopub.status.busy": "2024-12-12T15:30:04.307782Z",
     "iopub.status.idle": "2024-12-12T15:30:04.316522Z",
     "shell.execute_reply": "2024-12-12T15:30:04.315363Z"
    },
    "papermill": {
     "duration": 0.016981,
     "end_time": "2024-12-12T15:30:04.319004",
     "exception": false,
     "start_time": "2024-12-12T15:30:04.302023",
     "status": "completed"
    },
    "tags": []
   },
   "outputs": [],
   "source": [
    "from sklearn.pipeline import Pipeline\n",
    "from sklearn.preprocessing import StandardScaler\n",
    "from sklearn.linear_model import LogisticRegression\n",
    "from sklearn.datasets import load_iris\n",
    "from sklearn.model_selection import train_test_split"
   ]
  },
  {
   "cell_type": "code",
   "execution_count": 5,
   "id": "4e8a8cee",
   "metadata": {
    "execution": {
     "iopub.execute_input": "2024-12-12T15:30:04.329864Z",
     "iopub.status.busy": "2024-12-12T15:30:04.328512Z",
     "iopub.status.idle": "2024-12-12T15:30:04.364648Z",
     "shell.execute_reply": "2024-12-12T15:30:04.363292Z"
    },
    "papermill": {
     "duration": 0.04389,
     "end_time": "2024-12-12T15:30:04.367148",
     "exception": false,
     "start_time": "2024-12-12T15:30:04.323258",
     "status": "completed"
    },
    "tags": []
   },
   "outputs": [
    {
     "name": "stdout",
     "output_type": "stream",
     "text": [
      "Accuracy: 1.00\n"
     ]
    }
   ],
   "source": [
    "# Load data\n",
    "data = load_iris()\n",
    "X_train, X_test, y_train, y_test = train_test_split(data.data, data.target, test_size=0.2, random_state= 42)\n",
    "\n",
    "# Define pipeline\n",
    "pipeline = Pipeline([\n",
    "    ('scaler', StandardScaler()),       # Step 1: Standardize features\n",
    "    ('classifier', LogisticRegression())  # Step 2: Train logistic regression\n",
    "])\n",
    "\n",
    "# Train model\n",
    "pipeline.fit(X_train, y_train)\n",
    "\n",
    "# Make predictions\n",
    "y_pred = pipeline.predict(X_test)\n",
    "\n",
    "# Evaluate\n",
    "print(f\"Accuracy: {pipeline.score(X_test, y_test):.2f}\")\n"
   ]
  },
  {
   "cell_type": "markdown",
   "id": "bf912d60",
   "metadata": {
    "papermill": {
     "duration": 0.00368,
     "end_time": "2024-12-12T15:30:04.374900",
     "exception": false,
     "start_time": "2024-12-12T15:30:04.371220",
     "status": "completed"
    },
    "tags": []
   },
   "source": [
    "# Keras"
   ]
  },
  {
   "cell_type": "code",
   "execution_count": 6,
   "id": "b47e0da6",
   "metadata": {
    "execution": {
     "iopub.execute_input": "2024-12-12T15:30:04.385703Z",
     "iopub.status.busy": "2024-12-12T15:30:04.384619Z",
     "iopub.status.idle": "2024-12-12T15:30:20.382309Z",
     "shell.execute_reply": "2024-12-12T15:30:20.381066Z"
    },
    "papermill": {
     "duration": 16.005346,
     "end_time": "2024-12-12T15:30:20.384951",
     "exception": false,
     "start_time": "2024-12-12T15:30:04.379605",
     "status": "completed"
    },
    "tags": []
   },
   "outputs": [],
   "source": [
    "import tensorflow as tf\n",
    "from tensorflow.keras import Sequential\n",
    "from tensorflow.keras.layers import Dense, Flatten\n",
    "from tensorflow.keras.datasets import mnist"
   ]
  },
  {
   "cell_type": "code",
   "execution_count": 7,
   "id": "aabbd718",
   "metadata": {
    "execution": {
     "iopub.execute_input": "2024-12-12T15:30:20.395283Z",
     "iopub.status.busy": "2024-12-12T15:30:20.394613Z",
     "iopub.status.idle": "2024-12-12T15:30:21.092249Z",
     "shell.execute_reply": "2024-12-12T15:30:21.090969Z"
    },
    "papermill": {
     "duration": 0.705615,
     "end_time": "2024-12-12T15:30:21.094860",
     "exception": false,
     "start_time": "2024-12-12T15:30:20.389245",
     "status": "completed"
    },
    "tags": []
   },
   "outputs": [
    {
     "name": "stdout",
     "output_type": "stream",
     "text": [
      "Downloading data from https://storage.googleapis.com/tensorflow/tf-keras-datasets/mnist.npz\n",
      "\u001b[1m11490434/11490434\u001b[0m \u001b[32m━━━━━━━━━━━━━━━━━━━━\u001b[0m\u001b[37m\u001b[0m \u001b[1m0s\u001b[0m 0us/step\n"
     ]
    }
   ],
   "source": [
    "#load data \n",
    "(x_train, y_train),(x_test, y_test) = mnist.load_data()\n",
    "\n",
    "#normalize\n",
    "(x_train, x_test) = x_train/255.0, x_test/255.0"
   ]
  },
  {
   "cell_type": "code",
   "execution_count": 8,
   "id": "b4e27c33",
   "metadata": {
    "execution": {
     "iopub.execute_input": "2024-12-12T15:30:21.105229Z",
     "iopub.status.busy": "2024-12-12T15:30:21.104829Z",
     "iopub.status.idle": "2024-12-12T15:30:51.266579Z",
     "shell.execute_reply": "2024-12-12T15:30:51.265367Z"
    },
    "papermill": {
     "duration": 30.169621,
     "end_time": "2024-12-12T15:30:51.268883",
     "exception": false,
     "start_time": "2024-12-12T15:30:21.099262",
     "status": "completed"
    },
    "tags": []
   },
   "outputs": [
    {
     "name": "stderr",
     "output_type": "stream",
     "text": [
      "/opt/conda/lib/python3.10/site-packages/keras/src/layers/reshaping/flatten.py:37: UserWarning: Do not pass an `input_shape`/`input_dim` argument to a layer. When using Sequential models, prefer using an `Input(shape)` object as the first layer in the model instead.\n",
      "  super().__init__(**kwargs)\n"
     ]
    },
    {
     "name": "stdout",
     "output_type": "stream",
     "text": [
      "Epoch 1/5\n",
      "\u001b[1m1875/1875\u001b[0m \u001b[32m━━━━━━━━━━━━━━━━━━━━\u001b[0m\u001b[37m\u001b[0m \u001b[1m6s\u001b[0m 3ms/step - accuracy: 0.8724 - loss: 0.4425\n",
      "Epoch 2/5\n",
      "\u001b[1m1875/1875\u001b[0m \u001b[32m━━━━━━━━━━━━━━━━━━━━\u001b[0m\u001b[37m\u001b[0m \u001b[1m6s\u001b[0m 3ms/step - accuracy: 0.9656 - loss: 0.1211\n",
      "Epoch 3/5\n",
      "\u001b[1m1875/1875\u001b[0m \u001b[32m━━━━━━━━━━━━━━━━━━━━\u001b[0m\u001b[37m\u001b[0m \u001b[1m6s\u001b[0m 3ms/step - accuracy: 0.9773 - loss: 0.0770\n",
      "Epoch 4/5\n",
      "\u001b[1m1875/1875\u001b[0m \u001b[32m━━━━━━━━━━━━━━━━━━━━\u001b[0m\u001b[37m\u001b[0m \u001b[1m5s\u001b[0m 3ms/step - accuracy: 0.9840 - loss: 0.0549\n",
      "Epoch 5/5\n",
      "\u001b[1m1875/1875\u001b[0m \u001b[32m━━━━━━━━━━━━━━━━━━━━\u001b[0m\u001b[37m\u001b[0m \u001b[1m6s\u001b[0m 3ms/step - accuracy: 0.9878 - loss: 0.0406\n",
      "\u001b[1m313/313\u001b[0m \u001b[32m━━━━━━━━━━━━━━━━━━━━\u001b[0m\u001b[37m\u001b[0m \u001b[1m1s\u001b[0m 2ms/step - accuracy: 0.9720 - loss: 0.0865\n"
     ]
    },
    {
     "data": {
      "text/plain": [
       "[0.07736220955848694, 0.9750999808311462]"
      ]
     },
     "execution_count": 8,
     "metadata": {},
     "output_type": "execute_result"
    }
   ],
   "source": [
    "# Build the model\n",
    "model = Sequential([\n",
    "    Flatten(input_shape=(28, 28)),\n",
    "    Dense(128, activation='relu'),\n",
    "    Dense(10, activation='softmax')\n",
    "])\n",
    "\n",
    "# Compile the model\n",
    "model.compile(optimizer='adam',\n",
    "              loss ='sparse_categorical_crossentropy',\n",
    "              metrics=['accuracy'])\n",
    "\n",
    "# Train the model\n",
    "model.fit(x_train, y_train, epochs=5)\n",
    "\n",
    "# Evaluate the model\n",
    "model.evaluate(x_test, y_test)"
   ]
  },
  {
   "cell_type": "markdown",
   "id": "4331ede3",
   "metadata": {
    "papermill": {
     "duration": 0.037339,
     "end_time": "2024-12-12T15:30:51.342315",
     "exception": false,
     "start_time": "2024-12-12T15:30:51.304976",
     "status": "completed"
    },
    "tags": []
   },
   "source": [
    "# Tensorflow\n"
   ]
  },
  {
   "cell_type": "code",
   "execution_count": 9,
   "id": "664a91e2",
   "metadata": {
    "execution": {
     "iopub.execute_input": "2024-12-12T15:30:51.416766Z",
     "iopub.status.busy": "2024-12-12T15:30:51.416371Z",
     "iopub.status.idle": "2024-12-12T15:35:32.111074Z",
     "shell.execute_reply": "2024-12-12T15:35:32.109898Z"
    },
    "papermill": {
     "duration": 280.768004,
     "end_time": "2024-12-12T15:35:32.147374",
     "exception": false,
     "start_time": "2024-12-12T15:30:51.379370",
     "status": "completed"
    },
    "tags": []
   },
   "outputs": [
    {
     "name": "stdout",
     "output_type": "stream",
     "text": [
      "Accuracy: 97.08%\n"
     ]
    }
   ],
   "source": [
    "import tensorflow as tf\n",
    "from tensorflow.keras.datasets import mnist\n",
    "\n",
    "# Load and preprocess data\n",
    "(x_train, y_train), (x_test, y_test) = mnist.load_data()\n",
    "x_train, x_test = x_train / 255.0, x_test / 255.0\n",
    "\n",
    "# Convert labels to one-hot encoding\n",
    "y_train = tf.one_hot(y_train, depth=10).numpy()\n",
    "y_test = tf.one_hot(y_test, depth=10).numpy()\n",
    "\n",
    "# Define model\n",
    "class NeuralNetwork(tf.keras.Model):\n",
    "    def __init__(self):\n",
    "        super().__init__()\n",
    "        self.flatten = tf.keras.layers.Flatten()\n",
    "        self.dense1 = tf.keras.layers.Dense(128, activation='relu')\n",
    "        self.dense2 = tf.keras.layers.Dense(10, activation='softmax')\n",
    "\n",
    "    def call(self, x):\n",
    "        x = self.flatten(x)\n",
    "        x = self.dense1(x)\n",
    "        return self.dense2(x)\n",
    "\n",
    "model = NeuralNetwork()\n",
    "\n",
    "# Define loss and optimizer\n",
    "loss_fn = tf.keras.losses.CategoricalCrossentropy()\n",
    "optimizer = tf.optimizers.Adam()\n",
    "\n",
    "# Training loop\n",
    "batch_size = 32\n",
    "for epoch in range(5):\n",
    "    for start in range(0, len(x_train), batch_size):\n",
    "        end = start + batch_size\n",
    "        x_batch = x_train[start:end]\n",
    "        y_batch = y_train[start:end]\n",
    "        with tf.GradientTape() as tape:\n",
    "            predictions = model(x_batch)\n",
    "            loss = loss_fn(y_batch, predictions)\n",
    "        gradients = tape.gradient(loss, model.trainable_variables)\n",
    "        optimizer.apply_gradients(zip(gradients, model.trainable_variables))\n",
    "\n",
    "# Evaluate model\n",
    "correct = 0\n",
    "total = len(x_test)\n",
    "for start in range(0, total, batch_size):\n",
    "    end = start + batch_size\n",
    "    predictions = model(x_test[start:end])\n",
    "    correct += tf.reduce_sum(\n",
    "        tf.cast(tf.argmax(predictions, axis=1) == tf.argmax(y_test[start:end], axis=1), tf.int32)\n",
    "    )\n",
    "\n",
    "accuracy = 100 * correct / total\n",
    "print(f\"Accuracy: {accuracy}%\")\n"
   ]
  },
  {
   "cell_type": "markdown",
   "id": "c49f5321",
   "metadata": {
    "papermill": {
     "duration": 0.035313,
     "end_time": "2024-12-12T15:35:32.217484",
     "exception": false,
     "start_time": "2024-12-12T15:35:32.182171",
     "status": "completed"
    },
    "tags": []
   },
   "source": [
    "# PyTorch"
   ]
  },
  {
   "cell_type": "code",
   "execution_count": 10,
   "id": "f28929eb",
   "metadata": {
    "execution": {
     "iopub.execute_input": "2024-12-12T15:35:32.294789Z",
     "iopub.status.busy": "2024-12-12T15:35:32.293560Z",
     "iopub.status.idle": "2024-12-12T15:35:41.302571Z",
     "shell.execute_reply": "2024-12-12T15:35:41.301441Z"
    },
    "papermill": {
     "duration": 9.051309,
     "end_time": "2024-12-12T15:35:41.306041",
     "exception": false,
     "start_time": "2024-12-12T15:35:32.254732",
     "status": "completed"
    },
    "tags": []
   },
   "outputs": [
    {
     "name": "stdout",
     "output_type": "stream",
     "text": [
      "Downloading http://yann.lecun.com/exdb/mnist/train-images-idx3-ubyte.gz\n",
      "Failed to download (trying next):\n",
      "HTTP Error 403: Forbidden\n",
      "\n",
      "Downloading https://ossci-datasets.s3.amazonaws.com/mnist/train-images-idx3-ubyte.gz\n",
      "Downloading https://ossci-datasets.s3.amazonaws.com/mnist/train-images-idx3-ubyte.gz to ./data/MNIST/raw/train-images-idx3-ubyte.gz\n"
     ]
    },
    {
     "name": "stderr",
     "output_type": "stream",
     "text": [
      "100%|██████████| 9912422/9912422 [00:00<00:00, 40988146.17it/s]\n"
     ]
    },
    {
     "name": "stdout",
     "output_type": "stream",
     "text": [
      "Extracting ./data/MNIST/raw/train-images-idx3-ubyte.gz to ./data/MNIST/raw\n",
      "\n",
      "Downloading http://yann.lecun.com/exdb/mnist/train-labels-idx1-ubyte.gz\n",
      "Failed to download (trying next):\n",
      "HTTP Error 403: Forbidden\n",
      "\n",
      "Downloading https://ossci-datasets.s3.amazonaws.com/mnist/train-labels-idx1-ubyte.gz\n",
      "Downloading https://ossci-datasets.s3.amazonaws.com/mnist/train-labels-idx1-ubyte.gz to ./data/MNIST/raw/train-labels-idx1-ubyte.gz\n"
     ]
    },
    {
     "name": "stderr",
     "output_type": "stream",
     "text": [
      "100%|██████████| 28881/28881 [00:00<00:00, 1136154.85it/s]\n"
     ]
    },
    {
     "name": "stdout",
     "output_type": "stream",
     "text": [
      "Extracting ./data/MNIST/raw/train-labels-idx1-ubyte.gz to ./data/MNIST/raw\n",
      "\n",
      "Downloading http://yann.lecun.com/exdb/mnist/t10k-images-idx3-ubyte.gz\n",
      "Failed to download (trying next):\n",
      "HTTP Error 403: Forbidden\n",
      "\n",
      "Downloading https://ossci-datasets.s3.amazonaws.com/mnist/t10k-images-idx3-ubyte.gz\n",
      "Downloading https://ossci-datasets.s3.amazonaws.com/mnist/t10k-images-idx3-ubyte.gz to ./data/MNIST/raw/t10k-images-idx3-ubyte.gz\n"
     ]
    },
    {
     "name": "stderr",
     "output_type": "stream",
     "text": [
      "100%|██████████| 1648877/1648877 [00:00<00:00, 10686392.71it/s]\n"
     ]
    },
    {
     "name": "stdout",
     "output_type": "stream",
     "text": [
      "Extracting ./data/MNIST/raw/t10k-images-idx3-ubyte.gz to ./data/MNIST/raw\n",
      "\n",
      "Downloading http://yann.lecun.com/exdb/mnist/t10k-labels-idx1-ubyte.gz\n",
      "Failed to download (trying next):\n",
      "HTTP Error 403: Forbidden\n",
      "\n",
      "Downloading https://ossci-datasets.s3.amazonaws.com/mnist/t10k-labels-idx1-ubyte.gz\n",
      "Downloading https://ossci-datasets.s3.amazonaws.com/mnist/t10k-labels-idx1-ubyte.gz to ./data/MNIST/raw/t10k-labels-idx1-ubyte.gz\n"
     ]
    },
    {
     "name": "stderr",
     "output_type": "stream",
     "text": [
      "100%|██████████| 4542/4542 [00:00<00:00, 2069584.87it/s]"
     ]
    },
    {
     "name": "stdout",
     "output_type": "stream",
     "text": [
      "Extracting ./data/MNIST/raw/t10k-labels-idx1-ubyte.gz to ./data/MNIST/raw\n",
      "\n"
     ]
    },
    {
     "name": "stderr",
     "output_type": "stream",
     "text": [
      "\n"
     ]
    }
   ],
   "source": [
    "import torch\n",
    "import torch.nn as nn\n",
    "import torch.optim as optim\n",
    "from torchvision import datasets, transforms\n",
    "from torch.utils.data import DataLoader\n",
    "\n",
    "# Load and preprocess data\n",
    "transform = transforms.ToTensor()\n",
    "train_dataset = datasets.MNIST(root='./data', train=True, transform=transform, download=True)\n",
    "test_dataset = datasets.MNIST(root='./data', train=False, transform=transform)\n",
    "\n",
    "train_loader = DataLoader(train_dataset, batch_size=64, shuffle=True)\n",
    "test_loader = DataLoader(test_dataset, batch_size=64, shuffle=False)\n",
    "\n",
    "# Define the model\n",
    "class NeuralNetwork(nn.Module):\n",
    "    def __init__(self):\n",
    "        super(NeuralNetwork, self).__init__()\n",
    "        self.flatten = nn.Flatten()\n",
    "        self.fc1 = nn.Linear(28 * 28, 128)\n",
    "        self.relu = nn.ReLU()\n",
    "        self.fc2 = nn.Linear(128, 10)\n",
    "        self.softmax = nn.Softmax(dim=1)\n",
    "\n",
    "    def forward(self, x):\n",
    "        x = self.flatten(x)\n",
    "        x = self.relu(self.fc1(x))\n",
    "        x = self.softmax(self.fc2(x))\n",
    "        return x"
   ]
  },
  {
   "cell_type": "code",
   "execution_count": 11,
   "id": "d997ca65",
   "metadata": {
    "execution": {
     "iopub.execute_input": "2024-12-12T15:35:41.384871Z",
     "iopub.status.busy": "2024-12-12T15:35:41.383919Z",
     "iopub.status.idle": "2024-12-12T15:35:41.406917Z",
     "shell.execute_reply": "2024-12-12T15:35:41.405550Z"
    },
    "papermill": {
     "duration": 0.065678,
     "end_time": "2024-12-12T15:35:41.410154",
     "exception": false,
     "start_time": "2024-12-12T15:35:41.344476",
     "status": "completed"
    },
    "tags": []
   },
   "outputs": [],
   "source": [
    "model = NeuralNetwork()\n",
    "\n",
    "# Define loss and optimizer\n",
    "criterion = nn.CrossEntropyLoss()\n",
    "optimizer = optim.Adam(model.parameters(), lr=0.001)\n"
   ]
  },
  {
   "cell_type": "code",
   "execution_count": 12,
   "id": "ef0fd156",
   "metadata": {
    "execution": {
     "iopub.execute_input": "2024-12-12T15:35:41.487390Z",
     "iopub.status.busy": "2024-12-12T15:35:41.486711Z",
     "iopub.status.idle": "2024-12-12T15:36:29.728856Z",
     "shell.execute_reply": "2024-12-12T15:36:29.727634Z"
    },
    "papermill": {
     "duration": 48.321239,
     "end_time": "2024-12-12T15:36:29.768022",
     "exception": false,
     "start_time": "2024-12-12T15:35:41.446783",
     "status": "completed"
    },
    "tags": []
   },
   "outputs": [
    {
     "name": "stdout",
     "output_type": "stream",
     "text": [
      "Accuracy: 96.53%\n"
     ]
    }
   ],
   "source": [
    "# Training loop\n",
    "for epoch in range(5):\n",
    "    for images, labels in train_loader:\n",
    "        # Forward pass\n",
    "        outputs = model(images)\n",
    "        loss = criterion(outputs, labels)\n",
    "\n",
    "        # Backward pass\n",
    "        optimizer.zero_grad()\n",
    "        loss.backward()\n",
    "        optimizer.step()\n",
    "\n",
    "# Evaluate the model\n",
    "correct = 0\n",
    "total = 0\n",
    "with torch.no_grad():\n",
    "    for images, labels in test_loader:\n",
    "        outputs = model(images)\n",
    "        _, predicted = torch.max(outputs, 1)\n",
    "        total += labels.size(0)\n",
    "        correct += (predicted == labels).sum().item()\n",
    "\n",
    "print(f\"Accuracy: {100 * correct / total}%\")"
   ]
  },
  {
   "cell_type": "code",
   "execution_count": null,
   "id": "d69d9d81",
   "metadata": {
    "papermill": {
     "duration": 0.037034,
     "end_time": "2024-12-12T15:36:29.840928",
     "exception": false,
     "start_time": "2024-12-12T15:36:29.803894",
     "status": "completed"
    },
    "tags": []
   },
   "outputs": [],
   "source": []
  }
 ],
 "metadata": {
  "kaggle": {
   "accelerator": "none",
   "dataSources": [],
   "dockerImageVersionId": 30786,
   "isGpuEnabled": false,
   "isInternetEnabled": true,
   "language": "python",
   "sourceType": "notebook"
  },
  "kernelspec": {
   "display_name": "Python 3",
   "language": "python",
   "name": "python3"
  },
  "language_info": {
   "codemirror_mode": {
    "name": "ipython",
    "version": 3
   },
   "file_extension": ".py",
   "mimetype": "text/x-python",
   "name": "python",
   "nbconvert_exporter": "python",
   "pygments_lexer": "ipython3",
   "version": "3.10.14"
  },
  "papermill": {
   "default_parameters": {},
   "duration": 393.700306,
   "end_time": "2024-12-12T15:36:32.835341",
   "environment_variables": {},
   "exception": null,
   "input_path": "__notebook__.ipynb",
   "output_path": "__notebook__.ipynb",
   "parameters": {},
   "start_time": "2024-12-12T15:29:59.135035",
   "version": "2.6.0"
  }
 },
 "nbformat": 4,
 "nbformat_minor": 5
}

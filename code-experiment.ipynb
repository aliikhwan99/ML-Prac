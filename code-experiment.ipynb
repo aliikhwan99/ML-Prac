{
 "cells": [
  {
   "cell_type": "markdown",
   "id": "a272a98d",
   "metadata": {
    "papermill": {
     "duration": 0.004672,
     "end_time": "2024-12-12T15:44:32.915452",
     "exception": false,
     "start_time": "2024-12-12T15:44:32.910780",
     "status": "completed"
    },
    "tags": []
   },
   "source": [
    "# Scikit-learn\n"
   ]
  },
  {
   "cell_type": "code",
   "execution_count": 1,
   "id": "79331917",
   "metadata": {
    "execution": {
     "iopub.execute_input": "2024-12-12T15:44:32.925584Z",
     "iopub.status.busy": "2024-12-12T15:44:32.925174Z",
     "iopub.status.idle": "2024-12-12T15:44:34.811729Z",
     "shell.execute_reply": "2024-12-12T15:44:34.810699Z"
    },
    "papermill": {
     "duration": 1.894355,
     "end_time": "2024-12-12T15:44:34.814326",
     "exception": false,
     "start_time": "2024-12-12T15:44:32.919971",
     "status": "completed"
    },
    "tags": []
   },
   "outputs": [],
   "source": [
    "from sklearn.model_selection import train_test_split\n",
    "from sklearn.preprocessing import StandardScaler\n",
    "from sklearn.ensemble import RandomForestClassifier\n",
    "from sklearn.metrics import accuracy_score"
   ]
  },
  {
   "cell_type": "code",
   "execution_count": 2,
   "id": "d5ef0c8d",
   "metadata": {
    "execution": {
     "iopub.execute_input": "2024-12-12T15:44:34.824936Z",
     "iopub.status.busy": "2024-12-12T15:44:34.823740Z",
     "iopub.status.idle": "2024-12-12T15:44:34.952666Z",
     "shell.execute_reply": "2024-12-12T15:44:34.951715Z"
    },
    "papermill": {
     "duration": 0.136607,
     "end_time": "2024-12-12T15:44:34.955124",
     "exception": false,
     "start_time": "2024-12-12T15:44:34.818517",
     "status": "completed"
    },
    "tags": []
   },
   "outputs": [],
   "source": [
    "from sklearn.datasets import load_iris\n",
    "\n",
    "data = load_iris()\n",
    "x, y = data.data, data.target\n",
    "\n",
    "x_train, x_test, y_train, y_tes = train_test_split(x,y, test_size = 0.20, random_state = 54)"
   ]
  },
  {
   "cell_type": "code",
   "execution_count": 3,
   "id": "fa4bc12e",
   "metadata": {
    "execution": {
     "iopub.execute_input": "2024-12-12T15:44:34.964824Z",
     "iopub.status.busy": "2024-12-12T15:44:34.964395Z",
     "iopub.status.idle": "2024-12-12T15:44:34.975106Z",
     "shell.execute_reply": "2024-12-12T15:44:34.973863Z"
    },
    "papermill": {
     "duration": 0.018103,
     "end_time": "2024-12-12T15:44:34.977271",
     "exception": false,
     "start_time": "2024-12-12T15:44:34.959168",
     "status": "completed"
    },
    "tags": []
   },
   "outputs": [],
   "source": [
    "scaler = StandardScaler()\n",
    "\n",
    "x_train_scaled = scaler.fit_transform(x_train)\n",
    "x_test_scaled = scaler.transform(x_test)"
   ]
  },
  {
   "cell_type": "markdown",
   "id": "b6286d77",
   "metadata": {
    "papermill": {
     "duration": 0.003753,
     "end_time": "2024-12-12T15:44:34.985146",
     "exception": false,
     "start_time": "2024-12-12T15:44:34.981393",
     "status": "completed"
    },
    "tags": []
   },
   "source": [
    "# Pipeline"
   ]
  },
  {
   "cell_type": "code",
   "execution_count": 4,
   "id": "5d69efa1",
   "metadata": {
    "execution": {
     "iopub.execute_input": "2024-12-12T15:44:34.994715Z",
     "iopub.status.busy": "2024-12-12T15:44:34.994315Z",
     "iopub.status.idle": "2024-12-12T15:44:35.002613Z",
     "shell.execute_reply": "2024-12-12T15:44:35.001570Z"
    },
    "papermill": {
     "duration": 0.015783,
     "end_time": "2024-12-12T15:44:35.004864",
     "exception": false,
     "start_time": "2024-12-12T15:44:34.989081",
     "status": "completed"
    },
    "tags": []
   },
   "outputs": [],
   "source": [
    "from sklearn.pipeline import Pipeline\n",
    "from sklearn.preprocessing import StandardScaler\n",
    "from sklearn.linear_model import LogisticRegression\n",
    "from sklearn.datasets import load_iris\n",
    "from sklearn.model_selection import train_test_split"
   ]
  },
  {
   "cell_type": "code",
   "execution_count": 5,
   "id": "e4c7c1c7",
   "metadata": {
    "execution": {
     "iopub.execute_input": "2024-12-12T15:44:35.014555Z",
     "iopub.status.busy": "2024-12-12T15:44:35.014144Z",
     "iopub.status.idle": "2024-12-12T15:44:35.047837Z",
     "shell.execute_reply": "2024-12-12T15:44:35.046559Z"
    },
    "papermill": {
     "duration": 0.041143,
     "end_time": "2024-12-12T15:44:35.050093",
     "exception": false,
     "start_time": "2024-12-12T15:44:35.008950",
     "status": "completed"
    },
    "tags": []
   },
   "outputs": [
    {
     "name": "stdout",
     "output_type": "stream",
     "text": [
      "Accuracy: 1.00\n"
     ]
    }
   ],
   "source": [
    "# Load data\n",
    "data = load_iris()\n",
    "X_train, X_test, y_train, y_test = train_test_split(data.data, data.target, test_size=0.2, random_state= 42)\n",
    "\n",
    "# Define pipeline\n",
    "pipeline = Pipeline([\n",
    "    ('scaler', StandardScaler()),       # Step 1: Standardize features\n",
    "    ('classifier', LogisticRegression())  # Step 2: Train logistic regression\n",
    "])\n",
    "\n",
    "# Train model\n",
    "pipeline.fit(X_train, y_train)\n",
    "\n",
    "# Make predictions\n",
    "y_pred = pipeline.predict(X_test)\n",
    "\n",
    "# Evaluate\n",
    "print(f\"Accuracy: {pipeline.score(X_test, y_test):.2f}\")\n"
   ]
  },
  {
   "cell_type": "markdown",
   "id": "1265b6a8",
   "metadata": {
    "papermill": {
     "duration": 0.00368,
     "end_time": "2024-12-12T15:44:35.058069",
     "exception": false,
     "start_time": "2024-12-12T15:44:35.054389",
     "status": "completed"
    },
    "tags": []
   },
   "source": [
    "# Keras"
   ]
  },
  {
   "cell_type": "code",
   "execution_count": 6,
   "id": "19955e54",
   "metadata": {
    "execution": {
     "iopub.execute_input": "2024-12-12T15:44:35.069051Z",
     "iopub.status.busy": "2024-12-12T15:44:35.068650Z",
     "iopub.status.idle": "2024-12-12T15:44:49.990581Z",
     "shell.execute_reply": "2024-12-12T15:44:49.989183Z"
    },
    "papermill": {
     "duration": 14.930619,
     "end_time": "2024-12-12T15:44:49.993582",
     "exception": false,
     "start_time": "2024-12-12T15:44:35.062963",
     "status": "completed"
    },
    "tags": []
   },
   "outputs": [],
   "source": [
    "import tensorflow as tf\n",
    "from tensorflow.keras import Sequential\n",
    "from tensorflow.keras.layers import Dense, Flatten\n",
    "from tensorflow.keras.datasets import mnist"
   ]
  },
  {
   "cell_type": "code",
   "execution_count": 7,
   "id": "f3e00251",
   "metadata": {
    "execution": {
     "iopub.execute_input": "2024-12-12T15:44:50.004502Z",
     "iopub.status.busy": "2024-12-12T15:44:50.003879Z",
     "iopub.status.idle": "2024-12-12T15:44:50.657873Z",
     "shell.execute_reply": "2024-12-12T15:44:50.656944Z"
    },
    "papermill": {
     "duration": 0.661845,
     "end_time": "2024-12-12T15:44:50.660251",
     "exception": false,
     "start_time": "2024-12-12T15:44:49.998406",
     "status": "completed"
    },
    "tags": []
   },
   "outputs": [
    {
     "name": "stdout",
     "output_type": "stream",
     "text": [
      "Downloading data from https://storage.googleapis.com/tensorflow/tf-keras-datasets/mnist.npz\n",
      "\u001b[1m11490434/11490434\u001b[0m \u001b[32m━━━━━━━━━━━━━━━━━━━━\u001b[0m\u001b[37m\u001b[0m \u001b[1m0s\u001b[0m 0us/step\n"
     ]
    }
   ],
   "source": [
    "#load data \n",
    "(x_train, y_train),(x_test, y_test) = mnist.load_data()\n",
    "\n",
    "#normalize\n",
    "(x_train, x_test) = x_train/255.0, x_test/255.0"
   ]
  },
  {
   "cell_type": "code",
   "execution_count": 8,
   "id": "e6b65c3d",
   "metadata": {
    "execution": {
     "iopub.execute_input": "2024-12-12T15:44:50.670766Z",
     "iopub.status.busy": "2024-12-12T15:44:50.670357Z",
     "iopub.status.idle": "2024-12-12T15:45:16.331171Z",
     "shell.execute_reply": "2024-12-12T15:45:16.329909Z"
    },
    "papermill": {
     "duration": 25.668731,
     "end_time": "2024-12-12T15:45:16.333447",
     "exception": false,
     "start_time": "2024-12-12T15:44:50.664716",
     "status": "completed"
    },
    "tags": []
   },
   "outputs": [
    {
     "name": "stderr",
     "output_type": "stream",
     "text": [
      "/opt/conda/lib/python3.10/site-packages/keras/src/layers/reshaping/flatten.py:37: UserWarning: Do not pass an `input_shape`/`input_dim` argument to a layer. When using Sequential models, prefer using an `Input(shape)` object as the first layer in the model instead.\n",
      "  super().__init__(**kwargs)\n"
     ]
    },
    {
     "name": "stdout",
     "output_type": "stream",
     "text": [
      "Epoch 1/5\n",
      "\u001b[1m1875/1875\u001b[0m \u001b[32m━━━━━━━━━━━━━━━━━━━━\u001b[0m\u001b[37m\u001b[0m \u001b[1m5s\u001b[0m 2ms/step - accuracy: 0.8785 - loss: 0.4279\n",
      "Epoch 2/5\n",
      "\u001b[1m1875/1875\u001b[0m \u001b[32m━━━━━━━━━━━━━━━━━━━━\u001b[0m\u001b[37m\u001b[0m \u001b[1m5s\u001b[0m 3ms/step - accuracy: 0.9641 - loss: 0.1250\n",
      "Epoch 3/5\n",
      "\u001b[1m1875/1875\u001b[0m \u001b[32m━━━━━━━━━━━━━━━━━━━━\u001b[0m\u001b[37m\u001b[0m \u001b[1m5s\u001b[0m 3ms/step - accuracy: 0.9760 - loss: 0.0800\n",
      "Epoch 4/5\n",
      "\u001b[1m1875/1875\u001b[0m \u001b[32m━━━━━━━━━━━━━━━━━━━━\u001b[0m\u001b[37m\u001b[0m \u001b[1m5s\u001b[0m 2ms/step - accuracy: 0.9827 - loss: 0.0561\n",
      "Epoch 5/5\n",
      "\u001b[1m1875/1875\u001b[0m \u001b[32m━━━━━━━━━━━━━━━━━━━━\u001b[0m\u001b[37m\u001b[0m \u001b[1m5s\u001b[0m 2ms/step - accuracy: 0.9863 - loss: 0.0434\n",
      "\u001b[1m313/313\u001b[0m \u001b[32m━━━━━━━━━━━━━━━━━━━━\u001b[0m\u001b[37m\u001b[0m \u001b[1m1s\u001b[0m 2ms/step - accuracy: 0.9696 - loss: 0.0923\n"
     ]
    },
    {
     "data": {
      "text/plain": [
       "[0.07672042399644852, 0.9746000170707703]"
      ]
     },
     "execution_count": 8,
     "metadata": {},
     "output_type": "execute_result"
    }
   ],
   "source": [
    "# Build the model\n",
    "model = Sequential([\n",
    "    Flatten(input_shape=(28, 28)),\n",
    "    Dense(128, activation='relu'),\n",
    "    Dense(10, activation='softmax')\n",
    "])\n",
    "\n",
    "# Compile the model\n",
    "model.compile(optimizer='adam',\n",
    "              loss ='sparse_categorical_crossentropy',\n",
    "              metrics=['accuracy'])\n",
    "\n",
    "# Train the model\n",
    "model.fit(x_train, y_train, epochs=5)\n",
    "\n",
    "# Evaluate the model\n",
    "model.evaluate(x_test, y_test)"
   ]
  },
  {
   "cell_type": "markdown",
   "id": "1b94cf37",
   "metadata": {
    "papermill": {
     "duration": 0.030354,
     "end_time": "2024-12-12T15:45:16.397893",
     "exception": false,
     "start_time": "2024-12-12T15:45:16.367539",
     "status": "completed"
    },
    "tags": []
   },
   "source": [
    "# Tensorflow\n"
   ]
  },
  {
   "cell_type": "code",
   "execution_count": 9,
   "id": "59d5bc35",
   "metadata": {
    "execution": {
     "iopub.execute_input": "2024-12-12T15:45:16.461572Z",
     "iopub.status.busy": "2024-12-12T15:45:16.461141Z",
     "iopub.status.idle": "2024-12-12T15:45:16.936557Z",
     "shell.execute_reply": "2024-12-12T15:45:16.934943Z"
    },
    "papermill": {
     "duration": 0.511682,
     "end_time": "2024-12-12T15:45:16.939126",
     "exception": false,
     "start_time": "2024-12-12T15:45:16.427444",
     "status": "completed"
    },
    "tags": []
   },
   "outputs": [],
   "source": [
    "import tensorflow as tf\n",
    "from tensorflow.keras.datasets import mnist\n",
    "\n",
    "#load and preprocess data\n",
    "\n",
    "(x_train, y_train),(test, y_test) = mnist.load_data()\n",
    "x_train, x_test = x_train / 255.0, x_test /255.0\n",
    "\n",
    "\n",
    "#convert labels to one-hot encoding \n",
    "\n",
    "y_train = tf.one_hot(y_train,depth =10).numpy()\n",
    "y_test = tf.one_hot(y_test, depth = 10).numpy()"
   ]
  },
  {
   "cell_type": "markdown",
   "id": "bd7ac69e",
   "metadata": {
    "papermill": {
     "duration": 0.031069,
     "end_time": "2024-12-12T15:45:17.001099",
     "exception": false,
     "start_time": "2024-12-12T15:45:16.970030",
     "status": "completed"
    },
    "tags": []
   },
   "source": [
    "# PyTorch"
   ]
  },
  {
   "cell_type": "code",
   "execution_count": 10,
   "id": "0c93af29",
   "metadata": {
    "execution": {
     "iopub.execute_input": "2024-12-12T15:45:17.063317Z",
     "iopub.status.busy": "2024-12-12T15:45:17.062930Z",
     "iopub.status.idle": "2024-12-12T15:45:27.678167Z",
     "shell.execute_reply": "2024-12-12T15:45:27.676516Z"
    },
    "papermill": {
     "duration": 10.650109,
     "end_time": "2024-12-12T15:45:27.681408",
     "exception": false,
     "start_time": "2024-12-12T15:45:17.031299",
     "status": "completed"
    },
    "tags": []
   },
   "outputs": [
    {
     "name": "stdout",
     "output_type": "stream",
     "text": [
      "Downloading http://yann.lecun.com/exdb/mnist/train-images-idx3-ubyte.gz\n",
      "Failed to download (trying next):\n",
      "HTTP Error 403: Forbidden\n",
      "\n",
      "Downloading https://ossci-datasets.s3.amazonaws.com/mnist/train-images-idx3-ubyte.gz\n",
      "Downloading https://ossci-datasets.s3.amazonaws.com/mnist/train-images-idx3-ubyte.gz to ./data/MNIST/raw/train-images-idx3-ubyte.gz\n"
     ]
    },
    {
     "name": "stderr",
     "output_type": "stream",
     "text": [
      "100%|██████████| 9912422/9912422 [00:00<00:00, 15907924.73it/s]\n"
     ]
    },
    {
     "name": "stdout",
     "output_type": "stream",
     "text": [
      "Extracting ./data/MNIST/raw/train-images-idx3-ubyte.gz to ./data/MNIST/raw\n",
      "\n",
      "Downloading http://yann.lecun.com/exdb/mnist/train-labels-idx1-ubyte.gz\n",
      "Failed to download (trying next):\n",
      "HTTP Error 403: Forbidden\n",
      "\n",
      "Downloading https://ossci-datasets.s3.amazonaws.com/mnist/train-labels-idx1-ubyte.gz\n",
      "Downloading https://ossci-datasets.s3.amazonaws.com/mnist/train-labels-idx1-ubyte.gz to ./data/MNIST/raw/train-labels-idx1-ubyte.gz\n"
     ]
    },
    {
     "name": "stderr",
     "output_type": "stream",
     "text": [
      "100%|██████████| 28881/28881 [00:00<00:00, 452505.39it/s]\n"
     ]
    },
    {
     "name": "stdout",
     "output_type": "stream",
     "text": [
      "Extracting ./data/MNIST/raw/train-labels-idx1-ubyte.gz to ./data/MNIST/raw\n",
      "\n",
      "Downloading http://yann.lecun.com/exdb/mnist/t10k-images-idx3-ubyte.gz\n",
      "Failed to download (trying next):\n",
      "HTTP Error 403: Forbidden\n",
      "\n",
      "Downloading https://ossci-datasets.s3.amazonaws.com/mnist/t10k-images-idx3-ubyte.gz\n",
      "Downloading https://ossci-datasets.s3.amazonaws.com/mnist/t10k-images-idx3-ubyte.gz to ./data/MNIST/raw/t10k-images-idx3-ubyte.gz\n"
     ]
    },
    {
     "name": "stderr",
     "output_type": "stream",
     "text": [
      "100%|██████████| 1648877/1648877 [00:00<00:00, 4411573.48it/s]\n"
     ]
    },
    {
     "name": "stdout",
     "output_type": "stream",
     "text": [
      "Extracting ./data/MNIST/raw/t10k-images-idx3-ubyte.gz to ./data/MNIST/raw\n",
      "\n",
      "Downloading http://yann.lecun.com/exdb/mnist/t10k-labels-idx1-ubyte.gz\n",
      "Failed to download (trying next):\n",
      "HTTP Error 403: Forbidden\n",
      "\n",
      "Downloading https://ossci-datasets.s3.amazonaws.com/mnist/t10k-labels-idx1-ubyte.gz\n",
      "Downloading https://ossci-datasets.s3.amazonaws.com/mnist/t10k-labels-idx1-ubyte.gz to ./data/MNIST/raw/t10k-labels-idx1-ubyte.gz\n"
     ]
    },
    {
     "name": "stderr",
     "output_type": "stream",
     "text": [
      "100%|██████████| 4542/4542 [00:00<00:00, 1444535.09it/s]"
     ]
    },
    {
     "name": "stdout",
     "output_type": "stream",
     "text": [
      "Extracting ./data/MNIST/raw/t10k-labels-idx1-ubyte.gz to ./data/MNIST/raw\n",
      "\n"
     ]
    },
    {
     "name": "stderr",
     "output_type": "stream",
     "text": [
      "\n"
     ]
    }
   ],
   "source": [
    "import torch\n",
    "import torch.nn as nn\n",
    "import torch.optim as optim\n",
    "from torchvision import datasets, transforms\n",
    "from torch.utils.data import DataLoader\n",
    "\n",
    "# Load and preprocess data\n",
    "transform = transforms.ToTensor()\n",
    "train_dataset = datasets.MNIST(root='./data', train=True, transform=transform, download=True)\n",
    "test_dataset = datasets.MNIST(root='./data', train=False, transform=transform)\n",
    "\n",
    "train_loader = DataLoader(train_dataset, batch_size=64, shuffle=True)\n",
    "test_loader = DataLoader(test_dataset, batch_size=64, shuffle=False)\n",
    "\n",
    "# Define the model\n",
    "class NeuralNetwork(nn.Module):\n",
    "    def __init__(self):\n",
    "        super(NeuralNetwork, self).__init__()\n",
    "        self.flatten = nn.Flatten()\n",
    "        self.fc1 = nn.Linear(28 * 28, 128)\n",
    "        self.relu = nn.ReLU()\n",
    "        self.fc2 = nn.Linear(128, 10)\n",
    "        self.softmax = nn.Softmax(dim=1)\n",
    "\n",
    "    def forward(self, x):\n",
    "        x = self.flatten(x)\n",
    "        x = self.relu(self.fc1(x))\n",
    "        x = self.softmax(self.fc2(x))\n",
    "        return x"
   ]
  },
  {
   "cell_type": "code",
   "execution_count": 11,
   "id": "66d561d3",
   "metadata": {
    "execution": {
     "iopub.execute_input": "2024-12-12T15:45:27.776796Z",
     "iopub.status.busy": "2024-12-12T15:45:27.775909Z",
     "iopub.status.idle": "2024-12-12T15:45:27.800951Z",
     "shell.execute_reply": "2024-12-12T15:45:27.799492Z"
    },
    "papermill": {
     "duration": 0.073324,
     "end_time": "2024-12-12T15:45:27.803723",
     "exception": false,
     "start_time": "2024-12-12T15:45:27.730399",
     "status": "completed"
    },
    "tags": []
   },
   "outputs": [],
   "source": [
    "model = NeuralNetwork()\n",
    "\n",
    "# Define loss and optimizer\n",
    "criterion = nn.CrossEntropyLoss()\n",
    "optimizer = optim.Adam(model.parameters(), lr=0.001)\n"
   ]
  },
  {
   "cell_type": "code",
   "execution_count": 12,
   "id": "5284f428",
   "metadata": {
    "execution": {
     "iopub.execute_input": "2024-12-12T15:45:27.870393Z",
     "iopub.status.busy": "2024-12-12T15:45:27.870019Z",
     "iopub.status.idle": "2024-12-12T15:46:14.106743Z",
     "shell.execute_reply": "2024-12-12T15:46:14.105602Z"
    },
    "papermill": {
     "duration": 46.30472,
     "end_time": "2024-12-12T15:46:14.141062",
     "exception": false,
     "start_time": "2024-12-12T15:45:27.836342",
     "status": "completed"
    },
    "tags": []
   },
   "outputs": [
    {
     "name": "stdout",
     "output_type": "stream",
     "text": [
      "Accuracy: 96.4%\n"
     ]
    }
   ],
   "source": [
    "# Training loop\n",
    "for epoch in range(5):\n",
    "    for images, labels in train_loader:\n",
    "        # Forward pass\n",
    "        outputs = model(images)\n",
    "        loss = criterion(outputs, labels)\n",
    "\n",
    "        # Backward pass\n",
    "        optimizer.zero_grad()\n",
    "        loss.backward()\n",
    "        optimizer.step()\n",
    "\n",
    "# Evaluate the model\n",
    "correct = 0\n",
    "total = 0\n",
    "with torch.no_grad():\n",
    "    for images, labels in test_loader:\n",
    "        outputs = model(images)\n",
    "        _, predicted = torch.max(outputs, 1)\n",
    "        total += labels.size(0)\n",
    "        correct += (predicted == labels).sum().item()\n",
    "\n",
    "print(f\"Accuracy: {100 * correct / total}%\")"
   ]
  },
  {
   "cell_type": "code",
   "execution_count": null,
   "id": "6b379a86",
   "metadata": {
    "papermill": {
     "duration": 0.031165,
     "end_time": "2024-12-12T15:46:14.203416",
     "exception": false,
     "start_time": "2024-12-12T15:46:14.172251",
     "status": "completed"
    },
    "tags": []
   },
   "outputs": [],
   "source": []
  }
 ],
 "metadata": {
  "kaggle": {
   "accelerator": "none",
   "dataSources": [],
   "dockerImageVersionId": 30786,
   "isGpuEnabled": false,
   "isInternetEnabled": true,
   "language": "python",
   "sourceType": "notebook"
  },
  "kernelspec": {
   "display_name": "Python 3",
   "language": "python",
   "name": "python3"
  },
  "language_info": {
   "codemirror_mode": {
    "name": "ipython",
    "version": 3
   },
   "file_extension": ".py",
   "mimetype": "text/x-python",
   "name": "python",
   "nbconvert_exporter": "python",
   "pygments_lexer": "ipython3",
   "version": "3.10.14"
  },
  "papermill": {
   "default_parameters": {},
   "duration": 106.55323,
   "end_time": "2024-12-12T15:46:16.626869",
   "environment_variables": {},
   "exception": null,
   "input_path": "__notebook__.ipynb",
   "output_path": "__notebook__.ipynb",
   "parameters": {},
   "start_time": "2024-12-12T15:44:30.073639",
   "version": "2.6.0"
  }
 },
 "nbformat": 4,
 "nbformat_minor": 5
}

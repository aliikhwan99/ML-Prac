{
 "cells": [
  {
   "cell_type": "markdown",
   "id": "0bf032c8",
   "metadata": {
    "papermill": {
     "duration": 0.004857,
     "end_time": "2024-12-07T15:35:21.603408",
     "exception": false,
     "start_time": "2024-12-07T15:35:21.598551",
     "status": "completed"
    },
    "tags": []
   },
   "source": [
    "# Scikit-learn\n"
   ]
  },
  {
   "cell_type": "code",
   "execution_count": 1,
   "id": "b2e003e4",
   "metadata": {
    "execution": {
     "iopub.execute_input": "2024-12-07T15:35:21.614288Z",
     "iopub.status.busy": "2024-12-07T15:35:21.613693Z",
     "iopub.status.idle": "2024-12-07T15:35:23.436630Z",
     "shell.execute_reply": "2024-12-07T15:35:23.435378Z"
    },
    "papermill": {
     "duration": 1.831965,
     "end_time": "2024-12-07T15:35:23.439813",
     "exception": false,
     "start_time": "2024-12-07T15:35:21.607848",
     "status": "completed"
    },
    "tags": []
   },
   "outputs": [],
   "source": [
    "from sklearn.model_selection import train_test_split\n",
    "from sklearn.preprocessing import StandardScaler\n",
    "from sklearn.ensemble import RandomForestClassifier\n",
    "from sklearn.metrics import accuracy_score\n"
   ]
  },
  {
   "cell_type": "code",
   "execution_count": 2,
   "id": "c8b5165f",
   "metadata": {
    "execution": {
     "iopub.execute_input": "2024-12-07T15:35:23.450276Z",
     "iopub.status.busy": "2024-12-07T15:35:23.449677Z",
     "iopub.status.idle": "2024-12-07T15:35:23.581636Z",
     "shell.execute_reply": "2024-12-07T15:35:23.580358Z"
    },
    "papermill": {
     "duration": 0.140479,
     "end_time": "2024-12-07T15:35:23.584613",
     "exception": false,
     "start_time": "2024-12-07T15:35:23.444134",
     "status": "completed"
    },
    "tags": []
   },
   "outputs": [],
   "source": [
    "# Sample dataset (replace with your actual data)\n",
    "from sklearn.datasets import load_iris\n",
    "data = load_iris()\n",
    "X, y = data.data, data.target\n",
    "\n",
    "# Split data into training and testing sets\n",
    "X_train, X_test, y_train, y_test = train_test_split(X, y, test_size = 0.2, random_state=42)\n"
   ]
  },
  {
   "cell_type": "code",
   "execution_count": 3,
   "id": "e622f8cf",
   "metadata": {
    "execution": {
     "iopub.execute_input": "2024-12-07T15:35:23.594892Z",
     "iopub.status.busy": "2024-12-07T15:35:23.594362Z",
     "iopub.status.idle": "2024-12-07T15:35:23.607362Z",
     "shell.execute_reply": "2024-12-07T15:35:23.605948Z"
    },
    "papermill": {
     "duration": 0.020845,
     "end_time": "2024-12-07T15:35:23.609612",
     "exception": false,
     "start_time": "2024-12-07T15:35:23.588767",
     "status": "completed"
    },
    "tags": []
   },
   "outputs": [],
   "source": [
    "#preprocessing\n",
    "#Scaling the data\n",
    "\n",
    "scaler = StandardScaler()\n",
    "x_train_scaled = scaler.fit_transform(X_train)\n",
    "x_test_scaled = scaler.transform(X_test)"
   ]
  },
  {
   "cell_type": "markdown",
   "id": "9d86b6d2",
   "metadata": {
    "papermill": {
     "duration": 0.003476,
     "end_time": "2024-12-07T15:35:23.617346",
     "exception": false,
     "start_time": "2024-12-07T15:35:23.613870",
     "status": "completed"
    },
    "tags": []
   },
   "source": [
    "# Pipeline"
   ]
  },
  {
   "cell_type": "code",
   "execution_count": 4,
   "id": "79007495",
   "metadata": {
    "execution": {
     "iopub.execute_input": "2024-12-07T15:35:23.626384Z",
     "iopub.status.busy": "2024-12-07T15:35:23.625988Z",
     "iopub.status.idle": "2024-12-07T15:35:23.635295Z",
     "shell.execute_reply": "2024-12-07T15:35:23.634184Z"
    },
    "papermill": {
     "duration": 0.016756,
     "end_time": "2024-12-07T15:35:23.637712",
     "exception": false,
     "start_time": "2024-12-07T15:35:23.620956",
     "status": "completed"
    },
    "tags": []
   },
   "outputs": [],
   "source": [
    "from sklearn.pipeline import Pipeline\n",
    "from sklearn.preprocessing import StandardScaler\n",
    "from sklearn.linear_model import LogisticRegression\n",
    "from sklearn.datasets import load_iris\n",
    "from sklearn.model_selection import train_test_split"
   ]
  },
  {
   "cell_type": "code",
   "execution_count": 5,
   "id": "5720c939",
   "metadata": {
    "execution": {
     "iopub.execute_input": "2024-12-07T15:35:23.648418Z",
     "iopub.status.busy": "2024-12-07T15:35:23.647236Z",
     "iopub.status.idle": "2024-12-07T15:35:23.678929Z",
     "shell.execute_reply": "2024-12-07T15:35:23.677590Z"
    },
    "papermill": {
     "duration": 0.039704,
     "end_time": "2024-12-07T15:35:23.681613",
     "exception": false,
     "start_time": "2024-12-07T15:35:23.641909",
     "status": "completed"
    },
    "tags": []
   },
   "outputs": [
    {
     "name": "stdout",
     "output_type": "stream",
     "text": [
      "Accuracy: 1.00\n"
     ]
    }
   ],
   "source": [
    "# Load data\n",
    "data = load_iris()\n",
    "X_train, X_test, y_train, y_test = train_test_split(data.data, data.target, test_size=0.2, random_state=42)\n",
    "\n",
    "# Define pipeline\n",
    "pipeline = Pipeline([\n",
    "    ('scaler', StandardScaler()),       # Step 1: Standardize features\n",
    "    ('classifier', LogisticRegression())  # Step 2: Train logistic regression\n",
    "])\n",
    "\n",
    "# Train model\n",
    "pipeline.fit(X_train, y_train)\n",
    "\n",
    "# Make predictions\n",
    "y_pred = pipeline.predict(X_test)\n",
    "\n",
    "# Evaluate\n",
    "print(f\"Accuracy: {pipeline.score(X_test, y_test):.2f}\")\n"
   ]
  },
  {
   "cell_type": "markdown",
   "id": "c57fe82c",
   "metadata": {
    "papermill": {
     "duration": 0.003636,
     "end_time": "2024-12-07T15:35:23.689249",
     "exception": false,
     "start_time": "2024-12-07T15:35:23.685613",
     "status": "completed"
    },
    "tags": []
   },
   "source": [
    "# Keras"
   ]
  },
  {
   "cell_type": "code",
   "execution_count": 6,
   "id": "8dfd7b4d",
   "metadata": {
    "execution": {
     "iopub.execute_input": "2024-12-07T15:35:23.699735Z",
     "iopub.status.busy": "2024-12-07T15:35:23.699315Z",
     "iopub.status.idle": "2024-12-07T15:35:39.316326Z",
     "shell.execute_reply": "2024-12-07T15:35:39.314915Z"
    },
    "papermill": {
     "duration": 15.624972,
     "end_time": "2024-12-07T15:35:39.319034",
     "exception": false,
     "start_time": "2024-12-07T15:35:23.694062",
     "status": "completed"
    },
    "tags": []
   },
   "outputs": [],
   "source": [
    "import tensorflow as tf\n",
    "from tensorflow.keras import Sequential\n",
    "from tensorflow.keras.layers import Dense, Flatten\n",
    "from tensorflow.keras.datasets import mnist\n"
   ]
  },
  {
   "cell_type": "code",
   "execution_count": 7,
   "id": "7bfe9cee",
   "metadata": {
    "execution": {
     "iopub.execute_input": "2024-12-07T15:35:39.330305Z",
     "iopub.status.busy": "2024-12-07T15:35:39.329537Z",
     "iopub.status.idle": "2024-12-07T15:35:40.100292Z",
     "shell.execute_reply": "2024-12-07T15:35:40.098927Z"
    },
    "papermill": {
     "duration": 0.778962,
     "end_time": "2024-12-07T15:35:40.103198",
     "exception": false,
     "start_time": "2024-12-07T15:35:39.324236",
     "status": "completed"
    },
    "tags": []
   },
   "outputs": [
    {
     "name": "stdout",
     "output_type": "stream",
     "text": [
      "Downloading data from https://storage.googleapis.com/tensorflow/tf-keras-datasets/mnist.npz\n",
      "\u001b[1m11490434/11490434\u001b[0m \u001b[32m━━━━━━━━━━━━━━━━━━━━\u001b[0m\u001b[37m\u001b[0m \u001b[1m0s\u001b[0m 0us/step\n"
     ]
    }
   ],
   "source": [
    "#load amd preprocess data\n",
    "(x_train,y_train),(x_test,y_test) = mnist.load_data()\n",
    "\n",
    "#normalization( divition of pixel value)\n",
    "x_train,x_test = x_train/255.0, x_test/255.0"
   ]
  },
  {
   "cell_type": "code",
   "execution_count": 8,
   "id": "aec64073",
   "metadata": {
    "execution": {
     "iopub.execute_input": "2024-12-07T15:35:40.114473Z",
     "iopub.status.busy": "2024-12-07T15:35:40.114012Z",
     "iopub.status.idle": "2024-12-07T15:36:13.771941Z",
     "shell.execute_reply": "2024-12-07T15:36:13.770528Z"
    },
    "papermill": {
     "duration": 33.667237,
     "end_time": "2024-12-07T15:36:13.774759",
     "exception": false,
     "start_time": "2024-12-07T15:35:40.107522",
     "status": "completed"
    },
    "tags": []
   },
   "outputs": [
    {
     "name": "stderr",
     "output_type": "stream",
     "text": [
      "/opt/conda/lib/python3.10/site-packages/keras/src/layers/reshaping/flatten.py:37: UserWarning: Do not pass an `input_shape`/`input_dim` argument to a layer. When using Sequential models, prefer using an `Input(shape)` object as the first layer in the model instead.\n",
      "  super().__init__(**kwargs)\n"
     ]
    },
    {
     "name": "stdout",
     "output_type": "stream",
     "text": [
      "Epoch 1/5\n",
      "\u001b[1m1875/1875\u001b[0m \u001b[32m━━━━━━━━━━━━━━━━━━━━\u001b[0m\u001b[37m\u001b[0m \u001b[1m7s\u001b[0m 3ms/step - accuracy: 0.8776 - loss: 0.4389\n",
      "Epoch 2/5\n",
      "\u001b[1m1875/1875\u001b[0m \u001b[32m━━━━━━━━━━━━━━━━━━━━\u001b[0m\u001b[37m\u001b[0m \u001b[1m6s\u001b[0m 3ms/step - accuracy: 0.9629 - loss: 0.1293\n",
      "Epoch 3/5\n",
      "\u001b[1m1875/1875\u001b[0m \u001b[32m━━━━━━━━━━━━━━━━━━━━\u001b[0m\u001b[37m\u001b[0m \u001b[1m6s\u001b[0m 3ms/step - accuracy: 0.9757 - loss: 0.0820\n",
      "Epoch 4/5\n",
      "\u001b[1m1875/1875\u001b[0m \u001b[32m━━━━━━━━━━━━━━━━━━━━\u001b[0m\u001b[37m\u001b[0m \u001b[1m6s\u001b[0m 3ms/step - accuracy: 0.9822 - loss: 0.0578\n",
      "Epoch 5/5\n",
      "\u001b[1m1875/1875\u001b[0m \u001b[32m━━━━━━━━━━━━━━━━━━━━\u001b[0m\u001b[37m\u001b[0m \u001b[1m6s\u001b[0m 3ms/step - accuracy: 0.9860 - loss: 0.0443\n",
      "\u001b[1m313/313\u001b[0m \u001b[32m━━━━━━━━━━━━━━━━━━━━\u001b[0m\u001b[37m\u001b[0m \u001b[1m1s\u001b[0m 2ms/step - accuracy: 0.9722 - loss: 0.0977\n"
     ]
    },
    {
     "data": {
      "text/plain": [
       "[0.08501093089580536, 0.9753000140190125]"
      ]
     },
     "execution_count": 8,
     "metadata": {},
     "output_type": "execute_result"
    }
   ],
   "source": [
    "import tensorflow as tf\n",
    "from tensorflow.keras import Sequential\n",
    "from tensorflow.keras.layers import Dense, Flatten\n",
    "from tensorflow.keras.datasets import mnist\n",
    "\n",
    "# Load and preprocess data\n",
    "(x_train, y_train), (x_test, y_test) = mnist.load_data()\n",
    "x_train, x_test = x_train / 255.0, x_test / 255.0\n",
    "\n",
    "# Build the model\n",
    "model = Sequential([\n",
    "    Flatten(input_shape=(28, 28)),\n",
    "    Dense(128, activation='relu'),\n",
    "    Dense(10, activation='softmax')\n",
    "])\n",
    "\n",
    "# Compile the model\n",
    "model.compile(optimizer='adam',\n",
    "              loss ='sparse_categorical_crossentropy',\n",
    "              metrics=['accuracy'])\n",
    "\n",
    "# Train the model\n",
    "model.fit(x_train, y_train, epochs=5)\n",
    "\n",
    "# Evaluate the model\n",
    "model.evaluate(x_test, y_test)\n"
   ]
  },
  {
   "cell_type": "code",
   "execution_count": null,
   "id": "3cceb75f",
   "metadata": {
    "papermill": {
     "duration": 0.037509,
     "end_time": "2024-12-07T15:36:13.851545",
     "exception": false,
     "start_time": "2024-12-07T15:36:13.814036",
     "status": "completed"
    },
    "tags": []
   },
   "outputs": [],
   "source": []
  },
  {
   "cell_type": "markdown",
   "id": "a93e53fc",
   "metadata": {
    "papermill": {
     "duration": 0.037731,
     "end_time": "2024-12-07T15:36:13.927326",
     "exception": false,
     "start_time": "2024-12-07T15:36:13.889595",
     "status": "completed"
    },
    "tags": []
   },
   "source": [
    "# PyTorch"
   ]
  },
  {
   "cell_type": "code",
   "execution_count": 9,
   "id": "a7d55fa2",
   "metadata": {
    "execution": {
     "iopub.execute_input": "2024-12-07T15:36:14.005851Z",
     "iopub.status.busy": "2024-12-07T15:36:14.005420Z",
     "iopub.status.idle": "2024-12-07T15:36:24.615770Z",
     "shell.execute_reply": "2024-12-07T15:36:24.614579Z"
    },
    "papermill": {
     "duration": 10.653787,
     "end_time": "2024-12-07T15:36:24.619016",
     "exception": false,
     "start_time": "2024-12-07T15:36:13.965229",
     "status": "completed"
    },
    "tags": []
   },
   "outputs": [
    {
     "name": "stdout",
     "output_type": "stream",
     "text": [
      "Downloading http://yann.lecun.com/exdb/mnist/train-images-idx3-ubyte.gz\n",
      "Failed to download (trying next):\n",
      "HTTP Error 403: Forbidden\n",
      "\n",
      "Downloading https://ossci-datasets.s3.amazonaws.com/mnist/train-images-idx3-ubyte.gz\n",
      "Downloading https://ossci-datasets.s3.amazonaws.com/mnist/train-images-idx3-ubyte.gz to ./data/MNIST/raw/train-images-idx3-ubyte.gz\n"
     ]
    },
    {
     "name": "stderr",
     "output_type": "stream",
     "text": [
      "100%|██████████| 9912422/9912422 [00:00<00:00, 15922790.34it/s]\n"
     ]
    },
    {
     "name": "stdout",
     "output_type": "stream",
     "text": [
      "Extracting ./data/MNIST/raw/train-images-idx3-ubyte.gz to ./data/MNIST/raw\n",
      "\n",
      "Downloading http://yann.lecun.com/exdb/mnist/train-labels-idx1-ubyte.gz\n",
      "Failed to download (trying next):\n",
      "HTTP Error 403: Forbidden\n",
      "\n",
      "Downloading https://ossci-datasets.s3.amazonaws.com/mnist/train-labels-idx1-ubyte.gz\n",
      "Downloading https://ossci-datasets.s3.amazonaws.com/mnist/train-labels-idx1-ubyte.gz to ./data/MNIST/raw/train-labels-idx1-ubyte.gz\n"
     ]
    },
    {
     "name": "stderr",
     "output_type": "stream",
     "text": [
      "100%|██████████| 28881/28881 [00:00<00:00, 468312.92it/s]\n"
     ]
    },
    {
     "name": "stdout",
     "output_type": "stream",
     "text": [
      "Extracting ./data/MNIST/raw/train-labels-idx1-ubyte.gz to ./data/MNIST/raw\n",
      "\n",
      "Downloading http://yann.lecun.com/exdb/mnist/t10k-images-idx3-ubyte.gz\n",
      "Failed to download (trying next):\n",
      "HTTP Error 403: Forbidden\n",
      "\n",
      "Downloading https://ossci-datasets.s3.amazonaws.com/mnist/t10k-images-idx3-ubyte.gz\n",
      "Downloading https://ossci-datasets.s3.amazonaws.com/mnist/t10k-images-idx3-ubyte.gz to ./data/MNIST/raw/t10k-images-idx3-ubyte.gz\n"
     ]
    },
    {
     "name": "stderr",
     "output_type": "stream",
     "text": [
      "100%|██████████| 1648877/1648877 [00:00<00:00, 4328754.81it/s]\n"
     ]
    },
    {
     "name": "stdout",
     "output_type": "stream",
     "text": [
      "Extracting ./data/MNIST/raw/t10k-images-idx3-ubyte.gz to ./data/MNIST/raw\n",
      "\n",
      "Downloading http://yann.lecun.com/exdb/mnist/t10k-labels-idx1-ubyte.gz\n",
      "Failed to download (trying next):\n",
      "HTTP Error 403: Forbidden\n",
      "\n",
      "Downloading https://ossci-datasets.s3.amazonaws.com/mnist/t10k-labels-idx1-ubyte.gz\n",
      "Downloading https://ossci-datasets.s3.amazonaws.com/mnist/t10k-labels-idx1-ubyte.gz to ./data/MNIST/raw/t10k-labels-idx1-ubyte.gz\n"
     ]
    },
    {
     "name": "stderr",
     "output_type": "stream",
     "text": [
      "100%|██████████| 4542/4542 [00:00<00:00, 1452464.83it/s]"
     ]
    },
    {
     "name": "stdout",
     "output_type": "stream",
     "text": [
      "Extracting ./data/MNIST/raw/t10k-labels-idx1-ubyte.gz to ./data/MNIST/raw\n",
      "\n"
     ]
    },
    {
     "name": "stderr",
     "output_type": "stream",
     "text": [
      "\n"
     ]
    }
   ],
   "source": [
    "import torch\n",
    "import torch.nn as nn\n",
    "import torch.optim as optim\n",
    "from torchvision import datasets, transforms\n",
    "from torch.utils.data import DataLoader\n",
    "\n",
    "# Load and preprocess data\n",
    "transform = transforms.ToTensor()\n",
    "train_dataset = datasets.MNIST(root='./data', train=True, transform=transform, download=True)\n",
    "test_dataset = datasets.MNIST(root='./data', train=False, transform=transform)\n",
    "\n",
    "train_loader = DataLoader(train_dataset, batch_size=64, shuffle=True)\n",
    "test_loader = DataLoader(test_dataset, batch_size=64, shuffle=False)\n",
    "\n",
    "# Define the model\n",
    "class NeuralNetwork(nn.Module):\n",
    "    def __init__(self):\n",
    "        super(NeuralNetwork, self).__init__()\n",
    "        self.flatten = nn.Flatten()\n",
    "        self.fc1 = nn.Linear(28 * 28, 128)\n",
    "        self.relu = nn.ReLU()\n",
    "        self.fc2 = nn.Linear(128, 10)\n",
    "        self.softmax = nn.Softmax(dim=1)\n",
    "\n",
    "    def forward(self, x):\n",
    "        x = self.flatten(x)\n",
    "        x = self.relu(self.fc1(x))\n",
    "        x = self.softmax(self.fc2(x))\n",
    "        return x"
   ]
  },
  {
   "cell_type": "code",
   "execution_count": 10,
   "id": "f1693cb0",
   "metadata": {
    "execution": {
     "iopub.execute_input": "2024-12-07T15:36:24.708519Z",
     "iopub.status.busy": "2024-12-07T15:36:24.706591Z",
     "iopub.status.idle": "2024-12-07T15:36:24.727299Z",
     "shell.execute_reply": "2024-12-07T15:36:24.726011Z"
    },
    "papermill": {
     "duration": 0.065772,
     "end_time": "2024-12-07T15:36:24.729832",
     "exception": false,
     "start_time": "2024-12-07T15:36:24.664060",
     "status": "completed"
    },
    "tags": []
   },
   "outputs": [],
   "source": [
    "model = NeuralNetwork()\n",
    "\n",
    "# Define loss and optimizer\n",
    "criterion = nn.CrossEntropyLoss()\n",
    "optimizer = optim.Adam(model.parameters(), lr=0.001)\n"
   ]
  },
  {
   "cell_type": "code",
   "execution_count": 11,
   "id": "518654ad",
   "metadata": {
    "execution": {
     "iopub.execute_input": "2024-12-07T15:36:24.810839Z",
     "iopub.status.busy": "2024-12-07T15:36:24.810298Z",
     "iopub.status.idle": "2024-12-07T15:37:13.147699Z",
     "shell.execute_reply": "2024-12-07T15:37:13.146050Z"
    },
    "papermill": {
     "duration": 48.42121,
     "end_time": "2024-12-07T15:37:13.189676",
     "exception": false,
     "start_time": "2024-12-07T15:36:24.768466",
     "status": "completed"
    },
    "tags": []
   },
   "outputs": [
    {
     "name": "stdout",
     "output_type": "stream",
     "text": [
      "Accuracy: 96.37%\n"
     ]
    }
   ],
   "source": [
    "# Training loop\n",
    "for epoch in range(5):\n",
    "    for images, labels in train_loader:\n",
    "        # Forward pass\n",
    "        outputs = model(images)\n",
    "        loss = criterion(outputs, labels)\n",
    "\n",
    "        # Backward pass\n",
    "        optimizer.zero_grad()\n",
    "        loss.backward()\n",
    "        optimizer.step()\n",
    "\n",
    "# Evaluate the model\n",
    "correct = 0\n",
    "total = 0\n",
    "with torch.no_grad():\n",
    "    for images, labels in test_loader:\n",
    "        outputs = model(images)\n",
    "        _, predicted = torch.max(outputs, 1)\n",
    "        total += labels.size(0)\n",
    "        correct += (predicted == labels).sum().item()\n",
    "\n",
    "print(f\"Accuracy: {100 * correct / total}%\")"
   ]
  },
  {
   "cell_type": "code",
   "execution_count": null,
   "id": "91730dd1",
   "metadata": {
    "papermill": {
     "duration": 0.039006,
     "end_time": "2024-12-07T15:37:13.269151",
     "exception": false,
     "start_time": "2024-12-07T15:37:13.230145",
     "status": "completed"
    },
    "tags": []
   },
   "outputs": [],
   "source": []
  }
 ],
 "metadata": {
  "kaggle": {
   "accelerator": "none",
   "dataSources": [],
   "dockerImageVersionId": 30786,
   "isGpuEnabled": false,
   "isInternetEnabled": true,
   "language": "python",
   "sourceType": "notebook"
  },
  "kernelspec": {
   "display_name": "Python 3",
   "language": "python",
   "name": "python3"
  },
  "language_info": {
   "codemirror_mode": {
    "name": "ipython",
    "version": 3
   },
   "file_extension": ".py",
   "mimetype": "text/x-python",
   "name": "python",
   "nbconvert_exporter": "python",
   "pygments_lexer": "ipython3",
   "version": "3.10.14"
  },
  "papermill": {
   "default_parameters": {},
   "duration": 117.625652,
   "end_time": "2024-12-07T15:37:16.188479",
   "environment_variables": {},
   "exception": null,
   "input_path": "__notebook__.ipynb",
   "output_path": "__notebook__.ipynb",
   "parameters": {},
   "start_time": "2024-12-07T15:35:18.562827",
   "version": "2.6.0"
  }
 },
 "nbformat": 4,
 "nbformat_minor": 5
}

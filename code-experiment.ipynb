{
 "cells": [
  {
   "cell_type": "markdown",
   "id": "a6746c73",
   "metadata": {
    "papermill": {
     "duration": 0.005073,
     "end_time": "2024-12-14T16:14:08.334397",
     "exception": false,
     "start_time": "2024-12-14T16:14:08.329324",
     "status": "completed"
    },
    "tags": []
   },
   "source": [
    "# Scikit-learn\n"
   ]
  },
  {
   "cell_type": "code",
   "execution_count": 1,
   "id": "f4f1de51",
   "metadata": {
    "execution": {
     "iopub.execute_input": "2024-12-14T16:14:08.344919Z",
     "iopub.status.busy": "2024-12-14T16:14:08.344445Z",
     "iopub.status.idle": "2024-12-14T16:14:10.134228Z",
     "shell.execute_reply": "2024-12-14T16:14:10.132836Z"
    },
    "papermill": {
     "duration": 1.797854,
     "end_time": "2024-12-14T16:14:10.136933",
     "exception": false,
     "start_time": "2024-12-14T16:14:08.339079",
     "status": "completed"
    },
    "tags": []
   },
   "outputs": [],
   "source": [
    "from sklearn.datasets import load_iris\n",
    "from sklearn.preprocessing import StandardScaler\n",
    "from sklearn.model_selection import train_test_split\n",
    "from sklearn.ensemble import RandomForestClassifier\n",
    "from sklearn.metrics import accuracy_score"
   ]
  },
  {
   "cell_type": "code",
   "execution_count": 2,
   "id": "1b17d5c0",
   "metadata": {
    "execution": {
     "iopub.execute_input": "2024-12-14T16:14:10.147836Z",
     "iopub.status.busy": "2024-12-14T16:14:10.146930Z",
     "iopub.status.idle": "2024-12-14T16:14:10.160437Z",
     "shell.execute_reply": "2024-12-14T16:14:10.159290Z"
    },
    "papermill": {
     "duration": 0.021458,
     "end_time": "2024-12-14T16:14:10.162864",
     "exception": false,
     "start_time": "2024-12-14T16:14:10.141406",
     "status": "completed"
    },
    "tags": []
   },
   "outputs": [],
   "source": [
    "data = load_iris()\n",
    "\n",
    "x, y = data.data, data.target \n",
    "\n",
    "x_train, x_test, y_train, y_test = train_test_split(x,y, test_size = 0.20 ,random_state = 42 )"
   ]
  },
  {
   "cell_type": "code",
   "execution_count": 3,
   "id": "92c79e70",
   "metadata": {
    "execution": {
     "iopub.execute_input": "2024-12-14T16:14:10.172923Z",
     "iopub.status.busy": "2024-12-14T16:14:10.172475Z",
     "iopub.status.idle": "2024-12-14T16:14:10.182451Z",
     "shell.execute_reply": "2024-12-14T16:14:10.181576Z"
    },
    "papermill": {
     "duration": 0.017679,
     "end_time": "2024-12-14T16:14:10.184554",
     "exception": false,
     "start_time": "2024-12-14T16:14:10.166875",
     "status": "completed"
    },
    "tags": []
   },
   "outputs": [],
   "source": [
    "scaler = StandardScaler()\n",
    "\n",
    "x_train_scaler = scaler.fit_transform(x_train)\n",
    "\n",
    "x_test_scaler = scaler.transform(x_test)"
   ]
  },
  {
   "cell_type": "markdown",
   "id": "c009c75b",
   "metadata": {
    "papermill": {
     "duration": 0.003703,
     "end_time": "2024-12-14T16:14:10.192364",
     "exception": false,
     "start_time": "2024-12-14T16:14:10.188661",
     "status": "completed"
    },
    "tags": []
   },
   "source": [
    "# Pipeline"
   ]
  },
  {
   "cell_type": "code",
   "execution_count": 4,
   "id": "7f4d5ae2",
   "metadata": {
    "execution": {
     "iopub.execute_input": "2024-12-14T16:14:10.201664Z",
     "iopub.status.busy": "2024-12-14T16:14:10.201276Z",
     "iopub.status.idle": "2024-12-14T16:14:10.209052Z",
     "shell.execute_reply": "2024-12-14T16:14:10.207642Z"
    },
    "papermill": {
     "duration": 0.015313,
     "end_time": "2024-12-14T16:14:10.211645",
     "exception": false,
     "start_time": "2024-12-14T16:14:10.196332",
     "status": "completed"
    },
    "tags": []
   },
   "outputs": [],
   "source": [
    "from sklearn.pipeline import Pipeline\n",
    "from sklearn.preprocessing import StandardScaler\n",
    "from sklearn.linear_model import LogisticRegression\n",
    "from sklearn.datasets import load_iris\n",
    "from sklearn.model_selection import train_test_split"
   ]
  },
  {
   "cell_type": "code",
   "execution_count": 5,
   "id": "0df8ed92",
   "metadata": {
    "execution": {
     "iopub.execute_input": "2024-12-14T16:14:10.221462Z",
     "iopub.status.busy": "2024-12-14T16:14:10.221110Z",
     "iopub.status.idle": "2024-12-14T16:14:10.254629Z",
     "shell.execute_reply": "2024-12-14T16:14:10.253302Z"
    },
    "papermill": {
     "duration": 0.040877,
     "end_time": "2024-12-14T16:14:10.256907",
     "exception": false,
     "start_time": "2024-12-14T16:14:10.216030",
     "status": "completed"
    },
    "tags": []
   },
   "outputs": [
    {
     "name": "stdout",
     "output_type": "stream",
     "text": [
      "Accuracy: 1.00\n"
     ]
    }
   ],
   "source": [
    "# Load data\n",
    "data = load_iris()\n",
    "X_train, X_test, y_train, y_test = train_test_split(data.data, data.target, test_size=0.2, random_state= 42)\n",
    "\n",
    "# Define pipeline\n",
    "pipeline = Pipeline([\n",
    "    ('scaler', StandardScaler()),       # Step 1: Standardize features\n",
    "    ('classifier', LogisticRegression())  # Step 2: Train logistic regression\n",
    "])\n",
    "\n",
    "# Train model\n",
    "pipeline.fit(X_train, y_train)\n",
    "\n",
    "# Make predictions\n",
    "y_pred = pipeline.predict(X_test)\n",
    "\n",
    "# Evaluate\n",
    "print(f\"Accuracy: {pipeline.score(X_test, y_test):.2f}\")\n"
   ]
  },
  {
   "cell_type": "markdown",
   "id": "313a4ce8",
   "metadata": {
    "papermill": {
     "duration": 0.003831,
     "end_time": "2024-12-14T16:14:10.265077",
     "exception": false,
     "start_time": "2024-12-14T16:14:10.261246",
     "status": "completed"
    },
    "tags": []
   },
   "source": [
    "# Keras"
   ]
  },
  {
   "cell_type": "code",
   "execution_count": 6,
   "id": "18f844bd",
   "metadata": {
    "execution": {
     "iopub.execute_input": "2024-12-14T16:14:10.275387Z",
     "iopub.status.busy": "2024-12-14T16:14:10.274975Z",
     "iopub.status.idle": "2024-12-14T16:14:24.239450Z",
     "shell.execute_reply": "2024-12-14T16:14:24.238700Z"
    },
    "papermill": {
     "duration": 13.971743,
     "end_time": "2024-12-14T16:14:24.241619",
     "exception": false,
     "start_time": "2024-12-14T16:14:10.269876",
     "status": "completed"
    },
    "tags": []
   },
   "outputs": [],
   "source": [
    "import tensorflow as tf\n",
    "from tensorflow.keras import Sequential\n",
    "from tensorflow.keras.layers import Dense, Flatten\n",
    "from tensorflow.keras.datasets import mnist"
   ]
  },
  {
   "cell_type": "code",
   "execution_count": 7,
   "id": "6e635fe3",
   "metadata": {
    "execution": {
     "iopub.execute_input": "2024-12-14T16:14:24.249885Z",
     "iopub.status.busy": "2024-12-14T16:14:24.249111Z",
     "iopub.status.idle": "2024-12-14T16:14:24.904528Z",
     "shell.execute_reply": "2024-12-14T16:14:24.903560Z"
    },
    "papermill": {
     "duration": 0.661972,
     "end_time": "2024-12-14T16:14:24.907012",
     "exception": false,
     "start_time": "2024-12-14T16:14:24.245040",
     "status": "completed"
    },
    "tags": []
   },
   "outputs": [
    {
     "name": "stdout",
     "output_type": "stream",
     "text": [
      "Downloading data from https://storage.googleapis.com/tensorflow/tf-keras-datasets/mnist.npz\n",
      "\u001b[1m11490434/11490434\u001b[0m \u001b[32m━━━━━━━━━━━━━━━━━━━━\u001b[0m\u001b[37m\u001b[0m \u001b[1m0s\u001b[0m 0us/step\n"
     ]
    }
   ],
   "source": [
    "#load data \n",
    "(x_train, y_train),(x_test, y_test) = mnist.load_data()\n",
    "\n",
    "#normalize\n",
    "(x_train, x_test) = x_train/255.0, x_test/255.0"
   ]
  },
  {
   "cell_type": "code",
   "execution_count": 8,
   "id": "81747302",
   "metadata": {
    "execution": {
     "iopub.execute_input": "2024-12-14T16:14:24.916395Z",
     "iopub.status.busy": "2024-12-14T16:14:24.916080Z",
     "iopub.status.idle": "2024-12-14T16:14:48.261619Z",
     "shell.execute_reply": "2024-12-14T16:14:48.260465Z"
    },
    "papermill": {
     "duration": 23.352601,
     "end_time": "2024-12-14T16:14:48.263902",
     "exception": false,
     "start_time": "2024-12-14T16:14:24.911301",
     "status": "completed"
    },
    "tags": []
   },
   "outputs": [
    {
     "name": "stderr",
     "output_type": "stream",
     "text": [
      "/opt/conda/lib/python3.10/site-packages/keras/src/layers/reshaping/flatten.py:37: UserWarning: Do not pass an `input_shape`/`input_dim` argument to a layer. When using Sequential models, prefer using an `Input(shape)` object as the first layer in the model instead.\n",
      "  super().__init__(**kwargs)\n"
     ]
    },
    {
     "name": "stdout",
     "output_type": "stream",
     "text": [
      "Epoch 1/5\n",
      "\u001b[1m1875/1875\u001b[0m \u001b[32m━━━━━━━━━━━━━━━━━━━━\u001b[0m\u001b[37m\u001b[0m \u001b[1m5s\u001b[0m 2ms/step - accuracy: 0.8786 - loss: 0.4247\n",
      "Epoch 2/5\n",
      "\u001b[1m1875/1875\u001b[0m \u001b[32m━━━━━━━━━━━━━━━━━━━━\u001b[0m\u001b[37m\u001b[0m \u001b[1m4s\u001b[0m 2ms/step - accuracy: 0.9627 - loss: 0.1251\n",
      "Epoch 3/5\n",
      "\u001b[1m1875/1875\u001b[0m \u001b[32m━━━━━━━━━━━━━━━━━━━━\u001b[0m\u001b[37m\u001b[0m \u001b[1m4s\u001b[0m 2ms/step - accuracy: 0.9755 - loss: 0.0800\n",
      "Epoch 4/5\n",
      "\u001b[1m1875/1875\u001b[0m \u001b[32m━━━━━━━━━━━━━━━━━━━━\u001b[0m\u001b[37m\u001b[0m \u001b[1m4s\u001b[0m 2ms/step - accuracy: 0.9832 - loss: 0.0571\n",
      "Epoch 5/5\n",
      "\u001b[1m1875/1875\u001b[0m \u001b[32m━━━━━━━━━━━━━━━━━━━━\u001b[0m\u001b[37m\u001b[0m \u001b[1m4s\u001b[0m 2ms/step - accuracy: 0.9865 - loss: 0.0444\n",
      "\u001b[1m313/313\u001b[0m \u001b[32m━━━━━━━━━━━━━━━━━━━━\u001b[0m\u001b[37m\u001b[0m \u001b[1m1s\u001b[0m 1ms/step - accuracy: 0.9713 - loss: 0.0904\n"
     ]
    },
    {
     "data": {
      "text/plain": [
       "[0.07522165030241013, 0.9753999710083008]"
      ]
     },
     "execution_count": 8,
     "metadata": {},
     "output_type": "execute_result"
    }
   ],
   "source": [
    "# Build the model\n",
    "model = Sequential([\n",
    "    Flatten(input_shape=(28, 28)),\n",
    "    Dense(128, activation='relu'),\n",
    "    Dense(10, activation='softmax')\n",
    "])\n",
    "\n",
    "# Compile the model\n",
    "model.compile(optimizer='adam',\n",
    "              loss ='sparse_categorical_crossentropy',\n",
    "              metrics=['accuracy'])\n",
    "\n",
    "# Train the model\n",
    "model.fit(x_train, y_train, epochs=5)\n",
    "\n",
    "# Evaluate the model\n",
    "model.evaluate(x_test, y_test)"
   ]
  },
  {
   "cell_type": "markdown",
   "id": "61374cd3",
   "metadata": {
    "papermill": {
     "duration": 0.029146,
     "end_time": "2024-12-14T16:14:48.325617",
     "exception": false,
     "start_time": "2024-12-14T16:14:48.296471",
     "status": "completed"
    },
    "tags": []
   },
   "source": [
    "# Tensorflow\n"
   ]
  },
  {
   "cell_type": "code",
   "execution_count": 9,
   "id": "e3f02e72",
   "metadata": {
    "execution": {
     "iopub.execute_input": "2024-12-14T16:14:48.386963Z",
     "iopub.status.busy": "2024-12-14T16:14:48.386479Z",
     "iopub.status.idle": "2024-12-14T16:14:48.891136Z",
     "shell.execute_reply": "2024-12-14T16:14:48.889830Z"
    },
    "papermill": {
     "duration": 0.538517,
     "end_time": "2024-12-14T16:14:48.893798",
     "exception": false,
     "start_time": "2024-12-14T16:14:48.355281",
     "status": "completed"
    },
    "tags": []
   },
   "outputs": [],
   "source": [
    "import tensorflow as tf\n",
    "from tensorflow.keras.datasets import mnist\n",
    "\n",
    "#load and preprocess data\n",
    "\n",
    "(x_train, y_train),(test, y_test) = mnist.load_data()\n",
    "x_train, x_test = x_train / 255.0, x_test /255.0\n",
    "\n",
    "\n",
    "#convert labels to one-hot encoding \n",
    "\n",
    "y_train = tf.one_hot(y_train,depth =10).numpy()\n",
    "y_test = tf.one_hot(y_test, depth = 10).numpy()"
   ]
  },
  {
   "cell_type": "markdown",
   "id": "24ef87e5",
   "metadata": {
    "papermill": {
     "duration": 0.030755,
     "end_time": "2024-12-14T16:14:48.955330",
     "exception": false,
     "start_time": "2024-12-14T16:14:48.924575",
     "status": "completed"
    },
    "tags": []
   },
   "source": [
    "# PyTorch"
   ]
  },
  {
   "cell_type": "code",
   "execution_count": 10,
   "id": "f2f539a1",
   "metadata": {
    "execution": {
     "iopub.execute_input": "2024-12-14T16:14:49.021722Z",
     "iopub.status.busy": "2024-12-14T16:14:49.021296Z",
     "iopub.status.idle": "2024-12-14T16:14:56.664903Z",
     "shell.execute_reply": "2024-12-14T16:14:56.663700Z"
    },
    "papermill": {
     "duration": 7.679331,
     "end_time": "2024-12-14T16:14:56.667575",
     "exception": false,
     "start_time": "2024-12-14T16:14:48.988244",
     "status": "completed"
    },
    "tags": []
   },
   "outputs": [
    {
     "name": "stdout",
     "output_type": "stream",
     "text": [
      "Downloading http://yann.lecun.com/exdb/mnist/train-images-idx3-ubyte.gz\n",
      "Failed to download (trying next):\n",
      "HTTP Error 403: Forbidden\n",
      "\n",
      "Downloading https://ossci-datasets.s3.amazonaws.com/mnist/train-images-idx3-ubyte.gz\n",
      "Downloading https://ossci-datasets.s3.amazonaws.com/mnist/train-images-idx3-ubyte.gz to ./data/MNIST/raw/train-images-idx3-ubyte.gz\n"
     ]
    },
    {
     "name": "stderr",
     "output_type": "stream",
     "text": [
      "100%|██████████| 9912422/9912422 [00:00<00:00, 37701538.82it/s]\n"
     ]
    },
    {
     "name": "stdout",
     "output_type": "stream",
     "text": [
      "Extracting ./data/MNIST/raw/train-images-idx3-ubyte.gz to ./data/MNIST/raw\n",
      "\n",
      "Downloading http://yann.lecun.com/exdb/mnist/train-labels-idx1-ubyte.gz\n",
      "Failed to download (trying next):\n",
      "HTTP Error 403: Forbidden\n",
      "\n",
      "Downloading https://ossci-datasets.s3.amazonaws.com/mnist/train-labels-idx1-ubyte.gz\n",
      "Downloading https://ossci-datasets.s3.amazonaws.com/mnist/train-labels-idx1-ubyte.gz to ./data/MNIST/raw/train-labels-idx1-ubyte.gz\n"
     ]
    },
    {
     "name": "stderr",
     "output_type": "stream",
     "text": [
      "100%|██████████| 28881/28881 [00:00<00:00, 1094013.09it/s]\n"
     ]
    },
    {
     "name": "stdout",
     "output_type": "stream",
     "text": [
      "Extracting ./data/MNIST/raw/train-labels-idx1-ubyte.gz to ./data/MNIST/raw\n",
      "\n",
      "Downloading http://yann.lecun.com/exdb/mnist/t10k-images-idx3-ubyte.gz\n",
      "Failed to download (trying next):\n",
      "HTTP Error 403: Forbidden\n",
      "\n",
      "Downloading https://ossci-datasets.s3.amazonaws.com/mnist/t10k-images-idx3-ubyte.gz\n",
      "Downloading https://ossci-datasets.s3.amazonaws.com/mnist/t10k-images-idx3-ubyte.gz to ./data/MNIST/raw/t10k-images-idx3-ubyte.gz\n"
     ]
    },
    {
     "name": "stderr",
     "output_type": "stream",
     "text": [
      "100%|██████████| 1648877/1648877 [00:00<00:00, 10648925.46it/s]\n"
     ]
    },
    {
     "name": "stdout",
     "output_type": "stream",
     "text": [
      "Extracting ./data/MNIST/raw/t10k-images-idx3-ubyte.gz to ./data/MNIST/raw\n",
      "\n",
      "Downloading http://yann.lecun.com/exdb/mnist/t10k-labels-idx1-ubyte.gz\n",
      "Failed to download (trying next):\n",
      "HTTP Error 403: Forbidden\n",
      "\n",
      "Downloading https://ossci-datasets.s3.amazonaws.com/mnist/t10k-labels-idx1-ubyte.gz\n",
      "Downloading https://ossci-datasets.s3.amazonaws.com/mnist/t10k-labels-idx1-ubyte.gz to ./data/MNIST/raw/t10k-labels-idx1-ubyte.gz\n"
     ]
    },
    {
     "name": "stderr",
     "output_type": "stream",
     "text": [
      "100%|██████████| 4542/4542 [00:00<00:00, 2237290.52it/s]"
     ]
    },
    {
     "name": "stdout",
     "output_type": "stream",
     "text": [
      "Extracting ./data/MNIST/raw/t10k-labels-idx1-ubyte.gz to ./data/MNIST/raw\n",
      "\n"
     ]
    },
    {
     "name": "stderr",
     "output_type": "stream",
     "text": [
      "\n"
     ]
    }
   ],
   "source": [
    "import torch\n",
    "import torch.nn as nn\n",
    "import torch.optim as optim\n",
    "from torchvision import datasets, transforms\n",
    "from torch.utils.data import DataLoader\n",
    "\n",
    "# Load and preprocess data\n",
    "transform = transforms.ToTensor()\n",
    "train_dataset = datasets.MNIST(root='./data', train=True, transform=transform, download=True)\n",
    "test_dataset = datasets.MNIST(root='./data', train=False, transform=transform)\n",
    "\n",
    "train_loader = DataLoader(train_dataset, batch_size=64, shuffle=True)\n",
    "test_loader = DataLoader(test_dataset, batch_size=64, shuffle=False)\n",
    "\n",
    "# Define the model\n",
    "class NeuralNetwork(nn.Module):\n",
    "    def __init__(self):\n",
    "        super(NeuralNetwork, self).__init__()\n",
    "        self.flatten = nn.Flatten()\n",
    "        self.fc1 = nn.Linear(28 * 28, 128)\n",
    "        self.relu = nn.ReLU()\n",
    "        self.fc2 = nn.Linear(128, 10)\n",
    "        self.softmax = nn.Softmax(dim=1)\n",
    "\n",
    "    def forward(self, x):\n",
    "        x = self.flatten(x)\n",
    "        x = self.relu(self.fc1(x))\n",
    "        x = self.softmax(self.fc2(x))\n",
    "        return x"
   ]
  },
  {
   "cell_type": "code",
   "execution_count": 11,
   "id": "2cb2a220",
   "metadata": {
    "execution": {
     "iopub.execute_input": "2024-12-14T16:14:56.733754Z",
     "iopub.status.busy": "2024-12-14T16:14:56.732801Z",
     "iopub.status.idle": "2024-12-14T16:14:56.752199Z",
     "shell.execute_reply": "2024-12-14T16:14:56.751024Z"
    },
    "papermill": {
     "duration": 0.054167,
     "end_time": "2024-12-14T16:14:56.754917",
     "exception": false,
     "start_time": "2024-12-14T16:14:56.700750",
     "status": "completed"
    },
    "tags": []
   },
   "outputs": [],
   "source": [
    "model = NeuralNetwork()\n",
    "\n",
    "# Define loss and optimizer\n",
    "criterion = nn.CrossEntropyLoss()\n",
    "optimizer = optim.Adam(model.parameters(), lr=0.001)\n"
   ]
  },
  {
   "cell_type": "code",
   "execution_count": 12,
   "id": "8c05f3f8",
   "metadata": {
    "execution": {
     "iopub.execute_input": "2024-12-14T16:14:56.819666Z",
     "iopub.status.busy": "2024-12-14T16:14:56.819182Z",
     "iopub.status.idle": "2024-12-14T16:15:41.523368Z",
     "shell.execute_reply": "2024-12-14T16:15:41.522167Z"
    },
    "papermill": {
     "duration": 44.773321,
     "end_time": "2024-12-14T16:15:41.559595",
     "exception": false,
     "start_time": "2024-12-14T16:14:56.786274",
     "status": "completed"
    },
    "tags": []
   },
   "outputs": [
    {
     "name": "stdout",
     "output_type": "stream",
     "text": [
      "Accuracy: 96.33%\n"
     ]
    }
   ],
   "source": [
    "# Training loop\n",
    "for epoch in range(5):\n",
    "    for images, labels in train_loader:\n",
    "        # Forward pass\n",
    "        outputs = model(images)\n",
    "        loss = criterion(outputs, labels)\n",
    "\n",
    "        # Backward pass\n",
    "        optimizer.zero_grad()\n",
    "        loss.backward()\n",
    "        optimizer.step()\n",
    "\n",
    "# Evaluate the model\n",
    "correct = 0\n",
    "total = 0\n",
    "with torch.no_grad():\n",
    "    for images, labels in test_loader:\n",
    "        outputs = model(images)\n",
    "        _, predicted = torch.max(outputs, 1)\n",
    "        total += labels.size(0)\n",
    "        correct += (predicted == labels).sum().item()\n",
    "\n",
    "print(f\"Accuracy: {100 * correct / total}%\")"
   ]
  },
  {
   "cell_type": "code",
   "execution_count": null,
   "id": "8948b1f5",
   "metadata": {
    "papermill": {
     "duration": 0.030609,
     "end_time": "2024-12-14T16:15:41.621664",
     "exception": false,
     "start_time": "2024-12-14T16:15:41.591055",
     "status": "completed"
    },
    "tags": []
   },
   "outputs": [],
   "source": []
  }
 ],
 "metadata": {
  "kaggle": {
   "accelerator": "none",
   "dataSources": [],
   "dockerImageVersionId": 30786,
   "isGpuEnabled": false,
   "isInternetEnabled": true,
   "language": "python",
   "sourceType": "notebook"
  },
  "kernelspec": {
   "display_name": "Python 3",
   "language": "python",
   "name": "python3"
  },
  "language_info": {
   "codemirror_mode": {
    "name": "ipython",
    "version": 3
   },
   "file_extension": ".py",
   "mimetype": "text/x-python",
   "name": "python",
   "nbconvert_exporter": "python",
   "pygments_lexer": "ipython3",
   "version": "3.10.14"
  },
  "papermill": {
   "default_parameters": {},
   "duration": 99.502955,
   "end_time": "2024-12-14T16:15:44.949665",
   "environment_variables": {},
   "exception": null,
   "input_path": "__notebook__.ipynb",
   "output_path": "__notebook__.ipynb",
   "parameters": {},
   "start_time": "2024-12-14T16:14:05.446710",
   "version": "2.6.0"
  }
 },
 "nbformat": 4,
 "nbformat_minor": 5
}
